{
 "cells": [
  {
   "cell_type": "markdown",
   "metadata": {},
   "source": [
    "## Pre-processing des data"
   ]
  },
  {
   "cell_type": "markdown",
   "metadata": {},
   "source": [
    "1) Data cleaning"
   ]
  },
  {
   "cell_type": "markdown",
   "metadata": {},
   "source": [
    "a) FBREF"
   ]
  },
  {
   "cell_type": "code",
   "execution_count": 18,
   "metadata": {},
   "outputs": [],
   "source": [
    "import numpy as np\n",
    "import pandas as pd\n",
    "import pickle\n",
    "import zlib"
   ]
  },
  {
   "cell_type": "code",
   "execution_count": null,
   "metadata": {},
   "outputs": [
    {
     "data": {
      "text/html": [
       "<div>\n",
       "<style scoped>\n",
       "    .dataframe tbody tr th:only-of-type {\n",
       "        vertical-align: middle;\n",
       "    }\n",
       "\n",
       "    .dataframe tbody tr th {\n",
       "        vertical-align: top;\n",
       "    }\n",
       "\n",
       "    .dataframe thead th {\n",
       "        text-align: right;\n",
       "    }\n",
       "</style>\n",
       "<table border=\"1\" class=\"dataframe\">\n",
       "  <thead>\n",
       "    <tr style=\"text-align: right;\">\n",
       "      <th></th>\n",
       "      <th>Unnamed: 0</th>\n",
       "      <th>0</th>\n",
       "    </tr>\n",
       "  </thead>\n",
       "  <tbody>\n",
       "    <tr>\n",
       "      <th>0</th>\n",
       "      <td>Season</td>\n",
       "      <td>Season</td>\n",
       "    </tr>\n",
       "    <tr>\n",
       "      <th>1</th>\n",
       "      <td>Age</td>\n",
       "      <td>Age at season start</td>\n",
       "    </tr>\n",
       "    <tr>\n",
       "      <th>2</th>\n",
       "      <td>Country</td>\n",
       "      <td>Flag and name of the country.</td>\n",
       "    </tr>\n",
       "    <tr>\n",
       "      <th>3</th>\n",
       "      <td>Comp</td>\n",
       "      <td>Competition</td>\n",
       "    </tr>\n",
       "    <tr>\n",
       "      <th>4</th>\n",
       "      <td>LgRank</td>\n",
       "      <td>Squad finish in competition</td>\n",
       "    </tr>\n",
       "  </tbody>\n",
       "</table>\n",
       "</div>"
      ],
      "text/plain": [
       "  Unnamed: 0                              0\n",
       "0     Season                         Season\n",
       "1        Age            Age at season start\n",
       "2    Country  Flag and name of the country.\n",
       "3       Comp                    Competition\n",
       "4     LgRank    Squad finish in competition"
      ]
     },
     "execution_count": 7,
     "metadata": {},
     "output_type": "execute_result"
    }
   ],
   "source": [
    "glossary = pd.read_csv(\"fbref_data\\\\Glossaire_FBREF.csv\")\n",
    "glossary.head()"
   ]
  },
  {
   "cell_type": "code",
   "execution_count": null,
   "metadata": {},
   "outputs": [
    {
     "data": {
      "text/html": [
       "<div>\n",
       "<style scoped>\n",
       "    .dataframe tbody tr th:only-of-type {\n",
       "        vertical-align: middle;\n",
       "    }\n",
       "\n",
       "    .dataframe tbody tr th {\n",
       "        vertical-align: top;\n",
       "    }\n",
       "\n",
       "    .dataframe thead th {\n",
       "        text-align: right;\n",
       "    }\n",
       "</style>\n",
       "<table border=\"1\" class=\"dataframe\">\n",
       "  <thead>\n",
       "    <tr style=\"text-align: right;\">\n",
       "      <th></th>\n",
       "      <th>Name</th>\n",
       "      <th>Description</th>\n",
       "    </tr>\n",
       "  </thead>\n",
       "  <tbody>\n",
       "    <tr>\n",
       "      <th>0</th>\n",
       "      <td>Season</td>\n",
       "      <td>Season</td>\n",
       "    </tr>\n",
       "    <tr>\n",
       "      <th>1</th>\n",
       "      <td>Age</td>\n",
       "      <td>Age at season start</td>\n",
       "    </tr>\n",
       "    <tr>\n",
       "      <th>2</th>\n",
       "      <td>Country</td>\n",
       "      <td>Flag and name of the country.</td>\n",
       "    </tr>\n",
       "    <tr>\n",
       "      <th>3</th>\n",
       "      <td>Comp</td>\n",
       "      <td>Competition</td>\n",
       "    </tr>\n",
       "    <tr>\n",
       "      <th>4</th>\n",
       "      <td>LgRank</td>\n",
       "      <td>Squad finish in competition</td>\n",
       "    </tr>\n",
       "  </tbody>\n",
       "</table>\n",
       "</div>"
      ],
      "text/plain": [
       "      Name                    Description\n",
       "0   Season                         Season\n",
       "1      Age            Age at season start\n",
       "2  Country  Flag and name of the country.\n",
       "3     Comp                    Competition\n",
       "4   LgRank    Squad finish in competition"
      ]
     },
     "execution_count": 13,
     "metadata": {},
     "output_type": "execute_result"
    }
   ],
   "source": [
    "glossary.describe()\n",
    "\n",
    "glossary.rename(columns={\"Unnamed: 0\" : \"Name\", \"0\" : \"Description\"}, inplace = True)\n",
    "glossary.head()"
   ]
  },
  {
   "cell_type": "code",
   "execution_count": null,
   "metadata": {},
   "outputs": [],
   "source": [
    "player_stats_fbref=pickle.loads(zlib.decompress(open('fbref_data/compressed_player_stats_fbref_1.bin','rb').read()))\n",
    "player_stats_fbref.update(pickle.loads(zlib.decompress(open('fbref_data/compressed_player_stats_fbref_2.bin','rb').read())))\n",
    "player_stats_fbref=pd.DataFrame(player_stats_fbref).transpose()\n",
    "player_stats_fbref=player_stats_fbref.sort_index(axis=1,ascending=False)\n",
    "\n",
    "teams_fbref=pickle.load(open('fbref_data/teams_fbref.pkl','rb'))"
   ]
  },
  {
   "cell_type": "code",
   "execution_count": 20,
   "metadata": {},
   "outputs": [
    {
     "data": {
      "text/html": [
       "<div>\n",
       "<style scoped>\n",
       "    .dataframe tbody tr th:only-of-type {\n",
       "        vertical-align: middle;\n",
       "    }\n",
       "\n",
       "    .dataframe tbody tr th {\n",
       "        vertical-align: top;\n",
       "    }\n",
       "\n",
       "    .dataframe thead th {\n",
       "        text-align: right;\n",
       "    }\n",
       "</style>\n",
       "<table border=\"1\" class=\"dataframe\">\n",
       "  <thead>\n",
       "    <tr style=\"text-align: right;\">\n",
       "      <th></th>\n",
       "      <th>meta</th>\n",
       "      <th>2024-2025</th>\n",
       "      <th>2024</th>\n",
       "      <th>2023-2024</th>\n",
       "      <th>2023</th>\n",
       "      <th>2022-2023</th>\n",
       "      <th>2022</th>\n",
       "      <th>2021-2022</th>\n",
       "      <th>2021</th>\n",
       "      <th>2020-2021</th>\n",
       "      <th>...</th>\n",
       "      <th>1999-2000</th>\n",
       "      <th>1999</th>\n",
       "      <th>1998-1999</th>\n",
       "      <th>1998</th>\n",
       "      <th>1997-1998</th>\n",
       "      <th>1996-1997</th>\n",
       "      <th>1995-1996</th>\n",
       "      <th>1994-1995</th>\n",
       "      <th>1993-1994</th>\n",
       "      <th>1992-1993</th>\n",
       "    </tr>\n",
       "  </thead>\n",
       "  <tbody>\n",
       "    <tr>\n",
       "      <th>César Fernández</th>\n",
       "      <td>{'height': '', 'weight': '', 'preferred foot':...</td>\n",
       "      <td>NaN</td>\n",
       "      <td>NaN</td>\n",
       "      <td>NaN</td>\n",
       "      <td>NaN</td>\n",
       "      <td>NaN</td>\n",
       "      <td>NaN</td>\n",
       "      <td>NaN</td>\n",
       "      <td>NaN</td>\n",
       "      <td>NaN</td>\n",
       "      <td>...</td>\n",
       "      <td>NaN</td>\n",
       "      <td>NaN</td>\n",
       "      <td>NaN</td>\n",
       "      <td>NaN</td>\n",
       "      <td>NaN</td>\n",
       "      <td>NaN</td>\n",
       "      <td>NaN</td>\n",
       "      <td>NaN</td>\n",
       "      <td>NaN</td>\n",
       "      <td>NaN</td>\n",
       "    </tr>\n",
       "    <tr>\n",
       "      <th>Yoel Lago</th>\n",
       "      <td>{'height': '', 'weight': '', 'preferred foot':...</td>\n",
       "      <td>{'age': 20.0, 'team': 'Celta Vigo', 'country':...</td>\n",
       "      <td>NaN</td>\n",
       "      <td>{'age': 19.0, 'team': 'Celta Vigo', 'country':...</td>\n",
       "      <td>NaN</td>\n",
       "      <td>NaN</td>\n",
       "      <td>NaN</td>\n",
       "      <td>NaN</td>\n",
       "      <td>NaN</td>\n",
       "      <td>NaN</td>\n",
       "      <td>...</td>\n",
       "      <td>NaN</td>\n",
       "      <td>NaN</td>\n",
       "      <td>NaN</td>\n",
       "      <td>NaN</td>\n",
       "      <td>NaN</td>\n",
       "      <td>NaN</td>\n",
       "      <td>NaN</td>\n",
       "      <td>NaN</td>\n",
       "      <td>NaN</td>\n",
       "      <td>NaN</td>\n",
       "    </tr>\n",
       "    <tr>\n",
       "      <th>Marc Vidal</th>\n",
       "      <td>{'height': '', 'weight': '', 'preferred foot':...</td>\n",
       "      <td>{'age': 24.0, 'team': 'Celta Vigo', 'country':...</td>\n",
       "      <td>NaN</td>\n",
       "      <td>NaN</td>\n",
       "      <td>NaN</td>\n",
       "      <td>{'age': 22.0, 'team': 'FC Andorra', 'country':...</td>\n",
       "      <td>NaN</td>\n",
       "      <td>NaN</td>\n",
       "      <td>NaN</td>\n",
       "      <td>NaN</td>\n",
       "      <td>...</td>\n",
       "      <td>NaN</td>\n",
       "      <td>NaN</td>\n",
       "      <td>NaN</td>\n",
       "      <td>NaN</td>\n",
       "      <td>NaN</td>\n",
       "      <td>NaN</td>\n",
       "      <td>NaN</td>\n",
       "      <td>NaN</td>\n",
       "      <td>NaN</td>\n",
       "      <td>NaN</td>\n",
       "    </tr>\n",
       "    <tr>\n",
       "      <th>Rui Silva</th>\n",
       "      <td>{'height': 189.0, 'weight': 84.0, 'preferred f...</td>\n",
       "      <td>{'age': 30.0, 'team': 'Betis', 'country': 'es ...</td>\n",
       "      <td>NaN</td>\n",
       "      <td>{'age': 29.0, 'team': 'Betis', 'country': 'es ...</td>\n",
       "      <td>NaN</td>\n",
       "      <td>{'age': 28.0, 'team': 'Betis', 'country': 'es ...</td>\n",
       "      <td>NaN</td>\n",
       "      <td>{'age': 27.0, 'team': 'Betis', 'country': 'es ...</td>\n",
       "      <td>NaN</td>\n",
       "      <td>{'age': 26.0, 'team': 'Granada', 'country': 'e...</td>\n",
       "      <td>...</td>\n",
       "      <td>NaN</td>\n",
       "      <td>NaN</td>\n",
       "      <td>NaN</td>\n",
       "      <td>NaN</td>\n",
       "      <td>NaN</td>\n",
       "      <td>NaN</td>\n",
       "      <td>NaN</td>\n",
       "      <td>NaN</td>\n",
       "      <td>NaN</td>\n",
       "      <td>NaN</td>\n",
       "    </tr>\n",
       "    <tr>\n",
       "      <th>Abde Ezzalzouli</th>\n",
       "      <td>{'height': 177.0, 'weight': 73.0, 'preferred f...</td>\n",
       "      <td>{'age': 22.0, 'team': 'Betis', 'country': 'es ...</td>\n",
       "      <td>NaN</td>\n",
       "      <td>{'age': 21.0, 'team': 'Betis', 'country': 'es ...</td>\n",
       "      <td>NaN</td>\n",
       "      <td>{'age': 20.0, 'team': 'Osasuna', 'country': 'e...</td>\n",
       "      <td>NaN</td>\n",
       "      <td>{'age': 19.0, 'team': 'Barcelona', 'country': ...</td>\n",
       "      <td>NaN</td>\n",
       "      <td>NaN</td>\n",
       "      <td>...</td>\n",
       "      <td>NaN</td>\n",
       "      <td>NaN</td>\n",
       "      <td>NaN</td>\n",
       "      <td>NaN</td>\n",
       "      <td>NaN</td>\n",
       "      <td>NaN</td>\n",
       "      <td>NaN</td>\n",
       "      <td>NaN</td>\n",
       "      <td>NaN</td>\n",
       "      <td>NaN</td>\n",
       "    </tr>\n",
       "  </tbody>\n",
       "</table>\n",
       "<p>5 rows × 61 columns</p>\n",
       "</div>"
      ],
      "text/plain": [
       "                                                              meta  \\\n",
       "César Fernández  {'height': '', 'weight': '', 'preferred foot':...   \n",
       "Yoel Lago        {'height': '', 'weight': '', 'preferred foot':...   \n",
       "Marc Vidal       {'height': '', 'weight': '', 'preferred foot':...   \n",
       "Rui Silva        {'height': 189.0, 'weight': 84.0, 'preferred f...   \n",
       "Abde Ezzalzouli  {'height': 177.0, 'weight': 73.0, 'preferred f...   \n",
       "\n",
       "                                                         2024-2025 2024  \\\n",
       "César Fernández                                                NaN  NaN   \n",
       "Yoel Lago        {'age': 20.0, 'team': 'Celta Vigo', 'country':...  NaN   \n",
       "Marc Vidal       {'age': 24.0, 'team': 'Celta Vigo', 'country':...  NaN   \n",
       "Rui Silva        {'age': 30.0, 'team': 'Betis', 'country': 'es ...  NaN   \n",
       "Abde Ezzalzouli  {'age': 22.0, 'team': 'Betis', 'country': 'es ...  NaN   \n",
       "\n",
       "                                                         2023-2024 2023  \\\n",
       "César Fernández                                                NaN  NaN   \n",
       "Yoel Lago        {'age': 19.0, 'team': 'Celta Vigo', 'country':...  NaN   \n",
       "Marc Vidal                                                     NaN  NaN   \n",
       "Rui Silva        {'age': 29.0, 'team': 'Betis', 'country': 'es ...  NaN   \n",
       "Abde Ezzalzouli  {'age': 21.0, 'team': 'Betis', 'country': 'es ...  NaN   \n",
       "\n",
       "                                                         2022-2023 2022  \\\n",
       "César Fernández                                                NaN  NaN   \n",
       "Yoel Lago                                                      NaN  NaN   \n",
       "Marc Vidal       {'age': 22.0, 'team': 'FC Andorra', 'country':...  NaN   \n",
       "Rui Silva        {'age': 28.0, 'team': 'Betis', 'country': 'es ...  NaN   \n",
       "Abde Ezzalzouli  {'age': 20.0, 'team': 'Osasuna', 'country': 'e...  NaN   \n",
       "\n",
       "                                                         2021-2022 2021  \\\n",
       "César Fernández                                                NaN  NaN   \n",
       "Yoel Lago                                                      NaN  NaN   \n",
       "Marc Vidal                                                     NaN  NaN   \n",
       "Rui Silva        {'age': 27.0, 'team': 'Betis', 'country': 'es ...  NaN   \n",
       "Abde Ezzalzouli  {'age': 19.0, 'team': 'Barcelona', 'country': ...  NaN   \n",
       "\n",
       "                                                         2020-2021  ...  \\\n",
       "César Fernández                                                NaN  ...   \n",
       "Yoel Lago                                                      NaN  ...   \n",
       "Marc Vidal                                                     NaN  ...   \n",
       "Rui Silva        {'age': 26.0, 'team': 'Granada', 'country': 'e...  ...   \n",
       "Abde Ezzalzouli                                                NaN  ...   \n",
       "\n",
       "                1999-2000 1999 1998-1999 1998 1997-1998 1996-1997 1995-1996  \\\n",
       "César Fernández       NaN  NaN       NaN  NaN       NaN       NaN       NaN   \n",
       "Yoel Lago             NaN  NaN       NaN  NaN       NaN       NaN       NaN   \n",
       "Marc Vidal            NaN  NaN       NaN  NaN       NaN       NaN       NaN   \n",
       "Rui Silva             NaN  NaN       NaN  NaN       NaN       NaN       NaN   \n",
       "Abde Ezzalzouli       NaN  NaN       NaN  NaN       NaN       NaN       NaN   \n",
       "\n",
       "                1994-1995 1993-1994 1992-1993  \n",
       "César Fernández       NaN       NaN       NaN  \n",
       "Yoel Lago             NaN       NaN       NaN  \n",
       "Marc Vidal            NaN       NaN       NaN  \n",
       "Rui Silva             NaN       NaN       NaN  \n",
       "Abde Ezzalzouli       NaN       NaN       NaN  \n",
       "\n",
       "[5 rows x 61 columns]"
      ]
     },
     "execution_count": 20,
     "metadata": {},
     "output_type": "execute_result"
    }
   ],
   "source": [
    "player_stats_fbref.head()"
   ]
  },
  {
   "cell_type": "code",
   "execution_count": null,
   "metadata": {},
   "outputs": [],
   "source": []
  },
  {
   "cell_type": "markdown",
   "metadata": {},
   "source": [
    "b)Sofascore"
   ]
  },
  {
   "cell_type": "code",
   "execution_count": 15,
   "metadata": {},
   "outputs": [
    {
     "data": {
      "text/html": [
       "<div>\n",
       "<style scoped>\n",
       "    .dataframe tbody tr th:only-of-type {\n",
       "        vertical-align: middle;\n",
       "    }\n",
       "\n",
       "    .dataframe tbody tr th {\n",
       "        vertical-align: top;\n",
       "    }\n",
       "\n",
       "    .dataframe thead th {\n",
       "        text-align: right;\n",
       "    }\n",
       "</style>\n",
       "<table border=\"1\" class=\"dataframe\">\n",
       "  <thead>\n",
       "    <tr style=\"text-align: right;\">\n",
       "      <th></th>\n",
       "      <th>Unnamed: 0</th>\n",
       "      <th>2024-2025</th>\n",
       "      <th>2023-2024</th>\n",
       "      <th>2022-2023</th>\n",
       "      <th>2021-2022</th>\n",
       "      <th>2020-2021</th>\n",
       "      <th>2019-2020</th>\n",
       "      <th>2018-2019</th>\n",
       "      <th>2017-2018</th>\n",
       "      <th>2016-2017</th>\n",
       "      <th>2015-2016</th>\n",
       "    </tr>\n",
       "  </thead>\n",
       "  <tbody>\n",
       "    <tr>\n",
       "      <th>0</th>\n",
       "      <td>Bukayo Saka</td>\n",
       "      <td>8.04</td>\n",
       "      <td>7.36</td>\n",
       "      <td>5.97</td>\n",
       "      <td>7.67</td>\n",
       "      <td>6.43</td>\n",
       "      <td>6.04</td>\n",
       "      <td>6.25</td>\n",
       "      <td>NaN</td>\n",
       "      <td>NaN</td>\n",
       "      <td>NaN</td>\n",
       "    </tr>\n",
       "    <tr>\n",
       "      <th>1</th>\n",
       "      <td>Neto</td>\n",
       "      <td>9.41</td>\n",
       "      <td>7.31</td>\n",
       "      <td>4.00</td>\n",
       "      <td>7.71</td>\n",
       "      <td>7.09</td>\n",
       "      <td>6.52</td>\n",
       "      <td>8.29</td>\n",
       "      <td>7.84</td>\n",
       "      <td>8.20</td>\n",
       "      <td>8.0</td>\n",
       "    </tr>\n",
       "    <tr>\n",
       "      <th>2</th>\n",
       "      <td>Declan Rice</td>\n",
       "      <td>8.63</td>\n",
       "      <td>7.98</td>\n",
       "      <td>5.95</td>\n",
       "      <td>8.14</td>\n",
       "      <td>6.30</td>\n",
       "      <td>7.03</td>\n",
       "      <td>7.95</td>\n",
       "      <td>7.26</td>\n",
       "      <td>NaN</td>\n",
       "      <td>NaN</td>\n",
       "    </tr>\n",
       "    <tr>\n",
       "      <th>3</th>\n",
       "      <td>Gabriel Magalhães</td>\n",
       "      <td>6.70</td>\n",
       "      <td>7.86</td>\n",
       "      <td>6.00</td>\n",
       "      <td>6.66</td>\n",
       "      <td>5.56</td>\n",
       "      <td>6.68</td>\n",
       "      <td>6.00</td>\n",
       "      <td>7.12</td>\n",
       "      <td>5.89</td>\n",
       "      <td>NaN</td>\n",
       "    </tr>\n",
       "    <tr>\n",
       "      <th>4</th>\n",
       "      <td>Martin Ødegaard</td>\n",
       "      <td>6.95</td>\n",
       "      <td>7.14</td>\n",
       "      <td>8.25</td>\n",
       "      <td>8.36</td>\n",
       "      <td>5.79</td>\n",
       "      <td>6.51</td>\n",
       "      <td>NaN</td>\n",
       "      <td>NaN</td>\n",
       "      <td>NaN</td>\n",
       "      <td>NaN</td>\n",
       "    </tr>\n",
       "  </tbody>\n",
       "</table>\n",
       "</div>"
      ],
      "text/plain": [
       "          Unnamed: 0  2024-2025  2023-2024  2022-2023  2021-2022  2020-2021  \\\n",
       "0        Bukayo Saka       8.04       7.36       5.97       7.67       6.43   \n",
       "1               Neto       9.41       7.31       4.00       7.71       7.09   \n",
       "2        Declan Rice       8.63       7.98       5.95       8.14       6.30   \n",
       "3  Gabriel Magalhães       6.70       7.86       6.00       6.66       5.56   \n",
       "4    Martin Ødegaard       6.95       7.14       8.25       8.36       5.79   \n",
       "\n",
       "   2019-2020  2018-2019  2017-2018  2016-2017  2015-2016  \n",
       "0       6.04       6.25        NaN        NaN        NaN  \n",
       "1       6.52       8.29       7.84       8.20        8.0  \n",
       "2       7.03       7.95       7.26        NaN        NaN  \n",
       "3       6.68       6.00       7.12       5.89        NaN  \n",
       "4       6.51        NaN        NaN        NaN        NaN  "
      ]
     },
     "execution_count": 15,
     "metadata": {},
     "output_type": "execute_result"
    }
   ],
   "source": [
    "sf_data = pd.read_csv(\"sf_data\\player_ratings.csv\")\n",
    "sf_data.head()"
   ]
  },
  {
   "cell_type": "code",
   "execution_count": null,
   "metadata": {},
   "outputs": [],
   "source": []
  },
  {
   "cell_type": "markdown",
   "metadata": {},
   "source": [
    "c) Transfer market"
   ]
  },
  {
   "cell_type": "code",
   "execution_count": 68,
   "metadata": {},
   "outputs": [],
   "source": [
    "player_stats_tm=pd.read_csv('tm_data/player_stats_tm.csv')\n",
    "player_stats_tm.index=player_stats_tm.loc[:,'Unnamed: 0']\n",
    "player_stats_tm=player_stats_tm.drop('Unnamed: 0',axis=1)\n",
    "\n",
    "transfer_history=pickle.load(open('tm_data/transfer_history.pkl','rb'))\n"
   ]
  },
  {
   "cell_type": "code",
   "execution_count": 69,
   "metadata": {},
   "outputs": [
    {
     "data": {
      "text/plain": [
       "\"{'2013': 600.0, '2014': 2500.0, '2015': 15000.0, '2016': 20000.0, '2017': 40000.0, '2018': 65000.0, '2019': 100000.0, '2020': 70000.0, '2021': 75000.0, '2022': 80000.0, '2023': 80000.0, '2024': 70000.0}\""
      ]
     },
     "execution_count": 69,
     "metadata": {},
     "output_type": "execute_result"
    }
   ],
   "source": [
    "player_stats_tm.rename(columns={\"Unnamed: 0\" : \"Player\"}, inplace=1)\n",
    "player_stats_tm.head()\n",
    "player_stats_tm.loc[\"Bernardo Silva\"][\"market_values\"]"
   ]
  },
  {
   "cell_type": "code",
   "execution_count": null,
   "metadata": {},
   "outputs": [
    {
     "data": {
      "text/html": [
       "<div>\n",
       "<style scoped>\n",
       "    .dataframe tbody tr th:only-of-type {\n",
       "        vertical-align: middle;\n",
       "    }\n",
       "\n",
       "    .dataframe tbody tr th {\n",
       "        vertical-align: top;\n",
       "    }\n",
       "\n",
       "    .dataframe thead th {\n",
       "        text-align: right;\n",
       "    }\n",
       "</style>\n",
       "<table border=\"1\" class=\"dataframe\">\n",
       "  <thead>\n",
       "    <tr style=\"text-align: right;\">\n",
       "      <th></th>\n",
       "      <th>positions</th>\n",
       "      <th>market_values</th>\n",
       "    </tr>\n",
       "    <tr>\n",
       "      <th>Unnamed: 0</th>\n",
       "      <th></th>\n",
       "      <th></th>\n",
       "    </tr>\n",
       "  </thead>\n",
       "  <tbody>\n",
       "    <tr>\n",
       "      <th>Bernardo Silva</th>\n",
       "      <td>['Attacking Midfield', 'Right Winger', 'Centra...</td>\n",
       "      <td>{2013: 600.0, 2014: 2500.0, 2015: 15000.0, 201...</td>\n",
       "    </tr>\n",
       "    <tr>\n",
       "      <th>Ederson</th>\n",
       "      <td>['Goalkeeper']</td>\n",
       "      <td>{2013: 300.0, 2014: 900.0, 2015: 1200.0, 2016:...</td>\n",
       "    </tr>\n",
       "    <tr>\n",
       "      <th>Erling Haaland</th>\n",
       "      <td>['Centre-Forward']</td>\n",
       "      <td>{2016: 200.0, 2017: 300.0, 2018: 5000.0, 2019:...</td>\n",
       "    </tr>\n",
       "    <tr>\n",
       "      <th>Jack Grealish</th>\n",
       "      <td>['Left Winger', 'Attacking Midfield', 'Left Mi...</td>\n",
       "      <td>{2013: 250.0, 2014: 1000.0, 2015: 4500.0, 2016...</td>\n",
       "    </tr>\n",
       "    <tr>\n",
       "      <th>John Stones</th>\n",
       "      <td>['Centre-Back', 'Right-Back', 'Defensive Midfi...</td>\n",
       "      <td>{2011: 50.0, 2012: 100.0, 2013: 3500.0, 2014: ...</td>\n",
       "    </tr>\n",
       "  </tbody>\n",
       "</table>\n",
       "</div>"
      ],
      "text/plain": [
       "                                                        positions  \\\n",
       "Unnamed: 0                                                          \n",
       "Bernardo Silva  ['Attacking Midfield', 'Right Winger', 'Centra...   \n",
       "Ederson                                            ['Goalkeeper']   \n",
       "Erling Haaland                                 ['Centre-Forward']   \n",
       "Jack Grealish   ['Left Winger', 'Attacking Midfield', 'Left Mi...   \n",
       "John Stones     ['Centre-Back', 'Right-Back', 'Defensive Midfi...   \n",
       "\n",
       "                                                    market_values  \n",
       "Unnamed: 0                                                         \n",
       "Bernardo Silva  {2013: 600.0, 2014: 2500.0, 2015: 15000.0, 201...  \n",
       "Ederson         {2013: 300.0, 2014: 900.0, 2015: 1200.0, 2016:...  \n",
       "Erling Haaland  {2016: 200.0, 2017: 300.0, 2018: 5000.0, 2019:...  \n",
       "Jack Grealish   {2013: 250.0, 2014: 1000.0, 2015: 4500.0, 2016...  \n",
       "John Stones     {2011: 50.0, 2012: 100.0, 2013: 3500.0, 2014: ...  "
      ]
     },
     "execution_count": 70,
     "metadata": {},
     "output_type": "execute_result"
    }
   ],
   "source": [
    "def convertir_en_dictionnaire(chaine):\n",
    "    chaine = chaine.strip('{}').replace(' ', '')\n",
    "    paires = chaine.split(',')\n",
    "    \n",
    "    dictionnaire = {}\n",
    "    for paire in paires:\n",
    "        if ':' in paire: \n",
    "            cle, valeur = paire.split(':')\n",
    "            cle = cle[1:-1] #pour envoyer les guillemets en plus sur l'année\n",
    "            dictionnaire[int(cle)] = float(valeur)\n",
    "    return dictionnaire\n",
    "\n",
    "player_stats_tm['market_values']=player_stats_tm[\"market_values\"].apply(convertir_en_dictionnaire)\n",
    "player_stats_tm.head()"
   ]
  },
  {
   "cell_type": "code",
   "execution_count": null,
   "metadata": {},
   "outputs": [
    {
     "data": {
      "text/plain": [
       "[['Matheus Nunes', 'Wolverhampton Wanderers', 62000.0],\n",
       " ['Mateo Kovacic', 'Chelsea FC', 29100.0],\n",
       " ['James McAtee', 'Manchester City U21', '-'],\n",
       " ['Oscar Bobb', 'Manchester City U21', '-'],\n",
       " ['Taylor Harwood-Bellis', 'Southampton FC', 'End of loanMay 31, 2024'],\n",
       " ['Issa Kaboré', 'Luton Town', 'End of loanMay 31, 2024'],\n",
       " ['Issa Kaboré', 'Olympique Marseille', 'End of loanJun 30, 2023'],\n",
       " ['Josh Wilson-Esbrand', 'Cardiff City', 'End of loanMay 31, 2024'],\n",
       " ['Josh Wilson-Esbrand', 'Stade Reims', 'End of loanJan 31, 2024'],\n",
       " ['Joško Gvardiol', 'RB Leipzig', 90000.0],\n",
       " ['Claudio Terzi', 'Crystal Palace', 18500.0],\n",
       " ['João Cancelo', 'Bayern Munich', 'End of loanJun 30, 2023'],\n",
       " ['Tommy Doyle', 'Southampton', 'End of loanMay 31, 2024'],\n",
       " ['Manuel Fuster', 'Almería', 'End of loanJun 30, 2023'],\n",
       " ['Jeremy Doku', 'Paderborn 07', 60000.0],\n",
       " ['James Mcatee', 'Sheffield Utd', 'End of loanMay 31, 2024'],\n",
       " ['Slobodan Medojević', 'Crotone', 'End of loanJan 5, 2024'],\n",
       " ['Yangel Herrera', 'Girona', 'End of loanJun 30, 2023'],\n",
       " ['Tommy Doyle', 'Manchester City', '-']]"
      ]
     },
     "execution_count": 37,
     "metadata": {},
     "output_type": "execute_result"
    }
   ],
   "source": [
    "transfer_history[\"GB1\"][2023][\"Manchester City\"][\"arrivals\"]"
   ]
  },
  {
   "cell_type": "code",
   "execution_count": null,
   "metadata": {},
   "outputs": [],
   "source": [
    "import pandas as pd\n",
    "import geopandas as gpd\n",
    "import folium\n",
    "from folium.plugins import MarkerCluster\n",
    "\n",
    "# Simulation des données nécessaires (vous devez remplacer ces exemples par vos données réelles)\n",
    "# Exemple : localisation des clubs\n",
    "club_locations = {\n",
    "    \"Manchester City\": {\"lat\": 53.483959, \"lon\": -2.242631},\n",
    "    \"Wolverhampton Wanderers\": {\"lat\": 52.590275, \"lon\": -2.130423},\n",
    "    \"Chelsea FC\": {\"lat\": 51.481667, \"lon\": -0.190833},\n",
    "    # Ajoutez d'autres clubs ici\n",
    "}\n",
    "\n",
    "# Exemple de DataFrame `player_stats_tm`\n",
    "player_stats_tm = pd.DataFrame({\n",
    "    \"name\": [\"Bernardo Silva\", \"Mateo Kovacic\", \"Matheus Nunes\"],\n",
    "    \"positions\": [[\"MF\", \"RW\"], [\"MF\"], [\"MF\"]],\n",
    "    \"market_values\": [\n",
    "        {2023: 80000.0, 2022: 75000.0},\n",
    "        {2023: 29100.0, 2022: 30000.0},\n",
    "        {2023: 62000.0, 2022: 40000.0},\n",
    "    ]\n",
    "}).set_index(\"name\")\n",
    "\n",
    "# Exemple de dictionnaire `transfer_history`\n",
    "transfer_history = {\n",
    "    \"GB1\": {\n",
    "        2023: {\n",
    "            \"Manchester City\": {\n",
    "                \"arrivals\": [\n",
    "                    [\"Matheus Nunes\", \"Wolverhampton Wanderers\", 62000.0],\n",
    "                    [\"Mateo Kovacic\", \"Chelsea FC\", 29100.0],\n",
    "                ],\n",
    "                \"departures\": [\n",
    "                    [\"Player A\", \"Club A\", 50000.0],\n",
    "                    [\"Player B\", \"Club B\", 40000.0],\n",
    "                ],\n",
    "            }\n",
    "        }\n",
    "    }\n",
    "}\n",
    "\n",
    "# Étape 1 : Charger les données dans GeoPandas pour les clubs\n",
    "club_df = pd.DataFrame(club_locations).T.reset_index()\n",
    "club_df.columns = [\"club\", \"lat\", \"lon\"]\n",
    "club_gdf = gpd.GeoDataFrame(\n",
    "    club_df, geometry=gpd.points_from_xy(club_df[\"lon\"], club_df[\"lat\"])\n",
    ")\n",
    "\n",
    "# Étape 2 : Calculer la pondération des clubs par la somme des valeurs marchandes de leurs joueurs\n",
    "def calculer_valeur_totale(club_name, year):\n",
    "    total_value = 0\n",
    "    if club_name in transfer_history[\"GB1\"][year]:\n",
    "        arrivals = transfer_history[\"GB1\"][year][club_name].get(\"arrivals\", [])\n",
    "        player_names = [arrival[0] for arrival in arrivals]\n",
    "        for player in player_names:\n",
    "            if player in player_stats_tm.index:\n",
    "                market_value = player_stats_tm.loc[player][\"market_values\"].get(year, 0)\n",
    "                total_value += market_value\n",
    "    return total_value\n",
    "\n",
    "# Ajouter les valeurs pondérées au GeoDataFrame\n",
    "saison = 2023  # Exemple de saison par défaut\n",
    "club_gdf[\"total_market_value\"] = club_gdf[\"club\"].apply(\n",
    "    lambda x: calculer_valeur_totale(x, saison)\n",
    ")\n",
    "\n",
    "# Étape 3 : Créer la carte interactive\n",
    "m = folium.Map(location=[54.5, -2.5], zoom_start=6)\n",
    "\n",
    "# Ajouter un cluster pour afficher les clubs\n",
    "marker_cluster = MarkerCluster().add_to(m)\n",
    "\n",
    "# Ajouter les clubs à la carte\n",
    "for _, row in club_gdf.iterrows():\n",
    "    folium.CircleMarker(\n",
    "        location=(row[\"lat\"], row[\"lon\"]),\n",
    "        radius=row[\"total_market_value\"] / 10000,  # Ajustez cette pondération\n",
    "        color=\"blue\",\n",
    "        fill=True,\n",
    "        fill_color=\"blue\",\n",
    "        fill_opacity=0.6,\n",
    "        popup=folium.Popup(f\"{row['club']}: {row['total_market_value']} M€\"),\n",
    "    ).add_to(marker_cluster)\n",
    "\n",
    "# Étape 4 : Ajouter les flèches des transferts\n",
    "def ajouter_transferts(carte, club_name, year):\n",
    "    if club_name in transfer_history[\"GB1\"][year]:\n",
    "        transfers = transfer_history[\"GB1\"][year][club_name]\n",
    "        \n",
    "        # Flèches pour les arrivées\n",
    "        for arrival in transfers.get(\"arrivals\", []):\n",
    "            player, from_club, value = arrival\n",
    "            if from_club in club_locations:\n",
    "                folium.PolyLine(\n",
    "                    locations=[\n",
    "                        [club_locations[from_club][\"lat\"], club_locations[from_club][\"lon\"]],\n",
    "                        [club_locations[club_name][\"lat\"], club_locations[club_name][\"lon\"]],\n",
    "                    ],\n",
    "                    color=\"green\",\n",
    "                    weight=2,\n",
    "                    tooltip=f\"Arrival: {player}, {value} €\",\n",
    "                ).add_to(carte)\n",
    "        \n",
    "        # Flèches pour les départs\n",
    "        for departure in transfers.get(\"departures\", []):\n",
    "            player, to_club, value = departure\n",
    "            if to_club in club_locations:\n",
    "                folium.PolyLine(\n",
    "                    locations=[\n",
    "                        [club_locations[club_name][\"lat\"], club_locations[club_name][\"lon\"]],\n",
    "                        [club_locations[to_club][\"lat\"], club_locations[to_club][\"lon\"]],\n",
    "                    ],\n",
    "                    color=\"red\",\n",
    "                    weight=2,\n",
    "                    tooltip=f\"Departure: {player}, {value} €\",\n",
    "                ).add_to(carte)\n",
    "\n",
    "# Ajouter les transferts pour tous les clubs\n",
    "for club in club_gdf[\"club\"]:\n",
    "    ajouter_transferts(m, club, saison)\n",
    "\n",
    "# Afficher la carte\n",
    "m.save(\"transfers_map.html\")\n",
    "print(\"Carte interactive enregistrée dans 'transfers_map.html'\")\n"
   ]
  }
 ],
 "metadata": {
  "kernelspec": {
   "display_name": "base",
   "language": "python",
   "name": "python3"
  },
  "language_info": {
   "codemirror_mode": {
    "name": "ipython",
    "version": 3
   },
   "file_extension": ".py",
   "mimetype": "text/x-python",
   "name": "python",
   "nbconvert_exporter": "python",
   "pygments_lexer": "ipython3",
   "version": "3.11.5"
  }
 },
 "nbformat": 4,
 "nbformat_minor": 2
}
# Geopanda proto carte transferts :
# Voici un **exemple de code** (en Python) pour :
# 1. **Charger** le fichier CSV consolidé (contenant les données FBref + TM),
# 2. **Associer** à chaque club une localisation (latitude/longitude) et calculer la **somme** 
#    de la valeur marchande de ses joueurs pour dimensionner un **point** sur la carte,
# 3. **Afficher** une **carte interactive** avec Folium (les points = clubs, leur taille = somme des valeurs marchandes),
# 4. **Gérer** un *sélecteur de saison* (scrollable) pour afficher la carte correspondante (via un code simplifié),
# 5. **Cliquer** sur un club → afficher (dans un popup ou un calque) :
#    - Les **transferts entrants** et **sortants** (arcs/flèches) classés par valeur marchande,
#    - Les joueurs en provenance/envoi **hors PL** (donc clubs *non* dans la Premier League) listés aussi.
#
# Note :
# - Folium + GeoPandas est un combo courant :
#   * GeoPandas pour manipuler et projeter (optionnel) les données spatiales,
#   * Folium pour générer une carte interactive (HTML/Leaflet).
# - Le code ci-dessous est un prototype :
#   * Il suppose que vous avez déjà, dans votre `player_stats_fbref.csv`, certaines colonnes 
#     (`club_name`, `season`, `player_name`, `market_value`, `latitude`, `longitude`, etc.)
#   * S’il manque des colonnes ou si les noms diffèrent, adaptez le code.
#   * La logique de “flèches” sur clic en Folium est contournée ici par la création 
#     d’un *FeatureGroup* par club, affichable via un *LayerControl*.
#   * Le sélecteur de saison se fait ici par plusieurs couches ou cartes.
# ------------------------------------------------------------------------------

# 1) Installation & imports
# (Si besoin : pip install geopandas folium)

import pandas as pd
import geopandas as gpd
import folium
from folium import FeatureGroup
import math

# ---------------------------------------------------------------------------
# 2) Lecture du CSV & préparation
# ---------------------------------------------------------------------------
# On lit le fichier CSV (exemple : "player_stats_fbref.csv")
df = pd.read_csv("player_stats_fbref.csv")

# Hypothèse : DF contient au moins :
#  ['player_name', 'club_name', 'season', 'market_value', 'latitude', 'longitude', ...]
# + éventuellement : 'origin_club', 'destination_club', 'fee', etc.
# Filtrer seulement la Premier League (ex. code 'GB1')
df_pl = df[df["championship"] == "GB1"]

# ---------------------------------------------------------------------------
# 3) Construire un GeoDataFrame des clubs
# ---------------------------------------------------------------------------
# Exemple : on se focalise sur une saison précise
current_season = "2023-2024"
df_current = df_pl[df_pl["season"] == current_season]

# Calcul de la valeur marchande totale par club
club_agg = df_current.groupby(["club_name", "latitude", "longitude"], dropna=False)["market_value"].sum().reset_index()

# On convertit en GeoDataFrame
gdf_clubs = gpd.GeoDataFrame(
    club_agg,
    geometry=gpd.points_from_xy(club_agg["longitude"], club_agg["latitude"]),
    crs="EPSG:4326"
)

# Renommer la colonne pour plus de clarté
gdf_clubs.rename(columns={"market_value": "total_mv"}, inplace=True)

# ---------------------------------------------------------------------------
# 4) Créer la carte Folium
# ---------------------------------------------------------------------------
# Centrage approximatif sur l'Angleterre
m = folium.Map(location=[53.0, -2.0], zoom_start=6, tiles="cartodbpositron")

# ---------------------------------------------------------------------------
# 5) Ajouter les clubs (cercle = taille proportionnelle à la valeur cumulée)
# ---------------------------------------------------------------------------
for _, row in gdf_clubs.iterrows():
    club_name = row["club_name"]
    total_mv = row["total_mv"]
    lat, lon = row.geometry.y, row.geometry.x

    # Rayon = racine de la valeur (pour limiter la disproportion)
    radius = math.sqrt(total_mv) * 0.3

    # Popup HTML
    popup_html = f"""
    <b>{club_name}</b><br>
    Valeur marchande totale : {int(total_mv)} M€<br>
    (Saison {current_season})<br>
    <i>Cochez la couche <u>Transferts de {club_name}</u> pour voir les flèches</i>
    """

    folium.CircleMarker(
        location=[lat, lon],
        radius=radius,
        fill=True,
        fill_opacity=0.7,
        color="red",
        popup=popup_html
    ).add_to(m)

# ---------------------------------------------------------------------------
# 6) Gérer les transferts (FeatureGroup par club)
# ---------------------------------------------------------------------------
# a) Récupérer la table de transferts
df_trans = df_current.dropna(subset=["origin_club", "destination_club", "player_name", "fee"])

# b) Dictionnaire : club -> (lat, lon)
club_positions = {}
for _, row in gdf_clubs.iterrows():
    club_positions[row["club_name"]] = (row.geometry.y, row.geometry.x)

def get_coords(club):
    """Retourne (lat, lon) du club, ou (None, None) si inconnu"""
    return club_positions.get(club, (None, None))

# c) Créer un FeatureGroup par club
fg_by_club = {}
for _, row in gdf_clubs.iterrows():
    c_name = row["club_name"]
    fg_by_club[c_name] = FeatureGroup(name=f"Transferts de {c_name}", show=False)
    m.add_child(fg_by_club[c_name])

# d) Dessiner les polylignes (transferts)
for _, line in df_trans.iterrows():
    origin = line["origin_club"]
    dest = line["destination_club"]
    fee = line["fee"]
    player = line["player_name"]

    lat_o, lon_o = get_coords(origin)
    lat_d, lon_d = get_coords(dest)

    # Si hors PL, lat_o/lat_d = None => on ignore ou on met un lat/lon bidon
    if lat_o is None or lat_d is None:
        continue

    # Transfert sortant
    pol_out = folium.PolyLine(
        locations=[(lat_o, lon_o), (lat_d, lon_d)],
        tooltip=f"{player} : {fee} M€\n{origin} -> {dest}",
        color="blue",
        weight=2
    )
    if origin in fg_by_club:
        fg_by_club[origin].add_child(pol_out)

    # Transfert entrant
    pol_in = folium.PolyLine(
        locations=[(lat_o, lon_o), (lat_d, lon_d)],
        tooltip=f"{player} : {fee} M€\n(Reçu par {dest} de {origin})",
        color="green",
        weight=2
    )
    if dest in fg_by_club:
        fg_by_club[dest].add_child(pol_in)

# ---------------------------------------------------------------------------
# 7) (Option) Gestion multi-saisons (sélecteur via LayerControl)
# ---------------------------------------------------------------------------
# Ici, on a fait qu'une seule saison. Pour en gérer plusieurs, on peut créer 
# un FeatureGroup par saison, etc. Cf. prototype plus haut.

# ---------------------------------------------------------------------------
# 8) Ajouter un LayerControl + Export
# ---------------------------------------------------------------------------
folium.LayerControl().add_to(m)

m.save("map_transfers_PL.html")
print("Carte interactive enregistrée dans 'map_transfers_PL.html'")

# ---------------------------------------------------------------------------
# 9) Conclusion
# ---------------------------------------------------------------------------
# - Ce code illustre la démarche générale pour visualiser :
#   (a) Les clubs (cercle dimensionné par la valeur cumulée)
#   (b) Les transferts in/out (FeatureGroups)
# - Pour un vrai sélecteur de saisons, on peut ajouter d’autres FeatureGroups,
#   ou générer plusieurs cartes.
# - Adapter les noms de colonnes et la logique selon les data réelles.
