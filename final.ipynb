{
 "cells": [
  {
   "cell_type": "markdown",
   "metadata": {},
   "source": [
    "Exécuter ce code pour importer toutes les données scrapées ci-dessous"
   ]
  },
  {
   "cell_type": "code",
   "execution_count": 22,
   "metadata": {},
   "outputs": [],
   "source": [
    "import pickle,zlib,pandas as pd\n",
    "\n",
    "player_stats_fbref=pickle.loads(zlib.decompress(open('fbref_data/compressed_player_stats_fbref_1.bin','rb').read()))\n",
    "player_stats_fbref.update(pickle.loads(zlib.decompress(open('fbref_data/compressed_player_stats_fbref_2.bin','rb').read())))\n",
    "player_stats_fbref=pd.DataFrame(player_stats_fbref).transpose()\n",
    "player_stats_fbref=player_stats_fbref.sort_index(axis=1,ascending=False)\n",
    "\n",
    "teams_fbref=pickle.load(open('fbref_data/teams_fbref.pkl','rb'))\n",
    "\n",
    "glossary=pd.read_csv('fbref_data/Glossaire_FBREF.csv')\n",
    "\n",
    "\n",
    "player_stats_tm=pd.read_csv('tm_data/player_stats_tm.csv')\n",
    "player_stats_tm.index=player_stats_tm.loc[:,'Unnamed: 0']\n",
    "player_stats_tm=player_stats_tm.drop('Unnamed: 0',axis=1)\n",
    "\n",
    "transfer_history=pickle.load(open('tm_data/transfer_history.pkl','rb'))"
   ]
  },
  {
   "cell_type": "markdown",
   "metadata": {},
   "source": [
    "# Données FBREF"
   ]
  },
  {
   "cell_type": "markdown",
   "metadata": {},
   "source": [
    "## Équipes "
   ]
  },
  {
   "cell_type": "markdown",
   "metadata": {},
   "source": [
    "(!= Selenium pour être sur que le site reconnaisse ex: Real Betis != Real Betis Balompié)"
   ]
  },
  {
   "cell_type": "markdown",
   "metadata": {},
   "source": [
    "Module pour Scrapper, (on peut aussi utiliser le truc std de python ie html_parser)"
   ]
  },
  {
   "cell_type": "code",
   "execution_count": null,
   "metadata": {},
   "outputs": [],
   "source": [
    "!pip install lxml"
   ]
  },
  {
   "cell_type": "code",
   "execution_count": 241,
   "metadata": {},
   "outputs": [],
   "source": [
    "from bs4 import BeautifulSoup\n",
    "import pandas as pd\n",
    "import requests\n",
    "import time\n",
    "\n",
    "def get_teams_fbref(champ,season):\n",
    "    \n",
    "    #Code HTML de la page fbref de la saison season pour le championnat champ\n",
    "    url=f'https://fbref.com/en/comps/{champ}/{season}-{season+1}/{season}-{season+1}-any-Stats'\n",
    "    html = requests.get(url).text\n",
    "    soup = BeautifulSoup(html, 'lxml')\n",
    "    \n",
    "    # Trouver le classement et toutes les lignes du tableau\n",
    "    table=soup.find_all('table')[0]\n",
    "    rows=table.find_all('tr')[1:]\n",
    "    res={}\n",
    "    \n",
    "    #Faire un dicto avec toutes les équipes et leur id (utile pour après)\n",
    "    for row in rows:\n",
    "        link=row.find('a').get('href')\n",
    "        id=link.split('/')[3]\n",
    "        name=row.find('a').text\n",
    "        res[name]=id\n",
    "    return res\n",
    "\n",
    "    "
   ]
  },
  {
   "cell_type": "markdown",
   "metadata": {},
   "source": [
    "Trouver toutes les équipes pour tous les championnats sur les 10 dernières années"
   ]
  },
  {
   "cell_type": "code",
   "execution_count": null,
   "metadata": {},
   "outputs": [],
   "source": [
    "championships={'GB1':9,'IT1':11,'ES1':12,'FR1':13,'L1':20}\n",
    "years=[2024-i for i in range(10)]\n",
    "\n",
    "\n",
    "\n",
    "teams_fbref={}\n",
    "\n",
    "\n",
    "for c in championships.keys():\n",
    "    teams_fbref[c]={}\n",
    "    for year in years:\n",
    "        print(c,year)\n",
    "        teams_fbref[c][year]=get_teams_fbref(championships[c],year)\n",
    "        time.sleep(4)\n"
   ]
  },
  {
   "cell_type": "code",
   "execution_count": 2,
   "metadata": {},
   "outputs": [
    {
     "ename": "NameError",
     "evalue": "name 'teams_fbref' is not defined",
     "output_type": "error",
     "traceback": [
      "\u001b[0;31m---------------------------------------------------------------------------\u001b[0m",
      "\u001b[0;31mNameError\u001b[0m                                 Traceback (most recent call last)",
      "Cell \u001b[0;32mIn[2], line 1\u001b[0m\n\u001b[0;32m----> 1\u001b[0m \u001b[43mteams_fbref\u001b[49m[\u001b[38;5;124m'\u001b[39m\u001b[38;5;124mGB1\u001b[39m\u001b[38;5;124m'\u001b[39m][\u001b[38;5;124m'\u001b[39m\u001b[38;5;124m2024\u001b[39m\u001b[38;5;124m'\u001b[39m]\n",
      "\u001b[0;31mNameError\u001b[0m: name 'teams_fbref' is not defined"
     ]
    }
   ],
   "source": [
    "teams_fbref['GB1']['2024']"
   ]
  },
  {
   "cell_type": "code",
   "execution_count": 239,
   "metadata": {},
   "outputs": [
    {
     "data": {
      "text/plain": [
       "{'1 Bayern Munich3428428017+63882.5975,000Robert Lewandowski - 30Manuel Neuer→ Champions League via league finish': '054efa67',\n",
       " '2 Dortmund3424648234+48782.2981,178Pierre-Emerick Aubameyang - 25Roman Bürki→ Champions League via league finish': 'add600ae',\n",
       " '3 Leverkusen34186105640+16601.7629,085Javier Hernández - 17Bernd Leno→ Champions League via league finish': 'c7a9f859',\n",
       " '4 Gladbach34174136750+17551.6251,715Raffael - 13Yann Sommer→ Champions League via league finish': '32f3ee20',\n",
       " '5 Schalke 0434157125149+2521.5361,386Klaas-Jan Huntelaar - 12Ralf Fährmann→ Europa League via league finish': 'c539e393',\n",
       " '6 Mainz 0534148124642+4501.4731,053Yunus Mallı - 11Loris Karius→ Europa League via league finish 1': 'a224b06a',\n",
       " '7 Hertha BSC341481242420501.4749,704Salomon Kalou - 14Rune Jarstein→ Europa League via league finish': '2818f8bc',\n",
       " '8 Wolfsburg34129134749-2451.3228,945André Schürrle - 9Diego Benaglio': '4eaa11d7',\n",
       " '9 Köln341013113842-4431.2648,676Anthony Modeste - 15Timo Horn': 'bc357bf7',\n",
       " '10 Hamburger SV34118154046-6411.2153,700Nicolai Müller - 9René Adler': '26790c6a',\n",
       " '11 Ingolstadt 04341010143342-9401.1814,836Moritz Hartmann - 12Ramazan Özcan': '12eb2039',\n",
       " '12 Augsburg34911144252-10381.1229,017Koo Ja-cheol - 8Marwin Hitz': '0cdc4311',\n",
       " '13 Werder Bremen34108165065-15381.1240,935Claudio Pizarro - 14Felix Wiedwald': '62add3bf',\n",
       " '14 Darmstadt 9834911143853-15381.1216,647Sandro Wagner - 14Christian Mathenia': '6a6967fc',\n",
       " '15 Hoffenheim34910153954-15371.0927,615Kevin Volland, Mark Uth - 8Oliver Baumann': '033ea6b8',\n",
       " '16 Eint Frankfurt3499163452-18361.0646,676Alexander Meier - 12Lukáš Hrádecký→ German 1/2 Relegation/Promotion Playoffs ': 'f0ac8ee6',\n",
       " '17 Stuttgart3496195075-25330.9751,983Daniel Didavi - 13Przemysław TytońRelegated': '598bc722',\n",
       " '18 Hannover 963474233162-31250.7441,246Artur Sobiech - 7Ron-Robert ZielerRelegated': '60b5e41f'}"
      ]
     },
     "execution_count": 239,
     "metadata": {},
     "output_type": "execute_result"
    }
   ],
   "source": [
    "get_teams_fbref(championships['L1'],2015)"
   ]
  },
  {
   "cell_type": "markdown",
   "metadata": {},
   "source": [
    "Sauvegarde du dictionnaire des équipes"
   ]
  },
  {
   "cell_type": "code",
   "execution_count": 425,
   "metadata": {},
   "outputs": [],
   "source": [
    "import pickle\n",
    "with open('teams_fbref.pkl','wb') as file: \n",
    "    pickle.dump(teams_fbref,file)"
   ]
  },
  {
   "cell_type": "markdown",
   "metadata": {},
   "source": [
    "### Glossaire pour expliquer les acronymes des différentes stats"
   ]
  },
  {
   "cell_type": "markdown",
   "metadata": {},
   "source": [
    "Obligé d'utiliser Selenium car présence d'un boutton"
   ]
  },
  {
   "cell_type": "code",
   "execution_count": 1,
   "metadata": {},
   "outputs": [],
   "source": [
    "from selenium import webdriver\n",
    "from selenium.webdriver.common.by import By\n",
    "from selenium.webdriver.support.ui import WebDriverWait\n",
    "from selenium.webdriver.support import expected_conditions as EC\n",
    "import time\n",
    "\n",
    "\n",
    "\n",
    "#Sélecteurs de tous les bouttons\n",
    "\n",
    "button_paths=['#stats_shooting_dom_lg_sh','#stats_passing_dom_lg_sh', \\\n",
    "              '#stats_passing_types_dom_lg_sh','#stats_gca_dom_lg_sh', \\\n",
    "                '#stats_playing_time_dom_lg_sh','#stats_possession_dom_lg_sh', '#stats_misc_dom_lg_sh']\n",
    "\n",
    "button_paths=[button+f' > div > ul > li:nth-child({1 if button_paths.index(button)!=0 else 2}) > button' for button in button_paths]\n",
    "\n",
    "#À titre d'exemple (on aurait pu prendre un autre joueur)\n",
    "\n",
    "url=f'https://fbref.com/en/players/e06683ca/Virgil-van-Dijk'\n",
    "\n",
    "\n",
    "\n",
    "driver=webdriver.Chrome()\n",
    "driver.implicitly_wait(10)\n",
    "driver.get(url)\n",
    "\n",
    "glossaries=[]\n",
    "\n",
    "\n",
    "for button in button_paths:\n",
    "  \n",
    "  # Scroller jusqu'au boutton glossaire, le code ajustera jusqu'à trouver le boutton par lui même\n",
    "    while(True):\n",
    "      try:\n",
    "        driver.find_element(By.CSS_SELECTOR,button).click()\n",
    "        break\n",
    "      except:\n",
    "        pass\n",
    "    glossaries.append(([x.text for x in driver.find_elements(By.XPATH,'//*[@id=\"sr_glossary\"]')]))\n",
    "    "
   ]
  },
  {
   "cell_type": "code",
   "execution_count": null,
   "metadata": {},
   "outputs": [],
   "source": [
    "glossary={}\n",
    "for i in range(len(glossaries)):\n",
    "    stats=[s.split('\\n')[-1] for s in glossaries[i][0].split('--')][:-1 ]\n",
    "    explanations=[s.split('\\n')[0] for s in glossaries[i][0].split('--')][1:]\n",
    "    stats=list(map(lambda s:s.strip(),stats))\n",
    "    explanations=list(map(lambda s:s.split(':')[0].strip(),explanations))\n",
    "    glossary.update(zip(stats,explanations))\n",
    "glossary\n",
    "    "
   ]
  },
  {
   "cell_type": "markdown",
   "metadata": {},
   "source": [
    "Sauvegarde du glossaire"
   ]
  },
  {
   "cell_type": "code",
   "execution_count": 40,
   "metadata": {},
   "outputs": [],
   "source": [
    "import pandas as pd \n",
    "glossary=pd.Series(glossary)\n",
    "glossary.to_csv('Glossaire_FBREF.csv')"
   ]
  },
  {
   "cell_type": "code",
   "execution_count": 389,
   "metadata": {},
   "outputs": [
    {
     "data": {
      "text/plain": [
       "Season                            Season\n",
       "Age                  Age at season start\n",
       "Country    Flag and name of the country.\n",
       "Comp                         Competition\n",
       "LgRank       Squad finish in competition\n",
       "90s                           90s Played\n",
       "Gls                                Goals\n",
       "Sh                            GCA (Shot)\n",
       "SoT                      Shots on Target\n",
       "SoT%                   Shots on Target %\n",
       "dtype: object"
      ]
     },
     "execution_count": 389,
     "metadata": {},
     "output_type": "execute_result"
    }
   ],
   "source": [
    "glossary.head(10)"
   ]
  },
  {
   "cell_type": "markdown",
   "metadata": {},
   "source": [
    "Stats des joueurs"
   ]
  },
  {
   "cell_type": "code",
   "execution_count": 345,
   "metadata": {},
   "outputs": [],
   "source": [
    "def get_player_stats_fbref(player_id):\n",
    "    url=f'https://fbref.com/en/players/{player_id}/'\n",
    "    html = requests.get(url).text\n",
    "    time.sleep(4)\n",
    "    soup = BeautifulSoup(html, 'lxml')\n",
    "    res={}\n",
    "    #Données sur taille poids pied fort âge et pays\n",
    "    \n",
    "    metadata=soup.find('div',id='meta')\n",
    "    try:\n",
    "        physical=list(map(lambda x:x.text,metadata.find_all('span')[1:3]))\n",
    "        physical[0],physical[1]=float(physical[0].split('cm')[0]),float(physical[1].split('kg')[0])\n",
    "    except:\n",
    "        physical=['','']\n",
    "    try:\n",
    "        foot=metadata.find('strong',string='Footed:').next_sibling.strip()\n",
    "    except:\n",
    "        foot=''\n",
    "    try:\n",
    "        age=2025-int(metadata.find('span',id='necro-birth').get('data-birth').split('-')[0])\n",
    "    except:\n",
    "        age=''\n",
    "    try:\n",
    "        country=metadata.find('a').text\n",
    "    except:\n",
    "        country=''\n",
    "    meta=physical+[foot,age,country]\n",
    "    \n",
    "    \n",
    "    \n",
    "    \n",
    "    attributes=['height','weight','preferred foot','age','country']\n",
    "    \n",
    "    res['meta']=dict(zip(attributes,meta))\n",
    "    \n",
    "    \n",
    "    \n",
    "    \n",
    "    \n",
    "    std_rows=soup.find('table',id=\"stats_standard_dom_lg\")\n",
    "    \n",
    "    try:\n",
    "        std_rows=std_rows.select('tr[id=\"stats\"]')\n",
    "    except:\n",
    "        return res\n",
    "    \n",
    "    \n",
    "    # Données sur les antécédents en club, pays, championnats\n",
    "    teams,countries,champs=[],[],[]\n",
    "    for row in std_rows:\n",
    "        teams.append(row.select_one(('td[data-stat=\"team\"]')).text)\n",
    "        countries.append((row.select_one(('td[data-stat=\"country\"]'))).text.split(' ')[-1] )\n",
    "        champs.append(row.select_one(('td[data-stat=\"comp_level\"]')).text.split('1. ')[-1])\n",
    "        \n",
    "    # Extraction des stats sur tous les aspects du jeu\n",
    "    \n",
    "    \n",
    "    #On différencie les Gardiens\n",
    "    \n",
    "    try:\n",
    "        if soup.find(string='Position:').next_element[1]=='G':\n",
    "            table_ids=[\"keeper\",\"keeper\",\"passing\",\"passing_types\",\"possession\",\"playing_time\",\"misc\"]\n",
    "        else:\n",
    "            table_ids=[\"shooting\",\"passing\",\"passing_types\",\"gca\",\"defense\",\"possession\",\"playing_time\",\"misc\"]\n",
    "    except:\n",
    "        table_ids=[\"shooting\",\"passing\",\"passing_types\",\"gca\",\"defense\",\"possession\",\"playing_time\",\"misc\"]\n",
    "    table_ids=list(map(lambda s:'stats_'+s+'_dom_lg',table_ids))\n",
    "    \n",
    "    \n",
    "    \n",
    "    for id in table_ids:\n",
    "        \n",
    "        \n",
    "        #Certains joueurs n'ont pas des tableaux pour tous les aspects du jeu\n",
    "        try:\n",
    "            table=soup.find('table',id=id)\n",
    "            header=table.find_all('tr')[1]\n",
    "            cols=[x.get('data-stat') for x in header.find_all('th')][1:]\n",
    "            for row in table.find_all('tr',id=\"stats\"):\n",
    "                year=row.select_one('th[data-stat=\"year_id\"]').text\n",
    "                if year not in res.keys():\n",
    "                    res[year]={}\n",
    "                for col in cols[:-1]:\n",
    "                    res[year][col]=row.select_one(f'td[data-stat=\"{col}\"]').text\n",
    "        except:\n",
    "            pass\n",
    "        \n",
    "    # Transformation en flottants pour les nombres\n",
    "    for y in res.keys():\n",
    "        \n",
    "        for c in res[y].keys():\n",
    "            try:\n",
    "                res[y][c]=float(res[y][c])\n",
    "            except:\n",
    "                pass\n",
    "    \n",
    "    return res\n",
    "        \n",
    "    \n",
    "def get_team_stats_fbref(team_id,season,champ,player_dict={},display_flag=False):\n",
    "    url=f'https://fbref.com/en/squads/{team_id}/{season}-{season+1}/any'\n",
    "    html = requests.get(url).text\n",
    "    time.sleep(4)\n",
    "    soup = BeautifulSoup(html, 'lxml')\n",
    "    \n",
    "    \n",
    "    table=soup.find('table',id=f\"stats_standard_{championships[champ]}\").find('tbody')\n",
    "    for row in table.find_all('tr'):\n",
    "        name=row.find('a').text\n",
    "        if name not in player_dict.keys():\n",
    "            if display_flag:\n",
    "                print(name)\n",
    "            player_dict[name]=get_player_stats_fbref(row.find('a').get('href').split('/')[3])\n",
    "    \n",
    "    \n",
    "    \n",
    "    \n",
    "    \n",
    "    \n",
    "    \n",
    "    "
   ]
  },
  {
   "cell_type": "code",
   "execution_count": null,
   "metadata": {},
   "outputs": [],
   "source": [
    "player_stats_fbref={}\n",
    "\n",
    "#Seen pour relancer sans devoir reparcourir toutes les équipes si erreur\n",
    "seen=set()\n",
    "for country in teams_fbref.keys():\n",
    "    for year in teams_fbref[country].keys():\n",
    "        for team in teams_fbref[country][year].keys():\n",
    "            if (team,year) not in seen:\n",
    "                print(team,year)\n",
    "                get_team_stats_fbref(teams_fbref[country][year][team],year,country,player_stats_fbref)\n",
    "                seen.add((team,year))\n",
    "                \n",
    "                "
   ]
  },
  {
   "cell_type": "markdown",
   "metadata": {},
   "source": [
    "Compression pour pouvoir mettre les données sur Github"
   ]
  },
  {
   "cell_type": "code",
   "execution_count": 420,
   "metadata": {},
   "outputs": [],
   "source": [
    "import zlib\n",
    "n=len(player_stats_fbref)\n",
    "\n",
    "#Séparation en 2 pour respecter la limite des 25 Mb de Github\n",
    "player_stats_fbref_1=dict(list(player_stats_fbref.items())[int(n/2):])\n",
    "player_stats_fbref_2=dict(list(player_stats_fbref.items())[:int(n/2)])\n",
    "\n",
    "compressed_player_stats_fbref_1=zlib.compress(pickle.dumps(player_stats_fbref_1))\n",
    "compressed_player_stats_fbref_2=zlib.compress(pickle.dumps(player_stats_fbref_2))\n",
    "\n",
    "\n",
    "with open('compressed_player_stats_fbref_1.bin', 'wb') as f:\n",
    "    f.write(compressed_player_stats_fbref_1)\n",
    "with open('compressed_player_stats_fbref_2.bin', 'wb') as f:\n",
    "    f.write(compressed_player_stats_fbref_2)\n",
    "\n"
   ]
  },
  {
   "cell_type": "code",
   "execution_count": 3,
   "metadata": {},
   "outputs": [],
   "source": [
    "\n",
    "\n",
    "with open('compressed_player_stats_fbref_1.bin', 'rb') as f:\n",
    "    compressed_player_stats_fbref_1=f.read()\n",
    "with open('compressed_player_stats_fbref_2.bin', 'rb') as f:\n",
    "    compressed_player_stats_fbref_2=f.read()\n",
    "\n",
    "\n",
    "#Pour être sur que la compression s'est bien passée\n",
    "player_stats_fbref=pickle.loads(zlib.decompress(compressed_player_stats_fbref_1))\n",
    "player_stats_fbref.update(pickle.loads(zlib.decompress(compressed_player_stats_fbref_2)))"
   ]
  },
  {
   "cell_type": "code",
   "execution_count": 27,
   "metadata": {},
   "outputs": [],
   "source": [
    "# Sauvegarde au format csv\n",
    "\n",
    "player_stats_fbref=pd.DataFrame(player_stats_fbref).transpose()\n",
    "player_stats_fbref=player_stats_fbref.sort_index(axis=1,ascending=True)"
   ]
  },
  {
   "cell_type": "code",
   "execution_count": 28,
   "metadata": {},
   "outputs": [
    {
     "data": {
      "text/html": [
       "<div>\n",
       "<style scoped>\n",
       "    .dataframe tbody tr th:only-of-type {\n",
       "        vertical-align: middle;\n",
       "    }\n",
       "\n",
       "    .dataframe tbody tr th {\n",
       "        vertical-align: top;\n",
       "    }\n",
       "\n",
       "    .dataframe thead th {\n",
       "        text-align: right;\n",
       "    }\n",
       "</style>\n",
       "<table border=\"1\" class=\"dataframe\">\n",
       "  <thead>\n",
       "    <tr style=\"text-align: right;\">\n",
       "      <th></th>\n",
       "      <th>meta</th>\n",
       "      <th>2024-2025</th>\n",
       "      <th>2024</th>\n",
       "      <th>2023-2024</th>\n",
       "      <th>2023</th>\n",
       "      <th>2022-2023</th>\n",
       "      <th>2022</th>\n",
       "      <th>2021-2022</th>\n",
       "      <th>2021</th>\n",
       "      <th>2020-2021</th>\n",
       "      <th>...</th>\n",
       "      <th>1999-2000</th>\n",
       "      <th>1999</th>\n",
       "      <th>1998-1999</th>\n",
       "      <th>1998</th>\n",
       "      <th>1997-1998</th>\n",
       "      <th>1996-1997</th>\n",
       "      <th>1995-1996</th>\n",
       "      <th>1994-1995</th>\n",
       "      <th>1993-1994</th>\n",
       "      <th>1992-1993</th>\n",
       "    </tr>\n",
       "  </thead>\n",
       "  <tbody>\n",
       "    <tr>\n",
       "      <th></th>\n",
       "      <td>{'height': '', 'weight': '', 'preferred foot':...</td>\n",
       "      <td>NaN</td>\n",
       "      <td>NaN</td>\n",
       "      <td>NaN</td>\n",
       "      <td>NaN</td>\n",
       "      <td>NaN</td>\n",
       "      <td>NaN</td>\n",
       "      <td>NaN</td>\n",
       "      <td>NaN</td>\n",
       "      <td>NaN</td>\n",
       "      <td>...</td>\n",
       "      <td>NaN</td>\n",
       "      <td>NaN</td>\n",
       "      <td>NaN</td>\n",
       "      <td>NaN</td>\n",
       "      <td>NaN</td>\n",
       "      <td>NaN</td>\n",
       "      <td>NaN</td>\n",
       "      <td>NaN</td>\n",
       "      <td>NaN</td>\n",
       "      <td>NaN</td>\n",
       "    </tr>\n",
       "    <tr>\n",
       "      <th>Aaron Ciammaglichella</th>\n",
       "      <td>{'height': '', 'weight': '', 'preferred foot':...</td>\n",
       "      <td>{'age': 19.0, 'team': 'Torino', 'country': 'it...</td>\n",
       "      <td>NaN</td>\n",
       "      <td>{'age': 18.0, 'team': 'Torino', 'country': 'it...</td>\n",
       "      <td>NaN</td>\n",
       "      <td>{'age': 17.0, 'team': 'Torino', 'country': 'it...</td>\n",
       "      <td>NaN</td>\n",
       "      <td>NaN</td>\n",
       "      <td>NaN</td>\n",
       "      <td>NaN</td>\n",
       "      <td>...</td>\n",
       "      <td>NaN</td>\n",
       "      <td>NaN</td>\n",
       "      <td>NaN</td>\n",
       "      <td>NaN</td>\n",
       "      <td>NaN</td>\n",
       "      <td>NaN</td>\n",
       "      <td>NaN</td>\n",
       "      <td>NaN</td>\n",
       "      <td>NaN</td>\n",
       "      <td>NaN</td>\n",
       "    </tr>\n",
       "    <tr>\n",
       "      <th>Aaron Connolly</th>\n",
       "      <td>{'height': 180.0, 'weight': 77.0, 'preferred f...</td>\n",
       "      <td>{'age': 24.0, 'team': 'Sunderland', 'country':...</td>\n",
       "      <td>NaN</td>\n",
       "      <td>{'age': 23.0, 'team': 'Hull City', 'country': ...</td>\n",
       "      <td>NaN</td>\n",
       "      <td>{'age': 22.0, 'team': 'Hull City', 'country': ...</td>\n",
       "      <td>NaN</td>\n",
       "      <td>{'age': 21.0, 'team': 'Middlesbrough', 'countr...</td>\n",
       "      <td>NaN</td>\n",
       "      <td>{'age': 20.0, 'team': 'Brighton', 'country': '...</td>\n",
       "      <td>...</td>\n",
       "      <td>NaN</td>\n",
       "      <td>NaN</td>\n",
       "      <td>NaN</td>\n",
       "      <td>NaN</td>\n",
       "      <td>NaN</td>\n",
       "      <td>NaN</td>\n",
       "      <td>NaN</td>\n",
       "      <td>NaN</td>\n",
       "      <td>NaN</td>\n",
       "      <td>NaN</td>\n",
       "    </tr>\n",
       "    <tr>\n",
       "      <th>Aaron Cresswell</th>\n",
       "      <td>{'height': 170.0, 'weight': 68.0, 'preferred f...</td>\n",
       "      <td>{'age': 34.0, 'team': 'West Ham', 'country': '...</td>\n",
       "      <td>NaN</td>\n",
       "      <td>{'age': 33.0, 'team': 'West Ham', 'country': '...</td>\n",
       "      <td>NaN</td>\n",
       "      <td>{'age': 32.0, 'team': 'West Ham', 'country': '...</td>\n",
       "      <td>NaN</td>\n",
       "      <td>{'age': 31.0, 'team': 'West Ham', 'country': '...</td>\n",
       "      <td>NaN</td>\n",
       "      <td>{'age': 30.0, 'team': 'West Ham', 'country': '...</td>\n",
       "      <td>...</td>\n",
       "      <td>NaN</td>\n",
       "      <td>NaN</td>\n",
       "      <td>NaN</td>\n",
       "      <td>NaN</td>\n",
       "      <td>NaN</td>\n",
       "      <td>NaN</td>\n",
       "      <td>NaN</td>\n",
       "      <td>NaN</td>\n",
       "      <td>NaN</td>\n",
       "      <td>NaN</td>\n",
       "    </tr>\n",
       "    <tr>\n",
       "      <th>Aaron Herzog</th>\n",
       "      <td>{'height': '', 'weight': '', 'preferred foot':...</td>\n",
       "      <td>NaN</td>\n",
       "      <td>NaN</td>\n",
       "      <td>{'age': 25.0, 'team': 'Lübeck', 'country': 'de...</td>\n",
       "      <td>NaN</td>\n",
       "      <td>{'age': 24.0, 'team': 'Hallescher', 'country':...</td>\n",
       "      <td>NaN</td>\n",
       "      <td>{'age': 23.0, 'team': 'Hallescher', 'country':...</td>\n",
       "      <td>NaN</td>\n",
       "      <td>{'age': 22.0, 'team': 'Hansa Rostock', 'countr...</td>\n",
       "      <td>...</td>\n",
       "      <td>NaN</td>\n",
       "      <td>NaN</td>\n",
       "      <td>NaN</td>\n",
       "      <td>NaN</td>\n",
       "      <td>NaN</td>\n",
       "      <td>NaN</td>\n",
       "      <td>NaN</td>\n",
       "      <td>NaN</td>\n",
       "      <td>NaN</td>\n",
       "      <td>NaN</td>\n",
       "    </tr>\n",
       "  </tbody>\n",
       "</table>\n",
       "<p>5 rows × 61 columns</p>\n",
       "</div>"
      ],
      "text/plain": [
       "                                                                    meta  \\\n",
       "                       {'height': '', 'weight': '', 'preferred foot':...   \n",
       "Aaron Ciammaglichella  {'height': '', 'weight': '', 'preferred foot':...   \n",
       "Aaron Connolly         {'height': 180.0, 'weight': 77.0, 'preferred f...   \n",
       "Aaron Cresswell        {'height': 170.0, 'weight': 68.0, 'preferred f...   \n",
       "Aaron Herzog           {'height': '', 'weight': '', 'preferred foot':...   \n",
       "\n",
       "                                                               2024-2025 2024  \\\n",
       "                                                                     NaN  NaN   \n",
       "Aaron Ciammaglichella  {'age': 19.0, 'team': 'Torino', 'country': 'it...  NaN   \n",
       "Aaron Connolly         {'age': 24.0, 'team': 'Sunderland', 'country':...  NaN   \n",
       "Aaron Cresswell        {'age': 34.0, 'team': 'West Ham', 'country': '...  NaN   \n",
       "Aaron Herzog                                                         NaN  NaN   \n",
       "\n",
       "                                                               2023-2024 2023  \\\n",
       "                                                                     NaN  NaN   \n",
       "Aaron Ciammaglichella  {'age': 18.0, 'team': 'Torino', 'country': 'it...  NaN   \n",
       "Aaron Connolly         {'age': 23.0, 'team': 'Hull City', 'country': ...  NaN   \n",
       "Aaron Cresswell        {'age': 33.0, 'team': 'West Ham', 'country': '...  NaN   \n",
       "Aaron Herzog           {'age': 25.0, 'team': 'Lübeck', 'country': 'de...  NaN   \n",
       "\n",
       "                                                               2022-2023 2022  \\\n",
       "                                                                     NaN  NaN   \n",
       "Aaron Ciammaglichella  {'age': 17.0, 'team': 'Torino', 'country': 'it...  NaN   \n",
       "Aaron Connolly         {'age': 22.0, 'team': 'Hull City', 'country': ...  NaN   \n",
       "Aaron Cresswell        {'age': 32.0, 'team': 'West Ham', 'country': '...  NaN   \n",
       "Aaron Herzog           {'age': 24.0, 'team': 'Hallescher', 'country':...  NaN   \n",
       "\n",
       "                                                               2021-2022 2021  \\\n",
       "                                                                     NaN  NaN   \n",
       "Aaron Ciammaglichella                                                NaN  NaN   \n",
       "Aaron Connolly         {'age': 21.0, 'team': 'Middlesbrough', 'countr...  NaN   \n",
       "Aaron Cresswell        {'age': 31.0, 'team': 'West Ham', 'country': '...  NaN   \n",
       "Aaron Herzog           {'age': 23.0, 'team': 'Hallescher', 'country':...  NaN   \n",
       "\n",
       "                                                               2020-2021  ...  \\\n",
       "                                                                     NaN  ...   \n",
       "Aaron Ciammaglichella                                                NaN  ...   \n",
       "Aaron Connolly         {'age': 20.0, 'team': 'Brighton', 'country': '...  ...   \n",
       "Aaron Cresswell        {'age': 30.0, 'team': 'West Ham', 'country': '...  ...   \n",
       "Aaron Herzog           {'age': 22.0, 'team': 'Hansa Rostock', 'countr...  ...   \n",
       "\n",
       "                      1999-2000 1999 1998-1999 1998 1997-1998 1996-1997  \\\n",
       "                            NaN  NaN       NaN  NaN       NaN       NaN   \n",
       "Aaron Ciammaglichella       NaN  NaN       NaN  NaN       NaN       NaN   \n",
       "Aaron Connolly              NaN  NaN       NaN  NaN       NaN       NaN   \n",
       "Aaron Cresswell             NaN  NaN       NaN  NaN       NaN       NaN   \n",
       "Aaron Herzog                NaN  NaN       NaN  NaN       NaN       NaN   \n",
       "\n",
       "                      1995-1996 1994-1995 1993-1994 1992-1993  \n",
       "                            NaN       NaN       NaN       NaN  \n",
       "Aaron Ciammaglichella       NaN       NaN       NaN       NaN  \n",
       "Aaron Connolly              NaN       NaN       NaN       NaN  \n",
       "Aaron Cresswell             NaN       NaN       NaN       NaN  \n",
       "Aaron Herzog                NaN       NaN       NaN       NaN  \n",
       "\n",
       "[5 rows x 61 columns]"
      ]
     },
     "execution_count": 28,
     "metadata": {},
     "output_type": "execute_result"
    }
   ],
   "source": [
    "player_stats_fbref.head()"
   ]
  },
  {
   "cell_type": "code",
   "execution_count": null,
   "metadata": {},
   "outputs": [],
   "source": [
    "!mkdir fbref_data\n",
    "!mv compressed_player_stats_fbref_1.bin compressed_player_stats_fbref_2.bin Glossaire FBREF Glossaire_FBREF.csv teams_fbref.pkl fbref_data\n"
   ]
  },
  {
   "cell_type": "markdown",
   "metadata": {},
   "source": [
    "# Données Transfermarkt"
   ]
  },
  {
   "cell_type": "markdown",
   "metadata": {},
   "source": [
    "## Classements des 10 dernières années dans les 5 grands championnats"
   ]
  },
  {
   "cell_type": "markdown",
   "metadata": {},
   "source": [
    "## Données sur les joueurs"
   ]
  },
  {
   "cell_type": "markdown",
   "metadata": {},
   "source": [
    "(On récupère évolution de la valeur marchande + postes)"
   ]
  },
  {
   "cell_type": "code",
   "execution_count": null,
   "metadata": {},
   "outputs": [],
   "source": [
    "#Si nécessaire\n",
    "!pip3 install rapidfuzz"
   ]
  },
  {
   "cell_type": "code",
   "execution_count": 72,
   "metadata": {},
   "outputs": [
    {
     "data": {
      "text/plain": [
       "'Liverpool'"
      ]
     },
     "execution_count": 72,
     "metadata": {},
     "output_type": "execute_result"
    }
   ],
   "source": [
    "player_stats_fbref.loc['Mohamed Salah','2024-2025']['team']"
   ]
  },
  {
   "cell_type": "code",
   "execution_count": 96,
   "metadata": {},
   "outputs": [],
   "source": [
    "na_player_stats_fbref=player_stats_fbref.isna()"
   ]
  },
  {
   "cell_type": "code",
   "execution_count": 244,
   "metadata": {},
   "outputs": [],
   "source": [
    "# Utile pour trouver gommer les différences avec l'équipe tm correspondante\n",
    "teams_fbref_list=[]\n",
    "for k,v in teams_fbref.items():\n",
    "    for kk,vv in v.items():\n",
    "        teams_fbref_list+=(list(vv.keys()))"
   ]
  },
  {
   "cell_type": "code",
   "execution_count": null,
   "metadata": {},
   "outputs": [],
   "source": [
    "teams_fbref"
   ]
  },
  {
   "cell_type": "code",
   "execution_count": 312,
   "metadata": {},
   "outputs": [],
   "source": [
    "import time\n",
    "from rapidfuzz.distance import Levenshtein\n",
    "#Header pout ne pas se faire bloquer l'accès par le site\n",
    "heads = {'User-Agent' : 'Mozilla/5.0 (Windows NT 6.1; Win64; x64) AppleWebKit/537.36 (KHTML, like Gecko) Chrome/70.0.3538.110 Safari/537.36'}\n",
    "#Extraction individuelle\n",
    "def get_player_stats_tm(player_id):\n",
    "    url=f'https://www.transfermarkt.com/konstantinos-tsimikas/profil/spieler/{player_id}'\n",
    "    \n",
    "    \n",
    "    html = requests.get(url,headers=heads).text\n",
    "    time.sleep(1)\n",
    "    soup = BeautifulSoup(html, 'lxml')\n",
    "    \n",
    "    # Extraction des positions\n",
    "    position_box=soup.find('div',class_='detail-position__box')\n",
    "    try:\n",
    "        positions=position_box.find_all('dd',class_='detail-position__position')\n",
    "        positions=[position.text for position in positions]\n",
    "    except:\n",
    "        positions=[]\n",
    "    \n",
    "    \n",
    "    \n",
    "    # Extraction de l'histoirique de la valeur marchande (accessible à travers un endpoint)\n",
    "    \n",
    "    \n",
    "    value_graph=requests.get(f'https://transfermarkt.com/ceapi/marketValueDevelopment/graph/{player_id}',headers=heads)\n",
    "    time.sleep(1)\n",
    "    value_graph=value_graph.json()\n",
    "    value_graph_values=[d['mw'] for d in value_graph['list']]\n",
    "    \n",
    "    value_graph_values=[float(v[1:-1])*(1000 if v[-1]=='m' else 1) if v!='-' else 0. for v in value_graph_values ]\n",
    "    value_graph_years=[d['datum_mw'].split(' ')[-1] for d in value_graph['list']]\n",
    "    value_graph={value_graph_years[i]:value_graph_values[i] for i in range(len(value_graph_years))}\n",
    "    return {'positions':positions,'market_values':value_graph}\n",
    "    \n",
    "\n",
    "#Extraction d'une équipe\n",
    "\n",
    "def get_team_stats_tm(url,season,team,player_dict={},display_flag=False):\n",
    "    html=requests.get(url,headers=heads).text\n",
    "    time.sleep(1)\n",
    "    soup=BeautifulSoup(html,'lxml')\n",
    "    \n",
    "    \n",
    "    \n",
    "    \n",
    "    table=soup.find('div',id='yw1')\n",
    "    table=table.find('tbody')\n",
    "    rows=table.select('td.hauptlink:not(.rechts)')\n",
    "    player_list=[]\n",
    "    \n",
    "    # Pour trouver l'équipe du joueur correspondante dans la bd de fbref\n",
    "    team_tm=min([(Levenshtein.distance(team,team_fbref),team_fbref) for team_fbref in teams_fbref_list])[1]\n",
    "    \n",
    "    \n",
    "    #Extraction de la bd des joueurs de l'équipe team_tm lors de season dans fbref\n",
    "    \n",
    "    # Pas forcément nécessaire mais pour considérer les cas où la saison est au format année ( en Amérique du Sud nottament) ou année - année + 1 (cas usuel en Europe)\n",
    "    team_fbref_1=[player for player in player_stats_fbref.index if not(na_player_stats_fbref.loc[player,str(season)]) and player_stats_fbref.loc[player,str(season)]['team']==team_tm]\n",
    "    team_fbref_2=[player for player in player_stats_fbref.index if not(na_player_stats_fbref.loc[player,str(season)+'-'+str(season+1)]) and player_stats_fbref.loc[player,str(season)+'-'+str(season+1)]['team']==team_tm]\n",
    "    if len(team_fbref_2)>=len(team_fbref_1):\n",
    "        season=str(season)+'-'+str(season+1)\n",
    "        team_fbref=team_fbref_2\n",
    "    else:\n",
    "        season=str(season) \n",
    "        team_fbref=team_fbref_1\n",
    "        \n",
    "    # Pour chaque joueur on trouve le joueur correspondant dans la bd fbref\n",
    "    for row in rows:\n",
    "        name_tm=row.find('a').text.strip()\n",
    "        score,name=min([(Levenshtein.distance(player,name_tm),player) for player in team_fbref])\n",
    "        player_list.append((score,name,row.find('a').get('href')))\n",
    "    \n",
    "    \n",
    "    # On priorise les joueurs qui ont probablement un match dans la bd fbref\n",
    "    # (si la distance de Levenshtein est grande pour tous les joueurs à priori ce joueur n'est pas dans la bd fbref)\n",
    "    player_list=sorted(player_list)\n",
    "    player_list=player_list[:len(team_fbref)]\n",
    "    for score,name,link in player_list:\n",
    "        \n",
    "        #Pour éviter les redondances\n",
    "        if name not in player_dict.keys():\n",
    "            if display_flag:\n",
    "                print(name)\n",
    "            player_dict[name]=get_player_stats_tm(link.split('/')[-1])\n",
    "    \n",
    "    \n",
    "        \n",
    "    \n",
    "\n",
    "\n",
    "#Extraction d'un championnat entier\n",
    "def get_champ_stats_tm(season,champ,player_dict={},display_flag=False):\n",
    "    url=f'https://www.transfermarkt.com/premier-league/startseite/wettbewerb/{champ}/plus/?saison_id={season}'\n",
    "    html=requests.get(url,headers=heads).text\n",
    "    time.sleep(1)\n",
    "    soup=BeautifulSoup(html,'lxml')\n",
    "    table=soup.find('div',id='yw1')\n",
    "    \n",
    "    table=table.find('tbody')\n",
    "    rows=table.find_all('tr')\n",
    "    for row in rows:\n",
    "        team_url=row.find('a').get('href')\n",
    "        team=row.find('a').get('title')\n",
    "        if display_flag:\n",
    "            print(team)\n",
    "        get_team_stats_tm('https://www.transfermarkt.com'+team_url,season,team,player_dict,False)\n",
    "            \n",
    "\n",
    "        \n",
    "        \n",
    "        \n",
    "        \n",
    "        \n",
    "        \n",
    "        \n",
    "        \n"
   ]
  },
  {
   "cell_type": "code",
   "execution_count": null,
   "metadata": {},
   "outputs": [],
   "source": [
    "#player_stats_tm={}\n",
    "#Seen pour relancer sans devoir reparcourir toutes les équipes si erreur\n",
    "#seen=set()\n",
    "for country in championships.keys():\n",
    "    for year in years:\n",
    "            if (country,year) not in seen:\n",
    "                print(country,year)\n",
    "                #Enlever display flag si besoin\n",
    "                get_champ_stats_tm(year,country,player_stats_tm,display_flag=True)\n",
    "                seen.add((country,year))\n",
    "                \n",
    "                "
   ]
  },
  {
   "cell_type": "markdown",
   "metadata": {},
   "source": [
    "Sauvegarde des données"
   ]
  },
  {
   "cell_type": "code",
   "execution_count": 320,
   "metadata": {},
   "outputs": [],
   "source": [
    "pickle.dump(player_stats_tm,open('player_stats_tm.pkl','wb'))"
   ]
  },
  {
   "cell_type": "code",
   "execution_count": 323,
   "metadata": {},
   "outputs": [],
   "source": [
    "player_stats_tm_dict=player_stats_tm\n",
    "player_stats_tm=pd.DataFrame(player_stats_tm).transpose()\n",
    "player_stats_tm.to_csv('player_stats_tm.csv',index=False)"
   ]
  },
  {
   "cell_type": "code",
   "execution_count": 43,
   "metadata": {},
   "outputs": [],
   "source": [
    "for player in player_stats_tm_dict.keys():\n",
    "    player_stats_fbref.loc[player,'meta'].update({'positions':player_stats_tm_dict[player]['positions'],'market_values':player_stats_tm_dict[player]['market_values']})\n",
    "    \n",
    "player_stats_tm.to_csv('player_stats_tm.csv',index=False)"
   ]
  },
  {
   "cell_type": "markdown",
   "metadata": {},
   "source": [
    "## Extraction des historiques de transfert pour chaque équipe"
   ]
  },
  {
   "cell_type": "code",
   "execution_count": 426,
   "metadata": {},
   "outputs": [],
   "source": [
    "def get_team_transfers(url,team,season,champ,transfer_dict={}):\n",
    "    html=requests.get(url,headers=heads).text\n",
    "    time.sleep(1)\n",
    "    soup=BeautifulSoup(html,'lxml')\n",
    "    \n",
    "    \n",
    "    \n",
    "    arrivals_tab=soup.find('div',id='yw1').find('tbody').find_all('tr',{'class':['even','odd']})\n",
    "    departures_tab=soup.find('div',id='yw2').find('tbody').find_all('tr',{'class':['even','odd']})\n",
    "    arrivals,departures=[],[]\n",
    "    \n",
    "    #Utiles pour calculer le déficit/budget d'un club\n",
    "    spent,sell=0,0\n",
    "    \n",
    "    \n",
    "    for type in [arrivals_tab,departures_tab]:\n",
    "        for transfer in type:\n",
    "            links=transfer.find_all('a')\n",
    "            name,club,fee=links[0].text,links[1].get('title'),links[-1].text\n",
    "            #Différencier transfert monétaire et autres (prêts, transferts gratuits...)\n",
    "            if fee[-1] in ['k','m']:\n",
    "                fee=float(fee[fee.index('€')+1:-1])*(1000 if fee[-1]=='m' else 1)\n",
    "                if type==arrivals_tab:\n",
    "                    spent+=fee\n",
    "                else:\n",
    "                    sell+=fee\n",
    "            (arrivals if type==arrivals_tab else departures).append([name,club,fee])\n",
    "        \n",
    "    for type in [arrivals,departures]:\n",
    "        for name,club,fee in type:\n",
    "            \n",
    "            #On cherche les équivalents dans la bd fbref \n",
    "            \n",
    "            #Pour les retraités, ceux qui arrêtent le foot\n",
    "            if club== None:\n",
    "                club_fbref=None\n",
    "            else:\n",
    "                club_fbref=min([(Levenshtein.distance(club,club_f),club_f) for club_f in teams_fbref_list])[1]\n",
    "            \n",
    "            name_fbref=min([(Levenshtein.distance(name,name_f),name_f) for name_f in player_stats_fbref.index])[1]\n",
    "            type.remove([name,club,fee])\n",
    "            type.append([name_fbref,club_fbref,fee])\n",
    "    transfer_dict[champ][season][team]={'arrivals':arrivals,'departures':departures,'spent':spent,'sell':sell}\n",
    "\n",
    "    \n",
    "def get_champ_transfers(champ,season,transfer_dict={},display_flag=False):\n",
    "    # On applique simplement la fonction précédente sur un championnat entier\n",
    "    url=f'https://www.transfermarkt.com/any/startseite/wettbewerb/{champ}/plus/?saison_id={season}'\n",
    "    html=requests.get(url,headers=heads).text\n",
    "    time.sleep(1)\n",
    "    soup=BeautifulSoup(html,'lxml')\n",
    "    rows=soup.find('div',id='yw1').find('tbody').find_all('tr',{'class':[\"odd\",\"even\"]})\n",
    "    for row in rows:\n",
    "        team_id=row.find('a').get('href').split('/')[4]\n",
    "        team_url=f'https://www.transfermarkt.com/any/transfers/verein/{team_id}/saison_id/{season}'\n",
    "        team_name=row.find('a').get('title')\n",
    "        if display_flag:\n",
    "            print(team_name)\n",
    "        get_team_transfers(team_url,team_name,season,champ,transfer_dict)\n",
    "        \n",
    "        \n",
    "    \n",
    "    \n",
    "        \n",
    "    "
   ]
  },
  {
   "cell_type": "code",
   "execution_count": null,
   "metadata": {},
   "outputs": [],
   "source": [
    "transfer_history={}\n",
    "seen=set()\n",
    "for c in teams_fbref.keys():\n",
    "    transfer_history[c]=transfer_history.get(c,{})\n",
    "    for y in teams_fbref[c].keys():\n",
    "        if (c,y) not in seen:\n",
    "            print(c,y)\n",
    "            transfer_history[c][y]={}\n",
    "            get_champ_transfers(c,y,transfer_history)\n",
    "            seen.add((c,y))\n",
    "        \n",
    "            \n",
    "            \n",
    "            "
   ]
  },
  {
   "cell_type": "code",
   "execution_count": 431,
   "metadata": {},
   "outputs": [],
   "source": [
    "pickle.dump(transfer_history,open('transfer_history.pkl','wb'))"
   ]
  },
  {
   "cell_type": "code",
   "execution_count": 433,
   "metadata": {},
   "outputs": [],
   "source": [
    "#!mkdir tm_data\n",
    "!mv player_stats_tm.csv player_stats_tm.pkl transfer_history.pkl tm_data"
   ]
  },
  {
   "cell_type": "markdown",
   "metadata": {},
   "source": [
    "# Modèle"
   ]
  },
  {
   "cell_type": "markdown",
   "metadata": {},
   "source": [
    "## Input:Vectorisation des données des joueurs"
   ]
  },
  {
   "cell_type": "markdown",
   "metadata": {},
   "source": [
    "### "
   ]
  }
 ],
 "metadata": {
  "kernelspec": {
   "display_name": "Python 3",
   "language": "python",
   "name": "python3"
  },
  "language_info": {
   "codemirror_mode": {
    "name": "ipython",
    "version": 3
   },
   "file_extension": ".py",
   "mimetype": "text/x-python",
   "name": "python",
   "nbconvert_exporter": "python",
   "pygments_lexer": "ipython3",
   "version": "3.12.3"
  }
 },
 "nbformat": 4,
 "nbformat_minor": 2
}
