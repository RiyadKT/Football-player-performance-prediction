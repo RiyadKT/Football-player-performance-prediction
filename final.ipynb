{
 "cells": [
  {
   "cell_type": "markdown",
   "metadata": {},
   "source": [
    "Exécuter ce code pour importer toutes les données scrapées ci-dessous"
   ]
  },
  {
   "cell_type": "code",
   "execution_count": 64,
   "metadata": {},
   "outputs": [],
   "source": [
    "import pickle,zlib,pandas as pd\n",
    "\n",
    "player_stats_fbref=pickle.loads(zlib.decompress(open('fbref_data/compressed_player_stats_fbref_1.bin','rb').read()))\n",
    "player_stats_fbref.update(pickle.loads(zlib.decompress(open('fbref_data/compressed_player_stats_fbref_2.bin','rb').read())))\n",
    "player_stats_fbref=pd.DataFrame(player_stats_fbref).transpose()\n",
    "player_stats_fbref=player_stats_fbref.sort_index(axis=1,ascending=False)\n",
    "\n",
    "\n",
    "teams_fbref=pickle.load(open('fbref_data/teams_fbref.pkl','rb'))\n",
    "\n",
    "glossary=pd.read_csv('fbref_data/Glossaire_FBREF.csv')\n",
    "\n",
    "\n",
    "player_stats_tm=pd.DataFrame(pickle.load(open('tm_data/player_stats_tm.pkl','rb'))).transpose()\n",
    "\n",
    "\n",
    "transfer_history=pickle.load(open('tm_data/transfer_history.pkl','rb'))\n",
    "player_ratings=pd.read_csv('sf_data/player_ratings.csv',index_col=0)\n",
    "\n",
    "\n",
    "\n",
    "global_team_stats_fbref=pd.DataFrame(pickle.load(open('fbref_data/global_team_stats_fbref.pkl','rb'))).transpose()\n",
    "global_team_stats_fbref.columns=list(map(lambda s:f'{s}-{s+1}',global_team_stats_fbref.columns))\n",
    "na_global_team_stats=global_team_stats_fbref.isna()\n",
    "\n",
    "\n"
   ]
  },
  {
   "cell_type": "markdown",
   "metadata": {},
   "source": [
    "# Données FBREF"
   ]
  },
  {
   "cell_type": "markdown",
   "metadata": {},
   "source": [
    "## Équipes "
   ]
  },
  {
   "cell_type": "markdown",
   "metadata": {},
   "source": [
    "Module pour Scrapper, (on peut aussi utiliser le module standard de python ie html_parser)"
   ]
  },
  {
   "cell_type": "code",
   "execution_count": null,
   "metadata": {},
   "outputs": [],
   "source": [
    "!pip3 install lxml"
   ]
  },
  {
   "cell_type": "code",
   "execution_count": 241,
   "metadata": {},
   "outputs": [],
   "source": [
    "from bs4 import BeautifulSoup\n",
    "import pandas as pd\n",
    "import requests\n",
    "import time\n",
    "\n",
    "def get_teams_fbref(champ,season):\n",
    "    \n",
    "    #Code HTML de la page fbref de la saison season pour le championnat champ\n",
    "    url=f'https://fbref.com/en/comps/{champ}/{season}-{season+1}/{season}-{season+1}-any-Stats'\n",
    "    html = requests.get(url).text\n",
    "    soup = BeautifulSoup(html, 'lxml')\n",
    "    \n",
    "    # Trouver le classement et toutes les lignes du tableau\n",
    "    table=soup.find_all('table')[0]\n",
    "    rows=table.find_all('tr')[1:]\n",
    "    res={}\n",
    "    \n",
    "    #Faire un dicto avec toutes les équipes et leur id (utile pour après)\n",
    "    for row in rows:\n",
    "        link=row.find('a').get('href')\n",
    "        id=link.split('/')[3]\n",
    "        name=row.find('a').text\n",
    "        res[name]=id\n",
    "    return res\n",
    "\n",
    "    "
   ]
  },
  {
   "cell_type": "markdown",
   "metadata": {},
   "source": [
    "Trouver toutes les équipes pour tous les championnats sur les 10 dernières années"
   ]
  },
  {
   "cell_type": "code",
   "execution_count": null,
   "metadata": {},
   "outputs": [],
   "source": [
    "championships={'GB1':9,'IT1':11,'ES1':12,'FR1':13,'L1':20}\n",
    "years=[2024-i for i in range(10)]\n",
    "\n",
    "seasons=[f'{n}-{n+1}' for n in [2024-i for i in range(10)]]\n",
    "\n",
    "teams_fbref={}\n",
    "\n",
    "\n",
    "for c in championships.keys():\n",
    "    teams_fbref[c]={}\n",
    "    for year in years:\n",
    "        print(c,year)\n",
    "        teams_fbref[c][year]=get_teams_fbref(championships[c],year)\n",
    "        time.sleep(4)\n"
   ]
  },
  {
   "cell_type": "code",
   "execution_count": 49,
   "metadata": {},
   "outputs": [
    {
     "data": {
      "text/plain": [
       "{'Liverpool': '822bd0ba',\n",
       " 'Chelsea': 'cff3d9bb',\n",
       " 'Arsenal': '18bb7c10',\n",
       " \"Nott'ham Forest\": 'e4a775cb',\n",
       " 'Manchester City': 'b8fd03ef',\n",
       " 'Aston Villa': '8602292d',\n",
       " 'Bournemouth': '4ba7cbea',\n",
       " 'Fulham': 'fd962109',\n",
       " 'Brighton': 'd07537b9',\n",
       " 'Tottenham': '361ca564',\n",
       " 'Brentford': 'cd051869',\n",
       " 'Newcastle Utd': 'b2b47a98',\n",
       " 'Manchester Utd': '19538871',\n",
       " 'West Ham': '7c21e445',\n",
       " 'Crystal Palace': '47c64c55',\n",
       " 'Everton': 'd3fd31cc',\n",
       " 'Leicester City': 'a2d435b3',\n",
       " 'Ipswich Town': 'b74092de',\n",
       " 'Wolves': '8cec06e1',\n",
       " 'Southampton': '33c895d4'}"
      ]
     },
     "execution_count": 49,
     "metadata": {},
     "output_type": "execute_result"
    }
   ],
   "source": [
    "teams_fbref['GB1'][2024]"
   ]
  },
  {
   "cell_type": "markdown",
   "metadata": {},
   "source": [
    "Sauvegarde du dictionnaire des équipes"
   ]
  },
  {
   "cell_type": "code",
   "execution_count": 425,
   "metadata": {},
   "outputs": [],
   "source": [
    "import pickle\n",
    "with open('teams_fbref.pkl','wb') as file: \n",
    "    pickle.dump(teams_fbref,file)"
   ]
  },
  {
   "cell_type": "markdown",
   "metadata": {},
   "source": [
    "### Glossaire pour expliquer les acronymes des différentes stats"
   ]
  },
  {
   "cell_type": "markdown",
   "metadata": {},
   "source": [
    "Obligé d'utiliser Selenium car présence d'un boutton"
   ]
  },
  {
   "cell_type": "code",
   "execution_count": 1,
   "metadata": {},
   "outputs": [],
   "source": [
    "from selenium import webdriver\n",
    "from selenium.webdriver.common.by import By\n",
    "from selenium.webdriver.support.ui import WebDriverWait\n",
    "from selenium.webdriver.support import expected_conditions as EC\n",
    "import time\n",
    "\n",
    "\n",
    "\n",
    "#Sélecteurs de tous les bouttons\n",
    "\n",
    "button_paths=['#stats_shooting_dom_lg_sh','#stats_passing_dom_lg_sh', \\\n",
    "              '#stats_passing_types_dom_lg_sh','#stats_gca_dom_lg_sh', \\\n",
    "                '#stats_playing_time_dom_lg_sh','#stats_possession_dom_lg_sh', '#stats_misc_dom_lg_sh']\n",
    "\n",
    "button_paths=[button+f' > div > ul > li:nth-child({1 if button_paths.index(button)!=0 else 2}) > button' for button in button_paths]\n",
    "\n",
    "#À titre d'exemple (on aurait pu prendre un autre joueur)\n",
    "\n",
    "url=f'https://fbref.com/en/players/e06683ca/Virgil-van-Dijk'\n",
    "\n",
    "\n",
    "\n",
    "driver=webdriver.Chrome()\n",
    "driver.implicitly_wait(10)\n",
    "driver.get(url)\n",
    "\n",
    "glossaries=[]\n",
    "\n",
    "\n",
    "for button in button_paths:\n",
    "  \n",
    "  # Scroller jusqu'au boutton glossaire, le code ajustera jusqu'à trouver le boutton par lui même\n",
    "    while(True):\n",
    "      try:\n",
    "        driver.find_element(By.CSS_SELECTOR,button).click()\n",
    "        break\n",
    "      except:\n",
    "        pass\n",
    "    glossaries.append(([x.text for x in driver.find_elements(By.XPATH,'//*[@id=\"sr_glossary\"]')]))\n",
    "    "
   ]
  },
  {
   "cell_type": "code",
   "execution_count": null,
   "metadata": {},
   "outputs": [],
   "source": [
    "glossary={}\n",
    "for i in range(len(glossaries)):\n",
    "    stats=[s.split('\\n')[-1] for s in glossaries[i][0].split('--')][:-1 ]\n",
    "    explanations=[s.split('\\n')[0] for s in glossaries[i][0].split('--')][1:]\n",
    "    stats=list(map(lambda s:s.strip(),stats))\n",
    "    explanations=list(map(lambda s:s.split(':')[0].strip(),explanations))\n",
    "    glossary.update(zip(stats,explanations))\n",
    "    "
   ]
  },
  {
   "cell_type": "markdown",
   "metadata": {},
   "source": [
    "Sauvegarde du glossaire"
   ]
  },
  {
   "cell_type": "code",
   "execution_count": 40,
   "metadata": {},
   "outputs": [],
   "source": [
    "import pandas as pd \n",
    "glossary=pd.Series(glossary)\n",
    "glossary.to_csv('Glossaire_FBREF.csv')"
   ]
  },
  {
   "cell_type": "code",
   "execution_count": 389,
   "metadata": {},
   "outputs": [
    {
     "data": {
      "text/plain": [
       "Season                            Season\n",
       "Age                  Age at season start\n",
       "Country    Flag and name of the country.\n",
       "Comp                         Competition\n",
       "LgRank       Squad finish in competition\n",
       "90s                           90s Played\n",
       "Gls                                Goals\n",
       "Sh                            GCA (Shot)\n",
       "SoT                      Shots on Target\n",
       "SoT%                   Shots on Target %\n",
       "dtype: object"
      ]
     },
     "execution_count": 389,
     "metadata": {},
     "output_type": "execute_result"
    }
   ],
   "source": [
    "glossary.head(10)"
   ]
  },
  {
   "cell_type": "markdown",
   "metadata": {},
   "source": [
    "Stats des joueurs"
   ]
  },
  {
   "cell_type": "code",
   "execution_count": 71,
   "metadata": {},
   "outputs": [],
   "source": [
    "def get_player_stats_fbref(player_id):\n",
    "    \"Retourne les statistiques pour le joueur d'id player_id sous format de dictionnaire\"\n",
    "    url=f'https://fbref.com/en/players/{player_id}/'\n",
    "    html = requests.get(url).text\n",
    "    time.sleep(4)\n",
    "    soup = BeautifulSoup(html, 'lxml')\n",
    "    res={}\n",
    "    #Données sur taille poids pied fort âge et pays\n",
    "    \n",
    "    metadata=soup.find('div',id='meta')\n",
    "    try:\n",
    "        physical=list(map(lambda x:x.text,metadata.find_all('span')[1:3]))\n",
    "        physical[0],physical[1]=float(physical[0].split('cm')[0]),float(physical[1].split('kg')[0])\n",
    "    except:\n",
    "        physical=['','']\n",
    "    try:\n",
    "        foot=metadata.find('strong',string='Footed:').next_sibling.strip()\n",
    "    except:\n",
    "        foot=''\n",
    "    try:\n",
    "        age=2025-int(metadata.find('span',id='necro-birth').get('data-birth').split('-')[0])\n",
    "    except:\n",
    "        age=''\n",
    "    try:\n",
    "        country=metadata.find('a').text\n",
    "    except:\n",
    "        country=''\n",
    "    meta=physical+[foot,age,country]\n",
    "    \n",
    "    \n",
    "    \n",
    "    \n",
    "    attributes=['height','weight','preferred foot','age','country']\n",
    "    \n",
    "    res['meta']=dict(zip(attributes,meta))\n",
    "    \n",
    "    \n",
    "    \n",
    "    \n",
    "    \n",
    "    std_rows=soup.find('table',id=\"stats_standard_dom_lg\")\n",
    "    \n",
    "    try:\n",
    "        std_rows=std_rows.select('tr[id=\"stats\"]')\n",
    "    except:\n",
    "        return res\n",
    "    \n",
    "    \n",
    "    # Données sur les antécédents en club, pays, championnats\n",
    "    teams,countries,champs=[],[],[]\n",
    "    for row in std_rows:\n",
    "        teams.append(row.select_one(('td[data-stat=\"team\"]')).text)\n",
    "        countries.append((row.select_one(('td[data-stat=\"country\"]'))).text.split(' ')[-1] )\n",
    "        champs.append(row.select_one(('td[data-stat=\"comp_level\"]')).text.split('1. ')[-1])\n",
    "        \n",
    "    # Extraction des stats sur tous les aspects du jeu\n",
    "    \n",
    "    \n",
    "    #On différencie les Gardiens\n",
    "    \n",
    "    try:\n",
    "        if soup.find(string='Position:').next_element[1]=='G':\n",
    "            table_ids=[\"keeper\",\"keeper\",\"passing\",\"passing_types\",\"possession\",\"playing_time\",\"misc\"]\n",
    "        else:\n",
    "            table_ids=[\"shooting\",\"passing\",\"passing_types\",\"gca\",\"defense\",\"possession\",\"playing_time\",\"misc\"]\n",
    "    except:\n",
    "        table_ids=[\"shooting\",\"passing\",\"passing_types\",\"gca\",\"defense\",\"possession\",\"playing_time\",\"misc\"]\n",
    "    table_ids=list(map(lambda s:'stats_'+s+'_dom_lg',table_ids))\n",
    "    \n",
    "    \n",
    "    \n",
    "    for id in table_ids:\n",
    "        \n",
    "        \n",
    "        #Certains joueurs n'ont pas des tableaux pour tous les aspects du jeu\n",
    "        try:\n",
    "            table=soup.find('table',id=id)\n",
    "            header=table.find_all('tr')[1]\n",
    "            cols=[x.get('data-stat') for x in header.find_all('th')][1:]\n",
    "            for row in table.find_all('tr',id=\"stats\"):\n",
    "                year=row.select_one('th[data-stat=\"year_id\"]').text\n",
    "                if year not in res.keys():\n",
    "                    res[year]={}\n",
    "                for col in cols[:-1]:\n",
    "                    res[year][col]=row.select_one(f'td[data-stat=\"{col}\"]').text\n",
    "        except:\n",
    "            pass\n",
    "        \n",
    "    # Transformation en flottants pour les nombres\n",
    "    for y in res.keys():\n",
    "        \n",
    "        for c in res[y].keys():\n",
    "            try:\n",
    "                #le replace pour les minutes qui ont une , au lieu de .\n",
    "                res[y][c]=float(res[y][c].replace('-','.'))\n",
    "            except:\n",
    "                pass\n",
    "    \n",
    "    return res\n",
    "        \n",
    "    \n",
    "def get_team_stats_fbref(team_id,season,champ,player_dict={},display_flag=False):\n",
    "    url=f'https://fbref.com/en/squads/{team_id}/{season}-{season+1}/any'\n",
    "    html = requests.get(url).text\n",
    "    time.sleep(4)\n",
    "    soup = BeautifulSoup(html, 'lxml')\n",
    "    \n",
    "    \n",
    "    table=soup.find('table',id=f\"stats_standard_{championships[champ]}\").find('tbody')\n",
    "    for row in table.find_all('tr'):\n",
    "        name=row.find('a').text\n",
    "        if name not in player_dict.keys():\n",
    "            if display_flag:\n",
    "                print(name)\n",
    "            player_dict[name]=get_player_stats_fbref(row.find('a').get('href').split('/')[3])\n",
    "    \n",
    "    \n",
    "    \n",
    "    \n",
    "    \n",
    "    \n",
    "    \n",
    "    "
   ]
  },
  {
   "cell_type": "code",
   "execution_count": null,
   "metadata": {},
   "outputs": [],
   "source": [
    "player_stats_fbref={}\n",
    "\n",
    "#Seen pour relancer sans devoir reparcourir toutes les équipes si erreur\n",
    "seen=set()\n",
    "for country in teams_fbref.keys():\n",
    "    for year in teams_fbref[country].keys():\n",
    "        for team in teams_fbref[country][year].keys():\n",
    "            if (team,year) not in seen:\n",
    "                print(team,year)\n",
    "                get_team_stats_fbref(teams_fbref[country][year][team],year,country,player_stats_fbref)\n",
    "                seen.add((team,year))\n",
    "                \n",
    "                "
   ]
  },
  {
   "cell_type": "markdown",
   "metadata": {},
   "source": [
    "Compression pour pouvoir mettre les données sur Github"
   ]
  },
  {
   "cell_type": "code",
   "execution_count": 420,
   "metadata": {},
   "outputs": [],
   "source": [
    "import zlib\n",
    "n=len(player_stats_fbref)\n",
    "\n",
    "#Séparation en 2 pour respecter la limite des 25 Mb de Github\n",
    "player_stats_fbref_1=dict(list(player_stats_fbref.items())[int(n/2):])\n",
    "player_stats_fbref_2=dict(list(player_stats_fbref.items())[:int(n/2)])\n",
    "\n",
    "compressed_player_stats_fbref_1=zlib.compress(pickle.dumps(player_stats_fbref_1))\n",
    "compressed_player_stats_fbref_2=zlib.compress(pickle.dumps(player_stats_fbref_2))\n",
    "\n",
    "\n",
    "with open('compressed_player_stats_fbref_1.bin', 'wb') as f:\n",
    "    f.write(compressed_player_stats_fbref_1)\n",
    "with open('compressed_player_stats_fbref_2.bin', 'wb') as f:\n",
    "    f.write(compressed_player_stats_fbref_2)\n",
    "\n"
   ]
  },
  {
   "cell_type": "code",
   "execution_count": 3,
   "metadata": {},
   "outputs": [],
   "source": [
    "\n",
    "\n",
    "with open('compressed_player_stats_fbref_1.bin', 'rb') as f:\n",
    "    compressed_player_stats_fbref_1=f.read()\n",
    "with open('compressed_player_stats_fbref_2.bin', 'rb') as f:\n",
    "    compressed_player_stats_fbref_2=f.read()\n",
    "\n",
    "\n",
    "#Pour être sur que la compression s'est bien passée\n",
    "player_stats_fbref=pickle.loads(zlib.decompress(compressed_player_stats_fbref_1))\n",
    "player_stats_fbref.update(pickle.loads(zlib.decompress(compressed_player_stats_fbref_2)))"
   ]
  },
  {
   "cell_type": "code",
   "execution_count": 27,
   "metadata": {},
   "outputs": [],
   "source": [
    "# Sauvegarde au format csv\n",
    "\n",
    "player_stats_fbref=pd.DataFrame(player_stats_fbref).transpose()\n",
    "player_stats_fbref=player_stats_fbref.sort_index(axis=1,ascending=True)"
   ]
  },
  {
   "cell_type": "code",
   "execution_count": 50,
   "metadata": {},
   "outputs": [
    {
     "data": {
      "text/html": [
       "<div>\n",
       "<style scoped>\n",
       "    .dataframe tbody tr th:only-of-type {\n",
       "        vertical-align: middle;\n",
       "    }\n",
       "\n",
       "    .dataframe tbody tr th {\n",
       "        vertical-align: top;\n",
       "    }\n",
       "\n",
       "    .dataframe thead th {\n",
       "        text-align: right;\n",
       "    }\n",
       "</style>\n",
       "<table border=\"1\" class=\"dataframe\">\n",
       "  <thead>\n",
       "    <tr style=\"text-align: right;\">\n",
       "      <th></th>\n",
       "      <th>meta</th>\n",
       "      <th>2024-2025</th>\n",
       "      <th>2024</th>\n",
       "      <th>2023-2024</th>\n",
       "      <th>2023</th>\n",
       "      <th>2022-2023</th>\n",
       "      <th>2022</th>\n",
       "      <th>2021-2022</th>\n",
       "      <th>2021</th>\n",
       "      <th>2020-2021</th>\n",
       "      <th>...</th>\n",
       "      <th>1999-2000</th>\n",
       "      <th>1999</th>\n",
       "      <th>1998-1999</th>\n",
       "      <th>1998</th>\n",
       "      <th>1997-1998</th>\n",
       "      <th>1996-1997</th>\n",
       "      <th>1995-1996</th>\n",
       "      <th>1994-1995</th>\n",
       "      <th>1993-1994</th>\n",
       "      <th>1992-1993</th>\n",
       "    </tr>\n",
       "  </thead>\n",
       "  <tbody>\n",
       "    <tr>\n",
       "      <th>César Fernández</th>\n",
       "      <td>{'height': '', 'weight': '', 'preferred foot':...</td>\n",
       "      <td>NaN</td>\n",
       "      <td>NaN</td>\n",
       "      <td>NaN</td>\n",
       "      <td>NaN</td>\n",
       "      <td>NaN</td>\n",
       "      <td>NaN</td>\n",
       "      <td>NaN</td>\n",
       "      <td>NaN</td>\n",
       "      <td>NaN</td>\n",
       "      <td>...</td>\n",
       "      <td>NaN</td>\n",
       "      <td>NaN</td>\n",
       "      <td>NaN</td>\n",
       "      <td>NaN</td>\n",
       "      <td>NaN</td>\n",
       "      <td>NaN</td>\n",
       "      <td>NaN</td>\n",
       "      <td>NaN</td>\n",
       "      <td>NaN</td>\n",
       "      <td>NaN</td>\n",
       "    </tr>\n",
       "    <tr>\n",
       "      <th>Yoel Lago</th>\n",
       "      <td>{'height': '', 'weight': '', 'preferred foot':...</td>\n",
       "      <td>{'age': 20.0, 'team': 'Celta Vigo', 'country':...</td>\n",
       "      <td>NaN</td>\n",
       "      <td>{'age': 19.0, 'team': 'Celta Vigo', 'country':...</td>\n",
       "      <td>NaN</td>\n",
       "      <td>NaN</td>\n",
       "      <td>NaN</td>\n",
       "      <td>NaN</td>\n",
       "      <td>NaN</td>\n",
       "      <td>NaN</td>\n",
       "      <td>...</td>\n",
       "      <td>NaN</td>\n",
       "      <td>NaN</td>\n",
       "      <td>NaN</td>\n",
       "      <td>NaN</td>\n",
       "      <td>NaN</td>\n",
       "      <td>NaN</td>\n",
       "      <td>NaN</td>\n",
       "      <td>NaN</td>\n",
       "      <td>NaN</td>\n",
       "      <td>NaN</td>\n",
       "    </tr>\n",
       "    <tr>\n",
       "      <th>Marc Vidal</th>\n",
       "      <td>{'height': '', 'weight': '', 'preferred foot':...</td>\n",
       "      <td>{'age': 24.0, 'team': 'Celta Vigo', 'country':...</td>\n",
       "      <td>NaN</td>\n",
       "      <td>NaN</td>\n",
       "      <td>NaN</td>\n",
       "      <td>{'age': 22.0, 'team': 'FC Andorra', 'country':...</td>\n",
       "      <td>NaN</td>\n",
       "      <td>NaN</td>\n",
       "      <td>NaN</td>\n",
       "      <td>NaN</td>\n",
       "      <td>...</td>\n",
       "      <td>NaN</td>\n",
       "      <td>NaN</td>\n",
       "      <td>NaN</td>\n",
       "      <td>NaN</td>\n",
       "      <td>NaN</td>\n",
       "      <td>NaN</td>\n",
       "      <td>NaN</td>\n",
       "      <td>NaN</td>\n",
       "      <td>NaN</td>\n",
       "      <td>NaN</td>\n",
       "    </tr>\n",
       "    <tr>\n",
       "      <th>Rui Silva</th>\n",
       "      <td>{'height': 189.0, 'weight': 84.0, 'preferred f...</td>\n",
       "      <td>{'age': 30.0, 'team': 'Betis', 'country': 'es ...</td>\n",
       "      <td>NaN</td>\n",
       "      <td>{'age': 29.0, 'team': 'Betis', 'country': 'es ...</td>\n",
       "      <td>NaN</td>\n",
       "      <td>{'age': 28.0, 'team': 'Betis', 'country': 'es ...</td>\n",
       "      <td>NaN</td>\n",
       "      <td>{'age': 27.0, 'team': 'Betis', 'country': 'es ...</td>\n",
       "      <td>NaN</td>\n",
       "      <td>{'age': 26.0, 'team': 'Granada', 'country': 'e...</td>\n",
       "      <td>...</td>\n",
       "      <td>NaN</td>\n",
       "      <td>NaN</td>\n",
       "      <td>NaN</td>\n",
       "      <td>NaN</td>\n",
       "      <td>NaN</td>\n",
       "      <td>NaN</td>\n",
       "      <td>NaN</td>\n",
       "      <td>NaN</td>\n",
       "      <td>NaN</td>\n",
       "      <td>NaN</td>\n",
       "    </tr>\n",
       "    <tr>\n",
       "      <th>Abde Ezzalzouli</th>\n",
       "      <td>{'height': 177.0, 'weight': 73.0, 'preferred f...</td>\n",
       "      <td>{'age': 22.0, 'team': 'Betis', 'country': 'es ...</td>\n",
       "      <td>NaN</td>\n",
       "      <td>{'age': 21.0, 'team': 'Betis', 'country': 'es ...</td>\n",
       "      <td>NaN</td>\n",
       "      <td>{'age': 20.0, 'team': 'Osasuna', 'country': 'e...</td>\n",
       "      <td>NaN</td>\n",
       "      <td>{'age': 19.0, 'team': 'Barcelona', 'country': ...</td>\n",
       "      <td>NaN</td>\n",
       "      <td>NaN</td>\n",
       "      <td>...</td>\n",
       "      <td>NaN</td>\n",
       "      <td>NaN</td>\n",
       "      <td>NaN</td>\n",
       "      <td>NaN</td>\n",
       "      <td>NaN</td>\n",
       "      <td>NaN</td>\n",
       "      <td>NaN</td>\n",
       "      <td>NaN</td>\n",
       "      <td>NaN</td>\n",
       "      <td>NaN</td>\n",
       "    </tr>\n",
       "  </tbody>\n",
       "</table>\n",
       "<p>5 rows × 61 columns</p>\n",
       "</div>"
      ],
      "text/plain": [
       "                                                              meta  \\\n",
       "César Fernández  {'height': '', 'weight': '', 'preferred foot':...   \n",
       "Yoel Lago        {'height': '', 'weight': '', 'preferred foot':...   \n",
       "Marc Vidal       {'height': '', 'weight': '', 'preferred foot':...   \n",
       "Rui Silva        {'height': 189.0, 'weight': 84.0, 'preferred f...   \n",
       "Abde Ezzalzouli  {'height': 177.0, 'weight': 73.0, 'preferred f...   \n",
       "\n",
       "                                                         2024-2025 2024  \\\n",
       "César Fernández                                                NaN  NaN   \n",
       "Yoel Lago        {'age': 20.0, 'team': 'Celta Vigo', 'country':...  NaN   \n",
       "Marc Vidal       {'age': 24.0, 'team': 'Celta Vigo', 'country':...  NaN   \n",
       "Rui Silva        {'age': 30.0, 'team': 'Betis', 'country': 'es ...  NaN   \n",
       "Abde Ezzalzouli  {'age': 22.0, 'team': 'Betis', 'country': 'es ...  NaN   \n",
       "\n",
       "                                                         2023-2024 2023  \\\n",
       "César Fernández                                                NaN  NaN   \n",
       "Yoel Lago        {'age': 19.0, 'team': 'Celta Vigo', 'country':...  NaN   \n",
       "Marc Vidal                                                     NaN  NaN   \n",
       "Rui Silva        {'age': 29.0, 'team': 'Betis', 'country': 'es ...  NaN   \n",
       "Abde Ezzalzouli  {'age': 21.0, 'team': 'Betis', 'country': 'es ...  NaN   \n",
       "\n",
       "                                                         2022-2023 2022  \\\n",
       "César Fernández                                                NaN  NaN   \n",
       "Yoel Lago                                                      NaN  NaN   \n",
       "Marc Vidal       {'age': 22.0, 'team': 'FC Andorra', 'country':...  NaN   \n",
       "Rui Silva        {'age': 28.0, 'team': 'Betis', 'country': 'es ...  NaN   \n",
       "Abde Ezzalzouli  {'age': 20.0, 'team': 'Osasuna', 'country': 'e...  NaN   \n",
       "\n",
       "                                                         2021-2022 2021  \\\n",
       "César Fernández                                                NaN  NaN   \n",
       "Yoel Lago                                                      NaN  NaN   \n",
       "Marc Vidal                                                     NaN  NaN   \n",
       "Rui Silva        {'age': 27.0, 'team': 'Betis', 'country': 'es ...  NaN   \n",
       "Abde Ezzalzouli  {'age': 19.0, 'team': 'Barcelona', 'country': ...  NaN   \n",
       "\n",
       "                                                         2020-2021  ...  \\\n",
       "César Fernández                                                NaN  ...   \n",
       "Yoel Lago                                                      NaN  ...   \n",
       "Marc Vidal                                                     NaN  ...   \n",
       "Rui Silva        {'age': 26.0, 'team': 'Granada', 'country': 'e...  ...   \n",
       "Abde Ezzalzouli                                                NaN  ...   \n",
       "\n",
       "                1999-2000 1999 1998-1999 1998 1997-1998 1996-1997 1995-1996  \\\n",
       "César Fernández       NaN  NaN       NaN  NaN       NaN       NaN       NaN   \n",
       "Yoel Lago             NaN  NaN       NaN  NaN       NaN       NaN       NaN   \n",
       "Marc Vidal            NaN  NaN       NaN  NaN       NaN       NaN       NaN   \n",
       "Rui Silva             NaN  NaN       NaN  NaN       NaN       NaN       NaN   \n",
       "Abde Ezzalzouli       NaN  NaN       NaN  NaN       NaN       NaN       NaN   \n",
       "\n",
       "                1994-1995 1993-1994 1992-1993  \n",
       "César Fernández       NaN       NaN       NaN  \n",
       "Yoel Lago             NaN       NaN       NaN  \n",
       "Marc Vidal            NaN       NaN       NaN  \n",
       "Rui Silva             NaN       NaN       NaN  \n",
       "Abde Ezzalzouli       NaN       NaN       NaN  \n",
       "\n",
       "[5 rows x 61 columns]"
      ]
     },
     "execution_count": 50,
     "metadata": {},
     "output_type": "execute_result"
    }
   ],
   "source": [
    "player_stats_fbref.head()"
   ]
  },
  {
   "cell_type": "code",
   "execution_count": 58,
   "metadata": {},
   "outputs": [
    {
     "data": {
      "text/plain": [
       "[('age', 32.0),\n",
       " ('team', 'Liverpool'),\n",
       " ('country', 'eng ENG'),\n",
       " ('comp_level', '1. Premier League'),\n",
       " ('lg_finish', '1st'),\n",
       " ('minutes_90s', 13.6),\n",
       " ('goals', 13.0),\n",
       " ('shots', 43.0),\n",
       " ('shots_on_target', 23.0),\n",
       " ('shots_on_target_pct', 53.5)]"
      ]
     },
     "execution_count": 58,
     "metadata": {},
     "output_type": "execute_result"
    }
   ],
   "source": [
    "player_stats_fbref"
   ]
  },
  {
   "cell_type": "markdown",
   "metadata": {},
   "source": [
    "## Aggrégation pour avoir des données globales sur les équipes"
   ]
  },
  {
   "cell_type": "markdown",
   "metadata": {},
   "source": [
    "### Afin de faire cela, on ne va pas scrapper les données pour chaque équipe, cela nous demanderais de patienter une nouvelle heure. On va plutôt savoir quelle fonction d'aggrégation on doit appliquer sur l'ensemble des joueurs sur une entrée pour chaque statistique (ie max,min, somme...) en prenant une entrée particulière, ici Liverpool en 2024-2025, et on va utiliser cette fonction d'aggrégation pour toutes les entrées (ie équipe/saison) afin de créer une base de données avec les données des équipes."
   ]
  },
  {
   "cell_type": "markdown",
   "metadata": {},
   "source": [
    "### Extraction des statistiques globales de Liverpool en 2024-2025 (pour 'fit')"
   ]
  },
  {
   "cell_type": "code",
   "execution_count": 49,
   "metadata": {},
   "outputs": [
    {
     "data": {
      "text/plain": [
       "{'age': 27.5,\n",
       " 'gk_games': 18.0,\n",
       " 'gk_games_starts': 18.0,\n",
       " 'gk_minutes': 1620.0,\n",
       " 'minutes_90s': 18.0,\n",
       " 'gk_goals_against': 18.0,\n",
       " 'gk_goals_against_per90': 1.0,\n",
       " 'gk_shots_on_target_against': 51.0,\n",
       " 'gk_saves': 34.0,\n",
       " 'gk_save_pct': 64.7,\n",
       " 'gk_wins': 12.0,\n",
       " 'gk_ties': 4.0,\n",
       " 'gk_losses': 2.0,\n",
       " 'gk_clean_sheets': 8.0,\n",
       " 'gk_clean_sheets_pct': 44.4,\n",
       " 'gk_pens_att': 0.0,\n",
       " 'gk_pens_allowed': 0.0,\n",
       " 'gk_pens_saved': 0.0,\n",
       " 'gk_pens_missed': 0.0,\n",
       " 'gk_free_kick_goals_against': 0.0,\n",
       " 'gk_corner_kick_goals_against': 2.0,\n",
       " 'gk_own_goals_against': 1.0,\n",
       " 'gk_psxg': 15.5,\n",
       " 'gk_psnpxg_per_shot_on_target_against': 0.31,\n",
       " 'gk_psxg_net': -1.5,\n",
       " 'gk_psxg_net_per90': -0.08,\n",
       " 'gk_passes_completed_launched': 37.0,\n",
       " 'gk_passes_launched': 125.0,\n",
       " 'gk_passes_pct_launched': 29.6,\n",
       " 'gk_passes': 537.0,\n",
       " 'gk_passes_throws': 98.0,\n",
       " 'gk_pct_passes_launched': 17.5,\n",
       " 'gk_goal_kicks': 134.0,\n",
       " 'gk_pct_goal_kicks_launched': 23.1,\n",
       " 'gk_goal_kick_length_avg': 28.9,\n",
       " 'gk_crosses': 202.0,\n",
       " 'gk_crosses_stopped': 11.0,\n",
       " 'gk_crosses_stopped_pct': 5.4,\n",
       " 'gk_def_actions_outside_pen_area': 14.0,\n",
       " 'gk_def_actions_outside_pen_area_per90': 0.78,\n",
       " 'goals': 41.0,\n",
       " 'shots': 265.0,\n",
       " 'shots_on_target': 104.0,\n",
       " 'shots_on_target_pct': 39.2,\n",
       " 'shots_per90': 14.72,\n",
       " 'shots_on_target_per90': 5.78,\n",
       " 'goals_per_shot': 0.13,\n",
       " 'goals_per_shot_on_target': 0.34,\n",
       " 'average_shot_distance': 18.0,\n",
       " 'shots_free_kicks': 6.0,\n",
       " 'pens_made': 6.0,\n",
       " 'pens_att': 7.0,\n",
       " 'xg': 32.4,\n",
       " 'npxg': 27.3,\n",
       " 'npxg_per_shot': 0.1,\n",
       " 'xg_net': 8.6,\n",
       " 'npxg_net': 7.7,\n",
       " 'passes_completed': 10258.0,\n",
       " 'passes': 11645.0,\n",
       " 'passes_pct': 88.1,\n",
       " 'passes_total_distance': 174900.0,\n",
       " 'passes_progressive_distance': 54197.0,\n",
       " 'passes_completed_short': 4818.0,\n",
       " 'passes_short': 5173.0,\n",
       " 'passes_pct_short': 93.1,\n",
       " 'passes_completed_medium': 4320.0,\n",
       " 'passes_medium': 4683.0,\n",
       " 'passes_pct_medium': 92.2,\n",
       " 'passes_completed_long': 863.0,\n",
       " 'passes_long': 1278.0,\n",
       " 'passes_pct_long': 67.5,\n",
       " 'assists': 31.0,\n",
       " 'xg_assist': 23.2,\n",
       " 'pass_xa': 20.8,\n",
       " 'xg_assist_net': 7.8,\n",
       " 'assisted_shots': 218.0,\n",
       " 'passes_into_final_third': 831.0,\n",
       " 'passes_into_penalty_area': 156.0,\n",
       " 'crosses_into_penalty_area': 13.0,\n",
       " 'progressive_passes': 910.0,\n",
       " 'passes_live': 10748.0,\n",
       " 'passes_dead': 858.0,\n",
       " 'passes_free_kicks': 274.0,\n",
       " 'through_balls': 33.0,\n",
       " 'passes_switches': 112.0,\n",
       " 'crosses': 243.0,\n",
       " 'throw_ins': 318.0,\n",
       " 'corner_kicks': 97.0,\n",
       " 'corner_kicks_in': 40.0,\n",
       " 'corner_kicks_out': 34.0,\n",
       " 'corner_kicks_straight': 1.0,\n",
       " 'passes_offsides': 39.0,\n",
       " 'passes_blocked': 158.0,\n",
       " 'sca': 494.0,\n",
       " 'sca_per90': 27.44,\n",
       " 'sca_passes_live': 363.0,\n",
       " 'sca_passes_dead': 40.0,\n",
       " 'sca_take_ons': 38.0,\n",
       " 'sca_shots': 27.0,\n",
       " 'sca_fouled': 16.0,\n",
       " 'sca_defense': 10.0,\n",
       " 'gca': 72.0,\n",
       " 'gca_per90': 4.0,\n",
       " 'gca_passes_live': 49.0,\n",
       " 'gca_passes_dead': 5.0,\n",
       " 'gca_take_ons': 8.0,\n",
       " 'gca_shots': 5.0,\n",
       " 'gca_fouled': 4.0,\n",
       " 'gca_defense': 1.0,\n",
       " 'tackles': 279.0,\n",
       " 'tackles_won': 172.0,\n",
       " 'tackles_def_3rd': 145.0,\n",
       " 'tackles_mid_3rd': 95.0,\n",
       " 'tackles_att_3rd': 39.0,\n",
       " 'challenge_tackles': 126.0,\n",
       " 'challenges': 225.0,\n",
       " 'challenge_tackles_pct': 56.0,\n",
       " 'challenges_lost': 99.0,\n",
       " 'blocks': 173.0,\n",
       " 'blocked_shots': 50.0,\n",
       " 'blocked_passes': 123.0,\n",
       " 'interceptions': 155.0,\n",
       " 'tackles_interceptions': 434.0,\n",
       " 'clearances': 283.0,\n",
       " 'errors': 8.0,\n",
       " 'touches': 13537.0,\n",
       " 'touches_def_pen_area': 1213.0,\n",
       " 'touches_def_3rd': 4013.0,\n",
       " 'touches_mid_3rd': 6163.0,\n",
       " 'touches_att_3rd': 3465.0,\n",
       " 'touches_att_pen_area': 520.0,\n",
       " 'touches_live_ball': 13530.0,\n",
       " 'take_ons': 421.0,\n",
       " 'take_ons_won': 195.0,\n",
       " 'take_ons_won_pct': 46.3,\n",
       " 'take_ons_tackled': 183.0,\n",
       " 'take_ons_tackled_pct': 43.5,\n",
       " 'carries': 8345.0,\n",
       " 'carries_distance': 43711.0,\n",
       " 'carries_progressive_distance': 23393.0,\n",
       " 'progressive_carries': 439.0,\n",
       " 'carries_into_final_third': 304.0,\n",
       " 'carries_into_penalty_area': 173.0,\n",
       " 'miscontrols': 251.0,\n",
       " 'dispossessed': 145.0,\n",
       " 'passes_received': 10180.0,\n",
       " 'progressive_passes_received': 901.0,\n",
       " 'games': 18.0,\n",
       " 'minutes': 1620.0,\n",
       " 'minutes_per_game': 90.0,\n",
       " 'minutes_pct': 100.0,\n",
       " 'games_starts': 198.0,\n",
       " 'minutes_per_start': 83.0,\n",
       " 'games_complete': 127.0,\n",
       " 'games_subs': 70.0,\n",
       " 'minutes_per_sub': 18.0,\n",
       " 'unused_subs': 96.0,\n",
       " 'points_per_game': 2.22,\n",
       " 'on_goals_for': 41.0,\n",
       " 'on_goals_against': 18.0,\n",
       " 'plus_minus': 23.0,\n",
       " 'plus_minus_per90': 1.28,\n",
       " 'on_xg_for': 32.4,\n",
       " 'on_xg_against': 17.5,\n",
       " 'xg_plus_minus': 14.9,\n",
       " 'xg_plus_minus_per90': 0.83,\n",
       " 'cards_yellow': 28.0,\n",
       " 'cards_red': 1.0,\n",
       " 'cards_yellow_red': 0.0,\n",
       " 'fouls': 163.0,\n",
       " 'fouled': 253.0,\n",
       " 'offsides': 39.0,\n",
       " 'pens_won': 5.0,\n",
       " 'pens_conceded': 0.0,\n",
       " 'own_goals': 1.0,\n",
       " 'ball_recoveries': 735.0,\n",
       " 'aerials_won': 143.0,\n",
       " 'aerials_lost': 119.0,\n",
       " 'aerials_won_pct': 54.6}"
      ]
     },
     "execution_count": 49,
     "metadata": {},
     "output_type": "execute_result"
    }
   ],
   "source": [
    "\n",
    "\n",
    "def get_global_team_stats_fbref(team_id,season):\n",
    "    \"Remplis aggregation_dict avec les différentes statistiques et la fonction d'aggrégation pour chaque\"\n",
    "    html=requests.get(f'https://fbref.com/en/squads/{team_id}/{season}/team-Stats').text\n",
    "    soup=BeautifulSoup(html,'lxml')\n",
    "    time.sleep(4)\n",
    "    \n",
    "    #Tableaux avec des statistiques détaillées\n",
    "    tables=soup.find_all('table')[2:-2]\n",
    "\n",
    "\n",
    "    res={}\n",
    "\n",
    "    for table in tables:\n",
    "        \n",
    "        \n",
    "        \n",
    "        # Ligne d'aggrégation (Squad total)\n",
    "        row=table.find('tfoot').find('tr')\n",
    "        \n",
    "        for col in row.find_all('td'):\n",
    "            stat_name=col.get('data-stat')\n",
    "            \n",
    "            # Celles qui sont disponibles\n",
    "            \n",
    "            try:\n",
    "                res[stat_name]=float(col.text.replace(',',''))\n",
    "            except:\n",
    "                continue\n",
    "            \n",
    "    \n",
    "            \n",
    "            \n",
    "    return res\n",
    "            \n",
    "            \n",
    "get_global_team_stats_fbref('53a2f082','2024-2025')     \n",
    "        \n",
    "    \n"
   ]
  },
  {
   "cell_type": "code",
   "execution_count": 51,
   "metadata": {},
   "outputs": [
    {
     "name": "stderr",
     "output_type": "stream",
     "text": [
      "100%|██████████| 976/976 [1:44:54<00:00,  6.45s/it]\n"
     ]
    }
   ],
   "source": [
    "global_team_stats_fbref={}\n",
    "\n",
    "seen=set()\n",
    "for champ,year,team in tqdm([(champ,year,team) for champ in teams_fbref.keys() for year in teams_fbref[champ].keys() for team in teams_fbref[champ][year].keys()]):\n",
    "            if (champ,year,team) not in seen:\n",
    "                if team not in global_team_stats_fbref.keys():\n",
    "                    global_team_stats_fbref[team]={}\n",
    "                    \n",
    "                d=get_global_team_stats_fbref(teams_fbref[champ][year][team],f'{year}-{year+1}')\n",
    "                if d=={}:\n",
    "                    print(f'No result for : {team} at year {year}')\n",
    "                global_team_stats_fbref[team][year]=d\n",
    "                seen.add((champ,year,team))\n",
    "                \n",
    "                "
   ]
  },
  {
   "cell_type": "markdown",
   "metadata": {},
   "source": [
    "#### Sauvegarde au cas-où si fausse manipulation"
   ]
  },
  {
   "cell_type": "code",
   "execution_count": 57,
   "metadata": {},
   "outputs": [],
   "source": [
    "pickle.dump(global_team_stats_fbref,open('global_team_stats_fbref.pkl','wb'))"
   ]
  },
  {
   "cell_type": "code",
   "execution_count": 81,
   "metadata": {},
   "outputs": [
    {
     "data": {
      "text/html": [
       "<div>\n",
       "<style scoped>\n",
       "    .dataframe tbody tr th:only-of-type {\n",
       "        vertical-align: middle;\n",
       "    }\n",
       "\n",
       "    .dataframe tbody tr th {\n",
       "        vertical-align: top;\n",
       "    }\n",
       "\n",
       "    .dataframe thead th {\n",
       "        text-align: right;\n",
       "    }\n",
       "</style>\n",
       "<table border=\"1\" class=\"dataframe\">\n",
       "  <thead>\n",
       "    <tr style=\"text-align: right;\">\n",
       "      <th></th>\n",
       "      <th>2024-2025</th>\n",
       "      <th>2023-2024</th>\n",
       "      <th>2022-2023</th>\n",
       "      <th>2021-2022</th>\n",
       "      <th>2020-2021</th>\n",
       "      <th>2019-2020</th>\n",
       "      <th>2018-2019</th>\n",
       "      <th>2017-2018</th>\n",
       "      <th>2016-2017</th>\n",
       "      <th>2015-2016</th>\n",
       "    </tr>\n",
       "  </thead>\n",
       "  <tbody>\n",
       "    <tr>\n",
       "      <th>Liverpool</th>\n",
       "      <td>{'age': 27.5, 'gk_games': 17.0, 'gk_games_star...</td>\n",
       "      <td>{'age': 26.3, 'gk_games': 38.0, 'gk_games_star...</td>\n",
       "      <td>{'age': 27.4, 'gk_games': 38.0, 'gk_games_star...</td>\n",
       "      <td>{'age': 27.7, 'gk_games': 38.0, 'gk_games_star...</td>\n",
       "      <td>{'age': 26.8, 'gk_games': 38.0, 'gk_games_star...</td>\n",
       "      <td>{'age': 26.6, 'gk_games': 38.0, 'gk_games_star...</td>\n",
       "      <td>{'age': 26.1, 'gk_games': 38.0, 'gk_games_star...</td>\n",
       "      <td>{'age': 25.6, 'gk_games': 38.0, 'gk_games_star...</td>\n",
       "      <td>{'age': 26.1, 'gk_games': 38.0, 'gk_games_star...</td>\n",
       "      <td>{'age': 25.2, 'gk_games': 38.0, 'gk_games_star...</td>\n",
       "    </tr>\n",
       "    <tr>\n",
       "      <th>Chelsea</th>\n",
       "      <td>{'age': 24.0, 'gk_games': 18.0, 'gk_games_star...</td>\n",
       "      <td>{'age': 24.2, 'gk_games': 38.0, 'gk_games_star...</td>\n",
       "      <td>{'age': 26.3, 'gk_games': 38.0, 'gk_games_star...</td>\n",
       "      <td>{'age': 27.4, 'gk_games': 38.0, 'gk_games_star...</td>\n",
       "      <td>{'age': 26.0, 'gk_games': 38.0, 'gk_games_star...</td>\n",
       "      <td>{'age': 25.5, 'gk_games': 38.0, 'gk_games_star...</td>\n",
       "      <td>{'age': 27.3, 'gk_games': 38.0, 'gk_games_star...</td>\n",
       "      <td>{'age': 26.7, 'gk_games': 38.0, 'gk_games_star...</td>\n",
       "      <td>{'age': 27.2, 'gk_games': 38.0, 'gk_games_star...</td>\n",
       "      <td>{'age': 26.8, 'gk_games': 38.0, 'gk_games_star...</td>\n",
       "    </tr>\n",
       "    <tr>\n",
       "      <th>Arsenal</th>\n",
       "      <td>{'age': 26.4, 'gk_games': 17.0, 'gk_games_star...</td>\n",
       "      <td>{'age': 25.0, 'gk_games': 38.0, 'gk_games_star...</td>\n",
       "      <td>{'age': 24.7, 'gk_games': 38.0, 'gk_games_star...</td>\n",
       "      <td>{'age': 24.4, 'gk_games': 38.0, 'gk_games_star...</td>\n",
       "      <td>{'age': 25.9, 'gk_games': 38.0, 'gk_games_star...</td>\n",
       "      <td>{'age': 25.8, 'gk_games': 38.0, 'gk_games_star...</td>\n",
       "      <td>{'age': 26.7, 'gk_games': 38.0, 'gk_games_star...</td>\n",
       "      <td>{'age': 26.8, 'gk_games': 38.0, 'gk_games_star...</td>\n",
       "      <td>{'age': 26.9, 'gk_games': 38.0, 'gk_games_star...</td>\n",
       "      <td>{'age': 27.0, 'gk_games': 38.0, 'gk_games_star...</td>\n",
       "    </tr>\n",
       "    <tr>\n",
       "      <th>Nott'ham Forest</th>\n",
       "      <td>{'age': 26.9, 'gk_games': 18.0, 'gk_games_star...</td>\n",
       "      <td>{'age': 25.7, 'gk_games': 38.0, 'gk_games_star...</td>\n",
       "      <td>{'age': 26.5, 'gk_games': 38.0, 'gk_games_star...</td>\n",
       "      <td>NaN</td>\n",
       "      <td>NaN</td>\n",
       "      <td>NaN</td>\n",
       "      <td>NaN</td>\n",
       "      <td>NaN</td>\n",
       "      <td>NaN</td>\n",
       "      <td>NaN</td>\n",
       "    </tr>\n",
       "    <tr>\n",
       "      <th>Manchester City</th>\n",
       "      <td>{'age': 27.7, 'gk_games': 18.0, 'gk_games_star...</td>\n",
       "      <td>{'age': 26.6, 'gk_games': 38.0, 'gk_games_star...</td>\n",
       "      <td>{'age': 27.2, 'gk_games': 38.0, 'gk_games_star...</td>\n",
       "      <td>{'age': 27.0, 'gk_games': 38.0, 'gk_games_star...</td>\n",
       "      <td>{'age': 26.1, 'gk_games': 38.0, 'gk_games_star...</td>\n",
       "      <td>{'age': 26.9, 'gk_games': 38.0, 'gk_games_star...</td>\n",
       "      <td>{'age': 26.7, 'gk_games': 38.0, 'gk_games_star...</td>\n",
       "      <td>{'age': 26.4, 'gk_games': 38.0, 'gk_games_star...</td>\n",
       "      <td>{'age': 28.5, 'gk_games': 38.0, 'gk_games_star...</td>\n",
       "      <td>{'age': 28.3, 'gk_games': 38.0, 'gk_games_star...</td>\n",
       "    </tr>\n",
       "  </tbody>\n",
       "</table>\n",
       "</div>"
      ],
      "text/plain": [
       "                                                         2024-2025  \\\n",
       "Liverpool        {'age': 27.5, 'gk_games': 17.0, 'gk_games_star...   \n",
       "Chelsea          {'age': 24.0, 'gk_games': 18.0, 'gk_games_star...   \n",
       "Arsenal          {'age': 26.4, 'gk_games': 17.0, 'gk_games_star...   \n",
       "Nott'ham Forest  {'age': 26.9, 'gk_games': 18.0, 'gk_games_star...   \n",
       "Manchester City  {'age': 27.7, 'gk_games': 18.0, 'gk_games_star...   \n",
       "\n",
       "                                                         2023-2024  \\\n",
       "Liverpool        {'age': 26.3, 'gk_games': 38.0, 'gk_games_star...   \n",
       "Chelsea          {'age': 24.2, 'gk_games': 38.0, 'gk_games_star...   \n",
       "Arsenal          {'age': 25.0, 'gk_games': 38.0, 'gk_games_star...   \n",
       "Nott'ham Forest  {'age': 25.7, 'gk_games': 38.0, 'gk_games_star...   \n",
       "Manchester City  {'age': 26.6, 'gk_games': 38.0, 'gk_games_star...   \n",
       "\n",
       "                                                         2022-2023  \\\n",
       "Liverpool        {'age': 27.4, 'gk_games': 38.0, 'gk_games_star...   \n",
       "Chelsea          {'age': 26.3, 'gk_games': 38.0, 'gk_games_star...   \n",
       "Arsenal          {'age': 24.7, 'gk_games': 38.0, 'gk_games_star...   \n",
       "Nott'ham Forest  {'age': 26.5, 'gk_games': 38.0, 'gk_games_star...   \n",
       "Manchester City  {'age': 27.2, 'gk_games': 38.0, 'gk_games_star...   \n",
       "\n",
       "                                                         2021-2022  \\\n",
       "Liverpool        {'age': 27.7, 'gk_games': 38.0, 'gk_games_star...   \n",
       "Chelsea          {'age': 27.4, 'gk_games': 38.0, 'gk_games_star...   \n",
       "Arsenal          {'age': 24.4, 'gk_games': 38.0, 'gk_games_star...   \n",
       "Nott'ham Forest                                                NaN   \n",
       "Manchester City  {'age': 27.0, 'gk_games': 38.0, 'gk_games_star...   \n",
       "\n",
       "                                                         2020-2021  \\\n",
       "Liverpool        {'age': 26.8, 'gk_games': 38.0, 'gk_games_star...   \n",
       "Chelsea          {'age': 26.0, 'gk_games': 38.0, 'gk_games_star...   \n",
       "Arsenal          {'age': 25.9, 'gk_games': 38.0, 'gk_games_star...   \n",
       "Nott'ham Forest                                                NaN   \n",
       "Manchester City  {'age': 26.1, 'gk_games': 38.0, 'gk_games_star...   \n",
       "\n",
       "                                                         2019-2020  \\\n",
       "Liverpool        {'age': 26.6, 'gk_games': 38.0, 'gk_games_star...   \n",
       "Chelsea          {'age': 25.5, 'gk_games': 38.0, 'gk_games_star...   \n",
       "Arsenal          {'age': 25.8, 'gk_games': 38.0, 'gk_games_star...   \n",
       "Nott'ham Forest                                                NaN   \n",
       "Manchester City  {'age': 26.9, 'gk_games': 38.0, 'gk_games_star...   \n",
       "\n",
       "                                                         2018-2019  \\\n",
       "Liverpool        {'age': 26.1, 'gk_games': 38.0, 'gk_games_star...   \n",
       "Chelsea          {'age': 27.3, 'gk_games': 38.0, 'gk_games_star...   \n",
       "Arsenal          {'age': 26.7, 'gk_games': 38.0, 'gk_games_star...   \n",
       "Nott'ham Forest                                                NaN   \n",
       "Manchester City  {'age': 26.7, 'gk_games': 38.0, 'gk_games_star...   \n",
       "\n",
       "                                                         2017-2018  \\\n",
       "Liverpool        {'age': 25.6, 'gk_games': 38.0, 'gk_games_star...   \n",
       "Chelsea          {'age': 26.7, 'gk_games': 38.0, 'gk_games_star...   \n",
       "Arsenal          {'age': 26.8, 'gk_games': 38.0, 'gk_games_star...   \n",
       "Nott'ham Forest                                                NaN   \n",
       "Manchester City  {'age': 26.4, 'gk_games': 38.0, 'gk_games_star...   \n",
       "\n",
       "                                                         2016-2017  \\\n",
       "Liverpool        {'age': 26.1, 'gk_games': 38.0, 'gk_games_star...   \n",
       "Chelsea          {'age': 27.2, 'gk_games': 38.0, 'gk_games_star...   \n",
       "Arsenal          {'age': 26.9, 'gk_games': 38.0, 'gk_games_star...   \n",
       "Nott'ham Forest                                                NaN   \n",
       "Manchester City  {'age': 28.5, 'gk_games': 38.0, 'gk_games_star...   \n",
       "\n",
       "                                                         2015-2016  \n",
       "Liverpool        {'age': 25.2, 'gk_games': 38.0, 'gk_games_star...  \n",
       "Chelsea          {'age': 26.8, 'gk_games': 38.0, 'gk_games_star...  \n",
       "Arsenal          {'age': 27.0, 'gk_games': 38.0, 'gk_games_star...  \n",
       "Nott'ham Forest                                                NaN  \n",
       "Manchester City  {'age': 28.3, 'gk_games': 38.0, 'gk_games_star...  "
      ]
     },
     "execution_count": 81,
     "metadata": {},
     "output_type": "execute_result"
    }
   ],
   "source": [
    "global_team_stats_fbref=pd.DataFrame(global_team_stats_fbref)\n",
    "global_team_stats_fbref=global_team_stats_fbref.transpose()\n",
    "global_team_stats_fbref.columns=list(map(lambda s:f'{s}-{s+1}',global_team_stats_fbref.columns))\n",
    "global_team_stats_fbref.head()"
   ]
  },
  {
   "cell_type": "markdown",
<<<<<<< HEAD
=======
   "metadata": {},
   "source": [
    "#### Quelques statistiques du Real Madrid lors de la saison 2017-2018"
   ]
  },
  {
   "cell_type": "code",
   "execution_count": 76,
   "metadata": {},
   "outputs": [
    {
     "data": {
      "text/plain": [
       "[('progressive_passes_received', 2370.0),\n",
       " ('tackles_won', 470.0),\n",
       " ('games_starts', 418.0),\n",
       " ('gca_passes_live', 121.0),\n",
       " ('passes_into_penalty_area', 512.0),\n",
       " ('points_per_game', 2.0),\n",
       " ('passes_dead', 1895.0),\n",
       " ('gk_passes_completed_launched', 105.0),\n",
       " ('fouls', 436.0),\n",
       " ('passes_progressive_distance', 120201.0)]"
      ]
     },
     "execution_count": 76,
     "metadata": {},
     "output_type": "execute_result"
    }
   ],
   "source": [
    "import random\n",
    "random.sample(list(global_team_stats_fbref.loc['Real Madrid','2017-2018'].items()),k=10)"
   ]
  },
  {
   "cell_type": "code",
   "execution_count": 77,
>>>>>>> c38dd065c40799742b66c88d91f5443f9ed21ed7
   "metadata": {},
   "source": [
<<<<<<< HEAD
    "#### Dataframe pour vérifier rapidement si une équipe a un dictionnaire d'information pour une certaine année"
=======
    "global_team_stats_fbref.to_csv('global_team_stats_fbref.csv')\n",
    "!mv global_team_stats_fbref.csv fbref_data"
>>>>>>> c38dd065c40799742b66c88d91f5443f9ed21ed7
   ]
  },
  {
   "cell_type": "code",
   "execution_count": 82,
   "metadata": {},
   "outputs": [
    {
     "data": {
      "text/html": [
       "<div>\n",
       "<style scoped>\n",
       "    .dataframe tbody tr th:only-of-type {\n",
       "        vertical-align: middle;\n",
       "    }\n",
       "\n",
       "    .dataframe tbody tr th {\n",
       "        vertical-align: top;\n",
       "    }\n",
       "\n",
       "    .dataframe thead th {\n",
       "        text-align: right;\n",
       "    }\n",
       "</style>\n",
       "<table border=\"1\" class=\"dataframe\">\n",
       "  <thead>\n",
       "    <tr style=\"text-align: right;\">\n",
       "      <th></th>\n",
       "      <th>2024-2025</th>\n",
       "      <th>2023-2024</th>\n",
       "      <th>2022-2023</th>\n",
       "      <th>2021-2022</th>\n",
       "      <th>2020-2021</th>\n",
       "      <th>2019-2020</th>\n",
       "      <th>2018-2019</th>\n",
       "      <th>2017-2018</th>\n",
       "      <th>2016-2017</th>\n",
       "      <th>2015-2016</th>\n",
       "    </tr>\n",
       "  </thead>\n",
       "  <tbody>\n",
       "    <tr>\n",
       "      <th>Liverpool</th>\n",
       "      <td>False</td>\n",
       "      <td>False</td>\n",
       "      <td>False</td>\n",
       "      <td>False</td>\n",
       "      <td>False</td>\n",
       "      <td>False</td>\n",
       "      <td>False</td>\n",
       "      <td>False</td>\n",
       "      <td>False</td>\n",
       "      <td>False</td>\n",
       "    </tr>\n",
       "    <tr>\n",
       "      <th>Chelsea</th>\n",
       "      <td>False</td>\n",
       "      <td>False</td>\n",
       "      <td>False</td>\n",
       "      <td>False</td>\n",
       "      <td>False</td>\n",
       "      <td>False</td>\n",
       "      <td>False</td>\n",
       "      <td>False</td>\n",
       "      <td>False</td>\n",
       "      <td>False</td>\n",
       "    </tr>\n",
       "    <tr>\n",
       "      <th>Arsenal</th>\n",
       "      <td>False</td>\n",
       "      <td>False</td>\n",
       "      <td>False</td>\n",
       "      <td>False</td>\n",
       "      <td>False</td>\n",
       "      <td>False</td>\n",
       "      <td>False</td>\n",
       "      <td>False</td>\n",
       "      <td>False</td>\n",
       "      <td>False</td>\n",
       "    </tr>\n",
       "    <tr>\n",
       "      <th>Nott'ham Forest</th>\n",
       "      <td>False</td>\n",
       "      <td>False</td>\n",
       "      <td>False</td>\n",
       "      <td>True</td>\n",
       "      <td>True</td>\n",
       "      <td>True</td>\n",
       "      <td>True</td>\n",
       "      <td>True</td>\n",
       "      <td>True</td>\n",
       "      <td>True</td>\n",
       "    </tr>\n",
       "    <tr>\n",
       "      <th>Manchester City</th>\n",
       "      <td>False</td>\n",
       "      <td>False</td>\n",
       "      <td>False</td>\n",
       "      <td>False</td>\n",
       "      <td>False</td>\n",
       "      <td>False</td>\n",
       "      <td>False</td>\n",
       "      <td>False</td>\n",
       "      <td>False</td>\n",
       "      <td>False</td>\n",
       "    </tr>\n",
       "  </tbody>\n",
       "</table>\n",
       "</div>"
      ],
      "text/plain": [
       "                 2024-2025  2023-2024  2022-2023  2021-2022  2020-2021  \\\n",
       "Liverpool            False      False      False      False      False   \n",
       "Chelsea              False      False      False      False      False   \n",
       "Arsenal              False      False      False      False      False   \n",
       "Nott'ham Forest      False      False      False       True       True   \n",
       "Manchester City      False      False      False      False      False   \n",
       "\n",
       "                 2019-2020  2018-2019  2017-2018  2016-2017  2015-2016  \n",
       "Liverpool            False      False      False      False      False  \n",
       "Chelsea              False      False      False      False      False  \n",
       "Arsenal              False      False      False      False      False  \n",
       "Nott'ham Forest       True       True       True       True       True  \n",
       "Manchester City      False      False      False      False      False  "
      ]
     },
     "execution_count": 82,
     "metadata": {},
     "output_type": "execute_result"
    }
   ],
   "source": [
    "na_global_team_stats=global_team_stats_fbref.isna()\n",
    "na_global_team_stats.head()"
   ]
  },
  {
   "cell_type": "markdown",
   "metadata": {},
   "source": [
    "#### Quelques statistiques du Real Madrid lors de la saison 2017-2018"
   ]
  },
  {
   "cell_type": "code",
   "execution_count": 76,
   "metadata": {},
   "outputs": [
    {
     "data": {
      "text/plain": [
       "[('progressive_passes_received', 2370.0),\n",
       " ('tackles_won', 470.0),\n",
       " ('games_starts', 418.0),\n",
       " ('gca_passes_live', 121.0),\n",
       " ('passes_into_penalty_area', 512.0),\n",
       " ('points_per_game', 2.0),\n",
       " ('passes_dead', 1895.0),\n",
       " ('gk_passes_completed_launched', 105.0),\n",
       " ('fouls', 436.0),\n",
       " ('passes_progressive_distance', 120201.0)]"
      ]
     },
     "execution_count": 76,
     "metadata": {},
     "output_type": "execute_result"
    }
   ],
   "source": [
    "import random\n",
    "random.sample(list(global_team_stats_fbref.loc['Real Madrid','2017-2018'].items()),k=10)"
   ]
  },
  {
   "cell_type": "markdown",
   "metadata": {},
   "source": [
    "#### Données fbref stockées dans un dossier propre"
   ]
  },
  {
   "cell_type": "code",
   "execution_count": 37,
   "metadata": {},
   "outputs": [],
   "source": [
<<<<<<< HEAD
    "!mkdir fbref_data\n",
    "!mv compressed_player_stats_fbref_1.bin compressed_player_stats_fbref_2.bin Glossaire FBREF Glossaire_FBREF.csv global_team_stats_fbref.pkl teams_fbref.pkl fbref_data\n"
=======
    "#!mkdir fbref_data\n",
    "#!mv compressed_player_stats_fbref_1.bin compressed_player_stats_fbref_2.bin Glossaire FBREF Glossaire_FBREF.csv teams_fbref.pkl fbref_data\n",
    "!mv "
>>>>>>> c38dd065c40799742b66c88d91f5443f9ed21ed7
   ]
  },
  {
   "cell_type": "markdown",
   "metadata": {},
   "source": [
    "# Données Transfermarkt"
   ]
  },
  {
   "cell_type": "markdown",
   "metadata": {},
   "source": [
    "## Données sur les joueurs"
   ]
  },
  {
   "cell_type": "markdown",
   "metadata": {},
   "source": [
    "###  (On récupère évolution de la valeur marchande + postes)"
   ]
  },
  {
   "cell_type": "code",
   "execution_count": null,
   "metadata": {},
   "outputs": [],
   "source": [
    "#Si nécessaire\n",
    "!pip3 install rapidfuzz"
   ]
  },
  {
   "cell_type": "markdown",
   "metadata": {},
   "source": [
    "Pour rapidement vérifier si un joueur a ses statistiques définies pour une certaine saison"
   ]
  },
  {
   "cell_type": "code",
   "execution_count": 93,
   "metadata": {},
   "outputs": [],
   "source": [
    "na_player_stats_fbref=player_stats_fbref.isna()"
   ]
  },
  {
   "cell_type": "markdown",
   "metadata": {},
   "source": [
    "Pour accéder rapidement à la liste des équipes"
   ]
  },
  {
   "cell_type": "code",
   "execution_count": 21,
   "metadata": {},
   "outputs": [],
   "source": [
    "\n",
    "teams_fbref_list=[]\n",
    "for k,v in teams_fbref.items():\n",
    "    for kk,vv in v.items():\n",
    "        teams_fbref_list+=(list(vv.keys()))"
   ]
  },
  {
   "cell_type": "code",
   "execution_count": 50,
   "metadata": {},
   "outputs": [
    {
     "data": {
      "text/plain": [
       "['Liverpool',\n",
       " 'Chelsea',\n",
       " 'Arsenal',\n",
       " \"Nott'ham Forest\",\n",
       " 'Manchester City',\n",
       " 'Aston Villa',\n",
       " 'Bournemouth',\n",
       " 'Fulham',\n",
       " 'Brighton',\n",
       " 'Tottenham']"
      ]
     },
     "execution_count": 50,
     "metadata": {},
     "output_type": "execute_result"
    }
   ],
   "source": [
    "teams_fbref_list[:10]"
   ]
  },
  {
   "cell_type": "code",
   "execution_count": 312,
   "metadata": {},
   "outputs": [],
   "source": [
    "import time\n",
    "from rapidfuzz.distance import Levenshtein\n",
    "#Header pout ne pas se faire bloquer l'accès par le site\n",
    "heads = {'User-Agent' : 'Mozilla/5.0 (Windows NT 6.1; Win64; x64) AppleWebKit/537.36 (KHTML, like Gecko) Chrome/70.0.3538.110 Safari/537.36'}\n",
    "\n",
    "def get_player_stats_tm(player_id):\n",
    "    \"Retourne un dictionnaire avec la valeur marchande et les postes joués par le joueur d'id player_id\"\n",
    "    \n",
    "    url=f'https://www.transfermarkt.com/konstantinos-tsimikas/profil/spieler/{player_id}'\n",
    "    \n",
    "    \n",
    "    html = requests.get(url,headers=heads).text\n",
    "    time.sleep(1)\n",
    "    soup = BeautifulSoup(html, 'lxml')\n",
    "    \n",
    "    # Extraction des positions\n",
    "    position_box=soup.find('div',class_='detail-position__box')\n",
    "    try:\n",
    "        positions=position_box.find_all('dd',class_='detail-position__position')\n",
    "        positions=[position.text for position in positions]\n",
    "    except:\n",
    "        positions=[]\n",
    "    \n",
    "    \n",
    "    \n",
    "    # Extraction de l'histoirique de la valeur marchande (accessible à travers un endpoint)\n",
    "    \n",
    "    \n",
    "    value_graph=requests.get(f'https://transfermarkt.com/ceapi/marketValueDevelopment/graph/{player_id}',headers=heads)\n",
    "    time.sleep(1)\n",
    "    value_graph=value_graph.json()\n",
    "    value_graph_values=[d['mw'] for d in value_graph['list']]\n",
    "    \n",
    "    value_graph_values=[float(v[1:-1])*(1000 if v[-1]=='m' else 1) if v!='-' else 0. for v in value_graph_values ]\n",
    "    value_graph_years=[d['datum_mw'].split(' ')[-1] for d in value_graph['list']]\n",
    "    value_graph={value_graph_years[i]:value_graph_values[i] for i in range(len(value_graph_years))}\n",
    "    return {'positions':positions,'market_values':value_graph}\n",
    "    \n",
    "\n",
    "\n",
    "\n",
    "def get_team_stats_tm(url,season,team,player_dict={},display_flag=False):\n",
    "    \"Remplis player_dict avec les statisiques obtenues avec get_players_stats_tm de tous les joueurs de team lors de season\"\n",
    "    \n",
    "    html=requests.get(url,headers=heads).text\n",
    "    time.sleep(1)\n",
    "    soup=BeautifulSoup(html,'lxml')\n",
    "    \n",
    "    \n",
    "    \n",
    "    \n",
    "    table=soup.find('div',id='yw1')\n",
    "    table=table.find('tbody')\n",
    "    rows=table.select('td.hauptlink:not(.rechts)')\n",
    "    player_list=[]\n",
    "    \n",
    "    # Pour trouver l'équipe du joueur correspondante dans la bd de fbref\n",
    "    team_tm=min([(Levenshtein.distance(team,team_fbref),team_fbref) for team_fbref in teams_fbref_list])[1]\n",
    "    \n",
    "    \n",
    "    #Extraction de la bd des joueurs de l'équipe team_tm lors de season dans fbref\n",
    "    \n",
    "    # Pas forcément nécessaire mais pour considérer les cas où la saison est au format année ( en Amérique du Sud nottament) ou année - année + 1 (cas usuel en Europe)\n",
    "    team_fbref_1=[player for player in player_stats_fbref.index if not(na_player_stats_fbref.loc[player,str(season)]) and player_stats_fbref.loc[player,str(season)]['team']==team_tm]\n",
    "    team_fbref_2=[player for player in player_stats_fbref.index if not(na_player_stats_fbref.loc[player,str(season)+'-'+str(season+1)]) and player_stats_fbref.loc[player,str(season)+'-'+str(season+1)]['team']==team_tm]\n",
    "    if len(team_fbref_2)>=len(team_fbref_1):\n",
    "        season=str(season)+'-'+str(season+1)\n",
    "        team_fbref=team_fbref_2\n",
    "    else:\n",
    "        season=str(season) \n",
    "        team_fbref=team_fbref_1\n",
    "        \n",
    "    # Pour chaque joueur on trouve le joueur correspondant dans la bd fbref\n",
    "    for row in rows:\n",
    "        name_tm=row.find('a').text.strip()\n",
    "        score,name=min([(Levenshtein.distance(player,name_tm),player) for player in team_fbref])\n",
    "        player_list.append((score,name,row.find('a').get('href')))\n",
    "    \n",
    "    \n",
    "    # On priorise les joueurs qui ont probablement un match dans la bd fbref\n",
    "    # (si la distance de Levenshtein est grande pour tous les joueurs à priori ce joueur n'est pas dans la bd fbref)\n",
    "    player_list=sorted(player_list)\n",
    "    player_list=player_list[:len(team_fbref)]\n",
    "    for score,name,link in player_list:\n",
    "        \n",
    "        #Pour éviter les redondances\n",
    "        if name not in player_dict.keys():\n",
    "            if display_flag:\n",
    "                print(name)\n",
    "            player_dict[name]=get_player_stats_tm(link.split('/')[-1])\n",
    "    \n",
    "    \n",
    "        \n",
    "    \n",
    "\n",
    "\n",
    "\n",
    "def get_champ_stats_tm(season,champ,player_dict={},display_flag=False):\n",
    "    \"Remplis player_dict les statistiques obtenues lors de get_team_stats_tm pour toutes les équipes de champ lors de season\"\n",
    "    url=f'https://www.transfermarkt.com/premier-league/startseite/wettbewerb/{champ}/plus/?saison_id={season}'\n",
    "    html=requests.get(url,headers=heads).text\n",
    "    time.sleep(1)\n",
    "    soup=BeautifulSoup(html,'lxml')\n",
    "    table=soup.find('div',id='yw1')\n",
    "    \n",
    "    table=table.find('tbody')\n",
    "    rows=table.find_all('tr')\n",
    "    for row in rows:\n",
    "        team_url=row.find('a').get('href')\n",
    "        team=row.find('a').get('title')\n",
    "        if display_flag:\n",
    "            print(team)\n",
    "        get_team_stats_tm('https://www.transfermarkt.com'+team_url,season,team,player_dict,False)\n",
    "            \n",
    "\n",
    "        \n",
    "        \n",
    "        \n",
    "        \n",
    "        \n",
    "        \n",
    "        \n",
    "        \n"
   ]
  },
  {
   "cell_type": "code",
   "execution_count": null,
   "metadata": {},
   "outputs": [],
   "source": [
    "#player_stats_tm={}\n",
    "#Seen pour relancer sans devoir reparcourir toutes les équipes si erreur\n",
    "#seen=set()\n",
    "for country in championships.keys():\n",
    "    for year in years:\n",
    "            if (country,year) not in seen:\n",
    "                print(country,year)\n",
    "                #Enlever display flag si besoin\n",
    "                get_champ_stats_tm(year,country,player_stats_tm,display_flag=True)\n",
    "                seen.add((country,year))\n",
    "                \n",
    "                "
   ]
  },
  {
   "cell_type": "markdown",
   "metadata": {},
   "source": [
    "Sauvegarde des données"
   ]
  },
  {
   "cell_type": "code",
   "execution_count": 320,
   "metadata": {},
   "outputs": [],
   "source": [
    "pickle.dump(player_stats_tm,open('player_stats_tm.pkl','wb'))"
   ]
  },
  {
   "cell_type": "code",
   "execution_count": 323,
   "metadata": {},
   "outputs": [],
   "source": [
    "player_stats_tm_dict=player_stats_tm\n",
    "player_stats_tm=pd.DataFrame(player_stats_tm).transpose()\n",
    "player_stats_tm.to_csv('player_stats_tm.csv',index=False)"
   ]
  },
  {
   "cell_type": "code",
   "execution_count": 212,
   "metadata": {},
   "outputs": [],
   "source": [
    "for player in player_stats_tm_dict.keys():\n",
    "    player_stats_fbref.loc[player,'meta'].update({'positions':player_stats_tm_dict[player]['positions'],'market_values':player_stats_tm_dict[player]['market_values']})\n",
    "    \n",
    "player_stats_tm.to_csv('player_stats_tm.csv',index=False)"
   ]
  },
  {
   "cell_type": "code",
   "execution_count": 59,
   "metadata": {},
   "outputs": [
    {
     "data": {
      "text/html": [
       "<div>\n",
       "<style scoped>\n",
       "    .dataframe tbody tr th:only-of-type {\n",
       "        vertical-align: middle;\n",
       "    }\n",
       "\n",
       "    .dataframe tbody tr th {\n",
       "        vertical-align: top;\n",
       "    }\n",
       "\n",
       "    .dataframe thead th {\n",
       "        text-align: right;\n",
       "    }\n",
       "</style>\n",
       "<table border=\"1\" class=\"dataframe\">\n",
       "  <thead>\n",
       "    <tr style=\"text-align: right;\">\n",
       "      <th></th>\n",
       "      <th>positions</th>\n",
       "      <th>market_values</th>\n",
       "    </tr>\n",
       "    <tr>\n",
       "      <th>Unnamed: 0</th>\n",
       "      <th></th>\n",
       "      <th></th>\n",
       "    </tr>\n",
       "  </thead>\n",
       "  <tbody>\n",
       "    <tr>\n",
       "      <th>Bernardo Silva</th>\n",
       "      <td>['Attacking Midfield', 'Right Winger', 'Centra...</td>\n",
       "      <td>{'2013': 600.0, '2014': 2500.0, '2015': 15000....</td>\n",
       "    </tr>\n",
       "    <tr>\n",
       "      <th>Ederson</th>\n",
       "      <td>['Goalkeeper']</td>\n",
       "      <td>{'2013': 300.0, '2014': 900.0, '2015': 1200.0,...</td>\n",
       "    </tr>\n",
       "    <tr>\n",
       "      <th>Erling Haaland</th>\n",
       "      <td>['Centre-Forward']</td>\n",
       "      <td>{'2016': 200.0, '2017': 300.0, '2018': 5000.0,...</td>\n",
       "    </tr>\n",
       "    <tr>\n",
       "      <th>Jack Grealish</th>\n",
       "      <td>['Left Winger', 'Attacking Midfield', 'Left Mi...</td>\n",
       "      <td>{'2013': 250.0, '2014': 1000.0, '2015': 4500.0...</td>\n",
       "    </tr>\n",
       "    <tr>\n",
       "      <th>John Stones</th>\n",
       "      <td>['Centre-Back', 'Right-Back', 'Defensive Midfi...</td>\n",
       "      <td>{'2011': 50.0, '2012': 100.0, '2013': 3500.0, ...</td>\n",
       "    </tr>\n",
       "  </tbody>\n",
       "</table>\n",
       "</div>"
      ],
      "text/plain": [
       "                                                        positions  \\\n",
       "Unnamed: 0                                                          \n",
       "Bernardo Silva  ['Attacking Midfield', 'Right Winger', 'Centra...   \n",
       "Ederson                                            ['Goalkeeper']   \n",
       "Erling Haaland                                 ['Centre-Forward']   \n",
       "Jack Grealish   ['Left Winger', 'Attacking Midfield', 'Left Mi...   \n",
       "John Stones     ['Centre-Back', 'Right-Back', 'Defensive Midfi...   \n",
       "\n",
       "                                                    market_values  \n",
       "Unnamed: 0                                                         \n",
       "Bernardo Silva  {'2013': 600.0, '2014': 2500.0, '2015': 15000....  \n",
       "Ederson         {'2013': 300.0, '2014': 900.0, '2015': 1200.0,...  \n",
       "Erling Haaland  {'2016': 200.0, '2017': 300.0, '2018': 5000.0,...  \n",
       "Jack Grealish   {'2013': 250.0, '2014': 1000.0, '2015': 4500.0...  \n",
       "John Stones     {'2011': 50.0, '2012': 100.0, '2013': 3500.0, ...  "
      ]
     },
     "execution_count": 59,
     "metadata": {},
     "output_type": "execute_result"
    }
   ],
   "source": [
    "player_stats_tm.head()"
   ]
  },
  {
   "cell_type": "markdown",
   "metadata": {},
   "source": [
    "## Extraction des historiques de transfert pour chaque équipe"
   ]
  },
  {
   "cell_type": "code",
   "execution_count": 426,
   "metadata": {},
   "outputs": [],
   "source": [
    "def get_team_transfers(url,team,season,champ,transfer_dict={}):\n",
    "    \"Remplis transfer_dict avec tous les transferts entrants et sortants pour team lors de season\"\n",
    "    html=requests.get(url,headers=heads).text\n",
    "    time.sleep(1)\n",
    "    soup=BeautifulSoup(html,'lxml')\n",
    "    \n",
    "    \n",
    "    \n",
    "    arrivals_tab=soup.find('div',id='yw1').find('tbody').find_all('tr',{'class':['even','odd']})\n",
    "    departures_tab=soup.find('div',id='yw2').find('tbody').find_all('tr',{'class':['even','odd']})\n",
    "    arrivals,departures=[],[]\n",
    "    \n",
    "    #Utiles pour calculer le déficit/budget d'un club\n",
    "    spent,sell=0,0\n",
    "    \n",
    "    \n",
    "    for type in [arrivals_tab,departures_tab]:\n",
    "        for transfer in type:\n",
    "            links=transfer.find_all('a')\n",
    "            name,club,fee=links[0].text,links[1].get('title'),links[-1].text\n",
    "            #Différencier transfert monétaire et autres (prêts, transferts gratuits...)\n",
    "            if fee[-1] in ['k','m']:\n",
    "                fee=float(fee[fee.index('€')+1:-1])*(1000 if fee[-1]=='m' else 1)\n",
    "                if type==arrivals_tab:\n",
    "                    spent+=fee\n",
    "                else:\n",
    "                    sell+=fee\n",
    "            (arrivals if type==arrivals_tab else departures).append([name,club,fee])\n",
    "        \n",
    "    for type in [arrivals,departures]:\n",
    "        for name,club,fee in type:\n",
    "            \n",
    "            #On cherche les équivalents dans la bd fbref \n",
    "            \n",
    "            #Pour les retraités, ceux qui arrêtent le foot\n",
    "            if club== None:\n",
    "                club_fbref=None\n",
    "            else:\n",
    "                club_fbref=min([(Levenshtein.distance(club,club_f),club_f) for club_f in teams_fbref_list])[1]\n",
    "            \n",
    "            name_fbref=min([(Levenshtein.distance(name,name_f),name_f) for name_f in player_stats_fbref.index])[1]\n",
    "            type.remove([name,club,fee])\n",
    "            type.append([name_fbref,club_fbref,fee])\n",
    "    transfer_dict[champ][season][team]={'arrivals':arrivals,'departures':departures,'spent':spent,'sell':sell}\n",
    "\n",
    "    \n",
    "def get_champ_transfers(champ,season,transfer_dict={},display_flag=False):\n",
    "    \"Remplis transfer_dict avec tous les transferts entrants et sortants de champ lors de season\"\n",
    "    # On applique simplement la fonction précédente sur un championnat entier\n",
    "    url=f'https://www.transfermarkt.com/any/startseite/wettbewerb/{champ}/plus/?saison_id={season}'\n",
    "    html=requests.get(url,headers=heads).text\n",
    "    time.sleep(1)\n",
    "    soup=BeautifulSoup(html,'lxml')\n",
    "    rows=soup.find('div',id='yw1').find('tbody').find_all('tr',{'class':[\"odd\",\"even\"]})\n",
    "    for row in rows:\n",
    "        team_id=row.find('a').get('href').split('/')[4]\n",
    "        team_url=f'https://www.transfermarkt.com/any/transfers/verein/{team_id}/saison_id/{season}'\n",
    "        team_name=row.find('a').get('title')\n",
    "        if display_flag:\n",
    "            print(team_name)\n",
    "        get_team_transfers(team_url,team_name,season,champ,transfer_dict)\n",
    "        \n",
    "        \n",
    "    \n",
    "    \n",
    "        \n",
    "    "
   ]
  },
  {
   "cell_type": "code",
   "execution_count": null,
   "metadata": {},
   "outputs": [],
   "source": [
    "transfer_history={}\n",
    "seen=set()\n",
    "for c in teams_fbref.keys():\n",
    "    transfer_history[c]=transfer_history.get(c,{})\n",
    "    for y in teams_fbref[c].keys():\n",
    "        if (c,y) not in seen:\n",
    "            print(c,y)\n",
    "            transfer_history[c][y]={}\n",
    "            get_champ_transfers(c,y,transfer_history)\n",
    "            seen.add((c,y))\n",
    "        \n",
    "            \n",
    "            \n",
    "            "
   ]
  },
  {
   "cell_type": "code",
   "execution_count": 431,
   "metadata": {},
   "outputs": [],
   "source": [
    "pickle.dump(transfer_history,open('transfer_history.pkl','wb'))"
   ]
  },
  {
   "cell_type": "markdown",
   "metadata": {},
   "source": [
    "on peut vérifier sur transfermrkt que cela correspond bien"
   ]
  },
  {
   "cell_type": "code",
   "execution_count": 65,
   "metadata": {},
   "outputs": [
    {
     "data": {
      "text/plain": [
       "{'arrivals': [['Federico Chiesa', 'Juventus FC', 12000.0],\n",
       "  ['Vitezslav Jaros', 'Liverpool FC U21', '-'],\n",
       "  ['Sepp van den Berg', '1.FSV Mainz 05', 'End of loanJun 30, 2024'],\n",
       "  ['Calvin Ramsay', 'Wigan Athletic', 'End of loanMay 31, 2025'],\n",
       "  ['Rhys Williams', 'Morecambe FC', 'End of loanJan 1, 2025'],\n",
       "  ['Marcelo Pitaluga', 'Livingston FC', 'End of loanMay 31, 2025'],\n",
       "  ['Tyler Morton', 'Liverpool', '-'],\n",
       "  ['Ben Doak', 'Middlesbrough', 'End of loanMay 31, 2025'],\n",
       "  ['Marcelo Pitaluga', 'St. Pauli', 'End of loanJun 30, 2024'],\n",
       "  ['Fabio Carvalho', 'Hull City', 'End of loanJun 30, 2024'],\n",
       "  ['Giorgi Mamardashvili', 'Valencia', 30000.0],\n",
       "  ['Matt Phillips', 'Dortmund', 'End of loanMay 31, 2025']],\n",
       " 'departures': [['Fábio Carvalho', 'Brentford FC', 23400.0],\n",
       "  ['Giorgi Mamardashvili', 'Valencia CF', 'loan transfer'],\n",
       "  ['Ben Doak', 'Middlesbrough FC', 'loan transfer'],\n",
       "  ['Nat Phillips', 'Derby County', 'loan transfer'],\n",
       "  ['Marcelo Pitaluga', 'Livingston FC', 'loan transfer'],\n",
       "  ['Joel Matip', None, '-'],\n",
       "  ['Adrián', 'Real Madrid', 'free transfer'],\n",
       "  ['Calvin Ramsay', 'Heidenheim', 'loan transfer'],\n",
       "  ['Thiago Alcántara', None, '-'],\n",
       "  ['Stefan Bajcetic', 'Augsburg', 'loan transfer'],\n",
       "  ['Sepp van den Berg', 'Brentford', 23600.0],\n",
       "  ['Rhys Williams', 'Bordeaux', 'loan transfer']],\n",
       " 'spent': 42000.0,\n",
       " 'sell': 47000.0}"
      ]
     },
     "execution_count": 65,
     "metadata": {},
     "output_type": "execute_result"
    }
   ],
   "source": [
    "transfer_history['GB1'][2024]['Liverpool FC']"
   ]
  },
  {
   "cell_type": "code",
   "execution_count": null,
   "metadata": {},
   "outputs": [],
   "source": [
    "def get_global_team_stats_tm()"
   ]
  },
  {
   "cell_type": "code",
   "execution_count": 433,
   "metadata": {},
   "outputs": [],
   "source": [
    "#!mkdir tm_data\n",
    "!mv player_stats_tm.csv player_stats_tm.pkl transfer_history.pkl tm_data"
   ]
  },
  {
   "cell_type": "markdown",
   "metadata": {},
   "source": [
    "## Importation des évaluations de joueurs sur SofaScore"
   ]
  },
  {
   "cell_type": "markdown",
   "metadata": {},
   "source": [
    "#### À travers toute cette section on fait appel à l'api de sofascore accessible directement en entrant l'url avec les bonnes options dans la barre de recherche"
   ]
  },
  {
   "cell_type": "markdown",
   "metadata": {},
   "source": [
    "#### Extraction des ids utiles pour utiliser l'API"
   ]
  },
  {
   "cell_type": "code",
   "execution_count": 94,
   "metadata": {},
   "outputs": [
    {
     "data": {
      "text/plain": [
       "{'Premier League': 17,\n",
       " 'LaLiga': 8,\n",
       " 'Bundesliga': 35,\n",
       " 'Serie A': 23,\n",
       " 'Ligue 1': 34}"
      ]
     },
     "execution_count": 94,
     "metadata": {},
     "output_type": "execute_result"
    }
   ],
   "source": [
    "\n",
    "\n",
    "\n",
    "BASE_URL = \"https://api.sofascore.com/api/v1\"\n",
    "\n",
    "def get_champs_sf(language=\"en\", sport=\"football\"):\n",
    "    \"Obtenir la liste des ids des différents championnats de football sur sofascore\"\n",
    "    url = f\"{BASE_URL}/config/unique-tournaments/{language}/{sport}\"\n",
    "    response = requests.get(url)\n",
    "    response.raise_for_status()\n",
    "    return response.json()[\"uniqueTournaments\"]\n",
    "\n",
    "def get_seasons_sf(tournament_id):\n",
    "    \"Obtenir la liste des ids des différentes saisons pour les différents championnats sur sofascore\"\n",
    "    url = f\"{BASE_URL}/unique-tournament/{tournament_id}/seasons\"\n",
    "    response = requests.get(url)\n",
    "    response.raise_for_status()\n",
    "    return response.json()[\"seasons\"]\n",
    "\n",
    "\n",
    "\n",
    "championships = get_champs_sf()\n",
    "\n",
    "championships=dict([(champ['name'],champ['id']) for champ in championships if champ['name'] in ['Premier League','Ligue 1','LaLiga','Serie A','Bundesliga']])\n",
    "\n",
    "championships\n"
   ]
  },
  {
   "cell_type": "code",
   "execution_count": 79,
   "metadata": {},
   "outputs": [],
   "source": [
    "seasons_sf={}\n",
    "for c in championships.keys():\n",
    "    seasons_sf[c]={}\n",
    "    seasons_tab=get_seasons_sf(championships[c])\n",
    "    for i in range(10):\n",
    "        seasons_sf[c][2024-i]=seasons_tab[i]['id']"
   ]
  },
  {
   "cell_type": "code",
   "execution_count": 81,
   "metadata": {},
   "outputs": [
    {
     "data": {
      "text/plain": [
       "{2024: 61627,\n",
       " 2023: 52186,\n",
       " 2022: 41886,\n",
       " 2021: 37036,\n",
       " 2020: 29415,\n",
       " 2019: 23776,\n",
       " 2018: 17359,\n",
       " 2017: 13380,\n",
       " 2016: 11733,\n",
       " 2015: 10356}"
      ]
     },
     "execution_count": 81,
     "metadata": {},
     "output_type": "execute_result"
    }
   ],
   "source": [
    "seasons_sf['Premier League']"
   ]
  },
  {
   "cell_type": "code",
   "execution_count": 90,
   "metadata": {},
   "outputs": [],
   "source": [
    "\n",
    "def get_team_ids_sf(tournament_id,season_id):\n",
    "    \"Obtenir la liste des ids de toutes les équipes participant au tournoi d'id tournament_id durant la saison dont l'id est season_id\"\n",
    "    url = f\"https://api.sofascore.com/api/v1/unique-tournament/{tournament_id}/season/{season_id}/teams\"\n",
    "    response = requests.get(url)\n",
    "    response.raise_for_status()  \n",
    "    data = response.json()\n",
    "    return dict([(team['name'],team['id']) for team in data['teams']])"
   ]
  },
  {
   "cell_type": "code",
   "execution_count": null,
   "metadata": {},
   "outputs": [],
   "source": [
    "team_ids_sf={}\n",
    "for c in seasons_sf.keys():\n",
    "    team_ids_sf[c]={}\n",
    "    for y in seasons_sf[c].keys():\n",
    "        team_ids_sf[c][y]=get_team_ids_sf(championships[c],seasons_sf[c][y])\n",
    "\n"
   ]
  },
  {
   "cell_type": "code",
   "execution_count": 109,
   "metadata": {},
   "outputs": [
    {
     "data": {
      "text/plain": [
       "{'Arsenal': 42,\n",
       " 'Leicester City': 31,\n",
       " 'Brighton & Hove Albion': 30,\n",
       " 'Leeds United': 34,\n",
       " 'Brentford': 50,\n",
       " 'Aston Villa': 40,\n",
       " 'Bournemouth': 60,\n",
       " 'Nottingham Forest': 14,\n",
       " 'Wolverhampton': 3,\n",
       " 'Manchester City': 17,\n",
       " 'Fulham': 43,\n",
       " 'West Ham United': 37,\n",
       " 'Crystal Palace': 7,\n",
       " 'Tottenham Hotspur': 33,\n",
       " 'Manchester United': 35,\n",
       " 'Southampton': 45,\n",
       " 'Chelsea': 38,\n",
       " 'Everton': 48,\n",
       " 'Newcastle United': 39,\n",
       " 'Liverpool': 44}"
      ]
     },
     "execution_count": 109,
     "metadata": {},
     "output_type": "execute_result"
    }
   ],
   "source": [
    "team_ids_sf['Premier League'][2022]"
   ]
  },
  {
   "cell_type": "markdown",
   "metadata": {},
   "source": [
    "#### Extraction des évaluations de tous les joueurs"
   ]
  },
  {
   "cell_type": "code",
   "execution_count": 156,
   "metadata": {},
   "outputs": [],
   "source": [
    "def get_team_ratings(team_id,season_id,champ_id):\n",
    "    \"Renvoie un dictionnaire avec comme clés les joueurs de l'équipe associée à team_id et comme valeurs leur notes pour la saison spécifiée\"\n",
    "    url=f'https://www.sofascore.com/api/v1/team/{team_id}/unique-tournament/{champ_id}/season/{season_id}/top-players/overall'  \n",
    "    response=requests.get(url)\n",
    "    data=response.json()\n",
    "    try:\n",
    "        data=data['topPlayers']['rating']\n",
    "    except:\n",
    "        print(f'No data for {team_id}')\n",
    "        return {}\n",
    "    \n",
    "    ratings={}\n",
    "    for entry in data:\n",
    "        name=entry['player']['name']\n",
    "        name=min([(Levenshtein.distance(name,name_f),name_f) for name_f in player_stats_fbref.index])[1]\n",
    "        ratings[name]=entry['statistics']['rating']\n",
    "    return ratings\n",
    "    \n",
    "\n"
   ]
  },
  {
   "cell_type": "code",
   "execution_count": null,
   "metadata": {},
   "outputs": [],
   "source": [
    "#décommenter pour pouvoir exécuter le code\n",
    "\n",
    "#player_ratings={}\n",
    "#seen=set()\n",
    "for c,c_id in championships.items():\n",
    "    for y,y_id in seasons[c].items():\n",
    "        for team,team_id in team_ids_sf[c][y].items():\n",
    "            if (c,y,team) not in seen:\n",
    "                print(y,team)\n",
    "                for player,rating in get_team_ratings(team_id,y_id,c_id).items():\n",
    "                    if player in player_ratings.keys():\n",
    "                        player_ratings[player][y]=rating\n",
    "                    else:\n",
    "                        player_ratings[player]={y:rating}\n",
    "                seen.add((c,y,team))\n",
    "                    "
   ]
  },
  {
   "cell_type": "code",
   "execution_count": 103,
   "metadata": {},
   "outputs": [
    {
     "data": {
      "text/plain": [
       "{'Hellas Verona': 2701,\n",
       " 'Genoa': 2713,\n",
       " 'Empoli': 2705,\n",
       " 'Torino': 2696,\n",
       " 'Venezia': 2688,\n",
       " 'Milan': 2692,\n",
       " 'Juventus': 2687,\n",
       " 'Udinese': 2695,\n",
       " 'Lazio': 2699,\n",
       " 'Inter': 2697,\n",
       " 'Bologna': 2685,\n",
       " 'Fiorentina': 2693,\n",
       " 'Napoli': 2714,\n",
       " 'Monza': 2729,\n",
       " 'Parma': 2690,\n",
       " 'Atalanta': 2686,\n",
       " 'Como': 2704,\n",
       " 'Roma': 2702,\n",
       " 'Cagliari': 2719,\n",
       " 'Lecce': 2689}"
      ]
     },
     "execution_count": 103,
     "metadata": {},
     "output_type": "execute_result"
    }
   ],
   "source": [
    "team_ids_sf['Serie A'][2024]"
   ]
  },
  {
   "cell_type": "code",
   "execution_count": 595,
   "metadata": {},
   "outputs": [],
   "source": [
    "player_ratings=pd.DataFrame(player_ratings).transpose()\n",
    "player_ratings.columns=list(map(lambda n:f'{n}-{n+1}',player_ratings.columns))\n",
    "player_ratings.to_csv('player_ratings.csv')"
   ]
  },
  {
   "cell_type": "code",
   "execution_count": 594,
   "metadata": {},
   "outputs": [
    {
     "data": {
      "text/html": [
       "<div>\n",
       "<style scoped>\n",
       "    .dataframe tbody tr th:only-of-type {\n",
       "        vertical-align: middle;\n",
       "    }\n",
       "\n",
       "    .dataframe tbody tr th {\n",
       "        vertical-align: top;\n",
       "    }\n",
       "\n",
       "    .dataframe thead th {\n",
       "        text-align: right;\n",
       "    }\n",
       "</style>\n",
       "<table border=\"1\" class=\"dataframe\">\n",
       "  <thead>\n",
       "    <tr style=\"text-align: right;\">\n",
       "      <th></th>\n",
       "      <th>2024-2025</th>\n",
       "      <th>2023-2024</th>\n",
       "      <th>2022-2023</th>\n",
       "      <th>2021-2022</th>\n",
       "      <th>2020-2021</th>\n",
       "      <th>2019-2020</th>\n",
       "      <th>2018-2019</th>\n",
       "      <th>2017-2018</th>\n",
       "      <th>2016-2017</th>\n",
       "      <th>2015-2016</th>\n",
       "    </tr>\n",
       "  </thead>\n",
       "  <tbody>\n",
       "    <tr>\n",
       "      <th>Bukayo Saka</th>\n",
       "      <td>8.04</td>\n",
       "      <td>7.36</td>\n",
       "      <td>5.97</td>\n",
       "      <td>7.67</td>\n",
       "      <td>6.43</td>\n",
       "      <td>6.04</td>\n",
       "      <td>6.25</td>\n",
       "      <td>NaN</td>\n",
       "      <td>NaN</td>\n",
       "      <td>NaN</td>\n",
       "    </tr>\n",
       "    <tr>\n",
       "      <th>Neto</th>\n",
       "      <td>9.41</td>\n",
       "      <td>7.31</td>\n",
       "      <td>4.00</td>\n",
       "      <td>7.71</td>\n",
       "      <td>7.09</td>\n",
       "      <td>6.52</td>\n",
       "      <td>8.29</td>\n",
       "      <td>7.84</td>\n",
       "      <td>8.20</td>\n",
       "      <td>8.0</td>\n",
       "    </tr>\n",
       "    <tr>\n",
       "      <th>Declan Rice</th>\n",
       "      <td>8.63</td>\n",
       "      <td>7.98</td>\n",
       "      <td>5.95</td>\n",
       "      <td>8.14</td>\n",
       "      <td>6.30</td>\n",
       "      <td>7.03</td>\n",
       "      <td>7.95</td>\n",
       "      <td>7.26</td>\n",
       "      <td>NaN</td>\n",
       "      <td>NaN</td>\n",
       "    </tr>\n",
       "    <tr>\n",
       "      <th>Gabriel Magalhães</th>\n",
       "      <td>6.70</td>\n",
       "      <td>7.86</td>\n",
       "      <td>6.00</td>\n",
       "      <td>6.66</td>\n",
       "      <td>5.56</td>\n",
       "      <td>6.68</td>\n",
       "      <td>6.00</td>\n",
       "      <td>7.12</td>\n",
       "      <td>5.89</td>\n",
       "      <td>NaN</td>\n",
       "    </tr>\n",
       "    <tr>\n",
       "      <th>Martin Ødegaard</th>\n",
       "      <td>6.95</td>\n",
       "      <td>7.14</td>\n",
       "      <td>8.25</td>\n",
       "      <td>8.36</td>\n",
       "      <td>5.79</td>\n",
       "      <td>6.51</td>\n",
       "      <td>NaN</td>\n",
       "      <td>NaN</td>\n",
       "      <td>NaN</td>\n",
       "      <td>NaN</td>\n",
       "    </tr>\n",
       "  </tbody>\n",
       "</table>\n",
       "</div>"
      ],
      "text/plain": [
       "                   2024-2025  2023-2024  2022-2023  2021-2022  2020-2021  \\\n",
       "Bukayo Saka             8.04       7.36       5.97       7.67       6.43   \n",
       "Neto                    9.41       7.31       4.00       7.71       7.09   \n",
       "Declan Rice             8.63       7.98       5.95       8.14       6.30   \n",
       "Gabriel Magalhães       6.70       7.86       6.00       6.66       5.56   \n",
       "Martin Ødegaard         6.95       7.14       8.25       8.36       5.79   \n",
       "\n",
       "                   2019-2020  2018-2019  2017-2018  2016-2017  2015-2016  \n",
       "Bukayo Saka             6.04       6.25        NaN        NaN        NaN  \n",
       "Neto                    6.52       8.29       7.84       8.20        8.0  \n",
       "Declan Rice             7.03       7.95       7.26        NaN        NaN  \n",
       "Gabriel Magalhães       6.68       6.00       7.12       5.89        NaN  \n",
       "Martin Ødegaard         6.51        NaN        NaN        NaN        NaN  "
      ]
     },
     "execution_count": 594,
     "metadata": {},
     "output_type": "execute_result"
    }
   ],
   "source": [
    "player_ratings.head()"
   ]
  },
  {
   "cell_type": "code",
   "execution_count": 596,
   "metadata": {},
   "outputs": [],
   "source": [
    "!mkdir sf_data\n",
    "!mv player_ratings.csv sf_data"
   ]
  },
  {
   "cell_type": "code",
   "execution_count": 41,
   "metadata": {},
   "outputs": [
    {
     "data": {
      "text/plain": [
       "7619"
      ]
     },
     "execution_count": 41,
     "metadata": {},
     "output_type": "execute_result"
    }
   ],
   "source": [
    "len(player_ratings)"
   ]
  },
  {
   "cell_type": "markdown",
   "metadata": {},
   "source": [
    "On voit qu'on a 3000 joueurs qui n'ont aucune évaluation définie, on peut donc faire un modèle qui fait cette évaluation"
   ]
  },
  {
   "cell_type": "markdown",
   "metadata": {},
   "source": [
    "# Modèle:Outil d'évaluation de performance des joueurs selon leurs métriques"
   ]
  },
  {
   "cell_type": "markdown",
   "metadata": {},
   "source": [
    "## Input:Vectorisation des données des joueurs"
   ]
  },
  {
   "cell_type": "markdown",
   "metadata": {},
   "source": [
    "Petit réglage sur les minutes jouées qui n'ont pas pu être interprétées comme des float à cause de ','"
   ]
  },
  {
   "cell_type": "code",
   "execution_count": 154,
   "metadata": {},
   "outputs": [],
   "source": [
    "def change_minutes_type(entry):\n",
    "    \"Numérise l'entrée associée au minutes jouées\"\n",
    "    try:\n",
    "        entry['minutes']=float(entry['minutes'].replace(',',''))\n",
    "        return entry\n",
    "    except:\n",
    "        return entry\n",
    "\n",
    "\n",
    "\n",
    "player_stats_fbref=player_stats_fbref.map(change_minutes_type)"
   ]
  },
  {
   "cell_type": "markdown",
   "metadata": {},
   "source": [
    "### Encodage des variables catégoriques"
   ]
  },
  {
   "cell_type": "markdown",
   "metadata": {},
   "source": [
    "Module utile pour avoir immédiatement un encodage binaire des variables catégorique "
   ]
  },
  {
   "cell_type": "code",
   "execution_count": 4,
   "metadata": {},
   "outputs": [
    {
     "name": "stdout",
     "output_type": "stream",
     "text": [
      "Requirement already satisfied: category_encoders in /Library/Frameworks/Python.framework/Versions/3.12/lib/python3.12/site-packages (2.6.4)\n",
      "Requirement already satisfied: numpy>=1.14.0 in /Library/Frameworks/Python.framework/Versions/3.12/lib/python3.12/site-packages (from category_encoders) (1.26.4)\n",
      "Requirement already satisfied: scikit-learn>=0.20.0 in /Library/Frameworks/Python.framework/Versions/3.12/lib/python3.12/site-packages (from category_encoders) (1.4.2)\n",
      "Requirement already satisfied: scipy>=1.0.0 in /Library/Frameworks/Python.framework/Versions/3.12/lib/python3.12/site-packages (from category_encoders) (1.13.0)\n",
      "Requirement already satisfied: statsmodels>=0.9.0 in /Library/Frameworks/Python.framework/Versions/3.12/lib/python3.12/site-packages (from category_encoders) (0.14.4)\n",
      "Requirement already satisfied: pandas>=1.0.5 in /Library/Frameworks/Python.framework/Versions/3.12/lib/python3.12/site-packages (from category_encoders) (2.2.2)\n",
      "Requirement already satisfied: patsy>=0.5.1 in /Library/Frameworks/Python.framework/Versions/3.12/lib/python3.12/site-packages (from category_encoders) (1.0.1)\n",
      "Requirement already satisfied: python-dateutil>=2.8.2 in /Library/Frameworks/Python.framework/Versions/3.12/lib/python3.12/site-packages (from pandas>=1.0.5->category_encoders) (2.9.0.post0)\n",
      "Requirement already satisfied: pytz>=2020.1 in /Library/Frameworks/Python.framework/Versions/3.12/lib/python3.12/site-packages (from pandas>=1.0.5->category_encoders) (2024.1)\n",
      "Requirement already satisfied: tzdata>=2022.7 in /Library/Frameworks/Python.framework/Versions/3.12/lib/python3.12/site-packages (from pandas>=1.0.5->category_encoders) (2024.1)\n",
      "Requirement already satisfied: joblib>=1.2.0 in /Library/Frameworks/Python.framework/Versions/3.12/lib/python3.12/site-packages (from scikit-learn>=0.20.0->category_encoders) (1.4.0)\n",
      "Requirement already satisfied: threadpoolctl>=2.0.0 in /Library/Frameworks/Python.framework/Versions/3.12/lib/python3.12/site-packages (from scikit-learn>=0.20.0->category_encoders) (3.5.0)\n",
      "Requirement already satisfied: packaging>=21.3 in /Library/Frameworks/Python.framework/Versions/3.12/lib/python3.12/site-packages (from statsmodels>=0.9.0->category_encoders) (24.0)\n",
      "Requirement already satisfied: six>=1.5 in /Library/Frameworks/Python.framework/Versions/3.12/lib/python3.12/site-packages (from python-dateutil>=2.8.2->pandas>=1.0.5->category_encoders) (1.16.0)\n",
      "\n",
      "\u001b[1m[\u001b[0m\u001b[34;49mnotice\u001b[0m\u001b[1;39;49m]\u001b[0m\u001b[39;49m A new release of pip is available: \u001b[0m\u001b[31;49m24.1.2\u001b[0m\u001b[39;49m -> \u001b[0m\u001b[32;49m24.3.1\u001b[0m\n",
      "\u001b[1m[\u001b[0m\u001b[34;49mnotice\u001b[0m\u001b[1;39;49m]\u001b[0m\u001b[39;49m To update, run: \u001b[0m\u001b[32;49mpip install --upgrade pip\u001b[0m\n"
     ]
    }
   ],
   "source": [
    "!pip3 install category_encoders"
   ]
  },
  {
   "cell_type": "markdown",
   "metadata": {},
   "source": [
    "Les variables à encoder"
   ]
  },
  {
   "cell_type": "code",
   "execution_count": 5,
   "metadata": {},
   "outputs": [
    {
     "data": {
      "text/plain": [
       "[('team', 'Liverpool'),\n",
       " ('country', 'eng ENG'),\n",
       " ('comp_level', '1. Premier League'),\n",
       " ('lg_finish', '1st')]"
      ]
     },
     "execution_count": 5,
     "metadata": {},
     "output_type": "execute_result"
    }
   ],
   "source": [
    "[(k,v) for (k,v) in player_stats_fbref.loc['Mohamed Salah','2024-2025'].items() if type(v)==str and v!='']"
   ]
  },
  {
   "cell_type": "markdown",
   "metadata": {},
   "source": [
    "Encodage Binaire pour ne pas avoir de relation d'ordre mais ne pas utiliser trop de mémoire non plus"
   ]
  },
  {
   "cell_type": "code",
   "execution_count": 115,
   "metadata": {},
   "outputs": [],
   "source": [
    "import category_encoders as ce\n",
    "\n",
    "encoded_var=['team','country','comp_level','lg_finish']\n",
    "\n",
    "encoding_table={}\n",
    "\n",
    "for var in encoded_var:\n",
    "    \n",
    "    \n",
    "    encoder=ce.BinaryEncoder(return_df=False)\n",
    "    \n",
    "    \n",
    "    #extraction des valeurs que peut prendre var\n",
    "    classes=set()\n",
    "    years=[f'{2024-i}-{2024-i+1}' for i in range(10)]\n",
    "    for year in years:\n",
    "        for player in player_stats_fbref.index:\n",
    "            if not(na_player_stats_fbref.loc[player,year]):\n",
    "                classes.add(player_stats_fbref.loc[player,year][var])\n",
    "    encoder.fit(list(classes))\n",
    "    \n",
    "    encoding_table[var]=encoder"
   ]
  },
  {
   "cell_type": "code",
   "execution_count": 116,
   "metadata": {},
   "outputs": [
    {
     "data": {
      "text/plain": [
       "array([[0, 1, 0, 1, 1, 0]])"
      ]
     },
     "execution_count": 116,
     "metadata": {},
     "output_type": "execute_result"
    }
   ],
   "source": [
    "encoding_table['country'].transform(['eng ENG'])"
   ]
  },
  {
   "cell_type": "markdown",
   "metadata": {},
   "source": [
    "### Extraction de la moyenne et de l'écart type pour les variables non catégoriques afin de normaliser"
   ]
  },
  {
   "cell_type": "markdown",
   "metadata": {},
   "source": [
    "$\\textbf{C'est très important car sinon la loss diverge}$"
   ]
  },
  {
   "cell_type": "code",
   "execution_count": 157,
   "metadata": {},
   "outputs": [],
   "source": [
    "import numpy as np\n",
    "#Pour fixer la taille de l'input\n",
    "categories=player_stats_fbref.loc['Mohamed Salah','2024-2025'].keys()\n",
    "\n",
    "norm_dict={}\n",
    "\n",
    "# Calculer la moyenne et l'écart-type pour toutes les statistiques\n",
    "for category in categories:\n",
    "    if category not in encoded_var:\n",
    "        data=[player_stats_fbref.loc[player,year][category] for player in player_stats_fbref.index for year in seasons if not(na_player_stats_fbref.loc[player,year]) and category in player_stats_fbref.loc[player,year].keys()]\n",
    "        data=np.array(list(filter(lambda x: type(x)==float,data)))\n",
    "        mean,std=np.mean(data),np.std(data)\n",
    "        norm_dict[category]={'mean':mean,'std':std}\n",
    "        \n",
    "def normalise(x):\n",
    "    \"normalise les différentes entrées du dictionnaire x\"\n",
    "    for category in categories:\n",
    "        if category not in encoded_var and type(x)==dict and category in x.keys() and type(x[category])==float:\n",
    "            mean,std=norm_dict[category]['mean'],norm_dict[category]['std']\n",
    "            x[category]=(x[category]-mean)/std  \n",
    "    return x  \n",
    "\n",
    "\n",
    "        \n",
    "            "
   ]
  },
  {
   "cell_type": "markdown",
   "metadata": {},
   "source": [
    "$\\textbf{Détail Important: Après avoir appliqué cette fonction, même \\textit{player stats bref} est modifié }$"
   ]
  },
  {
   "cell_type": "code",
   "execution_count": 158,
   "metadata": {},
   "outputs": [],
   "source": [
    "#données normalisées\n",
    "player_stats_fbref_norm=player_stats_fbref.apply(lambda x:x.apply(normalise))"
   ]
  },
  {
   "cell_type": "code",
   "execution_count": 159,
   "metadata": {},
   "outputs": [
    {
     "data": {
      "text/plain": [
       "2.9445369988223056"
      ]
     },
     "execution_count": 159,
     "metadata": {},
     "output_type": "execute_result"
    }
   ],
   "source": [
    "player_stats_fbref_norm.loc['Mohamed Salah','2024-2025']['goals']"
   ]
  },
  {
   "cell_type": "markdown",
   "metadata": {},
   "source": [
    "On voit bien que l'échelle est réduite"
   ]
  },
  {
   "cell_type": "code",
   "execution_count": 286,
   "metadata": {},
   "outputs": [
    {
     "data": {
      "text/plain": [
       "[1.516432869569389, 0, 1, 1, 0, 0, 0, 1, 1, 1]"
      ]
     },
     "execution_count": 286,
     "metadata": {},
     "output_type": "execute_result"
    }
   ],
   "source": [
    "\n",
    "def vectorize(player,season):\n",
    "    \"Retourne le vecteur encodant la saison season de player\"\n",
    "    data=player_stats_fbref_norm.loc[player,season]\n",
    "    vect=[]\n",
    "    for category in categories:\n",
    "            if category in data.keys() and data[category]!='':\n",
    "                if category in encoded_var:\n",
    "                    vect+=list(encoding_table[category].transform([data[category]])[0])\n",
    "                else:\n",
    "                    vect+=[data[category]]\n",
    "            else:\n",
    "                # l'encodage binaire fait qu'on remplace une information catégorique inconnue par un vecteur de bonne taille avec que des -3 (que le modèle pourra identifier comme inconnue avec proba 99.7 (les statistiques suivent))\n",
    "                #Une loi N(0,1)\n",
    "                vect+=[-3]*(1 if category not in encoded_var else len(list(encoding_table[category].transform([player_stats_fbref_norm.loc['Mohamed Salah','2024-2025'][category]])[0])))\n",
    "            \n",
    "    return vect\n",
    "\n",
    "\n",
    "input_size=len(vectorize('Mohamed Salah','2024-2025')) \n",
    "vectorize('Mohamed Salah','2024-2025')[:10]"
   ]
  },
  {
   "cell_type": "markdown",
   "metadata": {},
   "source": [
    "## Définition du modèle"
   ]
  },
  {
   "cell_type": "code",
   "execution_count": 16,
   "metadata": {},
   "outputs": [],
   "source": [
    "import torch\n",
    "import torch.nn as nn\n",
    "import torch.optim as optim\n",
    "\n",
    "model=nn.Linear(input_size,1)\n",
    "criterion=nn.MSELoss()\n",
    "optimizer=optim.Adam(model.parameters(),lr=0.001)\n",
    "\n"
   ]
  },
  {
   "cell_type": "code",
   "execution_count": 22,
   "metadata": {},
   "outputs": [],
   "source": [
    "import numpy as np\n",
    "n=len(player_ratings)\n",
    "random_indexes=np.random.choice(np.arange(n),int(0.8*n),replace=False)\n",
    "\n",
    "#On sépare bien les données en données d'entraînement et données test\n",
    "\n",
    "training_data=player_ratings.iloc[random_indexes]\n",
    "validation_data=player_ratings.iloc[[i for i in np.arange(n) if i not in random_indexes]]"
   ]
  },
  {
   "cell_type": "code",
   "execution_count": 23,
   "metadata": {},
   "outputs": [
    {
     "data": {
      "text/html": [
       "<div>\n",
       "<style scoped>\n",
       "    .dataframe tbody tr th:only-of-type {\n",
       "        vertical-align: middle;\n",
       "    }\n",
       "\n",
       "    .dataframe tbody tr th {\n",
       "        vertical-align: top;\n",
       "    }\n",
       "\n",
       "    .dataframe thead th {\n",
       "        text-align: right;\n",
       "    }\n",
       "</style>\n",
       "<table border=\"1\" class=\"dataframe\">\n",
       "  <thead>\n",
       "    <tr style=\"text-align: right;\">\n",
       "      <th></th>\n",
       "      <th>2024-2025</th>\n",
       "      <th>2023-2024</th>\n",
       "      <th>2022-2023</th>\n",
       "      <th>2021-2022</th>\n",
       "      <th>2020-2021</th>\n",
       "      <th>2019-2020</th>\n",
       "      <th>2018-2019</th>\n",
       "      <th>2017-2018</th>\n",
       "      <th>2016-2017</th>\n",
       "      <th>2015-2016</th>\n",
       "    </tr>\n",
       "  </thead>\n",
       "  <tbody>\n",
       "    <tr>\n",
       "      <th>Nikola Milenković</th>\n",
       "      <td>6.84</td>\n",
       "      <td>5.51</td>\n",
       "      <td>5.63</td>\n",
       "      <td>7.92</td>\n",
       "      <td>7.87</td>\n",
       "      <td>6.37</td>\n",
       "      <td>7.31</td>\n",
       "      <td>5.58</td>\n",
       "      <td>NaN</td>\n",
       "      <td>NaN</td>\n",
       "    </tr>\n",
       "    <tr>\n",
       "      <th>Odisseas Vlachodimos</th>\n",
       "      <td>NaN</td>\n",
       "      <td>7.89</td>\n",
       "      <td>NaN</td>\n",
       "      <td>NaN</td>\n",
       "      <td>NaN</td>\n",
       "      <td>NaN</td>\n",
       "      <td>NaN</td>\n",
       "      <td>NaN</td>\n",
       "      <td>NaN</td>\n",
       "      <td>6.89</td>\n",
       "    </tr>\n",
       "    <tr>\n",
       "      <th>Laurent Ciman</th>\n",
       "      <td>NaN</td>\n",
       "      <td>NaN</td>\n",
       "      <td>NaN</td>\n",
       "      <td>NaN</td>\n",
       "      <td>NaN</td>\n",
       "      <td>NaN</td>\n",
       "      <td>7.37</td>\n",
       "      <td>NaN</td>\n",
       "      <td>NaN</td>\n",
       "      <td>NaN</td>\n",
       "    </tr>\n",
       "    <tr>\n",
       "      <th>Darren Randolph</th>\n",
       "      <td>NaN</td>\n",
       "      <td>NaN</td>\n",
       "      <td>NaN</td>\n",
       "      <td>NaN</td>\n",
       "      <td>6.35</td>\n",
       "      <td>7.62</td>\n",
       "      <td>NaN</td>\n",
       "      <td>NaN</td>\n",
       "      <td>7.90</td>\n",
       "      <td>5.88</td>\n",
       "    </tr>\n",
       "    <tr>\n",
       "      <th>Tom Carroll</th>\n",
       "      <td>NaN</td>\n",
       "      <td>NaN</td>\n",
       "      <td>NaN</td>\n",
       "      <td>NaN</td>\n",
       "      <td>NaN</td>\n",
       "      <td>NaN</td>\n",
       "      <td>NaN</td>\n",
       "      <td>5.96</td>\n",
       "      <td>7.94</td>\n",
       "      <td>7.80</td>\n",
       "    </tr>\n",
       "  </tbody>\n",
       "</table>\n",
       "</div>"
      ],
      "text/plain": [
       "                      2024-2025  2023-2024  2022-2023  2021-2022  2020-2021  \\\n",
       "Nikola Milenković          6.84       5.51       5.63       7.92       7.87   \n",
       "Odisseas Vlachodimos        NaN       7.89        NaN        NaN        NaN   \n",
       "Laurent Ciman               NaN        NaN        NaN        NaN        NaN   \n",
       "Darren Randolph             NaN        NaN        NaN        NaN       6.35   \n",
       "Tom Carroll                 NaN        NaN        NaN        NaN        NaN   \n",
       "\n",
       "                      2019-2020  2018-2019  2017-2018  2016-2017  2015-2016  \n",
       "Nikola Milenković          6.37       7.31       5.58        NaN        NaN  \n",
       "Odisseas Vlachodimos        NaN        NaN        NaN        NaN       6.89  \n",
       "Laurent Ciman               NaN       7.37        NaN        NaN        NaN  \n",
       "Darren Randolph            7.62        NaN        NaN       7.90       5.88  \n",
       "Tom Carroll                 NaN        NaN       5.96       7.94       7.80  "
      ]
     },
     "execution_count": 23,
     "metadata": {},
     "output_type": "execute_result"
    }
   ],
   "source": [
    "training_data.head()"
   ]
  },
  {
   "cell_type": "code",
   "execution_count": 24,
   "metadata": {},
   "outputs": [
    {
     "data": {
      "text/html": [
       "<div>\n",
       "<style scoped>\n",
       "    .dataframe tbody tr th:only-of-type {\n",
       "        vertical-align: middle;\n",
       "    }\n",
       "\n",
       "    .dataframe tbody tr th {\n",
       "        vertical-align: top;\n",
       "    }\n",
       "\n",
       "    .dataframe thead th {\n",
       "        text-align: right;\n",
       "    }\n",
       "</style>\n",
       "<table border=\"1\" class=\"dataframe\">\n",
       "  <thead>\n",
       "    <tr style=\"text-align: right;\">\n",
       "      <th></th>\n",
       "      <th>2024-2025</th>\n",
       "      <th>2023-2024</th>\n",
       "      <th>2022-2023</th>\n",
       "      <th>2021-2022</th>\n",
       "      <th>2020-2021</th>\n",
       "      <th>2019-2020</th>\n",
       "      <th>2018-2019</th>\n",
       "      <th>2017-2018</th>\n",
       "      <th>2016-2017</th>\n",
       "      <th>2015-2016</th>\n",
       "    </tr>\n",
       "  </thead>\n",
       "  <tbody>\n",
       "    <tr>\n",
       "      <th>Martin Ødegaard</th>\n",
       "      <td>6.95</td>\n",
       "      <td>7.14</td>\n",
       "      <td>8.25</td>\n",
       "      <td>8.36</td>\n",
       "      <td>5.79</td>\n",
       "      <td>6.51</td>\n",
       "      <td>NaN</td>\n",
       "      <td>NaN</td>\n",
       "      <td>NaN</td>\n",
       "      <td>NaN</td>\n",
       "    </tr>\n",
       "    <tr>\n",
       "      <th>David Raya</th>\n",
       "      <td>6.69</td>\n",
       "      <td>7.85</td>\n",
       "      <td>7.85</td>\n",
       "      <td>7.25</td>\n",
       "      <td>NaN</td>\n",
       "      <td>NaN</td>\n",
       "      <td>NaN</td>\n",
       "      <td>NaN</td>\n",
       "      <td>NaN</td>\n",
       "      <td>NaN</td>\n",
       "    </tr>\n",
       "    <tr>\n",
       "      <th>Ben White</th>\n",
       "      <td>5.72</td>\n",
       "      <td>5.82</td>\n",
       "      <td>7.56</td>\n",
       "      <td>7.07</td>\n",
       "      <td>6.15</td>\n",
       "      <td>NaN</td>\n",
       "      <td>NaN</td>\n",
       "      <td>NaN</td>\n",
       "      <td>NaN</td>\n",
       "      <td>NaN</td>\n",
       "    </tr>\n",
       "    <tr>\n",
       "      <th>Leandro Trossard</th>\n",
       "      <td>6.58</td>\n",
       "      <td>6.57</td>\n",
       "      <td>6.00</td>\n",
       "      <td>7.40</td>\n",
       "      <td>7.65</td>\n",
       "      <td>5.82</td>\n",
       "      <td>NaN</td>\n",
       "      <td>NaN</td>\n",
       "      <td>NaN</td>\n",
       "      <td>NaN</td>\n",
       "    </tr>\n",
       "    <tr>\n",
       "      <th>Mikel Merino</th>\n",
       "      <td>6.84</td>\n",
       "      <td>7.90</td>\n",
       "      <td>7.78</td>\n",
       "      <td>8.02</td>\n",
       "      <td>5.70</td>\n",
       "      <td>5.72</td>\n",
       "      <td>6.24</td>\n",
       "      <td>6.59</td>\n",
       "      <td>6.53</td>\n",
       "      <td>NaN</td>\n",
       "    </tr>\n",
       "  </tbody>\n",
       "</table>\n",
       "</div>"
      ],
      "text/plain": [
       "                  2024-2025  2023-2024  2022-2023  2021-2022  2020-2021  \\\n",
       "Martin Ødegaard        6.95       7.14       8.25       8.36       5.79   \n",
       "David Raya             6.69       7.85       7.85       7.25        NaN   \n",
       "Ben White              5.72       5.82       7.56       7.07       6.15   \n",
       "Leandro Trossard       6.58       6.57       6.00       7.40       7.65   \n",
       "Mikel Merino           6.84       7.90       7.78       8.02       5.70   \n",
       "\n",
       "                  2019-2020  2018-2019  2017-2018  2016-2017  2015-2016  \n",
       "Martin Ødegaard        6.51        NaN        NaN        NaN        NaN  \n",
       "David Raya              NaN        NaN        NaN        NaN        NaN  \n",
       "Ben White               NaN        NaN        NaN        NaN        NaN  \n",
       "Leandro Trossard       5.82        NaN        NaN        NaN        NaN  \n",
       "Mikel Merino           5.72       6.24       6.59       6.53        NaN  "
      ]
     },
     "execution_count": 24,
     "metadata": {},
     "output_type": "execute_result"
    }
   ],
   "source": [
    "validation_data.head()"
   ]
  },
  {
   "cell_type": "code",
   "execution_count": 25,
   "metadata": {},
   "outputs": [],
   "source": [
    "na_validation_data=validation_data.isna()\n",
    "na_training_data=training_data.isna()"
   ]
  },
  {
   "cell_type": "markdown",
   "metadata": {},
   "source": [
    "## Entraînement"
   ]
  },
  {
   "cell_type": "code",
   "execution_count": 26,
   "metadata": {},
   "outputs": [
    {
     "name": "stderr",
     "output_type": "stream",
     "text": [
      "100%|██████████| 10/10 [09:39<00:00, 57.94s/it]\n"
     ]
    }
   ],
   "source": [
    "loss_tab_training=[]\n",
    "\n",
    "\n",
    "\n",
    "from tqdm import tqdm\n",
    "\n",
    "# on itère 10 fois sur les données d'entrainement\n",
    "for epoch in tqdm(range(10)):\n",
    "\n",
    "    for player in training_data.index:\n",
    "        current_loss=[]\n",
    "        for season in training_data.columns:\n",
    "            if not(na_training_data.loc[player,season]) and not(na_player_stats_fbref.loc[player,season]):\n",
    "                \n",
    "\n",
    "                    input=torch.Tensor(vectorize(player,season))\n",
    "                    output=torch.Tensor([training_data.loc[player,season]])\n",
    "                    \n",
    "                    # Écart entre la note attendue (réelle) et celle prédite par le modèle\n",
    "                    prediction=model(input)\n",
    "                    loss=criterion(output,prediction)\n",
    "                    \n",
    "                    current_loss.append(loss)\n",
    "                    \n",
    "                    #Descente de gradient sur les paramètres du modèle\n",
    "                    optimizer.zero_grad()\n",
    "                    loss.backward()\n",
    "                    optimizer.step()\n",
    "        if current_loss!=[]:\n",
    "            loss_tab_training.append(np.average(list(map(lambda x:x.item(),current_loss))))\n",
    "                \n",
    "                \n",
    "                "
   ]
  },
  {
   "cell_type": "markdown",
   "metadata": {},
   "source": [
    "On découpe le tableau en 100 et on fais affiche la moyenne des 100 sous-tableaux afin d'avoir un graphique plus clair avec moins de bruit"
   ]
  },
  {
   "cell_type": "code",
   "execution_count": 39,
   "metadata": {},
   "outputs": [
    {
     "data": {
      "image/png": "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",
      "text/plain": [
       "<Figure size 640x480 with 1 Axes>"
      ]
     },
     "metadata": {},
     "output_type": "display_data"
    },
    {
     "data": {
      "text/plain": [
       "Text(0.5, 1.0, 'Loss after 10th iteration')"
      ]
     },
     "execution_count": 39,
     "metadata": {},
     "output_type": "execute_result"
    },
    {
     "data": {
      "image/png": "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",
      "text/plain": [
       "<Figure size 640x480 with 1 Axes>"
      ]
     },
     "metadata": {},
     "output_type": "display_data"
    }
   ],
   "source": [
    "import matplotlib.pyplot as plt\n",
    "\n",
    "plt.plot([np.average(np.array(l)) for l in np.array_split(np.array(loss_tab_training),100)])\n",
    "plt.xlabel('iterations')\n",
    "plt.ylabel('loss')\n",
    "plt.title('Loss over number of iterations')\n",
    "plt.show()\n",
    "plt.plot([np.average(np.array(l)) for l in np.array_split(np.array(loss_tab_training),100)][10:])\n",
    "plt.xlabel('iterations')\n",
    "plt.ylabel('loss')\n",
    "plt.title('Loss after 10th iteration')"
   ]
  },
  {
   "cell_type": "markdown",
   "metadata": {},
   "source": [
    "On observe que la loss du modèle converge très rapidement et se centre autour de 1"
   ]
  },
  {
   "cell_type": "markdown",
   "metadata": {},
   "source": [
    "## Test"
   ]
  },
  {
   "cell_type": "code",
   "execution_count": 29,
   "metadata": {},
   "outputs": [],
   "source": [
    "loss_tab_validation=[]\n",
    "\n",
    "for player in validation_data.index:\n",
    "        current_loss=[]\n",
    "        for season in validation_data.columns:\n",
    "            if not(na_validation_data.loc[player,season]) and not(na_player_stats_fbref.loc[player,season]):\n",
    "                # Ici on n'effectue pas la descente de gradient étant donné qu'on mesure la performance du modèle\n",
    "                    input=torch.Tensor(vectorize(player,season))\n",
    "                    output=torch.Tensor([validation_data.loc[player,season]])\n",
    "                    prediction=model(input)\n",
    "                    loss=criterion(output,prediction)\n",
    "                    current_loss.append(loss)\n",
    "        if current_loss!=[]:\n",
    "            loss_tab_validation.append(np.average(list(map(lambda x:x.item(),current_loss))))"
   ]
  },
  {
   "cell_type": "code",
   "execution_count": 30,
   "metadata": {},
   "outputs": [
    {
     "data": {
      "text/plain": [
       "0.9296804205290905"
      ]
     },
     "execution_count": 30,
     "metadata": {},
     "output_type": "execute_result"
    }
   ],
   "source": [
    "np.average(loss_tab_validation)"
   ]
  },
  {
   "cell_type": "markdown",
   "metadata": {},
   "source": [
    "Un écart quadratique moyen inférieur à 1 "
   ]
  },
  {
   "cell_type": "markdown",
   "metadata": {},
   "source": [
    "sauvegarde des paramètres du modèle pour éviter de refaire la boucle d'entraînement"
   ]
  },
  {
   "cell_type": "code",
   "execution_count": 31,
   "metadata": {},
   "outputs": [],
   "source": [
    "torch.save(model.state_dict(),'linear_model.pth')\n",
    "!mkdir models\n",
    "!mv linear_model.pth models"
   ]
  },
  {
   "cell_type": "markdown",
   "metadata": {},
   "source": [
    "# Modèle:Prédiction de la performance d'un joueur suite à un transfert"
   ]
  },
  {
   "cell_type": "markdown",
   "metadata": {},
   "source": [
    "## Input"
   ]
  },
  {
   "cell_type": "markdown",
   "metadata": {},
   "source": [
    "### On crée un vecteur avec comme informations : Les statisitiques du joueur sur ses dernières saisons, les données de l'équipe qu'il va rejoindre et les données des éventuels concurrents à son poste"
   ]
  },
  {
   "cell_type": "markdown",
   "metadata": {},
   "source": [
    "#### Encodage de l'équipe"
   ]
  },
  {
   "cell_type": "markdown",
   "metadata": {},
   "source": [
    "#####  Mapping rapide pour savoir à quel championnat appartient chaque équipe"
   ]
  },
  {
   "cell_type": "code",
   "execution_count": 82,
   "metadata": {},
   "outputs": [
    {
     "data": {
      "text/plain": [
       "[('Nürnberg', 'L1'),\n",
       " ('Levante', 'ES1'),\n",
       " ('Girona', 'ES1'),\n",
       " ('Crystal Palace', 'GB1'),\n",
       " ('Saint-Étienne', 'FR1'),\n",
       " ('Granada', 'ES1'),\n",
       " ('Napoli', 'IT1'),\n",
       " ('Cádiz', 'ES1'),\n",
       " ('Toulouse', 'FR1'),\n",
       " ('Bordeaux', 'FR1')]"
      ]
     },
     "execution_count": 82,
     "metadata": {},
     "output_type": "execute_result"
    }
   ],
   "source": [
    "champ_mapping={}\n",
    "\n",
    "for champ,year,team in [(champ,year,team) for champ in championships for year in teams_fbref[champ].keys() for team in teams_fbref[champ][year].keys()]:\n",
    "    if team not in champ_mapping:\n",
    "        champ_mapping[team]=champ\n",
    "        \n",
    "random.sample(list(champ_mapping.items()),k=10)\n",
    "        "
   ]
  },
  {
   "cell_type": "markdown",
   "metadata": {},
   "source": [
    "#### Normalisation des données équipes"
   ]
  },
  {
   "cell_type": "markdown",
   "metadata": {},
   "source": [
    "#### On cherche une équipe qui a toutes ses features remplies pour pour fixer la taille de l'entrée"
   ]
  },
  {
   "cell_type": "code",
   "execution_count": 83,
   "metadata": {},
   "outputs": [
    {
     "data": {
      "text/plain": [
       "(182, 'Wolves', '2020-2021')"
      ]
     },
     "execution_count": 83,
     "metadata": {},
     "output_type": "execute_result"
    }
   ],
   "source": [
    "max([(len(global_team_stats_fbref.loc[team,year]),team,year) for team in teams_fbref_list for year in global_team_stats_fbref.columns if not(na_global_team_stats.loc[team,year])])"
   ]
  },
  {
   "cell_type": "code",
   "execution_count": 84,
   "metadata": {},
   "outputs": [],
   "source": [
    "features=global_team_stats_fbref.loc['Wolves','2020-2021'].keys()"
   ]
  },
  {
   "cell_type": "code",
   "execution_count": 49,
   "metadata": {},
   "outputs": [],
   "source": [
    "norm_dict_teams={}\n",
    "\n",
    "for feature in features:\n",
    "        feature_list=[global_team_stats_fbref.loc[team,year][feature] for team in teams_fbref_list for year in global_team_stats_fbref.columns if not(na_global_team_stats.loc[team,year]) and feature in global_team_stats_fbref.loc[team,year].keys()]\n",
    "        mean,std=np.average(feature_list),np.std(feature_list)\n",
    "        norm_dict_teams[feature]={'mean':mean,'std':std}"
   ]
  },
  {
   "cell_type": "code",
   "execution_count": 65,
   "metadata": {},
   "outputs": [
    {
     "data": {
      "text/html": [
       "<div>\n",
       "<style scoped>\n",
       "    .dataframe tbody tr th:only-of-type {\n",
       "        vertical-align: middle;\n",
       "    }\n",
       "\n",
       "    .dataframe tbody tr th {\n",
       "        vertical-align: top;\n",
       "    }\n",
       "\n",
       "    .dataframe thead th {\n",
       "        text-align: right;\n",
       "    }\n",
       "</style>\n",
       "<table border=\"1\" class=\"dataframe\">\n",
       "  <thead>\n",
       "    <tr style=\"text-align: right;\">\n",
       "      <th></th>\n",
       "      <th>2024-2025</th>\n",
       "      <th>2023-2024</th>\n",
       "      <th>2022-2023</th>\n",
       "      <th>2021-2022</th>\n",
       "      <th>2020-2021</th>\n",
       "      <th>2019-2020</th>\n",
       "      <th>2018-2019</th>\n",
       "      <th>2017-2018</th>\n",
       "      <th>2016-2017</th>\n",
       "      <th>2015-2016</th>\n",
       "    </tr>\n",
       "  </thead>\n",
       "  <tbody>\n",
       "    <tr>\n",
       "      <th>Liverpool</th>\n",
       "      <td>{'age': 0.7929841916730952, 'gk_games': -2.809...</td>\n",
       "      <td>{'age': -0.21286089099984537, 'gk_games': 0.48...</td>\n",
       "      <td>{'age': 0.7091637681170156, 'gk_games': 0.4803...</td>\n",
       "      <td>{'age': 0.9606250387852515, 'gk_games': 0.4803...</td>\n",
       "      <td>{'age': 0.2062412267805468, 'gk_games': 0.4803...</td>\n",
       "      <td>{'age': 0.03860037966839053, 'gk_games': 0.480...</td>\n",
       "      <td>{'age': -0.3805017381120016, 'gk_games': 0.480...</td>\n",
       "      <td>{'age': -0.7996038558923938, 'gk_games': 0.480...</td>\n",
       "      <td>{'age': -0.3805017381120016, 'gk_games': 0.480...</td>\n",
       "      <td>{'age': -1.1348855501167092, 'gk_games': 0.480...</td>\n",
       "    </tr>\n",
       "    <tr>\n",
       "      <th>Chelsea</th>\n",
       "      <td>{'age': -2.14073063278965, 'gk_games': -2.6532...</td>\n",
       "      <td>{'age': -1.9730897856774936, 'gk_games': 0.480...</td>\n",
       "      <td>{'age': -0.21286089099984537, 'gk_games': 0.48...</td>\n",
       "      <td>{'age': 0.7091637681170156, 'gk_games': 0.4803...</td>\n",
       "      <td>{'age': -0.46432216166808127, 'gk_games': 0.48...</td>\n",
       "      <td>{'age': -0.8834242794484735, 'gk_games': 0.480...</td>\n",
       "      <td>{'age': 0.625343344560939, 'gk_games': 0.48039...</td>\n",
       "      <td>{'age': 0.12242080322446718, 'gk_games': 0.480...</td>\n",
       "      <td>{'age': 0.5415229210048593, 'gk_games': 0.4803...</td>\n",
       "      <td>{'age': 0.2062412267805468, 'gk_games': 0.4803...</td>\n",
       "    </tr>\n",
       "    <tr>\n",
       "      <th>Arsenal</th>\n",
       "      <td>{'age': -0.1290404674437687, 'gk_games': -2.80...</td>\n",
       "      <td>{'age': -1.3025263972288657, 'gk_games': 0.480...</td>\n",
       "      <td>{'age': -1.5539876678971014, 'gk_games': 0.480...</td>\n",
       "      <td>{'age': -1.8054489385653374, 'gk_games': 0.480...</td>\n",
       "      <td>{'age': -0.5481425852241609, 'gk_games': 0.480...</td>\n",
       "      <td>{'age': -0.6319630087802375, 'gk_games': 0.480...</td>\n",
       "      <td>{'age': 0.12242080322446718, 'gk_games': 0.480...</td>\n",
       "      <td>{'age': 0.2062412267805468, 'gk_games': 0.4803...</td>\n",
       "      <td>{'age': 0.29006165033662346, 'gk_games': 0.480...</td>\n",
       "      <td>{'age': 0.37388207389270306, 'gk_games': 0.480...</td>\n",
       "    </tr>\n",
       "    <tr>\n",
       "      <th>Nott'ham Forest</th>\n",
       "      <td>{'age': 0.29006165033662346, 'gk_games': -2.65...</td>\n",
       "      <td>{'age': -0.7157834323363171, 'gk_games': 0.480...</td>\n",
       "      <td>{'age': -0.0452200438876891, 'gk_games': 0.480...</td>\n",
       "      <td>NaN</td>\n",
       "      <td>NaN</td>\n",
       "      <td>NaN</td>\n",
       "      <td>NaN</td>\n",
       "      <td>NaN</td>\n",
       "      <td>NaN</td>\n",
       "      <td>NaN</td>\n",
       "    </tr>\n",
       "    <tr>\n",
       "      <th>Manchester City</th>\n",
       "      <td>{'age': 0.9606250387852515, 'gk_games': -2.653...</td>\n",
       "      <td>{'age': 0.03860037966839053, 'gk_games': 0.480...</td>\n",
       "      <td>{'age': 0.5415229210048593, 'gk_games': 0.4803...</td>\n",
       "      <td>{'age': 0.37388207389270306, 'gk_games': 0.480...</td>\n",
       "      <td>{'age': -0.3805017381120016, 'gk_games': 0.480...</td>\n",
       "      <td>{'age': 0.29006165033662346, 'gk_games': 0.480...</td>\n",
       "      <td>{'age': 0.12242080322446718, 'gk_games': 0.480...</td>\n",
       "      <td>{'age': -0.1290404674437687, 'gk_games': 0.480...</td>\n",
       "      <td>{'age': 1.6311884272338795, 'gk_games': 0.4803...</td>\n",
       "      <td>{'age': 1.4635475801217233, 'gk_games': 0.4803...</td>\n",
       "    </tr>\n",
       "    <tr>\n",
       "      <th>...</th>\n",
       "      <td>...</td>\n",
       "      <td>...</td>\n",
       "      <td>...</td>\n",
       "      <td>...</td>\n",
       "      <td>...</td>\n",
       "      <td>...</td>\n",
       "      <td>...</td>\n",
       "      <td>...</td>\n",
       "      <td>...</td>\n",
       "      <td>...</td>\n",
       "    </tr>\n",
       "    <tr>\n",
       "      <th>Paderborn 07</th>\n",
       "      <td>NaN</td>\n",
       "      <td>NaN</td>\n",
       "      <td>NaN</td>\n",
       "      <td>NaN</td>\n",
       "      <td>NaN</td>\n",
       "      <td>{'age': -0.7157834323363171, 'gk_games': -0.14...</td>\n",
       "      <td>NaN</td>\n",
       "      <td>NaN</td>\n",
       "      <td>NaN</td>\n",
       "      <td>NaN</td>\n",
       "    </tr>\n",
       "    <tr>\n",
       "      <th>Hannover 96</th>\n",
       "      <td>NaN</td>\n",
       "      <td>NaN</td>\n",
       "      <td>NaN</td>\n",
       "      <td>NaN</td>\n",
       "      <td>NaN</td>\n",
       "      <td>NaN</td>\n",
       "      <td>{'age': -0.21286089099984537, 'gk_games': -0.1...</td>\n",
       "      <td>{'age': -0.1290404674437687, 'gk_games': -0.14...</td>\n",
       "      <td>NaN</td>\n",
       "      <td>{'age': -0.7996038558923938, 'gk_games': -0.14...</td>\n",
       "    </tr>\n",
       "    <tr>\n",
       "      <th>Nürnberg</th>\n",
       "      <td>NaN</td>\n",
       "      <td>NaN</td>\n",
       "      <td>NaN</td>\n",
       "      <td>NaN</td>\n",
       "      <td>NaN</td>\n",
       "      <td>NaN</td>\n",
       "      <td>{'age': -1.3863468207849452, 'gk_games': -0.14...</td>\n",
       "      <td>NaN</td>\n",
       "      <td>NaN</td>\n",
       "      <td>NaN</td>\n",
       "    </tr>\n",
       "    <tr>\n",
       "      <th>Hamburger SV</th>\n",
       "      <td>NaN</td>\n",
       "      <td>NaN</td>\n",
       "      <td>NaN</td>\n",
       "      <td>NaN</td>\n",
       "      <td>NaN</td>\n",
       "      <td>NaN</td>\n",
       "      <td>NaN</td>\n",
       "      <td>{'age': -1.3025263972288657, 'gk_games': -0.14...</td>\n",
       "      <td>{'age': -0.6319630087802375, 'gk_games': -0.14...</td>\n",
       "      <td>{'age': 0.4577024974487827, 'gk_games': -0.146...</td>\n",
       "    </tr>\n",
       "    <tr>\n",
       "      <th>Ingolstadt 04</th>\n",
       "      <td>NaN</td>\n",
       "      <td>NaN</td>\n",
       "      <td>NaN</td>\n",
       "      <td>NaN</td>\n",
       "      <td>NaN</td>\n",
       "      <td>NaN</td>\n",
       "      <td>NaN</td>\n",
       "      <td>NaN</td>\n",
       "      <td>{'age': 0.29006165033662346, 'gk_games': -0.14...</td>\n",
       "      <td>{'age': -0.21286089099984537, 'gk_games': -0.1...</td>\n",
       "    </tr>\n",
       "  </tbody>\n",
       "</table>\n",
       "<p>160 rows × 10 columns</p>\n",
       "</div>"
      ],
      "text/plain": [
       "                                                         2024-2025  \\\n",
       "Liverpool        {'age': 0.7929841916730952, 'gk_games': -2.809...   \n",
       "Chelsea          {'age': -2.14073063278965, 'gk_games': -2.6532...   \n",
       "Arsenal          {'age': -0.1290404674437687, 'gk_games': -2.80...   \n",
       "Nott'ham Forest  {'age': 0.29006165033662346, 'gk_games': -2.65...   \n",
       "Manchester City  {'age': 0.9606250387852515, 'gk_games': -2.653...   \n",
       "...                                                            ...   \n",
       "Paderborn 07                                                   NaN   \n",
       "Hannover 96                                                    NaN   \n",
       "Nürnberg                                                       NaN   \n",
       "Hamburger SV                                                   NaN   \n",
       "Ingolstadt 04                                                  NaN   \n",
       "\n",
       "                                                         2023-2024  \\\n",
       "Liverpool        {'age': -0.21286089099984537, 'gk_games': 0.48...   \n",
       "Chelsea          {'age': -1.9730897856774936, 'gk_games': 0.480...   \n",
       "Arsenal          {'age': -1.3025263972288657, 'gk_games': 0.480...   \n",
       "Nott'ham Forest  {'age': -0.7157834323363171, 'gk_games': 0.480...   \n",
       "Manchester City  {'age': 0.03860037966839053, 'gk_games': 0.480...   \n",
       "...                                                            ...   \n",
       "Paderborn 07                                                   NaN   \n",
       "Hannover 96                                                    NaN   \n",
       "Nürnberg                                                       NaN   \n",
       "Hamburger SV                                                   NaN   \n",
       "Ingolstadt 04                                                  NaN   \n",
       "\n",
       "                                                         2022-2023  \\\n",
       "Liverpool        {'age': 0.7091637681170156, 'gk_games': 0.4803...   \n",
       "Chelsea          {'age': -0.21286089099984537, 'gk_games': 0.48...   \n",
       "Arsenal          {'age': -1.5539876678971014, 'gk_games': 0.480...   \n",
       "Nott'ham Forest  {'age': -0.0452200438876891, 'gk_games': 0.480...   \n",
       "Manchester City  {'age': 0.5415229210048593, 'gk_games': 0.4803...   \n",
       "...                                                            ...   \n",
       "Paderborn 07                                                   NaN   \n",
       "Hannover 96                                                    NaN   \n",
       "Nürnberg                                                       NaN   \n",
       "Hamburger SV                                                   NaN   \n",
       "Ingolstadt 04                                                  NaN   \n",
       "\n",
       "                                                         2021-2022  \\\n",
       "Liverpool        {'age': 0.9606250387852515, 'gk_games': 0.4803...   \n",
       "Chelsea          {'age': 0.7091637681170156, 'gk_games': 0.4803...   \n",
       "Arsenal          {'age': -1.8054489385653374, 'gk_games': 0.480...   \n",
       "Nott'ham Forest                                                NaN   \n",
       "Manchester City  {'age': 0.37388207389270306, 'gk_games': 0.480...   \n",
       "...                                                            ...   \n",
       "Paderborn 07                                                   NaN   \n",
       "Hannover 96                                                    NaN   \n",
       "Nürnberg                                                       NaN   \n",
       "Hamburger SV                                                   NaN   \n",
       "Ingolstadt 04                                                  NaN   \n",
       "\n",
       "                                                         2020-2021  \\\n",
       "Liverpool        {'age': 0.2062412267805468, 'gk_games': 0.4803...   \n",
       "Chelsea          {'age': -0.46432216166808127, 'gk_games': 0.48...   \n",
       "Arsenal          {'age': -0.5481425852241609, 'gk_games': 0.480...   \n",
       "Nott'ham Forest                                                NaN   \n",
       "Manchester City  {'age': -0.3805017381120016, 'gk_games': 0.480...   \n",
       "...                                                            ...   \n",
       "Paderborn 07                                                   NaN   \n",
       "Hannover 96                                                    NaN   \n",
       "Nürnberg                                                       NaN   \n",
       "Hamburger SV                                                   NaN   \n",
       "Ingolstadt 04                                                  NaN   \n",
       "\n",
       "                                                         2019-2020  \\\n",
       "Liverpool        {'age': 0.03860037966839053, 'gk_games': 0.480...   \n",
       "Chelsea          {'age': -0.8834242794484735, 'gk_games': 0.480...   \n",
       "Arsenal          {'age': -0.6319630087802375, 'gk_games': 0.480...   \n",
       "Nott'ham Forest                                                NaN   \n",
       "Manchester City  {'age': 0.29006165033662346, 'gk_games': 0.480...   \n",
       "...                                                            ...   \n",
       "Paderborn 07     {'age': -0.7157834323363171, 'gk_games': -0.14...   \n",
       "Hannover 96                                                    NaN   \n",
       "Nürnberg                                                       NaN   \n",
       "Hamburger SV                                                   NaN   \n",
       "Ingolstadt 04                                                  NaN   \n",
       "\n",
       "                                                         2018-2019  \\\n",
       "Liverpool        {'age': -0.3805017381120016, 'gk_games': 0.480...   \n",
       "Chelsea          {'age': 0.625343344560939, 'gk_games': 0.48039...   \n",
       "Arsenal          {'age': 0.12242080322446718, 'gk_games': 0.480...   \n",
       "Nott'ham Forest                                                NaN   \n",
       "Manchester City  {'age': 0.12242080322446718, 'gk_games': 0.480...   \n",
       "...                                                            ...   \n",
       "Paderborn 07                                                   NaN   \n",
       "Hannover 96      {'age': -0.21286089099984537, 'gk_games': -0.1...   \n",
       "Nürnberg         {'age': -1.3863468207849452, 'gk_games': -0.14...   \n",
       "Hamburger SV                                                   NaN   \n",
       "Ingolstadt 04                                                  NaN   \n",
       "\n",
       "                                                         2017-2018  \\\n",
       "Liverpool        {'age': -0.7996038558923938, 'gk_games': 0.480...   \n",
       "Chelsea          {'age': 0.12242080322446718, 'gk_games': 0.480...   \n",
       "Arsenal          {'age': 0.2062412267805468, 'gk_games': 0.4803...   \n",
       "Nott'ham Forest                                                NaN   \n",
       "Manchester City  {'age': -0.1290404674437687, 'gk_games': 0.480...   \n",
       "...                                                            ...   \n",
       "Paderborn 07                                                   NaN   \n",
       "Hannover 96      {'age': -0.1290404674437687, 'gk_games': -0.14...   \n",
       "Nürnberg                                                       NaN   \n",
       "Hamburger SV     {'age': -1.3025263972288657, 'gk_games': -0.14...   \n",
       "Ingolstadt 04                                                  NaN   \n",
       "\n",
       "                                                         2016-2017  \\\n",
       "Liverpool        {'age': -0.3805017381120016, 'gk_games': 0.480...   \n",
       "Chelsea          {'age': 0.5415229210048593, 'gk_games': 0.4803...   \n",
       "Arsenal          {'age': 0.29006165033662346, 'gk_games': 0.480...   \n",
       "Nott'ham Forest                                                NaN   \n",
       "Manchester City  {'age': 1.6311884272338795, 'gk_games': 0.4803...   \n",
       "...                                                            ...   \n",
       "Paderborn 07                                                   NaN   \n",
       "Hannover 96                                                    NaN   \n",
       "Nürnberg                                                       NaN   \n",
       "Hamburger SV     {'age': -0.6319630087802375, 'gk_games': -0.14...   \n",
       "Ingolstadt 04    {'age': 0.29006165033662346, 'gk_games': -0.14...   \n",
       "\n",
       "                                                         2015-2016  \n",
       "Liverpool        {'age': -1.1348855501167092, 'gk_games': 0.480...  \n",
       "Chelsea          {'age': 0.2062412267805468, 'gk_games': 0.4803...  \n",
       "Arsenal          {'age': 0.37388207389270306, 'gk_games': 0.480...  \n",
       "Nott'ham Forest                                                NaN  \n",
       "Manchester City  {'age': 1.4635475801217233, 'gk_games': 0.4803...  \n",
       "...                                                            ...  \n",
       "Paderborn 07                                                   NaN  \n",
       "Hannover 96      {'age': -0.7996038558923938, 'gk_games': -0.14...  \n",
       "Nürnberg                                                       NaN  \n",
       "Hamburger SV     {'age': 0.4577024974487827, 'gk_games': -0.146...  \n",
       "Ingolstadt 04    {'age': -0.21286089099984537, 'gk_games': -0.1...  \n",
       "\n",
       "[160 rows x 10 columns]"
      ]
     },
     "execution_count": 65,
     "metadata": {},
     "output_type": "execute_result"
    }
   ],
   "source": [
    "def normalise_team(x):\n",
    "    try:\n",
    "        for k,v in x.items():\n",
    "            x[k]=(x[k]- norm_dict_teams[k]['mean'])/(1 if norm_dict_teams[k]['std']==0 else norm_dict_teams[k]['std'])\n",
    "        return x\n",
    "    except:\n",
    "        return x\n",
    "norm_global_team_stats_fbref=global_team_stats_fbref.copy(deep=True)\n",
    "norm_global_team_stats_fbref.apply(lambda x:x.apply(normalise_team))"
   ]
  },
  {
   "cell_type": "code",
   "execution_count": 86,
   "metadata": {},
   "outputs": [
    {
     "data": {
      "text/plain": [
       "[('gk_passes_launched', -0.9281409868509342),\n",
       " ('passes_long', 0.9421702520755141),\n",
       " ('touches_att_3rd', 1.4025703299155428),\n",
       " ('gk_psxg', 0.8226793271663385),\n",
       " ('gk_psnpxg_per_shot_on_target_against', 1.6680755962419083),\n",
       " ('tackles_interceptions', 0.05839476827184158),\n",
       " ('passes_short', 1.3049094751992054),\n",
       " ('passes_completed_short', 1.262762256242355),\n",
       " ('take_ons_won_pct', -0.8591570856007751),\n",
       " ('gk_pens_allowed', -0.9127348074953809)]"
      ]
     },
     "execution_count": 86,
     "metadata": {},
     "output_type": "execute_result"
    }
   ],
   "source": [
    "\n",
    "random.sample(list(norm_global_team_stats_fbref.loc['Liverpool','2022-2023'].items()),k=10)"
   ]
  },
  {
   "cell_type": "code",
   "execution_count": 287,
   "metadata": {},
   "outputs": [
    {
     "data": {
      "text/plain": [
       "('Liverpool',\n",
       " [0,\n",
       "  0,\n",
       "  1,\n",
       "  0.03860037966839053,\n",
       "  0.4803937979418115,\n",
       "  0.4803937979418115,\n",
       "  0.4773370954907682,\n",
       "  0.4803937979418115,\n",
       "  -0.94014064542114,\n",
       "  -1.3397143579813688])"
      ]
     },
     "execution_count": 287,
     "metadata": {},
     "output_type": "execute_result"
    }
   ],
   "source": [
    "#encodage rapide du championnat\n",
    "\n",
    "champ_encoder=ce.BinaryEncoder(return_df=False)\n",
    "\n",
    "champ_encoder.fit(list(championships.keys()))\n",
    "\n",
    "\n",
    "\n",
    "\n",
    "\n",
    "def vectorize_team(team,season):\n",
    "    \"Encode les données de team lors de season\"\n",
    "    #Car cette équipe a bien toutes les statistiques remplies\n",
    "\n",
    "    try:\n",
    "        vect=list(champ_encoder.transform([champ_mapping[team]])[0])\n",
    "    except:\n",
    "        vect=[-3,-3,-3]\n",
    "    \n",
    "    \n",
    "    \n",
    "    \n",
    "    #Si jamais l'équipe n'a pas d'entrée pour la saison\n",
    "    try:\n",
    "        \n",
    "        data=norm_global_team_stats_fbref.loc[team,f'{season}-{season+1}']\n",
    "        #Pour déclencher une erreur si ce n'est pas un dictionnaire (ie pas d'entrée)\n",
    "        len(data)\n",
    "    except:\n",
    "        return vect+[-3]*len(features)\n",
    "    \n",
    "    for feature in features:\n",
    "        \n",
    "        if feature in data.keys():\n",
    "            vect.append(data[feature])\n",
    "        else:\n",
    "            vect.append(-3)\n",
    "    return vect\n",
    "\n",
    "\n",
    "rand_team=random.sample(teams_fbref_list,k=1)[0]\n",
    "\n",
    "rand_team,vectorize_team(rand_team,2019)[:10]\n",
    "\n",
    "    \n",
    "    "
   ]
  },
  {
   "cell_type": "code",
   "execution_count": 288,
   "metadata": {},
   "outputs": [],
   "source": [
    "def big_vectorize(player,season,team):\n",
    "    \"Construit l'input du modèle de prédiction de la performance de player lors de season si il joue dans team\"\n",
    "    \n",
    "    #On prédit la performance lors de season donc on se base sur l'information jusqu'à season-1\n",
    "    season=season-1\n",
    "    \n",
    "    \n",
    "    # Encodage de l'historique du joueur\n",
    "    vect=[]\n",
    "    player_vector=[]\n",
    "    for past_season in range(2015,season+1):\n",
    "        if not(na_player_stats_fbref.loc[player,f'{past_season}-{past_season+1}']):\n",
    "            player_vector+=vectorize(player,f'{past_season}-{past_season+1}')\n",
    "        else:\n",
    "            player_vector+=[-3]*input_size\n",
    "    vect=player_vector+[-3]*(input_size)*(2024-season-1)\n",
    "    \n",
    "    vect+=vectorize_team(team,season)\n",
    "    \n",
    "    \n",
    "    try:\n",
    "        player_positions=player_stats_tm.loc[player,'positions']\n",
    "    except:\n",
    "        player_positions=[]\n",
    "    \n",
    "    \n",
    "    #on cherche les potentiels concurrents au poste en triant par ceux qui ont la plus haute valeur marchande et on les encode\n",
    "    \n",
    "    season_format=f'{season}-{season+1}'\n",
    "    competitors=sorted([player for player in player_stats_fbref.index if \n",
    "                        not(na_player_stats_fbref.loc[player,season_format]) and \n",
    "                        player_stats_fbref.loc[player,season_format]['team']==team and player in player_stats_tm.index  and \n",
    "                        set(player_positions) & set(player_stats_tm.loc[player,'positions'])]\n",
    "                       ,key=lambda x:player_stats_tm.loc[x,'market_values'].get(str(season),0),reverse=True)[:2]\n",
    "    \n",
    "\n",
    "\n",
    "    \n",
    "\n",
    "    for competitor in competitors:\n",
    "        vect+=vectorize(competitor,season_format)\n",
    "        \n",
    "    \n",
    "    #Si jamais il n'y a qu'un ou 0 competiteurs\n",
    "    if len(competitors)<2:\n",
    "        vect+=[-3]*input_size*(2-len(competitors))\n",
    "    \n",
    "    \n",
    "    return vect\n",
    "    \n",
    "    \n",
    "    \n",
    "    \n",
    "\n",
    "    \n",
    "\n",
    "    \n",
    "    \n",
    "    "
   ]
  },
  {
   "cell_type": "code",
   "execution_count": 246,
   "metadata": {},
   "outputs": [
    {
     "data": {
      "text/plain": [
       "[0.4947370198955811, 0, 1, 1, 0, 1, 1, 0, 0, 0]"
      ]
     },
     "execution_count": 246,
     "metadata": {},
     "output_type": "execute_result"
    }
   ],
   "source": [
    "big_vectorize('Iago Aspas',2020,'Real Madrid') [:10]"
   ]
  },
  {
   "cell_type": "markdown",
   "metadata": {},
   "source": [
    "#### On peut retirer ces colonnes car elles correspondent à des saisons jouées en dehors de l'Europe comme les États-Unis ou l'Amérique du Sud, ce qui ne nous intéresse pas"
   ]
  },
  {
   "cell_type": "code",
   "execution_count": 196,
   "metadata": {},
   "outputs": [],
   "source": [
    "player_stats_fbref.drop([col for col in player_stats_fbref.columns if col!='meta' and '-' not in col],axis=1,inplace=True)\n"
   ]
  },
  {
   "cell_type": "code",
   "execution_count": 208,
   "metadata": {},
   "outputs": [
    {
     "data": {
      "text/plain": [
       "([2024, 2023, 2022, 2021, 2020, 2019, 2018, 2017, 2016, 2015],\n",
       " ['2024-2025',\n",
       "  '2023-2024',\n",
       "  '2022-2023',\n",
       "  '2021-2022',\n",
       "  '2020-2021',\n",
       "  '2019-2020',\n",
       "  '2018-2019',\n",
       "  '2017-2018',\n",
       "  '2016-2017',\n",
       "  '2015-2016'])"
      ]
     },
     "execution_count": 208,
     "metadata": {},
     "output_type": "execute_result"
    }
   ],
   "source": [
    "years,seasons"
   ]
  },
  {
   "cell_type": "code",
   "execution_count": 210,
   "metadata": {},
   "outputs": [
    {
     "data": {
      "text/plain": [
       "[2024, 2023, 2022, 2021, 2020, 2019, 2018, 2017, 2016, 2015]"
      ]
     },
     "execution_count": 210,
     "metadata": {},
     "output_type": "execute_result"
    }
   ],
   "source": [
    "years"
   ]
  },
  {
   "cell_type": "code",
   "execution_count": 290,
   "metadata": {},
   "outputs": [
    {
     "name": "stderr",
     "output_type": "stream",
     "text": [
      "100%|██████████| 20000/20000 [17:35<00:00, 18.95it/s]\n"
     ]
    }
   ],
   "source": [
    "data=[]\n",
    "# On exclut la dernière saison car on ne peut pas prédire le futur\n",
    "#On prend un échantillon de taille 20 000 car on a environ 2 000 features (une bonne règle est d'avoir au moins 10x le nombre de features en jeu de données)\n",
    "for player,year in tqdm(random.sample([(player,year) for player in player_stats_fbref.index for year  in years[1:]],k=20000)):\n",
    "    season=seasons[years.index(year)]\n",
    "    next_season=seasons[seasons.index(season) - 1]\n",
    "    if not(na_player_stats_fbref.loc[player,season]) and not(na_player_stats_fbref.loc[player,next_season]):\n",
    "        team=player_stats_fbref.loc[player,next_season]['team']\n",
    "        data.append((np.array(big_vectorize(player,year+1,team)),np.array(vectorize(player,next_season))))\n",
    "        "
   ]
  },
  {
   "cell_type": "code",
   "execution_count": 306,
   "metadata": {},
   "outputs": [],
   "source": [
    "inp,out=np.array([x[0] for x in data]),np.array([x[1] for x in data])"
   ]
  },
  {
   "cell_type": "code",
   "execution_count": null,
   "metadata": {},
   "outputs": [],
   "source": [
    "!pip3 install xgboost\n",
    "!brew install libomp"
   ]
  },
  {
   "cell_type": "code",
   "execution_count": 310,
   "metadata": {},
   "outputs": [],
   "source": [
    "import xgboost as xgb\n",
    "import pandas as pd\n",
    "from sklearn.model_selection import train_test_split\n",
    "from sklearn.metrics import mean_squared_error\n",
    "\n"
   ]
  },
  {
   "cell_type": "code",
   "execution_count": 386,
   "metadata": {},
   "outputs": [
    {
     "name": "stdout",
     "output_type": "stream",
     "text": [
      "[0]\ttrain-rmse:1.01300\tvalidation-rmse:1.08579\n",
      "[1]\ttrain-rmse:0.98237\tvalidation-rmse:1.06562\n",
      "[2]\ttrain-rmse:0.95463\tvalidation-rmse:1.04833\n",
      "[3]\ttrain-rmse:0.92999\tvalidation-rmse:1.03380\n",
      "[4]\ttrain-rmse:0.90746\tvalidation-rmse:1.02127\n",
      "[5]\ttrain-rmse:0.88713\tvalidation-rmse:1.01077\n",
      "[6]\ttrain-rmse:0.86868\tvalidation-rmse:1.00164\n",
      "[7]\ttrain-rmse:0.85175\tvalidation-rmse:0.99377\n",
      "[8]\ttrain-rmse:0.83643\tvalidation-rmse:0.98729\n",
      "[9]\ttrain-rmse:0.82233\tvalidation-rmse:0.98181\n",
      "[10]\ttrain-rmse:0.80927\tvalidation-rmse:0.97698\n",
      "[11]\ttrain-rmse:0.79728\tvalidation-rmse:0.97271\n",
      "[12]\ttrain-rmse:0.78622\tvalidation-rmse:0.96913\n",
      "[13]\ttrain-rmse:0.77595\tvalidation-rmse:0.96595\n",
      "[14]\ttrain-rmse:0.76627\tvalidation-rmse:0.96315\n"
     ]
    }
   ],
   "source": [
    "params = {\n",
    "    'objective': 'reg:squarederror',\n",
    "    'max_depth': 7,\n",
    "    'learning_rate': 0.1,\n",
    "    'eval_metric': 'rmse'\n",
    "}\n",
    "\n",
    "inp_train, inp_val, out_train, out_val = train_test_split(inp, out, test_size=0.2, random_state=42)\n",
    "\n",
    "train=xgb.DMatrix(inp_train,label=out_train)\n",
    "val=xgb.DMatrix(inp_val,label=out_val)\n",
    "\n",
    "\n",
    "evals_result={}\n",
    "\n",
    "model = xgb.train(\n",
    "    params=params,\n",
    "    dtrain=xgb.DMatrix(inp_train,label=out_train),\n",
    "    num_boost_round=15,\n",
    "    evals=[(train, 'train'), (val, 'validation')],\n",
    "    evals_result=evals_result,\n",
    "    early_stopping_rounds=3,  # Arrêt si pas d'amélioration après 3 itérations\n",
    "    verbose_eval=1,\n",
    "    xgb_model=model #si il y a déja un cycle d'entraînement qui a été fait\n",
    ")"
   ]
  },
  {
   "cell_type": "code",
   "execution_count": 388,
   "metadata": {},
   "outputs": [
    {
     "data": {
      "image/png": "iVBORw0KGgoAAAANSUhEUgAAA1cAAAIjCAYAAADvBuGTAAAAOXRFWHRTb2Z0d2FyZQBNYXRwbG90bGliIHZlcnNpb24zLjkuMCwgaHR0cHM6Ly9tYXRwbG90bGliLm9yZy80BEi2AAAACXBIWXMAAA9hAAAPYQGoP6dpAACRm0lEQVR4nOzdd3hUVf7H8fdMeg8kIY3QEnoHJVQBBQEVARtio+hawcL6c2WxoK6yri52V9ddQV1RLIiCiCBSpakU6ZAQCIR0SCd15vfHwMCQUMIkuSmf1/PMY+bcc+98J4OQT84955isVqsVERERERERcYrZ6AJERERERETqA4UrERERERGRKqBwJSIiIiIiUgUUrkRERERERKqAwpWIiIiIiEgVULgSERERERGpAgpXIiIiIiIiVUDhSkREREREpAooXImIiIiIiFQBhSsRkTpswoQJtGjR4pLOnTFjBiaTqWoLqqcq+l61aNGCCRMmXPDcOXPmYDKZOHjwYJXVc/DgQUwmE3PmzKmya4qIiPMUrkREqoHJZLqox8qVK40utV5JS0vD1dWVO+6445x9cnNz8fLy4oYbbqjByi7N3Llzef31140uw8GECRMc/gx7eHjQpk0bnnnmGQoLC8v1P9XvnnvuqfB606dPt/fJyMhwOLZw4UIGDhxIkyZN8Pb2plWrVtxyyy0sWbLE3udU0DzX4+9//3vVfgNERM7D1egCRETqo08++cTh+ccff8yyZcvKtbdv396p1/nggw+wWCyXdO5TTz3Fk08+6dTr1zZNmjRh6NChfPvttxQUFODt7V2uz/z58yksLDxvALsYe/fuxWyu3t9Rzp07lx07dvDoo486tDdv3pwTJ07g5uZWra9/Lh4eHvznP/8BIDs7m2+//ZYXXniB+Ph4Pv3003L9PT09+frrr3n33Xdxd3d3OPbZZ5/h6elZLpi9+uqr/N///R8DBw5k2rRpeHt7ExcXx08//cTnn3/O8OHDHfqPGzeOa665ptxrd+/e3dm3KyJy0RSuRESqwdk/uG/YsIFly5Zd8Af6cwWCc3Hmh2tXV1dcXevfPwO33347S5Ys4bvvvuPWW28td3zu3LkEBARw7bXXOvU6Hh4eTp3vDJPJhKenp2Gvf/bo4IMPPkjfvn357LPPmDVrFqGhoQ79hw8fznfffccPP/zAqFGj7O3r1q0jISGBG2+8ka+//treXlpaygsvvMDQoUNZunRpuddPS0sr19ajRw+nA7OIiLN0W6CIiEEGDRpEp06d+P3337niiivw9vbmr3/9KwDffvst1157LREREXh4eBAdHc0LL7xAWVmZwzXOnnN16hapV199lX//+99ER0fj4eHB5Zdfzq+//upwbkXziEwmE5MnT2bBggV06tQJDw8POnbs6HAb1ikrV67ksssuw9PTk+joaN5///2Lmsc1efJkfH19KSgoKHds3LhxhIWF2d/nb7/9xrBhwwgODsbLy4uWLVsyadKk815/zJgx+Pj4MHfu3HLH0tLSWL58OTfddBMeHh6sWbOGm2++mWbNmuHh4UFUVBSPPfYYJ06cOO9rQMVzrnbu3MmVV16Jl5cXTZs25W9/+1uFI4sX8/kOGjSI77//nkOHDtlvcTv1WZ9rztXPP//MgAED8PHxITAwkFGjRrF7926HPqc+o7i4OCZMmEBgYCABAQFMnDixws/kYphMJvr374/VauXAgQPljkdGRnLFFVeU+0w+/fRTOnfuTKdOnRzaMzIyyMnJoV+/fhW+XpMmTS6pThGR6lb/fmUpIlKHZGZmMmLECG699VbuuOMO+2/858yZg6+vL1OnTsXX15eff/6ZZ555hpycHF555ZULXnfu3Lnk5uZy3333YTKZ+Mc//sENN9zAgQMHLjjatXbtWubPn8+DDz6In58fb775JjfeeCOJiYkEBQUBsGXLFoYPH054eDjPPfccZWVlPP/884SEhFywtrFjx/LOO+/w/fffc/PNN9vbCwoKWLhwIRMmTMDFxYW0tDSuvvpqQkJCePLJJwkMDOTgwYPMnz//vNf38fFh1KhRfPXVVxw7dozGjRvbj82bN4+ysjJuv/12AL788ksKCgp44IEHCAoKYtOmTbz11lscOXKEL7/88oLv5UwpKSkMHjyY0tJSnnzySXx8fPj3v/+Nl5dXub4X8/lOnz6d7Oxsjhw5wmuvvQaAr6/vOV//p59+YsSIEbRq1YoZM2Zw4sQJ3nrrLfr168fmzZvLLXxyyy230LJlS2bOnMnmzZv5z3/+Q5MmTXj55Zcr9b5PObVgR6NGjSo8ftttt/HII4+Ql5eHr68vpaWlfPnll0ydOrXcLYFNmjTBy8uLhQsXMmXKFIfP8FwKCgrKzdkCCAwMrJcjtCJSS1lFRKTaPfTQQ9az/8odOHCgFbC+99575foXFBSUa7vvvvus3t7e1sLCQnvb+PHjrc2bN7c/T0hIsALWoKAg67Fjx+zt3377rRWwLly40N727LPPlqsJsLq7u1vj4uLsbdu2bbMC1rfeesveNnLkSKu3t7c1KSnJ3rZ//36rq6truWuezWKxWCMjI6033nijQ/sXX3xhBayrV6+2Wq1W6zfffGMFrL/++ut5r1eR77//3gpY33//fYf23r17WyMjI61lZWVWq7Xi7/PMmTOtJpPJeujQIXtbRd+r5s2bW8ePH29//uijj1oB68aNG+1taWlp1oCAACtgTUhIsLdf7Od77bXXOny+p5z6nGfPnm1v69atm7VJkybWzMxMe9u2bdusZrPZetddd5V7L5MmTXK45pgxY6xBQUHlXuts48ePt/r4+FjT09Ot6enp1ri4OOurr75qNZlM1k6dOlktFotDf8D60EMPWY8dO2Z1d3e3fvLJJ1ar1fYZmUwm68GDB+01paen28975plnrIDVx8fHOmLECOuLL75o/f3338/5vTjXY/369Rd8TyIiVUW3BYqIGMjDw4OJEyeWaz9ztCM3N5eMjAwGDBhAQUEBe/bsueB1x44d6zCCMGDAAIAKb9k625AhQ4iOjrY/79KlC/7+/vZzy8rK+Omnnxg9ejQRERH2fjExMYwYMeKC1zeZTNx8880sXryYvLw8e/u8efOIjIykf//+gG3EAWDRokWUlJRc8LpnOjXideZtaAkJCWzYsIFx48bZF6I48/ucn59PRkYGffv2xWq1smXLlkq95uLFi+nduze9evWyt4WEhNhHyc7k7Od7tuTkZLZu3cqECRMcRnm6dOnC0KFDWbx4cblz7r//fofnAwYMIDMzk5ycnAu+Xn5+PiEhIYSEhBATE8Pjjz9Ov379+Pbbb895W2ijRo0YPnw4n332GWAbXe3bty/NmzevsP9zzz3H3Llz6d69Oz/++CPTp0+nZ8+e9OjRo9ytjgD33nsvy5YtK/fo0KHDBd+PiEhVUbgSETFQZGRkudXTwDZ3Z8yYMQQEBODv709ISIh9sn52dvYFr9usWTOH56eC1vHjxyt97qnzT52blpbGiRMniImJKdevoraKjB07lhMnTvDdd98BkJeXx+LFi7n55pvtP5wPHDiQG2+8keeee47g4GBGjRrF7NmzKSoquuD1XV1dGTt2LGvWrCEpKQnAHrTODDuJiYn2QOLr60tISAgDBw4ELu77fKZDhw7RunXrcu1t27Yt1+bs51vRa5/rtdq3b09GRgb5+fkO7c78GfH09LSHl9mzZ9O+fXvS0tIqvAXyTLfddhvLli0jMTGRBQsWcNttt523/7hx41izZg3Hjx9n6dKl3HbbbWzZsoWRI0eWu5WwdevWDBkypNzD39//gu9HRKSqKFyJiBiooh9Gs7KyGDhwINu2beP5559n4cKFLFu2zD4X5mKWXndxcamw3Wq1Vuu5F6t37960aNGCL774ArDtZ3TixAnGjh1r72Mymfjqq69Yv349kydPJikpiUmTJtGzZ0+HEa9zueOOO7BYLPaRks8++4wOHTrQrVs3wDYCN3ToUL7//nv+8pe/sGDBApYtW2ZfJOJSl7i/kKr4fKuCs39GToWXCRMmsHz5clJSUrjvvvvOe97111+Ph4cH48ePp6ioiFtuueWiavX392fo0KF8+umnjB8/nvj4eDZu3HhR54qI1CTN8BQRqWVWrlxJZmYm8+fP54orrrC3JyQkGFjVaU2aNMHT05O4uLhyxypqO5dbbrmFN954g5ycHObNm0eLFi3o3bt3uX69e/emd+/evPjii8ydO5fbb7+dzz///Jyb0p4SGxtLdHQ0c+fOZejQoezcuZMXX3zRfnz79u3s27ePjz76iLvuusvevmzZsot+D2dq3rw5+/fvL9e+d+9eh+eV+XwvtPLima9d0WsB7Nmzh+DgYHx8fC7qWpciPDycxx57jOeee44NGzZU+DmC7ZcJo0eP5n//+x8jRowgODi40q912WWX8dFHH5GcnOxs2SIiVU4jVyIitcypEYUzRxCKi4t59913jSrJwalRiwULFnD06FF7e1xcHD/88MNFX2fs2LEUFRXx0UcfsWTJknKjGMePHy83inJq1Olibg0E2y2AW7Zs4dlnn8VkMjnchlbR99lqtfLGG29c9Hs40zXXXMOGDRvYtGmTvS09Pb3cprqV+Xx9fHwu6jbB8PBwunXrxkcffURWVpa9fceOHSxdurTCzXWr2pQpU/D29ubvf//7efs9/vjjPPvsszz99NPn7FNQUMD69esrPHbqz1hFt0CKiBhNI1ciIrVM3759adSoEePHj+fhhx/GZDLxySefVOltec6aMWMGS5cupV+/fjzwwAOUlZXx9ttv06lTJ7Zu3XpR1+jRowcxMTFMnz6doqIih1sCAT766CPeffddxowZQ3R0NLm5uXzwwQf4+/tfdFi44447eP755/n222/p16+fw3Lk7dq1Izo6mscff5ykpCT8/f35+uuvL2rOUUWeeOIJPvnkE4YPH84jjzxiX4q9efPm/PHHH/Z+lfl8e/bsybx585g6dSqXX345vr6+jBw5ssLXf+WVVxgxYgR9+vTh7rvvti/FHhAQwIwZMy7pPVVGUFAQEydO5N1332X37t20b9++wn5du3ala9eu571WQUEBffv2pXfv3gwfPpyoqCiysrJYsGABa9asYfTo0XTv3t3hnM2bN/O///2v3LWio6Pp06fPpb8xEZFKULgSEallgoKCWLRoEX/+85956qmnaNSoEXfccQdXXXUVw4YNM7o8wPZD/w8//MDjjz/O008/TVRUFM8//zy7d++u1Gp3Y8eO5cUXXyQmJoYePXo4HBs4cCCbNm3i888/JzU1lYCAAHr16sWnn35Ky5YtL+r6rVu3tm+gfPaqfW5ubixcuJCHH36YmTNn4unpyZgxY5g8efIFf/ivSHh4OCtWrGDKlCn8/e9/JygoiPvvv5+IiAjuvvtue7/KfL4PPvggW7duZfbs2bz22ms0b978nOFqyJAhLFmyhGeffZZnnnkGNzc3Bg4cyMsvv3zR3y9nTZ06lffee4+XX3653AbHlREYGMgHH3zA999/z+zZs0lJScHFxYW2bdvyyiuv8PDDD5c757PPPrPPrzvT+PHjFa5EpMaYrLXpV6EiIlKnjR49mp07d1Y490hERKS+05wrERG5JCdOnHB4vn//fhYvXsygQYOMKUhERMRgGrkSEZFLEh4ezoQJE2jVqhWHDh3iX//6F0VFRWzZsqXC/Z5ERETqO825EhGRSzJ8+HA+++wzUlJS8PDwoE+fPrz00ksKViIi0mBp5EpERERERKQKaM6ViIiIiIhIFTA0XK1evZqRI0cSERGByWRiwYIF5+2fnJzMbbfdRps2bTCbzTz66KMV9vvyyy9p164dnp6edO7cmcWLF1d98SIiIiIiImcwdM5Vfn4+Xbt2ZdKkSdxwww0X7F9UVERISAhPPfUUr732WoV91q1bx7hx45g5cybXXXcdc+fOZfTo0WzevJlOnTpdVF0Wi4WjR4/i5+eHyWSq1HsSEREREZH6w2q1kpubS0REBGbz+cemas2cK5PJxDfffMPo0aMvqv+gQYPo1q0br7/+ukP72LFjyc/PZ9GiRfa23r17061bN957772LuvaRI0eIioq62NJFRERERKSeO3z4ME2bNj1vn3q3WuD69euZOnWqQ9uwYcPOe8thUVERRUVF9uen8ubhw4fx9/evljpFRERERKT2y8nJISoqCj8/vwv2rXfhKiUlhdDQUIe20NBQUlJSznnOzJkzee6558q1+/v7K1yJiIiIiMhFTRfSaoHAtGnTyM7Otj8OHz5sdEkiIiIiIlLH1LuRq7CwMFJTUx3aUlNTCQsLO+c5Hh4eeHh4VHdpIiIiIiJSj9W7kas+ffqwfPlyh7Zly5bRp08fgyoSEREREZGGwNCRq7y8POLi4uzPExIS2Lp1K40bN6ZZs2ZMmzaNpKQkPv74Y3ufrVu32s9NT09n69atuLu706FDBwAeeeQRBg4cyD//+U+uvfZaPv/8c3777Tf+/e9/1+h7ExEREZGLZ7VaKS0tpayszOhSpIFxcXHB1dW1SrZgMnQp9pUrVzJ48OBy7ePHj2fOnDlMmDCBgwcPsnLlSvuxit508+bNOXjwoP35l19+yVNPPcXBgwdp3bo1//jHP7jmmmsuuq6cnBwCAgLIzs7WghYiIiIi1ay4uJjk5GQKCgqMLkUaKG9vb8LDw3F3dy93rDLZoNbsc1WbKFyJiIiI1AyLxcL+/ftxcXEhJCQEd3f3KhlBELkYVquV4uJi0tPTKSsro3Xr1uU2Cq5MNqh3C1qIiIiISN1RXFyMxWIhKioKb29vo8uRBsjLyws3NzcOHTpEcXExnp6el3ytereghYiIiIjUPWePFojUpKr686c/xSIiIiIiIlVA4UpERERERKQKKFyJiIiIiNQCLVq04PXXXze6DHGCwpWIiIiISCWYTKbzPmbMmHFJ1/3111+59957napt0KBB9jo8PT1p06YNM2fO5MwFwg8ePIjJZMLFxYWkpCSH85OTk+17Pp251dE333xD7969CQgIwM/Pj44dO/Loo4/aj8+ZM6fC74Uzi0PURVotUERERESkEpKTk+1fz5s3j2eeeYa9e/fa23x9fe1fW61WysrKcHW98I/dISEhVVLfn/70J55//nmKior4+eefuffeewkMDOSBBx5w6BcZGcnHH3/MtGnT7G0fffQRkZGRJCYm2tuWL1/O2LFjefHFF7n++usxmUzs2rWLZcuWOVzP39/f4fsAFe9RW59p5EpEREREag2r1UpBcakhj4vd/jUsLMz+CAgIwGQy2Z/v2bMHPz8/fvjhB3r27ImHhwdr164lPj6eUaNGERoaiq+vL5dffjk//fSTw3XPvi3QZDLxn//8hzFjxuDt7U3r1q357rvvLlift7c3YWFhNG/enIkTJ9KlS5dyQQhg/PjxzJ4926Ft9uzZjB8/3qFt4cKF9OvXj//7v/+jbdu2tGnThtGjR/POO+849Dvz+3DqERoaesF66xONXImIiIhIrXGipIwOz/xoyGvven4Y3u5V8+Pxk08+yauvvkqrVq1o1KgRhw8f5pprruHFF1/Ew8ODjz/+mJEjR7J3716aNWt2zus899xz/OMf/+CVV17hrbfe4vbbb+fQoUM0btz4gjVYrVbWrl3Lnj17aN26dbnj119/Pe+99x5r166lf//+rF27luPHjzNy5EheeOEFe7+wsDDmzp3Ljh076NSp06V9QxoIjVyJiIiIiFSx559/nqFDhxIdHU3jxo3p2rUr9913H506daJ169a88MILREdHX3AkasKECYwbN46YmBheeukl8vLy2LRp03nPeffdd/H19cXDw4MrrrgCi8XCww8/XK6fm5sbd9xxBx9++CEAH374IXfccQdubm4O/aZMmcLll19O586dadGiBbfeeisffvghRUVFDv2ys7Px9fV1eIwYMeJivl31hkauaru0PXB4A3S7A1z0cYmIiEj95uXmwq7nhxn22lXlsssuc3iel5fHjBkz+P7770lOTqa0tJQTJ044zG2qSJcuXexf+/j44O/vT1pa2nnPuf3225k+fTrHjx/n2WefpW/fvvTt27fCvpMmTaJv37689NJLfPnll6xfv57S0lKHPj4+Pnz//ffEx8ezYsUKNmzYwJ///GfeeOMN1q9fj7e3NwB+fn5s3rzZ4VwvL6/z1lrf6Kf12u7nF2DPIvjlTbhyOnQYA9rBXEREROopk8lUZbfmGcnHx8fh+eOPP86yZct49dVXiYmJwcvLi5tuuoni4uLzXufsUSSTyYTFYjnvOQEBAcTExADwxRdfEBMTQ+/evRkyZEi5vp07d6Zdu3aMGzeO9u3b06lTJ7Zu3VrhdaOjo4mOjuaee+5h+vTptGnThnnz5jFx4kQAzGaz/XUbKv2UXptZrdCiP3gHwbF4+GoS/PsK2LfUdkxERERE6oRffvmFCRMmMGbMGDp37kxYWJjDUufVxdfXl0ceeYTHH3/8nAt2TJo0iZUrVzJp0qSLvm6LFi3w9vYmPz+/qkqtFxSuajOTCXo/AI9sg0F/BXc/SNkOc2+G2SPg0HqjKxQRERGRi9C6dWvmz5/P1q1b2bZtG7fddtsFR6Cqyn333ce+ffv4+uuvKzz+pz/9ifT0dO65554Kj8+YMYMnnniClStXkpCQwJYtW5g0aRIlJSUMHTrU3s9qtZKSklLuUVPvszZQuKoLPPxg0F9sIavPZHDxgMT1MHs4fHozJP9hdIUiIiIich6zZs2iUaNG9O3bl5EjRzJs2DB69OhRI6/duHFj7rrrLmbMmFFh0HF1dSU4OPice3ENHDiQAwcOcNddd9GuXTtGjBhBSkoKS5cupW3btvZ+OTk5hIeHl3tcaI5YfWKyXuyC/g1ITk4OAQEBZGdn4+/vb3Q55WUnwep/wOZPwFpma+t0IwyeDkHRxtYmIiIiUgmFhYUkJCTQsmVLPD09jS5HGqjz/TmsTDbQyFVdFBAJI9+Ayb/aQhXAjq/h7cvhu4dt4UtERERERGqUwlVdFhQNN30I962B1sNso1ibP4I3u8OP0yE/0+gKRUREREQaDIWr+iC8C9z+BUxcAs36QlkRrH8b3ugKK/8ORblGVygiIiIiUu8pXNUnzfvAxMVw+1cQ1hmKc2HlTFvIWv8OlBQaXaGIiIiISL2lcFXfmEzQeijcuxpumg1BMVCQCT/+Fd7qCZs/hrLSC19HREREREQqReGqvjKbodMN8OBGGPkm+EdCzhH4bgq8Gws75kMD2nNARERERKS6KVzVdy6u0HM8TNkMV78IXo0hMw6+mgj/Hgj7fwKtxi8iIiIi4jSFq4bCzRP6TrZtRDxoGrj7Qcof8OmNMOdaSNxodIUiIiIiInWawlVD4+kPg560haw+k8HFAw79Ah9eDZ/eAinbja5QRERERKROUrhqqHyCYNiL8PAW6DEeTC6w/0d4rz98dTdkxhtdoYiIiEi9NmjQIB599FH78xYtWvD666+f9xyTycSCBQucfu2quo44Urhq6AIi4fo34aFN0PEGW9uOr+Dty2HhI5Bz1Nj6RERERGqZkSNHMnz48AqPrVmzBpPJxB9//FHp6/7666/ce++9zpbnYMaMGXTr1q1ce3JyMiNGjKjS1zrbnDlzMJlMmEwmzGYz4eHhjB07lsTERId+gwYNwmQy8fe//73cNa699lpMJhMzZsywtyUkJHDbbbcRERGBp6cnTZs2ZdSoUezZs8fe59Trnv34/PPPq+39gsKVnBIcAzfPhvtWQ8xQsJbB73Pgze6w9CkoOGZ0hSIiIiK1wt13382yZcs4cuRIuWOzZ8/msssuo0uXLpW+bkhICN7e3lVR4gWFhYXh4eFR7a/j7+9PcnIySUlJfP311+zdu5ebb765XL+oqCjmzJnj0JaUlMTy5csJDw+3t5WUlDB06FCys7OZP38+e/fuZd68eXTu3JmsrCyH82fPnk1ycrLDY/To0dXwLk9TuBJH4V3hjq9g4g8Q1RtKC2HdW7aNiFf9A4pyja5QRERE6jOrFYrzjXlc5ArK1113HSEhIeXCQF5eHl9++SV33303mZmZjBs3jsjISLy9vencuTOfffbZea979m2B+/fv54orrsDT05MOHTqwbNmycuf85S9/oU2bNnh7e9OqVSuefvppSkpKANvI0XPPPce2bdvsIzenaj77tsDt27dz5ZVX4uXlRVBQEPfeey95eXn24xMmTGD06NG8+uqrhIeHExQUxEMPPWR/rXMxmUyEhYURHh5O3759ufvuu9m0aRM5OTnlvqcZGRn88ssv9raPPvqIq6++miZNmtjbdu7cSXx8PO+++y69e/emefPm9OvXj7/97W/07t3b4ZqBgYGEhYU5PDw9Pc9br7Ncq/XqUnc17wuTlsD+ZbD8eUjdDitehI3vw4A/w2WTbCsQioiIiFSlkgJ4KcKY1/7rUXD3uWA3V1dX7rrrLubMmcP06dMxmUwAfPnll5SVlTFu3Djy8vLo2bMnf/nLX/D39+f777/nzjvvJDo6ml69el3wNSwWCzfccAOhoaFs3LiR7Oxsh/lZp/j5+TFnzhwiIiLYvn07f/rTn/Dz8+OJJ55g7Nix7NixgyVLlvDTTz8BEBAQUO4a+fn5DBs2jD59+vDrr7+SlpbGPffcw+TJkx0C5IoVKwgPD2fFihXExcUxduxYunXrxp/+9KcLvh+AtLQ0vvnmG1xcXHBxcXE45u7uzu23387s2bPp168fYAuH//jHPxxuCQwJCcFsNvPVV1/x6KOPlruO0TRyJedmMkGbq223Ct74X2jcCgoy4Mdp8FZP2PwJlJUaXaWIiIhIjZs0aRLx8fGsWrXK3jZ79mxuvPFGAgICiIyM5PHHH6dbt260atWKKVOmMHz4cL744ouLuv5PP/3Enj17+Pjjj+natStXXHEFL730Url+Tz31FH379qVFixaMHDmSxx9/3P4aXl5e+Pr64urqah+58fLyKneNuXPnUlhYyMcff0ynTp248sorefvtt/nkk09ITU2192vUqBFvv/027dq147rrruPaa69l+fLl530f2dnZ+Pr64uPjQ2hoKCtWrOChhx7Cx6d8iJ00aRJffPEF+fn5rF69muzsbK677jqHPpGRkbz55ps888wzNGrUiCuvvJIXXniBAwcOlLveuHHj8PX1dXicPd+rqmnkSi7MbIbON0GHUbD1U1j5MuQcge8mw7o3YfB027GTv7URERERuWRu3rYRJKNe+yK1a9eOvn378uGHHzJo0CDi4uJYs2YNzz//PABlZWW89NJLfPHFFyQlJVFcXExRUdFFz6navXs3UVFRREScHsXr06dPuX7z5s3jzTffJD4+nry8PEpLS/H397/o93Hqtbp27eoQePr164fFYmHv3r2EhoYC0LFjR4eRovDwcLZvP/82Pn5+fmzevJmSkhJ++OEHPv30U1588cUK+3bt2pXWrVvz1VdfsWLFCu68805cXcvHlYceeoi77rqLlStXsmHDBr788kteeuklvvvuO4YOHWrv99prrzFkyBCHc8/8flYHhSu5eC5u0HMCdBkLv/4H1syCjH3w5XgI7wZXPQPRVypkiYiIyKUzmS7q1rza4O6772bKlCm88847zJ49m+joaAYOHAjAK6+8whtvvMHrr79O586d8fHx4dFHH6W4uLjKXn/9+vXcfvvtPPfccwwbNoyAgAA+//xz/vnPf1bZa5zJzc3N4bnJZMJisZz3HLPZTExMDADt27cnPj6eBx54gE8++aTC/pMmTeKdd95h165dbNq06ZzX9fPzY+TIkYwcOZK//e1vDBs2jL/97W8O4SosLMz+2jVFtwVK5bl5Qd8pto2IBz4J7r6QvBX+dwPMuQ4On/t/BBEREZH64pZbbsFsNjN37lw+/vhjJk2aZJ9/9csvvzBq1CjuuOMOunbtSqtWrdi3b99FX7t9+/YcPnyY5ORke9uGDRsc+qxbt47mzZszffp0LrvsMlq3bs2hQ4cc+ri7u1NWVnbB19q2bRv5+fn2tl9++QWz2Uzbtm0vuuaL8eSTTzJv3jw2b95c4fHbbruN7du306lTJzp06HBR1zSZTLRr186hfqMoXMml8/SHwdNsIav3Q+DiAYfWwn+HwtxbIWWH0RWKiIiIVBtfX1/Gjh3LtGnTSE5OZsKECfZjrVu3ZtmyZaxbt47du3dz3333OcxfupAhQ4bQpk0bxo8fz7Zt21izZg3Tp0936NO6dWsSExP5/PPPiY+P58033+Sbb75x6NOiRQsSEhLYunUrGRkZFBUVlXut22+/HU9PT8aPH8+OHTtYsWIFU6ZM4c4777TfElhVoqKiGDNmDM8880yFxxs1akRycvI553Jt3bqVUaNG8dVXX7Fr1y7i4uL473//y4cffsioUaMc+mZlZZGSkuLwqO4ApnAlzvMJhuEvwcObofudYDLDvh/gvf7w9T1wrPwEQxEREZH64O677+b48eMMGzbMYT7PU089RY8ePRg2bBiDBg0iLCysUnssmc1mvvnmG06cOEGvXr245557ys1Vuv7663nssceYPHky3bp1Y926dTz99NMOfW688UaGDx/O4MGDCQkJqXA5eG9vb3788UeOHTvG5Zdfzk033cRVV13F22+/XblvxkV67LHH+P777895219gYGCFC14ANG3alBYtWvDcc88RGxtLjx49eOONN3juuefKhc+JEycSHh7u8Hjrrbeq/P2cyWS1XuSC/g1ITk4OAQEBZGdnV3pCoAAZ++Hnv8GuBbbnZlfocRdc8QT4h5/3VBEREWlYCgsLSUhIoGXLltW+B5HIuZzvz2FlsoFGrqTqBbeGWz6Ce1dBzBCwlMJvH8Kb3eCHJ+H4oQteQkRERESkrlG4kuoT0Q3u+BomLIaoWCgthI3/soWsLydC0u9GVygiIiIiUmUUrqT6tegHk36EO+ZDq8FgtcDO+fDBlTD7Gtj7A1xgGU8RERERkdpO+1xJzTCZIOYq2yNlO6x/B7Z/CYd+sT2CWkOfh6Drrbal3kVERERE6hiNXEnNC+sMY96DR/6Afo+ARwBk7odFj8JrnWDl3yE/w+gqRUREpAZpjTUxUlX9+VO4EuMERMLQ52HqThg2EwKioCADVs6E1zrCwkchI87oKkVERKQaubm5AVBQUGBwJdKQnfrzd+rP46XSUuwV0FLsBikrhd3fwrq34OiWk40maHsN9J0MzfrYbi8UERGReiU5OZmsrCyaNGmCt7c3Jv17LzXEarVSUFBAWloagYGBhIeX3zaoMtlA4aoCClcGs1rh0DpbyNr3w+n2yJ7Qdwq0Gwkumi4oIiJSX1itVlJSUsjKyjK6FGmgAgMDCQsLqzDYK1w5SeGqFknfBxvega2fQVmRrS2wGfR+CLrfAR6+xtYnIiIiVaasrIySkhKjy5AGxs3NDRcXl3MeV7hyksJVLZSXDr9+AJs+gBPHbG2eAXDZJOh1H/iXH8IVEREREXGWwpWTFK5qseIC2PaZbSn3Y/G2NrMbdLkF+kyG0A7G1iciIiIi9YrClZMUruoAi8U2H2vdW5C4/nR79FW2eVmtBmnxCxERERFxmsKVkxSu6pgjv9lC1u7vwGqxtYV2soWsjjeAq7ux9YmIiIhInaVw5SSFqzrqWAJs+Bds+R+U5Nva/MIh9n7oOQG8Ao2sTkRERETqIIUrJylc1XEFx+D32bDxfchLtbW5+0KP8dD7fttqgyIiIiIiF0HhykkKV/VEaRFs/8p2y2D6blubyQU6jrYtfhHZw9DyRERERKT2U7hyksJVPWO1QvxyW8g6sPJ0e/P+0HcytB4GZrNh5YmIiIhI7aVw5SSFq3os+Q/bMu47vgJLqa0tqLUtZHW5Fdw8ja1PRERERGqVymQDQ39dv3r1akaOHElERAQmk4kFCxZc8JyVK1fSo0cPPDw8iImJYc6cOQ7HZ8yYgclkcni0a9euet6A1D3hXeCG9+GRP6Dvw+DhD5n7YeEj8HonWPky5GcaXaWIiIiI1EGGhqv8/Hy6du3KO++8c1H9ExISuPbaaxk8eDBbt27l0Ucf5Z577uHHH3906NexY0eSk5Ptj7Vr11ZH+VKXBUTC1S/AYzth2EsQEAX56bDyJXitIyx6DDLijK5SREREROoQVyNffMSIEYwYMeKi+7/33nu0bNmSf/7znwC0b9+etWvX8tprrzFs2DB7P1dXV8LCwqq8XqmHPP2hz0PQ6z7YtQDWvQnJ2+C3D+G32dDuWtt+WVGx2pRYRERERM6rTs3iX79+PUOGDHFoGzZsGOvXr3do279/PxEREbRq1Yrbb7+dxMTE8163qKiInJwch4c0MC6u0PkmuHcVjF8EbYYDVtizCD4cBv8ZAjsXgKXM6EpFREREpJaqU+EqJSWF0NBQh7bQ0FBycnI4ceIEALGxscyZM4clS5bwr3/9i4SEBAYMGEBubu45rztz5kwCAgLsj6ioqGp9H1KLmUzQcgDcNg8e2gQ97gIXd0j6Db4cD292t+2fVZRndKUiIiIiUsvUqXB1MUaMGMHNN99Mly5dGDZsGIsXLyYrK4svvvjinOdMmzaN7Oxs++Pw4cM1WLHUWiFt4fq3bPOyrngCvBpB1iH44QmY1R6+exgOb7It9S4iIiIiDZ6hc64qKywsjNTUVIe21NRU/P398fLyqvCcwMBA2rRpQ1zcuRcn8PDwwMPDo0prlXrEtwlcOR36Pwbb5tqWcj92ADZ/ZHsEt4Fut0PXW8FPc/1EREREGqo6NXLVp08fli9f7tC2bNky+vTpc85z8vLyiI+PJzw8vLrLk/rO3Rsuvwcm/w7jF9r2xXL1gox98NOzMKsDfHoL7PoWSouNrlZEREREapih4SovL4+tW7eydetWwLbU+tatW+0LUEybNo277rrL3v/+++/nwIEDPPHEE+zZs4d3332XL774gscee8ze5/HHH2fVqlUcPHiQdevWMWbMGFxcXBg3blyNvjepx8xmaHmFbb+sx/fByDdtqwlay2D/j/DFXfDPtvDDk5Cy3ehqRURERKSGmKxW4yaMrFy5ksGDB5drHz9+PHPmzGHChAkcPHiQlStXOpzz2GOPsWvXLpo2bcrTTz/NhAkT7MdvvfVWVq9eTWZmJiEhIfTv358XX3yR6Ojoi66rMrswi9il74Otn8K2zyEv5XR7WBfofgd0vhm8GxtXn4iIiIhUWmWygaHhqrZSuBKnlJVC/M+w9X+wZzFYSmztLu7QdgR0vxOirwSzi7F1ioiIiMgFKVw5SeFKqkzBMdj+JWz5xPEWQb9w2wIY3e6A4Bjj6hMRERGR81K4cpLClVSL5D9stw3+8QWcOHa6PSrWttpgxzHgqT9vIiIiIrWJwpWTFK6kWpUWwb4lsOVTiFsGVout3c0bOoyyBa3m/WwLZ4iIiIiIoRSunKRwJTUmN8W2AMaW/0Hm/tPtgc1tIavbOAhsZlx9IiIiIg2cwpWTFK6kxlmtcORXW8jaMR+Kc08eMNmWfe9+B7QfCW4Vb5YtIiIiItVD4cpJCldiqOIC2L3QttpgwurT7R4B0OkGW9CK7Akmk3E1ioiIiDQQCldOUriSWuP4Qdj6GWydC9mJp9uD20L326HLreAXalh5IiIiIvWdwpWTFK6k1rFY4OAa22qDu76D0hO2dpMLtL7aFrRaDwNXd2PrFBEREalnFK6cpHAltVphNuz8xjY/68ivp9u9g6DLWNtCGGGdjKtPREREpB5RuHKSwpXUGel7baNZ2z6HvNTT7eFdbRsUd74JvBsbV5+IiIhIHadw5SSFK6lzykohfrltNGvvD2ApsbW7uEO7a21BK3owmF2MrVNERESkjlG4cpLCldRp+Zmw/Utb0ErdfrrdLwK63mpbbTAo2rj6REREROoQhSsnKVxJvZG8DbZ8Ctu/gBPHT7c362Obm9VxNHj4GVaeiIiISG2ncOUkhSupd0qLbLcLbv0U4n4Cq8XW7uZtW22ww/W21QY9fI2tU0RERKSWUbhyksKV1Gs5ybDtM1vQyow73e7qCTFDoMMoaDMMPAOMq1FERESkllC4cpLClTQIVisc3QK7v4Nd38KxA6ePubhDq8G2oNV2hFYcFBERkQZL4cpJClfS4FitkLrTFrJ2LYCMfaePmV2h5UDbrYPtrgOfYMPKFBEREalpCldOUriSBi9tjy1o7f4OUnecbjeZoUV/24hWu5HgF2pcjSIiIiI1QOHKSQpXImfIiIPd39rCVvK2Mw6YbKsOdhgF7UdCQKRhJYqIiIhUF4UrJylciZzD8YOw6+QcraTfHI817WW7dbD99dCouSHliYiIiFQ1hSsnKVyJXISsw7B7oe3WwcQNwBl/lUR0Pzmidb02LBYREZE6TeHKSQpXIpWUkwx7FtlGtA79cnofLYDQzrag1eF6CGlrXI0iIiIil0DhykkKVyJOyEs/HbQSVoO17PSxkHYng9YoaNIBTCbj6hQRERG5CApXTlK4EqkiBcdg72Jb0IpfAZaS08eCYmy3DXYYBeFdFbRERESkVlK4cpLClUg1OJEF+5bYglbccigrOn0ssPnpEa3IngpaIiIiUmsoXDlJ4UqkmhXlwr4fbUFr/zIoPXH6mH9T2/ysDqNsKxCazcbVKSIiIg2ewpWTFK5EalBxPsT9ZAta+36E4rzTx3zDbHtodRgFzfuC2cW4OkVERKRBUrhyksKViEFKTkD8z7agtfcHKMo5fcwnBNpdZxvVajEAXNyMq1NEREQaDIUrJylcidQCpUVwYJUtaO1ZBIVZp495NYJ210KH0dByILi6G1WliIiI1HMKV05SuBKpZcpK4OAaW9DavQgKMk4f8wiAtiOg7XBb0PJubFydIiIiUu8oXDlJ4UqkFisrhcR1J4PWQshLPX3MZIaIHhB9pe3R9DLdPigiIiJOUbhyksKVSB1hKYPDm2whK345pO9xPO7hDy2vgOjBtrDVuJUxdYqIiEidpXDlJIUrkToqOwkOrLAtihG/Ak4cczzeqAVEX2ULWi0HgGeAIWWKiIhI3aFw5SSFK5F6wFIGydtOB63DG8BSevq4yQWiep2+hTCiu5Z6FxERkXIUrpykcCVSDxXlwsG1J8PWz5AZ53jcMxBaDTodtgKjjKhSREREahmFKycpXIk0AMcP2ka04n+2LflelO14PKg1xJy8hbB5P/DwNaRMERERMZbClZMUrkQamLJSOLr59KjWkV/Bajl93OwGzXqfHtUK6wJms3H1ioiISI1RuHKSwpVIA3ciCxJWnwxbyyEr0fG4dxC0Gmwb2Wo1GPzDDSlTREREqp/ClZMUrkTEzmqFYwdOj2olrIbiPMc+TTqcHtVq3hfcvIypVURERKqcwpWTalu4slqtmEwmo8sQEYCyEtveWqfC1tEtwBl/jbp42ALWqflaTTqA/v8VERGpsxSunFSbwtW6+AxeXrKXd27rTtNG3obWIiIVKDh2em+tuJ8h96jjcd+wk5sYX2VbjdA3xJAyRURE5NIoXDmptoQri8XK1a+vJi4tj8Y+7rx9W3f6RgcbVo+IXIDVCul7T49qHVwLpScc+4R1sY1oxVwFUbHg6mFMrSIiInJRFK6cVFvCFcCR4wXc/7/f2ZGUg4vZxF+vac+kfi10m6BIXVBSaNu8+FTYStnueNzNG1r0Pzlf6yoIbq1bCEVERGoZhSsn1aZwBVBYUsa0+dv5ZksSAGO6RzLzhs54urkYXJmIVEpe2um9teJ/hvw0x+P+TW23DjbvA836QONWClsiIiIGU7hyUm0LV2Bb1GL2Lwd5cfFuyixWOkb48/6dPTUPS6Suslohdadtqff4n+HQeigrcuzjG2oLWc372v4b2hHM+qWKiIhITVK4clJtDFenrIvPYPLcLRzLL9Y8LJH6pLgADq2DQ2ttQevoZigrduzj4W+bp9W8DzTrC5E9NGdLRESkmilcOak2hyvQPCyRBqHkBCRthsR1trB1eBMU5zr2cfGAyJ6nw1ZUL/CsfX9niYiI1GUKV06q7eEKNA9LpMEpK4XUHZC43jbClbge8tMd+5jMENrp9G2EzfuCbxNj6hUREaknFK6cVBfCFWgelkiDZrVCZvzpka3EdXD8YPl+jaNPj2w17wONWmqRDBERkUpQuHJSXQlXp2gelogAkHP05MjWydGttF3AWX/F+4Y5hq0mHcFsNqRcERGRukDhykl1LVyB5mGJSAVOHIfEjadHt45uAUuJYx+PAGgWe/o2wojuWiRDRETkDApXTqqL4Qo0D0tELqDkBBz57fS8rcOboCTfsY+rp22RjGZ9bCNbUbHg4WdMvSIiIrWAwpWT6mq4As3DEpFKKCuFlD8cF8koyHTsYzJDWOfTtxE26wu+IcbUKyIiYgCFKyfV5XB1iuZhiUilWa2Qsd9xkYysxPL9glo7ztsKbK5FMkREpN5SuHJSfQhXoHlYIlIFspMcR7bSdpXv4xdxMmydnLcV0l6LZIiISL1RmWxg6L9+q1evZuTIkURERGAymViwYMEFz1m5ciU9evTAw8ODmJgY5syZU67PO++8Q4sWLfD09CQ2NpZNmzZVffF1QNNG3nx1f1/GdI+kzGLlhUW7mPrFNgpLyowuTUTqioBI6HwTXDcLHlwPTyTAuM+h78PQ9HIwu0LuUdjxNSx+HP7VF/7REj69BVa+DPuXQX6G0e9CRESkRrga+eL5+fl07dqVSZMmccMNN1ywf0JCAtdeey33338/n376KcuXL+eee+4hPDycYcOGATBv3jymTp3Ke++9R2xsLK+//jrDhg1j7969NGnS8DbT9HRzYdYtXekcGcCLi3fzzZYk9qXmah6WiFwa78bQdoTtAVBcAEm/nb6N8PCvUJgF+3+0PU4JaAaR3W2rEUb0gIhu4BlgxDsQERGpNrXmtkCTycQ333zD6NGjz9nnL3/5C99//z07duywt916661kZWWxZMkSAGJjY7n88st5++23AbBYLERFRTFlyhSefPLJCq9bVFREUVGR/XlOTg5RUVF1/rbAs2kelohUu7IS2yIZhzfZln5P2gyZ+yvuGxRzMmh1h8geENYF3PVLHxERqV0qc1ugoSNXlbV+/XqGDBni0DZs2DAeffRRAIqLi/n999+ZNm2a/bjZbGbIkCGsX7/+nNedOXMmzz33XLXUXJv0jQ7mu8n97POw7vzvJs3DEpGq5eJmW8o9sufptsJsSN5mC1pHN9tCV1YiZMbZHtu/sPUzmW3ztSK7nw5doZ3A1d2Y9yIiIlJJdSpcpaSkEBoa6tAWGhpKTk4OJ06c4Pjx45SVlVXYZ8+ePee87rRp05g6dar9+amRq/ro1DysU/thvbBoFzuSsrUflohUH88AaHmF7XFKfoYtZJ0a3Tq6GfJSIW2n7bHlf7Z+Lu4Q2tEWtiJPBq6QdmDW31ciIlL71KlwVV08PDzw8PAwuowao3lYImI4n2BoPdT2OCXn6MmgteX0CNeJ46dD2G//tfVz84bwrqfnb0X2gEYttUKhiIgYrk6Fq7CwMFJTUx3aUlNT8ff3x8vLCxcXF1xcXCrsExYWVpOl1nomk4lJ/VvSLtyPyXO3sPNoDte//YvmYYmIcfwjbI/219meW61w/ODpoJW0BZK3QnGebVn4xDNu9/YIsC2ScWr+VkQPCGiq/bdERKRG1alw1adPHxYvXuzQtmzZMvr06QOAu7s7PXv2ZPny5faFMSwWC8uXL2fy5Mk1XW6doHlYIlJrmUzQuKXt0elGW5ulzDZP68wRruQ/oCgbElbZHqf4hJyxOuHJ0OXb8FaNFRGRmmPoaoF5eXnExcUB0L17d2bNmsXgwYNp3LgxzZo1Y9q0aSQlJfHxxx8DtqXYO3XqxEMPPcSkSZP4+eefefjhh/n+++8dlmIfP34877//Pr169eL111/niy++YM+ePeXmYp1LfdlEuDIKS8rs87AAxnSP1DwsEakbykogbfcZI1ybbZsdW0rL9/VvahvhOjW6FdENvBrVdMUiIlKHVCYbGBquVq5cyeDBg8u1jx8/njlz5jBhwgQOHjzIypUrHc557LHH2LVrF02bNuXpp59mwoQJDue//fbbvPLKK6SkpNCtWzfefPNNYmNjL7quhhiuAKxWK7N/OciLi3dTZrHSMcJf87BEpG4qOQGpOx1XKEzfC1TwT17jVo7zt8K6gIdvjZcsIiK1U50JV7VVQw1Xp2g/LBGpl4pybUvC21co3ALHE8r3M5khuO3p1QlDO0GTdhrhEhFpoBSunNTQwxXAkeMF9nlYLmaT5mGJSP1UcOz0aoSnHjlJFff1DYMm7W2PkHbQpAOEtAXPhvnvhIhIQ6Fw5SSFKxvNwxKRBik3xTFspe2G7MPn7u/f9GToamfbBLlJe1vocvepuZpFRKTaKFw5SeHqtLPnYXWK9Of9Oy8jMtDL6NJERGpOYY5tzlb6bkjbY1swI30P5Caf4wQTBDazjW6dGbqC24CbZ42WLiIizlG4cpLCVXlnz8N657Ye9IkOMrosERFjnThuC1tnh6789Ir7m8y2DY/Pvr0wKAZc3Wu2dhERuSgKV05SuKrY2fOwpl/TnomahyUiUl5+hu12wvQ9tv+m7bYFsBPHK+5vdoXG0bZRriYdToau9rY2lzq1JaWISL2jcOUkhatzO3se1g3dI3lJ87BERC7MaoW8tNOjW/bQtQeKcio+x8UdglqfDF3tT99e2KgFmPX3rohITVC4cpLC1flpHpaISBWyWiHn6OnRLfvthXuhJL/ic1w9bfO37LcXnlxQI6AZmM01W7+ISD2ncOUkhauLo3lYIiLVyGKxrVJ4dujK2AelhRWf4+ZjW6nw7NDlHwm6hVtE5JIoXDlJ4eriaR6WiEgNs5TB8YNnha7dkLkfyoorPsfDH4Jb2+ZwBUVD41Ynv26lzZFFRC5A4cpJCleVo3lYIiK1QFkpHDtQfk7XsXiwlJ77PK9GtqDVuNXJ4HXqawUvERFQuHKawlXlaR6WiEgtVVoMmXG2ka1jByAz3vbfYwfOs0/XSV6NzwhdZ4x2NVbwEpGGQ+HKSQpXl07zsERE6pDi/NNB68zQdbHB68zQdWq0q3E0eAXWSPkiIjVB4cpJClfO0TwsEZF6oFzwiodjCbav81LOf+7ZwSsoGhq3VPASkTpJ4cpJClfO0zwsEZF6rCgPjiecMdpVieDlHXTWaNepENZKwUtEaiWFKycpXFWNiuZhvXdHT5o28ja6NBERqS4VBa/MkyNglQleZ4auoGjwDKiZ+kVEzqJw5SSFq6p15jwsf09XXr6xCyM6hxtdloiI1DSH4HUyfFUqeJ0MXI2aQ2Czk4/mtn28XFxr5j2ISIOjcOUkhauql5R1ggc/3cy2w1kAjOvVjGeu64CXu24TFBERbMHLvqDGGaNdx+IhL/X855pcbAHr7NB16mv/CDDr3xsRuTQKV05SuKoeJWUWZi3bx3ur4rFaIaaJL2/e2p0OEfoei4jIediD18m5XVmJJx+HIOswlBWd/3yzKwQ0PSN0nQxep8KYbxiYzTXzXkSkzlG4cpLCVfX6JS6Dx+ZtJS23CHdXM38d0Y7xfbWaoIiIXAKLBfLT4PihMwLXya+PH4LsI2ApOf81XNwhIOr0SFejMwJYYHPwbQL6N0qkwVK4cpLCVfU7ll/M/325jeV70gAY0r4J/7ipK4193A2uTERE6hVLGeSmnA5cp0LXqefZR8Badv5ruHqecbthM8fgFdgMfIIVvkTqMYUrJylc1Qyr1crH6w/x4uLdFJdaaOLnwWtju9EvJtjo0kREpKEoK4Xco2eMfCU6BrGcJLBazn8NN+/y87wanRHAvBopfInUYQpXTlK4qlm7k3OY8tkW4tLyMJng/oHRTB3aBjcX3f8uIiIGKy22BawzQ9eZQSw3GbjAj1LufhWErma2eWD+keAdrDlfIrWYwpWTFK5q3oniMp5ftIvPNiUC0DUqkLdu7U6zIO2JJSIitVhpke3WwqxDFY9+XWilQ7DN+fILPxm2ImyB68yv/SN166GIgRSunKRwZZwftifzl6//IKewFF8PV/42uhOju0caXZaIiMilKTlhW9EwKxGyDjrO+8o5ejJ8XcSPYi7uJ8PWydAVEHk6eJ362jtIAUykGihcOUnhylhJWSd47POtbDp4DIAbekTy/KhO+Hpog0gREalnSottGyhnJ9luP8xJcvzaHsAugovHyeB15qjXmc+bgndjBTCRSlK4cpLClfFKyyy8vSKON5fvx2KFFkHevDmuO12aBhpdmoiISM0qLbbN7ToVtrKP2P6bk3T66/y0i7uWq6fj7YYBkWeNiDXVAhwiZ1G4cpLCVe3x68FjPPr5VpKyTuBqNvF/w9rypwGtMJv1l76IiIhdaZEtgGWfDGA5J0PXmaNg+ekXdy1Xr5OBK+L0ohtnj4gpgEkDonDlJIWr2iW7oIRp3/zB4u0pAAxoHcw/b+lKEz9PgysTERGpQ0oKzz0Cdup2xIKMi7uWm/fpAOYXYdto2Tf05KPJ6f8qhEk9oHDlJIWr2sdqtTLv18PMWLiTwhILQT7uvHpzVwa3a2J0aSIiIvVHSaFt36/zjYAVZF789cxu5QOX/b9ntbn7VN/7EnGCwpWTFK5qr7i0XKZ8tpXdyTkATOrXkr+MaIuHq4vBlYmIiDQQJSdOBq+To165KZCXZlt4Iy/19NeFWZW7rrvvOULYWSNiPiHg4lYtb02kIgpXTlK4qt0KS8r4+w97mLPuIAAdwv1567buRIf4GluYiIiInFZadDJoVRC88s9oz02F0hOVu7Z3UPkQ5lNBIPNqpA2axWkKV05SuKoblu9O5f+++oNj+cV4ubkw4/oO3HJZFCbd2y0iIlJ3WK1QnFdxCHP4+mQgs5Zd/LXNridD13lGwk7910O/pJWKKVw5SeGq7kjLKeSxL7byS5zt/u9ru4Tz0pjOBHjpdgEREZF6x2KBE8ccw1aFISzV1q8y3LzBOxh8gmy3Hp762jvY9twn2PG45og1GApXTlK4qlssFivvrz7AP5fupdRiJTLQizfHdaNn88ZGlyYiIiJGKS22LT9fUfA687bEvDTbyFlluXqdDFxBZ4SvINt/7eHsjOPuPlo5sY5SuHKSwlXdtPVwFg9/toXEYwW4mE08clVrHhocg4v2xBIREZHzKcqzBa78TNty9PkZtmBWkGn7uuDk81PHSwsr/xqunhWMjJ0dzs4cGfNVGKslFK6cpHBVd+UWlvDMtzv5ZksSALEtG/P6rd0ID/AyuDIRERGpF6xWKM53DF/56adDWUHmySB2xteXEsZcPM4fvs4OZx5+CmPVROHKSQpXdd/8zUd4esEO8ovLCPBy4+UbuzC8U5jRZYmIiEhDcyqMFWScMTKWfsaIWOYZ4exUGKvk6okALu6nw5dXY/BufMZ/G1X8tWcAmLWdzYUoXDlJ4ap+OJiRzyOfb2HbkWwAbo9txtPXdcDTTX+JiIiISC1WnH+O8HX2yNjJ4yX5l/hCJlvAOhXEvBpVEMoalQ9lDeyWRYUrJylc1R/FpRb+uWwv7686AECbUF/eHNeddmH6XEVERKSeKC5wDF8Fx2yrJRYcgxPHK/j6OBTnXvrrmd0cg5hXI/A+x+jYmV+7elTde65BCldOUriqf9bsT2fqF9tIzy3C3dXMU9e2587ezbUnloiIiDRMpcVQmHU6iJ04fo5QdtwxoJUVXfpruvk4BrEKR8oq+Nrgn9cUrpykcFU/ZeYV8fiX21ixNx2AIe1DeeWmLjTycTe4MhEREZE6wGqFkgLHIObwdVbFAe3EcbBaLuEFTfBMpuHzwhSunKRwVX9ZrVZm/3KQv/+wh+IyC6H+Hrw2tht9o4ONLk1ERESkfrJYoCjnjJGws0NZRaNmx8HsCn9JMLp6hStnKVzVfzuPZjPlsy0cSM/HZIIHB0Xz6JA2uLmYjS5NRERERADKSsHF1egqKpUN9JOkNEgdIwJYNKU/t14ehdUK76yI55b313P4WIHRpYmIiIgI1IpgVVkKV9Jgebu78vcbu/DObT3w83RlS2IW17yxhm+3JhldmoiIiIjUQQpX0uBd2yWcHx4ZQM/mjcgtKuWRz7fy+JfbyC8qNbo0EREREalDFK5EgKaNvJl3b28evqo1ZhN89fsRrntrLTuSso0uTURERETqCIUrkZNcXcxMHdqGz/7Um/AATxIy8hnz7i98sPoAFovWfRERERGR81O4EjlLbKsgfnhkAMM7hlFSZuXFxbuZMOdX0nOd2DRPREREROo9hSuRCgR6u/OvO3rw4phOeLiaWb0vnRFvrGbVvnSjSxMRERGRWkrhSuQcTCYTt8c2Z+GU/rQL8yMjr5jxH27ib4t2UVRaZnR5IiIiIlLLKFyJXECbUD8WPNSP8X2aA/CftQmMeWcdO49qsQsREREROU3hSuQieLq58NyoTnxw12U08nZjV3IO17/9Cy8v2UNhiUaxREREREThSqRShnYI5cfHruDazuGUWaz8a2U8I95Yw4YDmUaXJiIiIiIGqxXh6p133qFFixZ4enoSGxvLpk2bztm3pKSE559/nujoaDw9PenatStLlixx6DNjxgxMJpPDo127dtX9NqSBaOLnyTu39+Dfd/Yk1N+DhIx8bv33BqbN305OYYnR5YmIiIiIQQwPV/PmzWPq1Kk8++yzbN68ma5duzJs2DDS0tIq7P/UU0/x/vvv89Zbb7Fr1y7uv/9+xowZw5YtWxz6dezYkeTkZPtj7dq1NfF2pAG5umMYy6YO5LbYZgB8timRobNWsXRnisGViYiIiIgRTFar1dDdUWNjY7n88st5++23AbBYLERFRTFlyhSefPLJcv0jIiKYPn06Dz30kL3txhtvxMvLi//973+AbeRqwYIFbN269ZJqysnJISAggOzsbPz9/S/pGtKwbDiQybT520nIyAfgms5hzLi+I038PA2uTEREREScUZlsYOjIVXFxMb///jtDhgyxt5nNZoYMGcL69esrPKeoqAhPT8cfWL28vMqNTO3fv5+IiAhatWrF7bffTmJi4jnrKCoqIicnx+EhUhm9T248/MCgaFzMJhZvT2HorNV88dthDP79hYiIiIjUEEPDVUZGBmVlZYSGhjq0h4aGkpJS8a1Vw4YNY9asWezfvx+LxcKyZcuYP38+ycnJ9j6xsbHMmTOHJUuW8K9//YuEhAQGDBhAbm5uhdecOXMmAQEB9kdUVFTVvUlpMDzdXPjL8HZ8+1A/OkX6k32ihCe++oM7/7uJxMwCo8sTERERkWpm+JyrynrjjTdo3bo17dq1w93dncmTJzNx4kTM5tNvZcSIEdx888106dKFYcOGsXjxYrKysvjiiy8qvOa0adPIzs62Pw4fPlxTb0fqoU6RASx4sB/TRrTDw9XM2rgMrn59Ff9Zc4Ayi0axREREROorQ8NVcHAwLi4upKamOrSnpqYSFhZW4TkhISEsWLCA/Px8Dh06xJ49e/D19aVVq1bnfJ3AwEDatGlDXFxchcc9PDzw9/d3eIg4w9XFzH0Do/nx0Svo0yqIwhILf/t+Nze8+wu7k3XbqYiIiEh9ZGi4cnd3p2fPnixfvtzeZrFYWL58OX369DnvuZ6enkRGRlJaWsrXX3/NqFGjztk3Ly+P+Ph4wsPDq6x2kYvRItiHuX+K5e83dMbP05VtR7IZ+dZaXv1xrzYfFhEREalnDL8tcOrUqXzwwQd89NFH7N69mwceeID8/HwmTpwIwF133cW0adPs/Tdu3Mj8+fM5cOAAa9asYfjw4VgsFp544gl7n8cff5xVq1Zx8OBB1q1bx5gxY3BxcWHcuHE1/v5ETCYTt/ZqxvKpAxneMYxSi5W3V8Rx7Ztr+PXgMaPLExEREZEq4mp0AWPHjiU9PZ1nnnmGlJQUunXrxpIlS+yLXCQmJjrMpyosLOSpp57iwIED+Pr6cs011/DJJ58QGBho73PkyBHGjRtHZmYmISEh9O/fnw0bNhASElLTb0/Erom/J+/d2ZMlO5J5+tudxKfnc/N767mzd3OeGN4WP083o0sUEREREScYvs9VbaR9rqS6ZReUMPOH3Xz+q23xlPAAT/42uhNXtQ+9wJkiIiIiUpPqzD5XIg1VgLcbf7+xC3PviaV5kDfJ2YXc/dFvTPlsCxl5RUaXJyIiIiKXQOFKxEB9Y4JZ8sgV3HdFK8wmWLjtKENmrWL+5iPafFhERESkjlG4EjGYl7sL065pz7cP9ad9uD9ZBSVM/WIb42f/yuFj2nxYREREpK5QuBKpJTo3DeC7yf14Ynhb3F3NrN6XzrDXV/Ph2gRtPiwiIiJSByhcidQibi5mHhwUw5JHBtCrZWMKist4ftEubvzXOval5hpdnoiIiIich8KVSC3UKsSXz//UmxfHdMLPw5Wth7O49s01zFq2j6JSbT4sIiIiUhspXInUUmazidtjm7Ns6kCGdgilpMzKm8v3c92ba/n90HGjyxMRERGRsyhcidRyYQGe/PvOnrxzWw+Cfd3Zn5bHTe+tY8Z3O8kvKjW6PBERERE5SeFKpA4wmUxc2yWcn6YO5KaeTbFaYc66g1z92mpW7k0zujwRERERoZLhKi3t/D/ElZaWsmnTJqcKEpFzC/R259Wbu/LJ3b1o2siLpKwTTJj9K49+voVj+cVGlyciIiLSoFUqXIWHhzsErM6dO3P48GH788zMTPr06VN11YlIhQa0DmHpY1dwT/+WmE2wYKtt8+FvtyZp82ERERERg1QqXJ39Q9vBgwcpKSk5bx8RqR7e7q48dV0H5j/Yj3ZhfhzLL+aRz7cyac6vJGWdMLo8ERERkQanyudcmUymqr6kiJxHt6hAvpvcnz8PbYO7i5kVe9O5etYqPlp3EIs2HxYRERGpMVrQQqQecHc1M+Wq1ix+pD+XNW9EfnEZz363k5vfX09cmjYfFhEREakJlQpXJpOJ3NxccnJyyM7OxmQykZeXR05Ojv0hIsaJaeLHF/f14YVRHfFxd+H3Q8e55o21vLl8P8WlFqPLExEREanXTNZKTJIym80Ot/1ZrdYKn5eVlVVtlTUsJyeHgIAAsrOz8ff3N7ockUtyNOsETy3Ywc97bIvQtA314+83dqZ7s0YGVyYiIiJSd1QmG1QqXK1ateqi+g0cOPBiL1krKVxJfWG1Wvlu21GeW7iLY/nFmEwwsW9LHh/WBm93V6PLExEREan1qi1cNRQKV1LfHMsv5m+LdjF/SxIATRt58dKYzlzRJsTgykRERERqt2oLV6WlpZSVleHh4WFvS01N5b333iM/P5/rr7+e/v37X3rltYTCldRXK/emMf2bHfal2m/s0ZS/XtOOIF+PC5wpIiIi0jBVW7iaOHEi7u7uvP/++wDk5ubSsWNHCgsLCQ8PZ9euXXz77bdcc801zr0DgylcSX2WX1TKKz/u5aP1B7Fawd/TlalD23BH7+a4umgBUREREZEzVSYbVOonqV9++YUbb7zR/vzjjz+mrKyM/fv3s23bNqZOncorr7xyaVWLSI3w8XBlxvUd+fqBvnSM8CensJQZC3dx7ZtrWRefYXR5IiIiInVWpcJVUlISrVu3tj9fvnw5N954IwEBAQCMHz+enTt3Vm2FIlItejRrxHeT+/PimE408nZjb2out32wkYc+3Wy/bVBERERELl6lwpWnpycnTpz+oWvDhg3ExsY6HM/Ly6u66kSkWrmYTdwe25wVjw/irj7NMZvg++3JXPXPlby1fD+FJXV7WwURERGRmlSpcNWtWzc++eQTANasWUNqaipXXnml/Xh8fDwRERFVW6GIVLtAb3eeH9WJRVMG0KtlYwpLLPxz2T6GvraKpTtT0KKiIiIiIhdW6X2uRowYQXh4OMnJyYwbN47//ve/9uMPPvgg+fn5fPTRR9VSbE3RghbSkFmtVhb+kcxL3+8mJacQgCvahPDMdR2IaeJrcHUiIiIiNata97navXs3S5cuJSwsjJtvvhmz+fTg17///W969epFt27dLqnw2kLhSsS2quC7K+P4YHUCxWUWXM0mJvVvyZQrY/DzdDO6PBEREZEaoU2EnaRwJXLawYx8Xli0i+V70gAI8fPgyeHtGNM9ErPZZHB1IiIiItWr2sLV6tWrL6rfFVdccbGXrJUUrkTKW7EnjecX7SIhIx+AHs0Cee76TnRuGmBwZSIiIiLVp9rCldlsxmSy/ab6XKeZTCbKyur2CmMKVyIVKyotY/YvB3lr+X7yi8swmeDWy6N4/Oq2BPl6GF2eiIiISJWrtnAVFBSEn58fEyZM4M477yQ4OLjCfqf2vaqrFK5Ezi81p5C//7CHb7YkAeDv6crUoW24o3dzXF0qtQipiIiISK1WmWxQqZ+CkpOTefnll1m/fj2dO3fm7rvvZt26dfj7+xMQEGB/iEj9FurvyWtju/HV/X3oEO5PTmEpMxbu4to317I+PtPo8kREREQMcckLWiQmJjJnzhw++ugjioqKGD9+PM899xyurq5VXWON08iVyMUrs1j5/NdEXvlxL1kFJQBc2yWc6de0JyLQy+DqRERERJxTo6sFJiQkcPfdd7Nq1SrS09Np3LixM5erFRSuRCovq6CYfy7dx6cbD2GxgqebmYcGxfCnK1rh6eZidHkiIiIil6Tabgs8paioiLlz5zJkyBA6depEcHAw33//fb0IViJyaQK93XlhdCcWTRlArxaNKSyx8M9l+xj62iqW7kw55yI4IiIiIvVFpUauNm3axOzZs/n8889p0aIFEydO5I477qh3oUojVyLOsVqtfLftKDMX7yElpxCAK9qE8Mx1HYhp4mtwdSIiIiIXr1qXYm/WrBnjx4+nZ8+e5+x3/fXXX3y1tZDClUjVyC8q5Z0VcfxnTQLFZRZczSYm9W/JlCtj8PN0M7o8ERERkQuq1nB1IdrnSkTOdjAjnxcW7WL5njQAQvw8eHJ4O8Z0j8RsNhlcnYiIiMi51eiCFmcrKCjA29u7Ki9Z4xSuRKrHij1pPLdwJwczCwDo0SyQ567vROem2sJBREREaqdqX9CiIkVFRcyaNYtWrVpV1SVFpJ4Z3K4JPz52BX8Z3g5vdxc2J2Zx/TtrmTb/DzLziowuT0RERMQplQpXRUVFTJs2jcsuu4y+ffuyYMECAD788ENatmzJa6+9xmOPPVYddYpIPeHh6sIDg6L5+c+DGN0tAqsVPtt0mMGvrmTOLwmUllmMLlFERETkklTqtsC//OUvvP/++wwZMoR169aRnp7OxIkT2bBhA3/961+5+eabcXGp+/vZ6LZAkZrz68FjPPvtTnYl5wDQLsyPZ0d2pE90kMGViYiIiFTjbYFffvklH3/8MV999RVLly6lrKyM0tJStm3bxq233lovgpWI1KzLWzRm4ZT+/G10JwK93diTksu4Dzbw0NzNHM06YXR5IiIiIhetUiNX7u7uJCQkEBkZCYCXlxebNm2ic+fO1VagETRyJWKM4/nFzFq2j083HsJiBS83Fx4aHM09A1rh6aZf3oiIiEjNq7aRq7KyMtzd3e3PXV1d8fXVhqAiUjUa+bjzwuhOLJzSn14tGnOipIxXl+5j6GurWLozhSpe3FRERESkSlV6n6sRI0bg4eEBwMKFC7nyyivx8fFx6Dd//vyqrbKGaeRKxHhWq5Xvth3lpcW7Sc2xrSR4RZsQnh3ZgegQ/VJHREREaka17XM1ceLEi+o3e/bsi71kraRwJVJ75BeV8vaKOP67JoHiMguuZhOT+rdkypUx+Hm6GV2eiIiI1HOGbiJcHyhcidQ+CRn5vLBoFz/vSQMgxM+DaSPaMbpbJGazyeDqREREpL5SuHKSwpVI7fXznlSeX7iLg5kFAPRoFsjzozrRKTLA4MpERESkPlK4cpLClUjtVlRaxn/XJvD2z3EUFJdhMsFNPZry6NA2RAZ6GV2eiIiI1CMKV05SuBKpG1KyC5n5w26+3XoUAHcXM3f2ac5Dg2No7ON+gbNFRERELkzhykkKVyJ1y5bE47y8ZA8bDhwDwNfDlT8NaMXdA1ri6+FqcHUiIiJSlylcOUnhSqTusVqtrNmfwctL9rDzaA4AQT7uTL4yhttim+Hhqk2IRUREpPIUrpykcCVSd1ksVhbvSOafS/eRkJEPQGSgF1OHtmF090hctLKgiIiIVILClZMUrkTqvpIyC1/+doQ3lu+zb0LcJtSXx69uy9AOoZhMClkiIiJyYQpXTlK4Eqk/ThSX8dH6g7y7Io6cwlIAujcL5C/D29G7VZDB1YmIiEhtV5lsYK6hms7rnXfeoUWLFnh6ehIbG8umTZvO2bekpITnn3+e6OhoPD096dq1K0uWLHHqmiJSf3m5u3D/wGjWPHElDw6KxtPNzJbELG799wbGf7iJHUnZRpcoIiIi9YTh4WrevHlMnTqVZ599ls2bN9O1a1eGDRtGWlpahf2feuop3n//fd566y127drF/fffz5gxY9iyZcslX1NE6r8AbzeeGN6O1f83mDt6N8PVbGLVvnSue2stUz7bwsGT87NERERELpXhtwXGxsZy+eWX8/bbbwNgsViIiopiypQpPPnkk+X6R0REMH36dB566CF724033oiXlxf/+9//LumaZ9NtgSL138GMfGYt28d322x7ZLmaTYy9PIqHr2pNqL+nwdWJiIhIbVFnbgssLi7m999/Z8iQIfY2s9nMkCFDWL9+fYXnFBUV4enp+IOPl5cXa9eudeqaOTk5Dg8Rqd9aBPvw5rjufP9wfwa1DaHUYuXTjYkMfGUFLy/ZQ3ZBidElioiISB1jaLjKyMigrKyM0NBQh/bQ0FBSUlIqPGfYsGHMmjWL/fv3Y7FYWLZsGfPnzyc5OfmSrzlz5kwCAgLsj6ioqCp4dyJSF3SMCGDOxF7Mu7c3PZs3orDEwr9WxjPgHz/zr5XxnCguM7pEERERqSMMn3NVWW+88QatW7emXbt2uLu7M3nyZCZOnIjZfOlvZdq0aWRnZ9sfhw8frsKKRaQuiG0VxFf39+E/d11G21A/cgpLeXnJHga+soJPNx6ipMxidIkiIiJSyxkaroKDg3FxcSE1NdWhPTU1lbCwsArPCQkJYcGCBeTn53Po0CH27NmDr68vrVq1uuRrenh44O/v7/AQkYbHZDIxpEMoix8ZwKxbutK0kRdpuUVM/2YHQ2etYuG2o1gs2r1CREREKmZouHJ3d6dnz54sX77c3maxWFi+fDl9+vQ577menp5ERkZSWlrK119/zahRo5y+pogIgIvZxA09mrL8zwOZMbIDQT7uHMwsYMpnWxj59lpW7UtHWwSKiIjI2Qy/LXDq1Kl88MEHfPTRR+zevZsHHniA/Px8Jk6cCMBdd93FtGnT7P03btzI/PnzOXDgAGvWrGH48OFYLBaeeOKJi76miMjF8HB1YUK/lqx6YjBTh7bB18OVnUdzGP/hJsZ9sIHNiceNLlFERERqEVejCxg7dizp6ek888wzpKSk0K1bN5YsWWJfkCIxMdFhPlVhYSFPPfUUBw4cwNfXl2uuuYZPPvmEwMDAi76miEhl+Hq48vBVrbmjd3PeXRHHxxsOseHAMW54dx1Xdwjl8WFtaRPqZ3SZIiIiYjDD97mqjbTPlYicT1LWCd74aR9f/X4EixXMJrihR1MeHdKapo28jS5PREREqlBlsoHCVQUUrkTkYsSl5fLqj/tYstO2zYO7i5nbezfjocExBPt6GFydiIiIVAWFKycpXIlIZWw9nMXLP+xh/YFMAHzcXbhnQCvuGdASP083g6sTERERZyhcOUnhSkQqy2q1sjYug38s2cv2pGwAGvu489DgGG6PbYanm4vBFYqIiMilULhyksKViFwqq9XKDztSePXHvRzIyAcgMtCLR4e05oYeTXExmwyuUERERCpD4cpJClci4qzSMgtf/X6E13/aT0pOIQCtm/jy+LC2XN0hFJNJIUtERKQuULhyksKViFSVwpIyPl5/kHdWxJN9ogSAblGB/GV4O/pEBxlcnYiIiFyIwpWTFK5EpKplnyjhg9UH+O/aBE6UlAFwRZsQnhjWlk6RAQZXJyIiIueicOUkhSsRqS5puYW8/XMcczcmUmqx/fV7XZdw/nx1W1oG+xhcnYiIiJxN4cpJClciUt0SMwuYtWwv3247itUKLmYTt1wWxSNXtSYswNPo8kREROQkhSsnKVyJSE3ZdTSHV5fu5ec9aQC4u5q55bKm3HdFNFGNvQ2uTkRERBSunKRwJSI17deDx/jHkj38evA4AK5mE6O7R/LgoGhahfgaXJ2IiEjDpXDlJIUrETGC1WplY8Ix3v45jrVxGQCYTHBt53AeGhxD+3D9fSQiIlLTFK6cpHAlIkbbknicd1bE8dPuNHvbkPZNeGhwDN2bNTKwMhERkYZF4cpJClciUlvsOprDOyvjWLw9mVN/W/ePCWbylTHEtmyszYhFRESqmcKVkxSuRKS2iU/P418r4/lmSxJlJ5dwv6x5Ix66MoZBbUIUskRERKqJwpWTFK5EpLY6fKyA91fH88WvRyguswDQKdKfyYNjuLpDGGazQpaIiEhVUrhyksKViNR2qTmFfLD6AJ9uTORESRkArZv48tDgGK7rEo6ri9ngCkVEROoHhSsnKVyJSF1xLL+YD9cm8NG6g+QWlQLQPMib+wdGc0OPSDxcXQyuUEREpG5TuHKSwpWI1DXZJ0r4ZP1B/rs2geMFJQCEB3hy7xWtuPXyZni5K2SJiIhcCoUrJylciUhdVVBcytyNifx79QHScosACPZ15+7+rbijdzP8PN0MrlBERKRuUbhyksKViNR1hSVlfPX7Ed5bFc+R4ycACPByY0LfFkzs14JAb3eDKxQREakbFK6cpHAlIvVFSZmFb7ce5d2VcRxIzwfAx92FO/o0557+rQjx8zC4QhERkdpN4cpJClciUt+UWaz8sCOZt3+OY09KLgAermZuvTyKewdGExnoZXCFIiIitZPClZMUrkSkvrJarfy8J423fo5j6+EsANxcTNzQvSkPDIqmRbCPsQWKiIjUMgpXTlK4EpH6zmq1si4+k7d+3s+GA8cAMJtgZNcIHhocQ5tQP4MrFBERqR0UrpykcCUiDclvB4/x9oo4Vu5Nt7cN6xjK5MGt6dw0wMDKREREjKdw5SSFKxFpiHYkZfPOijiW7Ezh1L8MV7QJYcqVMVzeorGxxYmIiBhE4cpJClci0pDtT83l3ZXxfLftKGUW2z8RvVo2ZvLgGAa0DsZkMhlcoYiISM1RuHKSwpWICBzKzOe9VfF89fsRSsps/1R0bRrAQ4NjGNI+FLNZIUtEROo/hSsnKVyJiJyWnH2Cf68+wGebEikssQDQLsyPBwfHcG3ncFwUskREpB5TuHKSwpWISHkZeUX8d20Cn6w/RF5RKQAtg314YFA0Y7pH4uZiNrhCERGRqqdw5SSFKxGRc8suKGHOuoN8+EsC2SdKAIgM9OL+ga24+bIoPN1cDK5QRESk6ihcOUnhSkTkwvKKSvl0wyE+WJNARl4RACF+HvxpQEtuj22Oj4erwRWKiIg4T+HKSQpXIiIXr7CkjHm/Hub9VfEczS4EINDbjdtjm3FXnxaE+nsaXKGIiMilU7hyksKViEjlFZda+GbLEf61Mp6DmQUAuLmYGNklgkn9W9IpUhsSi4hI3aNw5SSFKxGRS1daZmHZrlT+uzaB3w4dt7fHtmzMPQNacVW7JlrGXURE6gyFKycpXImIVI2th7P479oEFm9Ptm9I3CLIm4n9WnJTz6aalyUiIrWewpWTFK5ERKrW0awTfLT+IJ9tTCSn0LaMu7+nK+N6NWN83xZEBHoZXKGIiEjFFK6cpHAlIlI98otK+XrzET5cm2Cfl+ViNnFN53Du7t+SblGBxhYoIiJyFoUrJylciYhUL4vFyvI9afx37QE2HDhmb+/ZvBF392/J1R1CcdWmxCIiUgsoXDlJ4UpEpObsSMrmw18SWLjtKCVltn+SmjbyYkLfFoy9PAo/TzeDKxQRkYZM4cpJClciIjUvLaeQj9cf4tONhzheUAKAr4crt1wWxcR+LYhq7G1whSIi0hApXDlJ4UpExDgnisv4ZksSH/6SQFxaHgBmEwzrGMbd/VvSs3kjTCYt5S4iIjVD4cpJClciIsazWKys3p/Of9cmsGZ/hr29a9MA7h7QihGdwnDTvCwREalmCldOUrgSEald9qbk8uHaBL7ZmkRxqQWA8ABPxvdtwbjLmxHgrXlZIiJSPRSunKRwJSJSO2XkFfHphkQ+2XCQjLxiALzdXbipZ1Mm9mtJy2AfgysUEZH6RuHKSQpXIiK1W2FJGd9tO8qHaxPYk5ILgMkEV7UL5e7+LendqrHmZYmISJVQuHKSwpWISN1gtVpZF5/Jf9cm8POeNHt7h3B/7u7fkpFdI3B31bwsERG5dApXTlK4EhGpe+LS8pj9SwJfbz5CYYltXlYTPw/u6tOc22Kb09jH3eAKRUSkLlK4cpLClYhI3XU8v5i5mxL5eP1BUnOKAPBwNXNDj6bc3b8FMU38DK5QRETqEoUrJylciYjUfcWlFhZvT+Y/aw+wIynH3j6obQh3929J/5hgzcsSEZELUrhyksKViEj9YbVa2ZRwjP+uTWDZ7lRO/avXNtSPSf1bMKpbJJ5uLsYWKSIitZbClZMUrkRE6qdDmfnM/uUgX/x2mILiMgCCfNy5o3dz7ujdnBA/D4MrFBGR2kbhykkKVyIi9Vv2iRLm/ZrIR+sOkZR1AgB3FzOjukVw94CWtAvT3/0iImKjcOUkhSsRkYahtMzCkp0p/HdtAlsSs+zt/WOCubt/Swa2CcFs1rwsEZGGrDLZoFZs/vHOO+/QokULPD09iY2NZdOmTeft//rrr9O2bVu8vLyIioriscceo7Cw0H58xowZmEwmh0e7du2q+22IiEgd4+pi5rouEXzzYD++fqAv13YOx2yCtXEZTJzzK0NeW8WcXxLIPlFidKkiIlIHuBpdwLx585g6dSrvvfcesbGxvP766wwbNoy9e/fSpEmTcv3nzp3Lk08+yYcffkjfvn3Zt28fEyZMwGQyMWvWLHu/jh078tNPP9mfu7oa/lZFRKQW69m8ET2bN+LI8QI+WneQzzcd5kB6PjMW7uLvS/ZwXZcIxvVqRo9mgVplUEREKmT4bYGxsbFcfvnlvP322wBYLBaioqKYMmUKTz75ZLn+kydPZvfu3Sxfvtze9uc//5mNGzeydu1awDZytWDBArZu3XpJNem2QBERySsqZf7mI8zdmMielFx7e7swP8b1asbo7pEEeLkZWKGIiNSEOnNbYHFxMb///jtDhgyxt5nNZoYMGcL69esrPKdv3778/vvv9lsHDxw4wOLFi7nmmmsc+u3fv5+IiAhatWrF7bffTmJi4jnrKCoqIicnx+EhIiINm6+HK3f1acEPjwzg6wf6clPPpni6mdmTksuz3+0k9qWfePzLbWxOPI6mL4uICBh8W2BGRgZlZWWEhoY6tIeGhrJnz54Kz7ntttvIyMigf//+WK1WSktLuf/++/nrX/9q7xMbG8ucOXNo27YtycnJPPfccwwYMIAdO3bg5+dX7pozZ87kueeeq9o3JyIi9YLJZLLfMvj0dR1YsCWJuRsT2Zuay1e/H+Gr34/QLsyP22KbMaqbRrNERBoyQ28LPHr0KJGRkaxbt44+ffrY25944glWrVrFxo0by52zcuVKbr31Vv72t78RGxtLXFwcjzzyCH/60594+umnK3ydrKwsmjdvzqxZs7j77rvLHS8qKqKoqMj+PCcnh6ioKN0WKCIiFbJarWxOzGLuxkQW/XGUolILAJ5utgUybottRvcozc0SEakPKnNboKEjV8HBwbi4uJCamurQnpqaSlhYWIXnPP3009x5553cc889AHTu3Jn8/Hzuvfdepk+fjtlc/k7HwMBA2rRpQ1xcXIXX9PDwwMNDG0eKiMjFOXM065nrOvDNliN8tumwRrNERBo4Q+dcubu707NnT4fFKSwWC8uXL3cYyTpTQUFBuQDl4uICcM573vPy8oiPjyc8PLyKKhcREbEJ8HZjQr+WLHnUNjfrxh5N8XC1zc165lvb3Kz/09wsEZEGwfD1yadOncr48eO57LLL6NWrF6+//jr5+flMnDgRgLvuuovIyEhmzpwJwMiRI5k1axbdu3e33xb49NNPM3LkSHvIevzxxxk5ciTNmzfn6NGjPPvss7i4uDBu3DjD3qeIiNRvFY1mzd2UyL7UPL78/QhfnjGaNbp7JP6eGs0SEalvDA9XY8eOJT09nWeeeYaUlBS6devGkiVL7ItcJCYmOoxUPfXUU5hMJp566imSkpIICQlh5MiRvPjii/Y+R44cYdy4cWRmZhISEkL//v3ZsGEDISEhNf7+RESk4Tk1mjW+bws2Jx5n7sbDLPrjqH0066XFuxl5cm5WN83NEhGpNwzf56o20j5XIiJS1bILShxGs05pF+bH7bHNGKXRLBGRWqky2UDhqgIKVyIiUl1sKw0e59ONiXz/R7J9pUEvNxdGdg1nXC+NZomI1CYKV05SuBIRkZqQXVDC/C1HmLsxkf1pp0ez2of7c1uvKI1miYjUAgpXTlK4EhGRmmS1Wvn90HHmbqp4NOu22OZ0bRqg0SwREQMoXDlJ4UpERIySVVDMN1uSKh7Nim3GqG4RGs0SEalBCldOUrgSERGj2UezNiayaHsyxRrNEhExhMKVkxSuRESkNskqKGb+5iTmbkok7ozRrA7h/ozTaJaISLVSuHKSwpWIiNRGVquV3w4d57MKRrOu7xrBuNhmGs0SEaliCldOUrgSEZHa7kKjWaO7ReCn0SwREacpXDlJ4UpEROqKU6NZczcm8n0Fo1m3xTaji0azREQumcKVkxSuRESkLsoqKObrzUl8VtFoVq8oRnaNINDb3cAKRUTqHoUrJylciYhIXWa1Wvn14HE+2+Q4muXmYuKqdqHc0COSQW2b4O5qNrhSEZHaT+HKSQpXIiJSXxzPL2b+liS+/v0Iu5Jz7O2Nfdy5vmsEN/SIpHOkbhsUETkXhSsnKVyJiEh9tDs5h/mbj7Bg61HSc4vs7a2b+HJDj6aM7h5BeICXgRWKiNQ+CldOUrgSEZH6rLTMwtq4DL7enMTSnSkUnbxt0GSCftHB3NgzkmEdw/B2dzW4UhER4ylcOUnhSkREGoqcwhJ+2J7M15uT2JRwzN7u7e7CiE7h3Ngzkt4tgzCbddugiDRMCldOUrgSEZGGKDGzgG+2JDF/yxEOZRbY2yMCPBnTI5IbejQlOsTXwApFRGqewpWTFK5ERKQhs1qtbE48zle/J7Hoj6PkFpbaj3WLCuTGHpFc1yWCRj5a1l1E6j+FKycpXImIiNgUlpSxfHca8zcfYeW+dMosth8btKy7iDQUCldOUrgSEREpLz23iO+2HWX+5iPsPHp6WfdG3m4nl3VvSpemWtZdROoXhSsnKVyJiIic356UHOZvTuKbLUkOy7rHNPHlhh6RjOkeqWXdRaReULhyksKViIjIxSkts/BLfCbzNx/hx50pFJY4Lut+Qw/bsu4+HlrWXUTqJoUrJylciYiIVF5uYQk/bE/h681H2HjWsu7DO4VxU4+m9G6lZd1FpG5RuHKSwpWIiIhzDh87uaz75iMcPGtZ99Hdbcu6xzTRsu4iUvspXDlJ4UpERKRq2JZ1z2L+5iMs3HaUnDOWde96cln3kVrWXURqMYUrJylciYiIVL3CkjJ+3mNb1n3FXsdl3a9s14QbejRlsJZ1F5FaRuHKSQpXIiIi1Ssjr4jvth5l/pYj7EjSsu4iUnspXDlJ4UpERKTm7E3JZf7mI3yzJYm0M5Z1jw7x4YYeTRnTPZKIQC3rLiLGULhyksKViIhIzSuzWPklLoOvK1jWvW90EDd0b8rwTlrWXURqlsKVkxSuREREjJVbWMIPO1KYv/kIGw6cXtbdy82FIR1Cua5LOAPbhODp5mJglSLSEChcOUnhSkREpPY4fKyABVuSmL8liYSMfHu7n4crQzuGMrJLBP1igrUQhohUC4UrJylciYiI1D5Wq5U/jmSz6I+jfP9HMkezC+3HArzcGNEpjOu6RNC7VWNcXRS0RKRqKFw5SeFKRESkdrNYrGxOPM6iP5L5fnsy6WcshBHs686ITuFc1yWcy1s0xmzWioMicukUrpykcCUiIlJ3lFmsbEzIZNEfyfywPZnjBSX2Y6H+HlzbOYLruobTPSpQS7uLSKUpXDlJ4UpERKRuKimzsC4+k0XbjvLjzhRyCkvtxyIDvbiuSzgju0bQMcJfQUtELorClZMUrkREROq+otIy1uzLYNEfR1m2K5X84jL7sRZB3lzXJYKRXSNoG+ZnYJUiUtspXDlJ4UpERKR+KSwpY8WeNBb9kczyPan2PbQAWjfx5boutlsHo0N8DaxSRGojhSsnKVyJiIjUX/lFpfy0O5VFfySzam86xWWng1aHcH+u6xrOyC4RRDX2NrBKEaktFK6cpHAlIiLSMOQUlrB0ZyqL/jjK2v0ZlFpO/1jUNSqQkV3CubZLOOEBXgZWKSJGUrhyksKViIhIw3M8v5glO1NY9MdR1sdnckbO4vIWjbiuSwQjOofRxM/TuCJFpMYpXDlJ4UpERKRhS88t4ocdySzalsyvh45x6qclswl6twriui4RDO8URmMfd2MLFZFqp3DlJIUrEREROSUlu5DvtyezcNtRth7Osre7mE30jwnmui7hXN0xjAAvN+OKFJFqo3DlJIUrERERqcjhYwX2oLXzaI693d3FzBVtQhjZNZyr2ofi6+FqYJUiUpUUrpykcCUiIiIXciA9j+//SGbhH0fZl5pnb/dwNXNV+yZc1yWCwW2b4OXuYmCVIuIshSsnKVyJiIhIZexNyWXRH0dZ9EcyCRn59nZvdxeGtA9lZNcIrmgTjIergpZIXaNw5SSFKxEREbkUVquVnUdzWPjHURZtSyYp64T9mJ+nK1d3CGNk13D6xQTj5mI2sFIRuVgKV05SuBIRERFnWa1Wth7OYtEfySz64yipOUX2Y4283RjaIZSrO4TRv3Uwnm4a0RKprRSunKRwJSIiIlXJYrHy26HjLPrjKIu3J5ORV2w/5uXmwsA2IVzdMZSr2oUS4K1VB0VqE4UrJylciYiISHUpLbOwKeEYS3elsnRnCkezC+3HXMwmerdqzNUdwhjaIZSIQC8DKxURULhymsKViIiI1IRTc7SW7kxh6a5U9qTkOhzvHBnAsI6hXN0xjNZNfDGZTAZVKtJwKVw5SeFKREREjHAoM5+lO1NZuiuF3w4d58yf0loEeXN1xzCu7hBK92aNcDEraInUBIUrJylciYiIiNEy8opYvjuVpTtTWROXQXGpxX4s2NfdviBGn+ggLYghUo0UrpykcCUiIiK1SX5RKav3pfPjzhSW70kjt7DUfszH3YVBbZtwdcdQBrVtQoCXFsQQqUoKV05SuBIREZHaqqTMwsYDx1i6K4WlO1NJyTm9IIar2USf6CCu7hjG0PahhAV4GlipSP2gcOUkhSsRERGpC6xWK9uTsvlxpy1o7U/LczjeNSqQqzuEMqxjGDFNfA2qUqRuU7hyksKViIiI1EUH0vNYtiuVpbtS2ZzouCBGqxAfru4QxtUdQ+nWNBCzFsQQuSiVyQbmGqrpvN555x1atGiBp6cnsbGxbNq06bz9X3/9ddq2bYuXlxdRUVE89thjFBYWOvSp7DVFRERE6rpWIb7cNzCarx/oy8a/XsVLYzozqG0I7i5mDqTn896qeG54dx2xM5fz12+2s2pfusNCGSLiHMNHrubNm8ddd93Fe++9R2xsLK+//jpffvkle/fupUmTJuX6z507l0mTJvHhhx/St29f9u3bx4QJE7j11luZNWvWJV3zbBq5EhERkfokt7CEVfvSWbozlRV70sgtOr0ghp+HK4PaNeHqDqEMahuCn6cWxBA5U526LTA2NpbLL7+ct99+GwCLxUJUVBRTpkzhySefLNd/8uTJ7N69m+XLl9vb/vznP7Nx40bWrl17SdcsKiqiqKjI/jwnJ4eoqCiFKxEREal3ikstrD+QydKdKSzblUpa7umfgdxcTPSNDmZYxzCGdGhCEz8tiCFSZ24LLC4u5vfff2fIkCH2NrPZzJAhQ1i/fn2F5/Tt25fff//dfpvfgQMHWLx4Mddcc80lX3PmzJkEBATYH1FRUVX1FkVERERqFXdXMwPbhPDimM5smHYV3zzYlwcGRdMqxIeSMiur9qXz12+2E/vScm549xfeWxXPgfS8C19YRHA18sUzMjIoKysjNDTUoT00NJQ9e/ZUeM5tt91GRkYG/fv3x2q1Ulpayv33389f//rXS77mtGnTmDp1qv35qZErERERkfrMbDbRvVkjujdrxF+GtyMuLc++xPvWw1lsTrQ9/v7DHlo38eXqjraNiztHBmhBDJEKGBquLsXKlSt56aWXePfdd4mNjSUuLo5HHnmEF154gaeffvqSrunh4YGHh0cVVyoiIiJSt8Q08SWmSQwPDoohNafQvvLg+vgM9qflsT8tj3dWxBPm78nQDqFc3TGU2JZBuLvWijXSRAxnaLgKDg7GxcWF1NRUh/bU1FTCwsIqPOfpp5/mzjvv5J577gGgc+fO5Ofnc++99zJ9+vRLuqaIiIiIOAr19+SO3s25o3dzsk+UsHJvGkt3pbJyTxopOYV8suEQn2w4hJ+HK/1bBzO4bRMGtQ2hib/maUnDZWi4cnd3p2fPnixfvpzRo0cDtsUnli9fzuTJkys8p6CgALPZ8bcjLi4ugG0jvUu5poiIiIicW4CXG6O6RTKqWyRFpWWsi89k6c5Ulu1KJSOviB92pPDDjhQAOkb4M7htEwa3C6FbVCNcdPugNCCG3xY4depUxo8fz2WXXUavXr14/fXXyc/PZ+LEiQDcddddREZGMnPmTABGjhzJrFmz6N69u/22wKeffpqRI0faQ9aFrikiIiIil8bD1cUWnto24cXRndhxNJsVe9JZsTeNbUey2Hk0h51Hc3h7RRyB3m5c0TqEwe1CuKJ1CEG+moYh9Zvh4Wrs2LGkp6fzzDPPkJKSQrdu3ViyZIl9QYrExESHkaqnnnoKk8nEU089RVJSEiEhIYwcOZIXX3zxoq8pIiIiIs4zm010aRpIl6aBPDKkNZl5Razen86KPems2pdOVkEJ3207ynfbjmIyQdemgfbbB7UohtRHhu9zVRtpE2ERERER55SWWdh2JMs+qrXzaI7D8WBfd65oE8Lgtk24onUIAd7avFhqpzq1iXBtpHAlIiIiUrVScwpZtdcWtNbszyCvqNR+zMVsokezQAadvN2wfbgfJpNGtaR2ULhyksKViIiISPUpLrXw+6HjrNybxoq9aexLddykONTf4+Ttg03o3zoYXw/DZ7JIA6Zw5SSFKxEREZGac+R4ASv3prNybxq/xGVyoqTMfszNxcTlLRrbVyCMDvHVqJbUKIUrJylciYiIiBijsKSMTQnHWLE3jZV700nIyHc43rSRlz1o9WkVjJe7i0GVSkOhcOUkhSsRERGR2iEhI//k7YPpbDiQSXGpxX7M3dVMn1ZBDG4bwqC2TWgR7GNgpVJfKVw5SeFKREREpPYpKC5lfXwmK/em8/OeNJKyTjgcbxnsw6C2thUIe7VsjKebRrXEeQpXTlK4EhEREandrFYr8el59qXeNyUco9Ry+sdaLzcX+sUEMejkvlpNG3kbWK3UZQpXTlK4EhEREalbcgtL+CUu074CYWpOkcPxNqG+9hUIL2vRCDcXs0GVSl2jcOUkhSsRERGRustqtbI7Offkohhp/H7oOGcMauHn4Ur/1sEMbtuEgW1DCPX3NK5YqfUUrpykcCUiIiJSf2QVFLNmfwYr9qaxam86mfnFDsc7RvgzqG0I/WNC6NE8EA9XzdWS0xSunKRwJSIiIlI/WSxWtidls+LkCoR/HMnizJ+Gvdxc6NWyMQNaB9O/dTBtQ/20r1YDp3DlJIUrERERkYYhI6+IVXvTWb0/nV/iMsjIcxzVCvb1oH9MEP1bh9A/JpiwAN1C2NAoXDlJ4UpERESk4bFarexJyWXt/gzWxmWwMSGTwhKLQ5+YJr70jwmmf0wwvaOD8PVwNahaqSkKV05SuBIRERGRotIyNh/KYm1cOmv3Z/BHUrbDLYSuZhPdmwXSLyaYAa2D6do0EFetQljvKFw5SeFKRERERM6WVVDM+vhM1sRl8EtcBocyCxyO+3m4EtsqyD5fq1Wwj+Zr1QMKV05SuBIRERGRCzl8rIA1+21B65f4DLIKShyORwR40i/GFrT6xQQT7OthUKXiDIUrJylciYiIiEhllFms7Dyazdq4DNbuz+C3g8cpLnOcr9U+3J8BJ4NWrxaN8XLXku91gcKVkxSuRERERMQZJ4rL+PXgMdbGZbBmfwa7k3Mcjru7mLmsRSP7fK2OEQG4mHULYW2kcOUkhSsRERERqUoZeUW22wdPjmwdzS50OB7o7Ubf6CD6x9iWfG8W5G1QpXI2hSsnKVyJiIiISHWxWq0cyMjnl5OjWhviM8ktKnXo06yxN/1bBzMgJpg+0UEEersbVK0oXDlJ4UpEREREakppmYVtR7JP7q+VzpbELEotp39EN5mgS2SAfXGMns0b4eGq+Vo1ReHKSQpXIiIiImKUvKJSNh7ItK9EuD8tz+G4p5uZXi2DGHAybLUL89OS79VI4cpJClciIiIiUlukZBfa5mqdfKTnFjkcD/Z1t41qnQxb4QFeBlVaPylcOUnhSkRERERqI6vVyr7UPNbsT2dtXAYbDxzjREmZQ59WwT7EtgqiT3QQvVs1pomfp0HV1g8KV05SuBIRERGRuqC41MLmxOMn52tl8MeRLCxn/XQfHeJDn+gg+rQKJrZVY21mXEkKV05SuBIRERGRuij7RAm/Jhxj/YFM1sdnsjslh7N/2m8T6kufkyNbsS2DaOSjlQjPR+HKSQpXIiIiIlIfZBUUszHhGOvjM9lwIJM9Kbnl+rQL8zs5smULWwHebgZUWnspXDlJ4UpERERE6qNj+cVsPJDJ+gO2sLUv1XElQpMJOoT706dVEL1bBdGrVWP8PRt22FK4cpLClYiIiIg0BBl5RWw4GbTWx2cSn57vcNxsgk6RAfawdXnLxvh6uBpUrTEUrpykcCUiIiIiDVFaTuHJUa1jbDiQSUKGY9hyMZvoHBlA75Nzti5r3gifeh62FK6cpHAlIiIiIgLJ2SdsI1vxtkUyEo8VOBx3NZvoGhVI71aN6dMqmJ7NG+Hl7mJQtdVD4cpJClciIiIiIuUlZZ1gQ3ymfTXCpKwTDsfdXEx0j2pE71aN6R0dRI9mjfB0q9thS+HKSQpXIiIiIiIXdvhYge02wpOBKzm70OG4u6uZ7lGB9tUIuzULxMO1boUthSsnKVyJiIiIiFSO1WrlUGaBbXGMkyNbablFDn08XM30bN7Ivs9Wl6aBuLuaDar44ihcOUnhSkRERETEOVarlQMZ+faVCDccOEZGnmPY8nJz4bIWjewLZHSODMDNpXaFLYUrJylciYiIiIhULavVSnx6HuvjM+0rEh7LL3bo4+PuwmUtGtMn2rb0e+fIAFzMJoMqtlG4cpLClYiIiIhI9bJYrOxPy2N9fAbrD2SyMeEYWQUl9uMmE2x9+moCvI3dxLgy2aB+L0ovIiIiIiK1ktlsom2YH23D/JjQryUWi5U9Kbn2+VoFxaWGB6vK0shVBTRyJSIiIiIiULlsULtmi4mIiIiIiNRRClciIiIiIiJVQOFKRERERESkCihciYiIiIiIVAGFKxERERERkSqgcCUiIiIiIlIFFK5ERERERESqgMKViIiIiIhIFVC4EhERERERqQIKVyIiIiIiIlVA4UpERERERKQKKFyJiIiIiIhUAYUrERERERGRKqBwJSIiIiIiUgUUrkRERERERKqAwpWIiIiIiEgVULgSERERERGpAgpXIiIiIiIiVcDV6AJqI6vVCkBOTo7BlYiIiIiIiJFOZYJTGeF8FK4qkJubC0BUVJTBlYiIiIiISG2Qm5tLQEDAefuYrBcTwRoYi8XC0aNH8fPzw2QyGVpLTk4OUVFRHD58GH9/f0NrERt9JrWPPpPaRZ9H7aPPpPbRZ1K76POofWrTZ2K1WsnNzSUiIgKz+fyzqjRyVQGz2UzTpk2NLsOBv7+/4X+wxJE+k9pHn0ntos+j9tFnUvvoM6ld9HnUPrXlM7nQiNUpWtBCRERERESkCihciYiIiIiIVAGFq1rOw8ODZ599Fg8PD6NLkZP0mdQ++kxqF30etY8+k9pHn0ntos+j9qmrn4kWtBAREREREakCGrkSERERERGpAgpXIiIiIiIiVUDhSkREROT/27v3oKjK/w/g771wE1GUkt1VQRIHFBE00FGaLsKIjmlqojmGGM04GQgIIo5FYIqoAd4HgybooqZmmFlKiKjpJBC4XooAE/HCIjYiBN6QfX5/GGdCTUH5evi179fM/nGeZ/ec97Nn1mc+nnMeiIg6AIsrIiIiIiKiDsDiqpPbuHEj+vXrB0tLS4wYMQIFBQVyRzJZiYmJ8Pb2ho2NDXr16oVJkyahtLRU7lj0txUrVkChUCAiIkLuKCbt0qVLePPNN2FnZwcrKyu4u7vjl19+kTuWyWpubkZsbCycnJxgZWWF/v37Y+nSpeBaVk/H4cOHMWHCBOh0OigUCuzatatVvxACH3zwAbRaLaysrODn54fy8nJ5wpqIh52TpqYmxMTEwN3dHdbW1tDpdJg1axaqqqrkC2wCHvU7+ad33nkHCoUCa9aseWr52ovFVSe2bds2REZGIi4uDsXFxfDw8IC/vz9qamrkjmaSDh06hJCQEBw7dgw5OTloamrCmDFj0NjYKHc0k1dYWIiPP/4YQ4YMkTuKSautrYWPjw/MzMywd+9e/Pbbb0hOTkaPHj3kjmayVq5cidTUVGzYsAElJSVYuXIlVq1ahfXr18sdzSQ0NjbCw8MDGzdufGD/qlWrsG7dOmzatAn5+fmwtraGv78/bt68+ZSTmo6HnZPr16+juLgYsbGxKC4uxjfffIPS0lJMnDhRhqSm41G/kxZZWVk4duwYdDrdU0r2mAR1WsOHDxchISHSdnNzs9DpdCIxMVHGVNSipqZGABCHDh2SO4pJ++uvv8SAAQNETk6OeOmll0R4eLjckUxWTEyMeOGFF+SOQf8wfvx4ERwc3KptypQpYubMmTIlMl0ARFZWlrRtNBqFRqMRH330kdR27do1YWFhIbZu3SpDQtNz7zl5kIKCAgFAVFZWPp1QJu7fzsnFixdF7969xenTp4Wjo6NYvXr1U8/WVrxy1Undvn0bRUVF8PPzk9qUSiX8/Pzw888/y5iMWtTV1QEAevbsKXMS0xYSEoLx48e3+q2QPHbv3g0vLy8EBASgV69eGDp0KNLT0+WOZdJGjRqF3NxclJWVAQBOnDiBI0eOYNy4cTIno4qKClRXV7f6t6t79+4YMWIE5/lOpK6uDgqFAra2tnJHMVlGoxGBgYGIjo6Gm5ub3HEeSS13AHqwP//8E83NzbC3t2/Vbm9vj99//12mVNTCaDQiIiICPj4+GDx4sNxxTNZXX32F4uJiFBYWyh2FAJw9exapqamIjIzE4sWLUVhYiLCwMJibmyMoKEjueCZp0aJFqK+vh6urK1QqFZqbm5GQkICZM2fKHc3kVVdXA8AD5/mWPpLXzZs3ERMTgxkzZqBbt25yxzFZK1euhFqtRlhYmNxR2oTFFdFjCAkJwenTp3HkyBG5o5isCxcuIDw8HDk5ObC0tJQ7DuHufzp4eXlh+fLlAIChQ4fi9OnT2LRpE4srmWzfvh2bN2/Gli1b4ObmBr1ej4iICOh0Op4ToodoamrCtGnTIIRAamqq3HFMVlFREdauXYvi4mIoFAq547QJbwvspJ555hmoVCpcvny5Vfvly5eh0WhkSkUAEBoaij179iAvLw99+vSRO47JKioqQk1NDYYNGwa1Wg21Wo1Dhw5h3bp1UKvVaG5uljuiydFqtRg0aFCrtoEDB+L8+fMyJaLo6GgsWrQIb7zxBtzd3REYGIj58+cjMTFR7mgmr2Uu5zzf+bQUVpWVlcjJyeFVKxn99NNPqKmpgYODgzTXV1ZWIioqCv369ZM73gOxuOqkzM3N8fzzzyM3N1dqMxqNyM3NxciRI2VMZrqEEAgNDUVWVhYOHDgAJycnuSOZNF9fX5w6dQp6vV56eXl5YebMmdDr9VCpVHJHNDk+Pj73/XmCsrIyODo6ypSIrl+/DqWy9VSvUqlgNBplSkQtnJycoNFoWs3z9fX1yM/P5zwvo5bCqry8HPv374ednZ3ckUxaYGAgTp482Wqu1+l0iI6ORnZ2ttzxHoi3BXZikZGRCAoKgpeXF4YPH441a9agsbERb731ltzRTFJISAi2bNmCb7/9FjY2NtI98d27d4eVlZXM6UyPjY3Nfc+7WVtbw87Ojs/ByWT+/PkYNWoUli9fjmnTpqGgoABpaWlIS0uTO5rJmjBhAhISEuDg4AA3NzccP34cKSkpCA4OljuaSWhoaMCZM2ek7YqKCuj1evTs2RMODg6IiIjAsmXLMGDAADg5OSE2NhY6nQ6TJk2SL/R/3MPOiVarxdSpU1FcXIw9e/agublZmut79uwJc3NzuWL/pz3qd3JvgWtmZgaNRgMXF5enHbVt5F6ukB5u/fr1wsHBQZibm4vhw4eLY8eOyR3JZAF44CsjI0PuaPQ3LsUuv++++04MHjxYWFhYCFdXV5GWliZ3JJNWX18vwsPDhYODg7C0tBTPPfeceO+998StW7fkjmYS8vLyHjhvBAUFCSHuLsceGxsr7O3thYWFhfD19RWlpaXyhv6Pe9g5qaio+Ne5Pi8vT+7o/1mP+p3cq7Mvxa4Qgn+mnYiIiIiI6EnxmSsiIiIiIqIOwOKKiIiIiIioA7C4IiIiIiIi6gAsroiIiIiIiDoAiysiIiIiIqIOwOKKiIiIiIioA7C4IiIiIiIi6gAsroiIiIiIiDoAiysiIvpPio+Ph6enp9wxZDd79mxMmjRJ7hhERCaBxRURET222bNnQ6FQSC87OzuMHTsWJ0+efKo5FAoFdu3a1aptwYIFyM3N/Z8fOz4+Xhq/SqVC3759MWfOHFy9evV/fmwiIupcWFwREdETGTt2LAwGAwwGA3Jzc6FWq/Hqq6/KHQtdu3aFnZ3dUzmWm5sbDAYDzp8/j4yMDOzbtw9z5859KscmIqLOg8UVERE9EQsLC2g0Gmg0Gnh6emLRokW4cOECrly5Ir3n1KlTGD16NKysrGBnZ4c5c+agoaFB6jcajfjwww/Rp08fWFhYwNPTE/v27ZP6b9++jdDQUGi1WlhaWsLR0RGJiYkAgH79+gEAJk+eDIVCIW3fe1tgy+1xSUlJ0Gq1sLOzQ0hICJqamqT3GAwGjB8/HlZWVnBycsKWLVvQr18/rFmz5qHfgVqthkajQe/eveHn54eAgADk5OS0eXwHDx6EQqHAtWvXpDa9Xg+FQoFz584BADIzM2Fra4vs7GwMHDgQXbt2lQrbFs3NzYiMjIStrS3s7OywcOFCCCFaZf3666/h7u4unQs/Pz80NjY+dHxERNQ2LK6IiKjDNDQ04Msvv4Szs7N01aixsRH+/v7o0aMHCgsLsWPHDuzfvx+hoaHS59auXYvk5GQkJSXh5MmT8Pf3x8SJE1FeXg4AWLduHXbv3o3t27ejtLQUmzdvloqowsJCAEBGRgYMBoO0/SB5eXn4448/kJeXh88++wyZmZnIzMyU+mfNmoWqqiocPHgQO3fuRFpaGmpqatr1HZw7dw7Z2dkwNzdv8/ja6vr160hKSsIXX3yBw4cP4/z581iwYIHUn5ycjMzMTHz66ac4cuQIrl69iqysLKnfYDBgxowZCA4ORklJCQ4ePIgpU6bcV4AREdFjEkRERI8pKChIqFQqYW1tLaytrQUAodVqRVFRkfSetLQ00aNHD9HQ0CC1ff/990KpVIrq6mohhBA6nU4kJCS02re3t7d49913hRBCzJs3T4wePVoYjcYH5gAgsrKyWrXFxcUJDw+PVlkdHR3FnTt3pLaAgAAxffp0IYQQJSUlAoAoLCyU+svLywUAsXr16n/9DuLi4oRSqRTW1tbC0tJSABAAREpKivSeR40vLy9PABC1tbVS//HjxwUAUVFRIYQQIiMjQwAQZ86ckd6zceNGYW9vL21rtVqxatUqabupqUn06dNHvPbaa0IIIYqKigQAce7cuX8dDxERPT5euSIioifyyiuvQK/XQ6/Xo6CgAP7+/hg3bhwqKysBACUlJfDw8IC1tbX0GR8fHxiNRpSWlqK+vh5VVVXw8fFptV8fHx+UlJQAuHtLn16vh4uLC8LCwvDjjz8+VlY3NzeoVCppW6vVSlemSktLoVarMWzYMKnf2dkZPXr0eOR+XVxcoNfrUVhYiJiYGPj7+2PevHkA0KbxtVWXLl3Qv3//B+avq6uDwWDAiBEjpH61Wg0vLy9p28PDA76+vnB3d0dAQADS09NRW1vbrgxERPTvWFwREdETsba2hrOzM5ydneHt7Y1PPvkEjY2NSE9P77BjDBs2DBUVFVi6dClu3LiBadOmYerUqe3ej5mZWatthUIBo9H4xPnMzc3h7OyMwYMHY8WKFVCpVFiyZEmbP69U3p2OxT9uz/vns2AtHpRftOOWPpVKhZycHOzduxeDBg3C+vXr4eLigoqKijbvg4iI/h2LKyIi6lAKhQJKpRI3btwAAAwcOBAnTpxotWjC0aNHoVQq4eLigm7dukGn0+Ho0aOt9nP06FEMGjRI2u7WrRumT5+O9PR0bNu2DTt37pSWOzczM0Nzc/MT5XZxccGdO3dw/Phxqe3MmTOPdWXn/fffR1JSEqqqqto0vmeffRYAWi1Oodfr23XM7t27Q6vVIj8/X2q7c+cOioqKWr1PoVDAx8cHS5YswfHjx2Fubt7quSwiInp8arkDEBHR/2+3bt1CdXU1AKC2thYbNmxAQ0MDJkyYAACYOXMm4uLiEBQUhPj4eFy5cgXz5s1DYGAg7O3tAQDR0dGIi4tD//794enpiYyMDOj1emzevBkAkJKSAq1Wi6FDh0KpVGLHjh3QaDSwtbUFcHfFwNzcXPj4+MDCwqJNt/Ldy9XVFX5+fpgzZw5SU1NhZmaGqKgoWFlZQaFQtGtfI0eOxJAhQ7B8+XJs2LDhkeNzdnZG3759ER8fj4SEBJSVlSE5ObndYwgPD8eKFSswYMAAuLq6IiUlpdUKhPn5+cjNzcWYMWPQq1cv5Ofn48qVKxg4cGC7j0VERPdjcUVERE9k37590Gq1AAAbGxu4urpix44dePnllwHcfU4oOzsb4eHh8Pb2RpcuXfD6668jJSVF2kdYWBjq6uoQFRWFmpoaDBo0CLt378aAAQOk/a5atQrl5eVQqVTw9vbGDz/8IN1Ol5ycjMjISKSnp6N3797S8uXt9fnnn+Ptt9/Giy++CI1Gg8TERPz666+wtLRs977mz5+P2bNnIyYm5pHjMzMzw9atWzF37lwMGTIE3t7eWLZsGQICAtp1zKioKBgMBgQFBUGpVCI4OBiTJ09GXV0dgLtX/w4fPow1a9agvr4ejo6OSE5Oxrhx49o9PiIiup9CtOdmbSIiIhNy8eJF9O3bF/v374evr6/ccYiIqJNjcUVERPS3AwcOoKGhAe7u7jAYDFi4cCEuXbqEsrKy+xaTICIiuhdvCyQiIvpbU1MTFi9ejLNnz8LGxgajRo3C5s2bWVgREVGb8MoVERERERFRB+BS7ERERERERB2AxRUREREREVEHYHFFRERERETUAVhcERERERERdQAWV0RERERERB2AxRUREREREVEHYHFFRERERETUAVhcERERERERdYD/A916e5scC10nAAAAAElFTkSuQmCC",
      "text/plain": [
       "<Figure size 1000x600 with 1 Axes>"
      ]
     },
     "metadata": {},
     "output_type": "display_data"
    }
   ],
   "source": [
    "import matplotlib.pyplot as plt\n",
    "\n",
    "\n",
    "train_rmse = evals_result['train']['rmse']\n",
    "val_rmse = evals_result['validation']['rmse']\n",
    "\n",
    "\n",
    "plt.figure(figsize=(10, 6))\n",
    "plt.plot(train_rmse, label='Train RMSE')\n",
    "plt.plot(val_rmse, label='Validation RMSE')\n",
    "plt.xlabel('Boosting Rounds')\n",
    "plt.ylabel('RMSE')\n",
    "plt.title('Training vs Validation RMSE')\n",
    "plt.legend()\n",
    "plt.show()"
   ]
  },
  {
   "cell_type": "code",
   "execution_count": null,
   "metadata": {},
   "outputs": [],
   "source": []
  }
 ],
 "metadata": {
  "kernelspec": {
   "display_name": "Python 3",
   "language": "python",
   "name": "python3"
  },
  "language_info": {
   "codemirror_mode": {
    "name": "ipython",
    "version": 3
   },
   "file_extension": ".py",
   "mimetype": "text/x-python",
   "name": "python",
   "nbconvert_exporter": "python",
   "pygments_lexer": "ipython3",
   "version": "3.12.3"
  }
 },
 "nbformat": 4,
 "nbformat_minor": 2
}
