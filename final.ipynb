{
 "cells": [
  {
   "cell_type": "markdown",
   "metadata": {},
   "source": [
    "Exécuter ce code pour importer toutes les données scrapées ci-dessous"
   ]
  },
  {
   "cell_type": "code",
   "execution_count": 1,
   "metadata": {},
   "outputs": [],
   "source": [
    "import pickle,zlib,pandas as pd\n",
    "\n",
    "player_stats_fbref=pickle.loads(zlib.decompress(open('fbref_data/compressed_player_stats_fbref_1.bin','rb').read()))\n",
    "player_stats_fbref.update(pickle.loads(zlib.decompress(open('fbref_data/compressed_player_stats_fbref_2.bin','rb').read())))\n",
    "player_stats_fbref=pd.DataFrame(player_stats_fbref).transpose()\n",
    "player_stats_fbref=player_stats_fbref.sort_index(axis=1,ascending=False)\n",
    "\n",
    "\n",
    "teams_fbref=pickle.load(open('fbref_data/teams_fbref.pkl','rb'))\n",
    "\n",
    "glossary=pd.read_csv('fbref_data/Glossaire_FBREF.csv')\n",
    "\n",
    "\n",
    "player_stats_tm=pd.read_csv('tm_data/player_stats_tm.csv')\n",
    "player_stats_tm.index=player_stats_tm.loc[:,'Unnamed: 0']\n",
    "player_stats_tm=player_stats_tm.drop('Unnamed: 0',axis=1)\n",
    "\n",
    "transfer_history=pickle.load(open('tm_data/transfer_history.pkl','rb'))\n",
    "player_ratings=pd.read_csv('sf_data/player_ratings.csv',index_col=0)\n"
   ]
  },
  {
   "cell_type": "markdown",
   "metadata": {},
   "source": [
    "# Données FBREF"
   ]
  },
  {
   "cell_type": "markdown",
   "metadata": {},
   "source": [
    "## Équipes "
   ]
  },
  {
   "cell_type": "markdown",
   "metadata": {},
   "source": [
    "Module pour Scrapper, (on peut aussi utiliser le module standard de python ie html_parser)"
   ]
  },
  {
   "cell_type": "code",
   "execution_count": null,
   "metadata": {},
   "outputs": [],
   "source": [
    "!pip3 install lxml"
   ]
  },
  {
   "cell_type": "code",
   "execution_count": 241,
   "metadata": {},
   "outputs": [],
   "source": [
    "from bs4 import BeautifulSoup\n",
    "import pandas as pd\n",
    "import requests\n",
    "import time\n",
    "\n",
    "def get_teams_fbref(champ,season):\n",
    "    \n",
    "    #Code HTML de la page fbref de la saison season pour le championnat champ\n",
    "    url=f'https://fbref.com/en/comps/{champ}/{season}-{season+1}/{season}-{season+1}-any-Stats'\n",
    "    html = requests.get(url).text\n",
    "    soup = BeautifulSoup(html, 'lxml')\n",
    "    \n",
    "    # Trouver le classement et toutes les lignes du tableau\n",
    "    table=soup.find_all('table')[0]\n",
    "    rows=table.find_all('tr')[1:]\n",
    "    res={}\n",
    "    \n",
    "    #Faire un dicto avec toutes les équipes et leur id (utile pour après)\n",
    "    for row in rows:\n",
    "        link=row.find('a').get('href')\n",
    "        id=link.split('/')[3]\n",
    "        name=row.find('a').text\n",
    "        res[name]=id\n",
    "    return res\n",
    "\n",
    "    "
   ]
  },
  {
   "cell_type": "markdown",
   "metadata": {},
   "source": [
    "Trouver toutes les équipes pour tous les championnats sur les 10 dernières années"
   ]
  },
  {
   "cell_type": "code",
   "execution_count": null,
   "metadata": {},
   "outputs": [],
   "source": [
    "championships={'GB1':9,'IT1':11,'ES1':12,'FR1':13,'L1':20}\n",
    "years=[2024-i for i in range(10)]\n",
    "\n",
    "seasons=[f'{n}-{n+1}' for n in [2024-i for i in range(10)]]\n",
    "\n",
    "teams_fbref={}\n",
    "\n",
    "\n",
    "for c in championships.keys():\n",
    "    teams_fbref[c]={}\n",
    "    for year in years:\n",
    "        print(c,year)\n",
    "        teams_fbref[c][year]=get_teams_fbref(championships[c],year)\n",
    "        time.sleep(4)\n"
   ]
  },
  {
   "cell_type": "code",
   "execution_count": 49,
   "metadata": {},
   "outputs": [
    {
     "data": {
      "text/plain": [
       "{'Liverpool': '822bd0ba',\n",
       " 'Chelsea': 'cff3d9bb',\n",
       " 'Arsenal': '18bb7c10',\n",
       " \"Nott'ham Forest\": 'e4a775cb',\n",
       " 'Manchester City': 'b8fd03ef',\n",
       " 'Aston Villa': '8602292d',\n",
       " 'Bournemouth': '4ba7cbea',\n",
       " 'Fulham': 'fd962109',\n",
       " 'Brighton': 'd07537b9',\n",
       " 'Tottenham': '361ca564',\n",
       " 'Brentford': 'cd051869',\n",
       " 'Newcastle Utd': 'b2b47a98',\n",
       " 'Manchester Utd': '19538871',\n",
       " 'West Ham': '7c21e445',\n",
       " 'Crystal Palace': '47c64c55',\n",
       " 'Everton': 'd3fd31cc',\n",
       " 'Leicester City': 'a2d435b3',\n",
       " 'Ipswich Town': 'b74092de',\n",
       " 'Wolves': '8cec06e1',\n",
       " 'Southampton': '33c895d4'}"
      ]
     },
     "execution_count": 49,
     "metadata": {},
     "output_type": "execute_result"
    }
   ],
   "source": [
    "teams_fbref['GB1'][2024]"
   ]
  },
  {
   "cell_type": "markdown",
   "metadata": {},
   "source": [
    "Sauvegarde du dictionnaire des équipes"
   ]
  },
  {
   "cell_type": "code",
   "execution_count": 425,
   "metadata": {},
   "outputs": [],
   "source": [
    "import pickle\n",
    "with open('teams_fbref.pkl','wb') as file: \n",
    "    pickle.dump(teams_fbref,file)"
   ]
  },
  {
   "cell_type": "markdown",
   "metadata": {},
   "source": [
    "### Glossaire pour expliquer les acronymes des différentes stats"
   ]
  },
  {
   "cell_type": "markdown",
   "metadata": {},
   "source": [
    "Obligé d'utiliser Selenium car présence d'un boutton"
   ]
  },
  {
   "cell_type": "code",
   "execution_count": 1,
   "metadata": {},
   "outputs": [],
   "source": [
    "from selenium import webdriver\n",
    "from selenium.webdriver.common.by import By\n",
    "from selenium.webdriver.support.ui import WebDriverWait\n",
    "from selenium.webdriver.support import expected_conditions as EC\n",
    "import time\n",
    "\n",
    "\n",
    "\n",
    "#Sélecteurs de tous les bouttons\n",
    "\n",
    "button_paths=['#stats_shooting_dom_lg_sh','#stats_passing_dom_lg_sh', \\\n",
    "              '#stats_passing_types_dom_lg_sh','#stats_gca_dom_lg_sh', \\\n",
    "                '#stats_playing_time_dom_lg_sh','#stats_possession_dom_lg_sh', '#stats_misc_dom_lg_sh']\n",
    "\n",
    "button_paths=[button+f' > div > ul > li:nth-child({1 if button_paths.index(button)!=0 else 2}) > button' for button in button_paths]\n",
    "\n",
    "#À titre d'exemple (on aurait pu prendre un autre joueur)\n",
    "\n",
    "url=f'https://fbref.com/en/players/e06683ca/Virgil-van-Dijk'\n",
    "\n",
    "\n",
    "\n",
    "driver=webdriver.Chrome()\n",
    "driver.implicitly_wait(10)\n",
    "driver.get(url)\n",
    "\n",
    "glossaries=[]\n",
    "\n",
    "\n",
    "for button in button_paths:\n",
    "  \n",
    "  # Scroller jusqu'au boutton glossaire, le code ajustera jusqu'à trouver le boutton par lui même\n",
    "    while(True):\n",
    "      try:\n",
    "        driver.find_element(By.CSS_SELECTOR,button).click()\n",
    "        break\n",
    "      except:\n",
    "        pass\n",
    "    glossaries.append(([x.text for x in driver.find_elements(By.XPATH,'//*[@id=\"sr_glossary\"]')]))\n",
    "    "
   ]
  },
  {
   "cell_type": "code",
   "execution_count": null,
   "metadata": {},
   "outputs": [],
   "source": [
    "glossary={}\n",
    "for i in range(len(glossaries)):\n",
    "    stats=[s.split('\\n')[-1] for s in glossaries[i][0].split('--')][:-1 ]\n",
    "    explanations=[s.split('\\n')[0] for s in glossaries[i][0].split('--')][1:]\n",
    "    stats=list(map(lambda s:s.strip(),stats))\n",
    "    explanations=list(map(lambda s:s.split(':')[0].strip(),explanations))\n",
    "    glossary.update(zip(stats,explanations))\n",
    "    "
   ]
  },
  {
   "cell_type": "markdown",
   "metadata": {},
   "source": [
    "Sauvegarde du glossaire"
   ]
  },
  {
   "cell_type": "code",
   "execution_count": 40,
   "metadata": {},
   "outputs": [],
   "source": [
    "import pandas as pd \n",
    "glossary=pd.Series(glossary)\n",
    "glossary.to_csv('Glossaire_FBREF.csv')"
   ]
  },
  {
   "cell_type": "code",
   "execution_count": 389,
   "metadata": {},
   "outputs": [
    {
     "data": {
      "text/plain": [
       "Season                            Season\n",
       "Age                  Age at season start\n",
       "Country    Flag and name of the country.\n",
       "Comp                         Competition\n",
       "LgRank       Squad finish in competition\n",
       "90s                           90s Played\n",
       "Gls                                Goals\n",
       "Sh                            GCA (Shot)\n",
       "SoT                      Shots on Target\n",
       "SoT%                   Shots on Target %\n",
       "dtype: object"
      ]
     },
     "execution_count": 389,
     "metadata": {},
     "output_type": "execute_result"
    }
   ],
   "source": [
    "glossary.head(10)"
   ]
  },
  {
   "cell_type": "markdown",
   "metadata": {},
   "source": [
    "Stats des joueurs"
   ]
  },
  {
   "cell_type": "code",
   "execution_count": 71,
   "metadata": {},
   "outputs": [],
   "source": [
    "def get_player_stats_fbref(player_id):\n",
    "    \"Retourne les statistiques pour le joueur d'id player_id sous format de dictionnaire\"\n",
    "    url=f'https://fbref.com/en/players/{player_id}/'\n",
    "    html = requests.get(url).text\n",
    "    time.sleep(4)\n",
    "    soup = BeautifulSoup(html, 'lxml')\n",
    "    res={}\n",
    "    #Données sur taille poids pied fort âge et pays\n",
    "    \n",
    "    metadata=soup.find('div',id='meta')\n",
    "    try:\n",
    "        physical=list(map(lambda x:x.text,metadata.find_all('span')[1:3]))\n",
    "        physical[0],physical[1]=float(physical[0].split('cm')[0]),float(physical[1].split('kg')[0])\n",
    "    except:\n",
    "        physical=['','']\n",
    "    try:\n",
    "        foot=metadata.find('strong',string='Footed:').next_sibling.strip()\n",
    "    except:\n",
    "        foot=''\n",
    "    try:\n",
    "        age=2025-int(metadata.find('span',id='necro-birth').get('data-birth').split('-')[0])\n",
    "    except:\n",
    "        age=''\n",
    "    try:\n",
    "        country=metadata.find('a').text\n",
    "    except:\n",
    "        country=''\n",
    "    meta=physical+[foot,age,country]\n",
    "    \n",
    "    \n",
    "    \n",
    "    \n",
    "    attributes=['height','weight','preferred foot','age','country']\n",
    "    \n",
    "    res['meta']=dict(zip(attributes,meta))\n",
    "    \n",
    "    \n",
    "    \n",
    "    \n",
    "    \n",
    "    std_rows=soup.find('table',id=\"stats_standard_dom_lg\")\n",
    "    \n",
    "    try:\n",
    "        std_rows=std_rows.select('tr[id=\"stats\"]')\n",
    "    except:\n",
    "        return res\n",
    "    \n",
    "    \n",
    "    # Données sur les antécédents en club, pays, championnats\n",
    "    teams,countries,champs=[],[],[]\n",
    "    for row in std_rows:\n",
    "        teams.append(row.select_one(('td[data-stat=\"team\"]')).text)\n",
    "        countries.append((row.select_one(('td[data-stat=\"country\"]'))).text.split(' ')[-1] )\n",
    "        champs.append(row.select_one(('td[data-stat=\"comp_level\"]')).text.split('1. ')[-1])\n",
    "        \n",
    "    # Extraction des stats sur tous les aspects du jeu\n",
    "    \n",
    "    \n",
    "    #On différencie les Gardiens\n",
    "    \n",
    "    try:\n",
    "        if soup.find(string='Position:').next_element[1]=='G':\n",
    "            table_ids=[\"keeper\",\"keeper\",\"passing\",\"passing_types\",\"possession\",\"playing_time\",\"misc\"]\n",
    "        else:\n",
    "            table_ids=[\"shooting\",\"passing\",\"passing_types\",\"gca\",\"defense\",\"possession\",\"playing_time\",\"misc\"]\n",
    "    except:\n",
    "        table_ids=[\"shooting\",\"passing\",\"passing_types\",\"gca\",\"defense\",\"possession\",\"playing_time\",\"misc\"]\n",
    "    table_ids=list(map(lambda s:'stats_'+s+'_dom_lg',table_ids))\n",
    "    \n",
    "    \n",
    "    \n",
    "    for id in table_ids:\n",
    "        \n",
    "        \n",
    "        #Certains joueurs n'ont pas des tableaux pour tous les aspects du jeu\n",
    "        try:\n",
    "            table=soup.find('table',id=id)\n",
    "            header=table.find_all('tr')[1]\n",
    "            cols=[x.get('data-stat') for x in header.find_all('th')][1:]\n",
    "            for row in table.find_all('tr',id=\"stats\"):\n",
    "                year=row.select_one('th[data-stat=\"year_id\"]').text\n",
    "                if year not in res.keys():\n",
    "                    res[year]={}\n",
    "                for col in cols[:-1]:\n",
    "                    res[year][col]=row.select_one(f'td[data-stat=\"{col}\"]').text\n",
    "        except:\n",
    "            pass\n",
    "        \n",
    "    # Transformation en flottants pour les nombres\n",
    "    for y in res.keys():\n",
    "        \n",
    "        for c in res[y].keys():\n",
    "            try:\n",
    "                #le replace pour les minutes qui ont une , au lieu de .\n",
    "                res[y][c]=float(res[y][c].replace('-','.'))\n",
    "            except:\n",
    "                pass\n",
    "    \n",
    "    return res\n",
    "        \n",
    "    \n",
    "def get_team_stats_fbref(team_id,season,champ,player_dict={},display_flag=False):\n",
    "    url=f'https://fbref.com/en/squads/{team_id}/{season}-{season+1}/any'\n",
    "    html = requests.get(url).text\n",
    "    time.sleep(4)\n",
    "    soup = BeautifulSoup(html, 'lxml')\n",
    "    \n",
    "    \n",
    "    table=soup.find('table',id=f\"stats_standard_{championships[champ]}\").find('tbody')\n",
    "    for row in table.find_all('tr'):\n",
    "        name=row.find('a').text\n",
    "        if name not in player_dict.keys():\n",
    "            if display_flag:\n",
    "                print(name)\n",
    "            player_dict[name]=get_player_stats_fbref(row.find('a').get('href').split('/')[3])\n",
    "    \n",
    "    \n",
    "    \n",
    "    \n",
    "    \n",
    "    \n",
    "    \n",
    "    "
   ]
  },
  {
   "cell_type": "code",
   "execution_count": null,
   "metadata": {},
   "outputs": [],
   "source": [
    "player_stats_fbref={}\n",
    "\n",
    "#Seen pour relancer sans devoir reparcourir toutes les équipes si erreur\n",
    "seen=set()\n",
    "for country in teams_fbref.keys():\n",
    "    for year in teams_fbref[country].keys():\n",
    "        for team in teams_fbref[country][year].keys():\n",
    "            if (team,year) not in seen:\n",
    "                print(team,year)\n",
    "                get_team_stats_fbref(teams_fbref[country][year][team],year,country,player_stats_fbref)\n",
    "                seen.add((team,year))\n",
    "                \n",
    "                "
   ]
  },
  {
   "cell_type": "markdown",
   "metadata": {},
   "source": [
    "Compression pour pouvoir mettre les données sur Github"
   ]
  },
  {
   "cell_type": "code",
   "execution_count": 420,
   "metadata": {},
   "outputs": [],
   "source": [
    "import zlib\n",
    "n=len(player_stats_fbref)\n",
    "\n",
    "#Séparation en 2 pour respecter la limite des 25 Mb de Github\n",
    "player_stats_fbref_1=dict(list(player_stats_fbref.items())[int(n/2):])\n",
    "player_stats_fbref_2=dict(list(player_stats_fbref.items())[:int(n/2)])\n",
    "\n",
    "compressed_player_stats_fbref_1=zlib.compress(pickle.dumps(player_stats_fbref_1))\n",
    "compressed_player_stats_fbref_2=zlib.compress(pickle.dumps(player_stats_fbref_2))\n",
    "\n",
    "\n",
    "with open('compressed_player_stats_fbref_1.bin', 'wb') as f:\n",
    "    f.write(compressed_player_stats_fbref_1)\n",
    "with open('compressed_player_stats_fbref_2.bin', 'wb') as f:\n",
    "    f.write(compressed_player_stats_fbref_2)\n",
    "\n"
   ]
  },
  {
   "cell_type": "code",
   "execution_count": 3,
   "metadata": {},
   "outputs": [],
   "source": [
    "\n",
    "\n",
    "with open('compressed_player_stats_fbref_1.bin', 'rb') as f:\n",
    "    compressed_player_stats_fbref_1=f.read()\n",
    "with open('compressed_player_stats_fbref_2.bin', 'rb') as f:\n",
    "    compressed_player_stats_fbref_2=f.read()\n",
    "\n",
    "\n",
    "#Pour être sur que la compression s'est bien passée\n",
    "player_stats_fbref=pickle.loads(zlib.decompress(compressed_player_stats_fbref_1))\n",
    "player_stats_fbref.update(pickle.loads(zlib.decompress(compressed_player_stats_fbref_2)))"
   ]
  },
  {
   "cell_type": "code",
   "execution_count": 27,
   "metadata": {},
   "outputs": [],
   "source": [
    "# Sauvegarde au format csv\n",
    "\n",
    "player_stats_fbref=pd.DataFrame(player_stats_fbref).transpose()\n",
    "player_stats_fbref=player_stats_fbref.sort_index(axis=1,ascending=True)"
   ]
  },
  {
   "cell_type": "code",
   "execution_count": 50,
   "metadata": {},
   "outputs": [
    {
     "data": {
      "text/html": [
       "<div>\n",
       "<style scoped>\n",
       "    .dataframe tbody tr th:only-of-type {\n",
       "        vertical-align: middle;\n",
       "    }\n",
       "\n",
       "    .dataframe tbody tr th {\n",
       "        vertical-align: top;\n",
       "    }\n",
       "\n",
       "    .dataframe thead th {\n",
       "        text-align: right;\n",
       "    }\n",
       "</style>\n",
       "<table border=\"1\" class=\"dataframe\">\n",
       "  <thead>\n",
       "    <tr style=\"text-align: right;\">\n",
       "      <th></th>\n",
       "      <th>meta</th>\n",
       "      <th>2024-2025</th>\n",
       "      <th>2024</th>\n",
       "      <th>2023-2024</th>\n",
       "      <th>2023</th>\n",
       "      <th>2022-2023</th>\n",
       "      <th>2022</th>\n",
       "      <th>2021-2022</th>\n",
       "      <th>2021</th>\n",
       "      <th>2020-2021</th>\n",
       "      <th>...</th>\n",
       "      <th>1999-2000</th>\n",
       "      <th>1999</th>\n",
       "      <th>1998-1999</th>\n",
       "      <th>1998</th>\n",
       "      <th>1997-1998</th>\n",
       "      <th>1996-1997</th>\n",
       "      <th>1995-1996</th>\n",
       "      <th>1994-1995</th>\n",
       "      <th>1993-1994</th>\n",
       "      <th>1992-1993</th>\n",
       "    </tr>\n",
       "  </thead>\n",
       "  <tbody>\n",
       "    <tr>\n",
       "      <th>César Fernández</th>\n",
       "      <td>{'height': '', 'weight': '', 'preferred foot':...</td>\n",
       "      <td>NaN</td>\n",
       "      <td>NaN</td>\n",
       "      <td>NaN</td>\n",
       "      <td>NaN</td>\n",
       "      <td>NaN</td>\n",
       "      <td>NaN</td>\n",
       "      <td>NaN</td>\n",
       "      <td>NaN</td>\n",
       "      <td>NaN</td>\n",
       "      <td>...</td>\n",
       "      <td>NaN</td>\n",
       "      <td>NaN</td>\n",
       "      <td>NaN</td>\n",
       "      <td>NaN</td>\n",
       "      <td>NaN</td>\n",
       "      <td>NaN</td>\n",
       "      <td>NaN</td>\n",
       "      <td>NaN</td>\n",
       "      <td>NaN</td>\n",
       "      <td>NaN</td>\n",
       "    </tr>\n",
       "    <tr>\n",
       "      <th>Yoel Lago</th>\n",
       "      <td>{'height': '', 'weight': '', 'preferred foot':...</td>\n",
       "      <td>{'age': 20.0, 'team': 'Celta Vigo', 'country':...</td>\n",
       "      <td>NaN</td>\n",
       "      <td>{'age': 19.0, 'team': 'Celta Vigo', 'country':...</td>\n",
       "      <td>NaN</td>\n",
       "      <td>NaN</td>\n",
       "      <td>NaN</td>\n",
       "      <td>NaN</td>\n",
       "      <td>NaN</td>\n",
       "      <td>NaN</td>\n",
       "      <td>...</td>\n",
       "      <td>NaN</td>\n",
       "      <td>NaN</td>\n",
       "      <td>NaN</td>\n",
       "      <td>NaN</td>\n",
       "      <td>NaN</td>\n",
       "      <td>NaN</td>\n",
       "      <td>NaN</td>\n",
       "      <td>NaN</td>\n",
       "      <td>NaN</td>\n",
       "      <td>NaN</td>\n",
       "    </tr>\n",
       "    <tr>\n",
       "      <th>Marc Vidal</th>\n",
       "      <td>{'height': '', 'weight': '', 'preferred foot':...</td>\n",
       "      <td>{'age': 24.0, 'team': 'Celta Vigo', 'country':...</td>\n",
       "      <td>NaN</td>\n",
       "      <td>NaN</td>\n",
       "      <td>NaN</td>\n",
       "      <td>{'age': 22.0, 'team': 'FC Andorra', 'country':...</td>\n",
       "      <td>NaN</td>\n",
       "      <td>NaN</td>\n",
       "      <td>NaN</td>\n",
       "      <td>NaN</td>\n",
       "      <td>...</td>\n",
       "      <td>NaN</td>\n",
       "      <td>NaN</td>\n",
       "      <td>NaN</td>\n",
       "      <td>NaN</td>\n",
       "      <td>NaN</td>\n",
       "      <td>NaN</td>\n",
       "      <td>NaN</td>\n",
       "      <td>NaN</td>\n",
       "      <td>NaN</td>\n",
       "      <td>NaN</td>\n",
       "    </tr>\n",
       "    <tr>\n",
       "      <th>Rui Silva</th>\n",
       "      <td>{'height': 189.0, 'weight': 84.0, 'preferred f...</td>\n",
       "      <td>{'age': 30.0, 'team': 'Betis', 'country': 'es ...</td>\n",
       "      <td>NaN</td>\n",
       "      <td>{'age': 29.0, 'team': 'Betis', 'country': 'es ...</td>\n",
       "      <td>NaN</td>\n",
       "      <td>{'age': 28.0, 'team': 'Betis', 'country': 'es ...</td>\n",
       "      <td>NaN</td>\n",
       "      <td>{'age': 27.0, 'team': 'Betis', 'country': 'es ...</td>\n",
       "      <td>NaN</td>\n",
       "      <td>{'age': 26.0, 'team': 'Granada', 'country': 'e...</td>\n",
       "      <td>...</td>\n",
       "      <td>NaN</td>\n",
       "      <td>NaN</td>\n",
       "      <td>NaN</td>\n",
       "      <td>NaN</td>\n",
       "      <td>NaN</td>\n",
       "      <td>NaN</td>\n",
       "      <td>NaN</td>\n",
       "      <td>NaN</td>\n",
       "      <td>NaN</td>\n",
       "      <td>NaN</td>\n",
       "    </tr>\n",
       "    <tr>\n",
       "      <th>Abde Ezzalzouli</th>\n",
       "      <td>{'height': 177.0, 'weight': 73.0, 'preferred f...</td>\n",
       "      <td>{'age': 22.0, 'team': 'Betis', 'country': 'es ...</td>\n",
       "      <td>NaN</td>\n",
       "      <td>{'age': 21.0, 'team': 'Betis', 'country': 'es ...</td>\n",
       "      <td>NaN</td>\n",
       "      <td>{'age': 20.0, 'team': 'Osasuna', 'country': 'e...</td>\n",
       "      <td>NaN</td>\n",
       "      <td>{'age': 19.0, 'team': 'Barcelona', 'country': ...</td>\n",
       "      <td>NaN</td>\n",
       "      <td>NaN</td>\n",
       "      <td>...</td>\n",
       "      <td>NaN</td>\n",
       "      <td>NaN</td>\n",
       "      <td>NaN</td>\n",
       "      <td>NaN</td>\n",
       "      <td>NaN</td>\n",
       "      <td>NaN</td>\n",
       "      <td>NaN</td>\n",
       "      <td>NaN</td>\n",
       "      <td>NaN</td>\n",
       "      <td>NaN</td>\n",
       "    </tr>\n",
       "  </tbody>\n",
       "</table>\n",
       "<p>5 rows × 61 columns</p>\n",
       "</div>"
      ],
      "text/plain": [
       "                                                              meta  \\\n",
       "César Fernández  {'height': '', 'weight': '', 'preferred foot':...   \n",
       "Yoel Lago        {'height': '', 'weight': '', 'preferred foot':...   \n",
       "Marc Vidal       {'height': '', 'weight': '', 'preferred foot':...   \n",
       "Rui Silva        {'height': 189.0, 'weight': 84.0, 'preferred f...   \n",
       "Abde Ezzalzouli  {'height': 177.0, 'weight': 73.0, 'preferred f...   \n",
       "\n",
       "                                                         2024-2025 2024  \\\n",
       "César Fernández                                                NaN  NaN   \n",
       "Yoel Lago        {'age': 20.0, 'team': 'Celta Vigo', 'country':...  NaN   \n",
       "Marc Vidal       {'age': 24.0, 'team': 'Celta Vigo', 'country':...  NaN   \n",
       "Rui Silva        {'age': 30.0, 'team': 'Betis', 'country': 'es ...  NaN   \n",
       "Abde Ezzalzouli  {'age': 22.0, 'team': 'Betis', 'country': 'es ...  NaN   \n",
       "\n",
       "                                                         2023-2024 2023  \\\n",
       "César Fernández                                                NaN  NaN   \n",
       "Yoel Lago        {'age': 19.0, 'team': 'Celta Vigo', 'country':...  NaN   \n",
       "Marc Vidal                                                     NaN  NaN   \n",
       "Rui Silva        {'age': 29.0, 'team': 'Betis', 'country': 'es ...  NaN   \n",
       "Abde Ezzalzouli  {'age': 21.0, 'team': 'Betis', 'country': 'es ...  NaN   \n",
       "\n",
       "                                                         2022-2023 2022  \\\n",
       "César Fernández                                                NaN  NaN   \n",
       "Yoel Lago                                                      NaN  NaN   \n",
       "Marc Vidal       {'age': 22.0, 'team': 'FC Andorra', 'country':...  NaN   \n",
       "Rui Silva        {'age': 28.0, 'team': 'Betis', 'country': 'es ...  NaN   \n",
       "Abde Ezzalzouli  {'age': 20.0, 'team': 'Osasuna', 'country': 'e...  NaN   \n",
       "\n",
       "                                                         2021-2022 2021  \\\n",
       "César Fernández                                                NaN  NaN   \n",
       "Yoel Lago                                                      NaN  NaN   \n",
       "Marc Vidal                                                     NaN  NaN   \n",
       "Rui Silva        {'age': 27.0, 'team': 'Betis', 'country': 'es ...  NaN   \n",
       "Abde Ezzalzouli  {'age': 19.0, 'team': 'Barcelona', 'country': ...  NaN   \n",
       "\n",
       "                                                         2020-2021  ...  \\\n",
       "César Fernández                                                NaN  ...   \n",
       "Yoel Lago                                                      NaN  ...   \n",
       "Marc Vidal                                                     NaN  ...   \n",
       "Rui Silva        {'age': 26.0, 'team': 'Granada', 'country': 'e...  ...   \n",
       "Abde Ezzalzouli                                                NaN  ...   \n",
       "\n",
       "                1999-2000 1999 1998-1999 1998 1997-1998 1996-1997 1995-1996  \\\n",
       "César Fernández       NaN  NaN       NaN  NaN       NaN       NaN       NaN   \n",
       "Yoel Lago             NaN  NaN       NaN  NaN       NaN       NaN       NaN   \n",
       "Marc Vidal            NaN  NaN       NaN  NaN       NaN       NaN       NaN   \n",
       "Rui Silva             NaN  NaN       NaN  NaN       NaN       NaN       NaN   \n",
       "Abde Ezzalzouli       NaN  NaN       NaN  NaN       NaN       NaN       NaN   \n",
       "\n",
       "                1994-1995 1993-1994 1992-1993  \n",
       "César Fernández       NaN       NaN       NaN  \n",
       "Yoel Lago             NaN       NaN       NaN  \n",
       "Marc Vidal            NaN       NaN       NaN  \n",
       "Rui Silva             NaN       NaN       NaN  \n",
       "Abde Ezzalzouli       NaN       NaN       NaN  \n",
       "\n",
       "[5 rows x 61 columns]"
      ]
     },
     "execution_count": 50,
     "metadata": {},
     "output_type": "execute_result"
    }
   ],
   "source": [
    "player_stats_fbref.head()"
   ]
  },
  {
   "cell_type": "code",
   "execution_count": 58,
   "metadata": {},
   "outputs": [
    {
     "data": {
      "text/plain": [
       "[('age', 32.0),\n",
       " ('team', 'Liverpool'),\n",
       " ('country', 'eng ENG'),\n",
       " ('comp_level', '1. Premier League'),\n",
       " ('lg_finish', '1st'),\n",
       " ('minutes_90s', 13.6),\n",
       " ('goals', 13.0),\n",
       " ('shots', 43.0),\n",
       " ('shots_on_target', 23.0),\n",
       " ('shots_on_target_pct', 53.5)]"
      ]
     },
     "execution_count": 58,
     "metadata": {},
     "output_type": "execute_result"
    }
   ],
   "source": [
    "player_stats_fbref"
   ]
  },
  {
   "cell_type": "markdown",
   "metadata": {},
   "source": [
    "## Aggrégation pour avoir des données globales sur les équipes"
   ]
  },
  {
   "cell_type": "markdown",
   "metadata": {},
   "source": [
    "### Afin de faire cela, on ne va pas scrapper les données pour chaque équipe, cela nous demanderais de patienter une nouvelle heure. On va plutôt savoir quelle fonction d'aggrégation on doit appliquer sur l'ensemble des joueurs sur une entrée pour chaque statistique (ie max,min, somme...) en prenant une entrée particulière, ici Liverpool en 2024-2025, et on va utiliser cette fonction d'aggrégation pour toutes les entrées (ie équipe/saison) afin de créer une base de données avec les données des équipes."
   ]
  },
  {
   "cell_type": "markdown",
   "metadata": {},
   "source": [
    "### Extraction des statistiques globales de Liverpool en 2024-2025 (pour 'fit')"
   ]
  },
  {
   "cell_type": "code",
   "execution_count": 49,
   "metadata": {},
   "outputs": [
    {
     "data": {
      "text/plain": [
       "{'age': 27.5,\n",
       " 'gk_games': 18.0,\n",
       " 'gk_games_starts': 18.0,\n",
       " 'gk_minutes': 1620.0,\n",
       " 'minutes_90s': 18.0,\n",
       " 'gk_goals_against': 18.0,\n",
       " 'gk_goals_against_per90': 1.0,\n",
       " 'gk_shots_on_target_against': 51.0,\n",
       " 'gk_saves': 34.0,\n",
       " 'gk_save_pct': 64.7,\n",
       " 'gk_wins': 12.0,\n",
       " 'gk_ties': 4.0,\n",
       " 'gk_losses': 2.0,\n",
       " 'gk_clean_sheets': 8.0,\n",
       " 'gk_clean_sheets_pct': 44.4,\n",
       " 'gk_pens_att': 0.0,\n",
       " 'gk_pens_allowed': 0.0,\n",
       " 'gk_pens_saved': 0.0,\n",
       " 'gk_pens_missed': 0.0,\n",
       " 'gk_free_kick_goals_against': 0.0,\n",
       " 'gk_corner_kick_goals_against': 2.0,\n",
       " 'gk_own_goals_against': 1.0,\n",
       " 'gk_psxg': 15.5,\n",
       " 'gk_psnpxg_per_shot_on_target_against': 0.31,\n",
       " 'gk_psxg_net': -1.5,\n",
       " 'gk_psxg_net_per90': -0.08,\n",
       " 'gk_passes_completed_launched': 37.0,\n",
       " 'gk_passes_launched': 125.0,\n",
       " 'gk_passes_pct_launched': 29.6,\n",
       " 'gk_passes': 537.0,\n",
       " 'gk_passes_throws': 98.0,\n",
       " 'gk_pct_passes_launched': 17.5,\n",
       " 'gk_goal_kicks': 134.0,\n",
       " 'gk_pct_goal_kicks_launched': 23.1,\n",
       " 'gk_goal_kick_length_avg': 28.9,\n",
       " 'gk_crosses': 202.0,\n",
       " 'gk_crosses_stopped': 11.0,\n",
       " 'gk_crosses_stopped_pct': 5.4,\n",
       " 'gk_def_actions_outside_pen_area': 14.0,\n",
       " 'gk_def_actions_outside_pen_area_per90': 0.78,\n",
       " 'goals': 41.0,\n",
       " 'shots': 265.0,\n",
       " 'shots_on_target': 104.0,\n",
       " 'shots_on_target_pct': 39.2,\n",
       " 'shots_per90': 14.72,\n",
       " 'shots_on_target_per90': 5.78,\n",
       " 'goals_per_shot': 0.13,\n",
       " 'goals_per_shot_on_target': 0.34,\n",
       " 'average_shot_distance': 18.0,\n",
       " 'shots_free_kicks': 6.0,\n",
       " 'pens_made': 6.0,\n",
       " 'pens_att': 7.0,\n",
       " 'xg': 32.4,\n",
       " 'npxg': 27.3,\n",
       " 'npxg_per_shot': 0.1,\n",
       " 'xg_net': 8.6,\n",
       " 'npxg_net': 7.7,\n",
       " 'passes_completed': 10258.0,\n",
       " 'passes': 11645.0,\n",
       " 'passes_pct': 88.1,\n",
       " 'passes_total_distance': 174900.0,\n",
       " 'passes_progressive_distance': 54197.0,\n",
       " 'passes_completed_short': 4818.0,\n",
       " 'passes_short': 5173.0,\n",
       " 'passes_pct_short': 93.1,\n",
       " 'passes_completed_medium': 4320.0,\n",
       " 'passes_medium': 4683.0,\n",
       " 'passes_pct_medium': 92.2,\n",
       " 'passes_completed_long': 863.0,\n",
       " 'passes_long': 1278.0,\n",
       " 'passes_pct_long': 67.5,\n",
       " 'assists': 31.0,\n",
       " 'xg_assist': 23.2,\n",
       " 'pass_xa': 20.8,\n",
       " 'xg_assist_net': 7.8,\n",
       " 'assisted_shots': 218.0,\n",
       " 'passes_into_final_third': 831.0,\n",
       " 'passes_into_penalty_area': 156.0,\n",
       " 'crosses_into_penalty_area': 13.0,\n",
       " 'progressive_passes': 910.0,\n",
       " 'passes_live': 10748.0,\n",
       " 'passes_dead': 858.0,\n",
       " 'passes_free_kicks': 274.0,\n",
       " 'through_balls': 33.0,\n",
       " 'passes_switches': 112.0,\n",
       " 'crosses': 243.0,\n",
       " 'throw_ins': 318.0,\n",
       " 'corner_kicks': 97.0,\n",
       " 'corner_kicks_in': 40.0,\n",
       " 'corner_kicks_out': 34.0,\n",
       " 'corner_kicks_straight': 1.0,\n",
       " 'passes_offsides': 39.0,\n",
       " 'passes_blocked': 158.0,\n",
       " 'sca': 494.0,\n",
       " 'sca_per90': 27.44,\n",
       " 'sca_passes_live': 363.0,\n",
       " 'sca_passes_dead': 40.0,\n",
       " 'sca_take_ons': 38.0,\n",
       " 'sca_shots': 27.0,\n",
       " 'sca_fouled': 16.0,\n",
       " 'sca_defense': 10.0,\n",
       " 'gca': 72.0,\n",
       " 'gca_per90': 4.0,\n",
       " 'gca_passes_live': 49.0,\n",
       " 'gca_passes_dead': 5.0,\n",
       " 'gca_take_ons': 8.0,\n",
       " 'gca_shots': 5.0,\n",
       " 'gca_fouled': 4.0,\n",
       " 'gca_defense': 1.0,\n",
       " 'tackles': 279.0,\n",
       " 'tackles_won': 172.0,\n",
       " 'tackles_def_3rd': 145.0,\n",
       " 'tackles_mid_3rd': 95.0,\n",
       " 'tackles_att_3rd': 39.0,\n",
       " 'challenge_tackles': 126.0,\n",
       " 'challenges': 225.0,\n",
       " 'challenge_tackles_pct': 56.0,\n",
       " 'challenges_lost': 99.0,\n",
       " 'blocks': 173.0,\n",
       " 'blocked_shots': 50.0,\n",
       " 'blocked_passes': 123.0,\n",
       " 'interceptions': 155.0,\n",
       " 'tackles_interceptions': 434.0,\n",
       " 'clearances': 283.0,\n",
       " 'errors': 8.0,\n",
       " 'touches': 13537.0,\n",
       " 'touches_def_pen_area': 1213.0,\n",
       " 'touches_def_3rd': 4013.0,\n",
       " 'touches_mid_3rd': 6163.0,\n",
       " 'touches_att_3rd': 3465.0,\n",
       " 'touches_att_pen_area': 520.0,\n",
       " 'touches_live_ball': 13530.0,\n",
       " 'take_ons': 421.0,\n",
       " 'take_ons_won': 195.0,\n",
       " 'take_ons_won_pct': 46.3,\n",
       " 'take_ons_tackled': 183.0,\n",
       " 'take_ons_tackled_pct': 43.5,\n",
       " 'carries': 8345.0,\n",
       " 'carries_distance': 43711.0,\n",
       " 'carries_progressive_distance': 23393.0,\n",
       " 'progressive_carries': 439.0,\n",
       " 'carries_into_final_third': 304.0,\n",
       " 'carries_into_penalty_area': 173.0,\n",
       " 'miscontrols': 251.0,\n",
       " 'dispossessed': 145.0,\n",
       " 'passes_received': 10180.0,\n",
       " 'progressive_passes_received': 901.0,\n",
       " 'games': 18.0,\n",
       " 'minutes': 1620.0,\n",
       " 'minutes_per_game': 90.0,\n",
       " 'minutes_pct': 100.0,\n",
       " 'games_starts': 198.0,\n",
       " 'minutes_per_start': 83.0,\n",
       " 'games_complete': 127.0,\n",
       " 'games_subs': 70.0,\n",
       " 'minutes_per_sub': 18.0,\n",
       " 'unused_subs': 96.0,\n",
       " 'points_per_game': 2.22,\n",
       " 'on_goals_for': 41.0,\n",
       " 'on_goals_against': 18.0,\n",
       " 'plus_minus': 23.0,\n",
       " 'plus_minus_per90': 1.28,\n",
       " 'on_xg_for': 32.4,\n",
       " 'on_xg_against': 17.5,\n",
       " 'xg_plus_minus': 14.9,\n",
       " 'xg_plus_minus_per90': 0.83,\n",
       " 'cards_yellow': 28.0,\n",
       " 'cards_red': 1.0,\n",
       " 'cards_yellow_red': 0.0,\n",
       " 'fouls': 163.0,\n",
       " 'fouled': 253.0,\n",
       " 'offsides': 39.0,\n",
       " 'pens_won': 5.0,\n",
       " 'pens_conceded': 0.0,\n",
       " 'own_goals': 1.0,\n",
       " 'ball_recoveries': 735.0,\n",
       " 'aerials_won': 143.0,\n",
       " 'aerials_lost': 119.0,\n",
       " 'aerials_won_pct': 54.6}"
      ]
     },
     "execution_count": 49,
     "metadata": {},
     "output_type": "execute_result"
    }
   ],
   "source": [
    "\n",
    "\n",
    "def get_global_team_stats_fbref(team_id,season):\n",
    "    \"Remplis aggregation_dict avec les différentes statistiques et la fonction d'aggrégation pour chaque\"\n",
    "    html=requests.get(f'https://fbref.com/en/squads/{team_id}/{season}/team-Stats').text\n",
    "    soup=BeautifulSoup(html,'lxml')\n",
    "    time.sleep(4)\n",
    "    \n",
    "    #Tableaux avec des statistiques détaillées\n",
    "    tables=soup.find_all('table')[2:-2]\n",
    "\n",
    "\n",
    "    res={}\n",
    "\n",
    "    for table in tables:\n",
    "        \n",
    "        \n",
    "        \n",
    "        # Ligne d'aggrégation (Squad total)\n",
    "        row=table.find('tfoot').find('tr')\n",
    "        \n",
    "        for col in row.find_all('td'):\n",
    "            stat_name=col.get('data-stat')\n",
    "            \n",
    "            # Celles qui sont disponibles\n",
    "            \n",
    "            try:\n",
    "                res[stat_name]=float(col.text.replace(',',''))\n",
    "            except:\n",
    "                continue\n",
    "            \n",
    "    \n",
    "            \n",
    "            \n",
    "    return res\n",
    "            \n",
    "            \n",
    "get_global_team_stats_fbref('53a2f082','2024-2025')     \n",
    "        \n",
    "    \n"
   ]
  },
  {
   "cell_type": "code",
   "execution_count": 51,
   "metadata": {},
   "outputs": [
    {
     "name": "stderr",
     "output_type": "stream",
     "text": [
      "100%|██████████| 976/976 [1:44:54<00:00,  6.45s/it]\n"
     ]
    }
   ],
   "source": [
    "global_team_stats_fbref={}\n",
    "\n",
    "seen=set()\n",
    "for champ,year,team in tqdm([(champ,year,team) for champ in teams_fbref.keys() for year in teams_fbref[champ].keys() for team in teams_fbref[champ][year].keys()]):\n",
    "            if (champ,year,team) not in seen:\n",
    "                if team not in global_team_stats_fbref.keys():\n",
    "                    global_team_stats_fbref[team]={}\n",
    "                    \n",
    "                d=get_global_team_stats_fbref(teams_fbref[champ][year][team],f'{year}-{year+1}')\n",
    "                if d=={}:\n",
    "                    print(f'No result for : {team} at year {year}')\n",
    "                global_team_stats_fbref[team][year]=d\n",
    "                seen.add((champ,year,team))\n",
    "                \n",
    "                "
   ]
  },
  {
   "cell_type": "code",
   "execution_count": 57,
   "metadata": {},
   "outputs": [],
   "source": [
    "pickle.dump(global_team_stats_fbref,open('global_team_stats_fbref.pkl','wb'))"
   ]
  },
  {
   "cell_type": "code",
   "execution_count": 61,
   "metadata": {},
   "outputs": [
    {
     "data": {
      "text/html": [
       "<div>\n",
       "<style scoped>\n",
       "    .dataframe tbody tr th:only-of-type {\n",
       "        vertical-align: middle;\n",
       "    }\n",
       "\n",
       "    .dataframe tbody tr th {\n",
       "        vertical-align: top;\n",
       "    }\n",
       "\n",
       "    .dataframe thead th {\n",
       "        text-align: right;\n",
       "    }\n",
       "</style>\n",
       "<table border=\"1\" class=\"dataframe\">\n",
       "  <thead>\n",
       "    <tr style=\"text-align: right;\">\n",
       "      <th></th>\n",
       "      <th>2024</th>\n",
       "      <th>2023</th>\n",
       "      <th>2022</th>\n",
       "      <th>2021</th>\n",
       "      <th>2020</th>\n",
       "      <th>2019</th>\n",
       "      <th>2018</th>\n",
       "      <th>2017</th>\n",
       "      <th>2016</th>\n",
       "      <th>2015</th>\n",
       "    </tr>\n",
       "  </thead>\n",
       "  <tbody>\n",
       "    <tr>\n",
       "      <th>Liverpool</th>\n",
       "      <td>{'age': 27.5, 'gk_games': 17.0, 'gk_games_star...</td>\n",
       "      <td>{'age': 26.3, 'gk_games': 38.0, 'gk_games_star...</td>\n",
       "      <td>{'age': 27.4, 'gk_games': 38.0, 'gk_games_star...</td>\n",
       "      <td>{'age': 27.7, 'gk_games': 38.0, 'gk_games_star...</td>\n",
       "      <td>{'age': 26.8, 'gk_games': 38.0, 'gk_games_star...</td>\n",
       "      <td>{'age': 26.6, 'gk_games': 38.0, 'gk_games_star...</td>\n",
       "      <td>{'age': 26.1, 'gk_games': 38.0, 'gk_games_star...</td>\n",
       "      <td>{'age': 25.6, 'gk_games': 38.0, 'gk_games_star...</td>\n",
       "      <td>{'age': 26.1, 'gk_games': 38.0, 'gk_games_star...</td>\n",
       "      <td>{'age': 25.2, 'gk_games': 38.0, 'gk_games_star...</td>\n",
       "    </tr>\n",
       "    <tr>\n",
       "      <th>Chelsea</th>\n",
       "      <td>{'age': 24.0, 'gk_games': 18.0, 'gk_games_star...</td>\n",
       "      <td>{'age': 24.2, 'gk_games': 38.0, 'gk_games_star...</td>\n",
       "      <td>{'age': 26.3, 'gk_games': 38.0, 'gk_games_star...</td>\n",
       "      <td>{'age': 27.4, 'gk_games': 38.0, 'gk_games_star...</td>\n",
       "      <td>{'age': 26.0, 'gk_games': 38.0, 'gk_games_star...</td>\n",
       "      <td>{'age': 25.5, 'gk_games': 38.0, 'gk_games_star...</td>\n",
       "      <td>{'age': 27.3, 'gk_games': 38.0, 'gk_games_star...</td>\n",
       "      <td>{'age': 26.7, 'gk_games': 38.0, 'gk_games_star...</td>\n",
       "      <td>{'age': 27.2, 'gk_games': 38.0, 'gk_games_star...</td>\n",
       "      <td>{'age': 26.8, 'gk_games': 38.0, 'gk_games_star...</td>\n",
       "    </tr>\n",
       "    <tr>\n",
       "      <th>Arsenal</th>\n",
       "      <td>{'age': 26.4, 'gk_games': 17.0, 'gk_games_star...</td>\n",
       "      <td>{'age': 25.0, 'gk_games': 38.0, 'gk_games_star...</td>\n",
       "      <td>{'age': 24.7, 'gk_games': 38.0, 'gk_games_star...</td>\n",
       "      <td>{'age': 24.4, 'gk_games': 38.0, 'gk_games_star...</td>\n",
       "      <td>{'age': 25.9, 'gk_games': 38.0, 'gk_games_star...</td>\n",
       "      <td>{'age': 25.8, 'gk_games': 38.0, 'gk_games_star...</td>\n",
       "      <td>{'age': 26.7, 'gk_games': 38.0, 'gk_games_star...</td>\n",
       "      <td>{'age': 26.8, 'gk_games': 38.0, 'gk_games_star...</td>\n",
       "      <td>{'age': 26.9, 'gk_games': 38.0, 'gk_games_star...</td>\n",
       "      <td>{'age': 27.0, 'gk_games': 38.0, 'gk_games_star...</td>\n",
       "    </tr>\n",
       "    <tr>\n",
       "      <th>Nott'ham Forest</th>\n",
       "      <td>{'age': 26.9, 'gk_games': 18.0, 'gk_games_star...</td>\n",
       "      <td>{'age': 25.7, 'gk_games': 38.0, 'gk_games_star...</td>\n",
       "      <td>{'age': 26.5, 'gk_games': 38.0, 'gk_games_star...</td>\n",
       "      <td>NaN</td>\n",
       "      <td>NaN</td>\n",
       "      <td>NaN</td>\n",
       "      <td>NaN</td>\n",
       "      <td>NaN</td>\n",
       "      <td>NaN</td>\n",
       "      <td>NaN</td>\n",
       "    </tr>\n",
       "    <tr>\n",
       "      <th>Manchester City</th>\n",
       "      <td>{'age': 27.7, 'gk_games': 18.0, 'gk_games_star...</td>\n",
       "      <td>{'age': 26.6, 'gk_games': 38.0, 'gk_games_star...</td>\n",
       "      <td>{'age': 27.2, 'gk_games': 38.0, 'gk_games_star...</td>\n",
       "      <td>{'age': 27.0, 'gk_games': 38.0, 'gk_games_star...</td>\n",
       "      <td>{'age': 26.1, 'gk_games': 38.0, 'gk_games_star...</td>\n",
       "      <td>{'age': 26.9, 'gk_games': 38.0, 'gk_games_star...</td>\n",
       "      <td>{'age': 26.7, 'gk_games': 38.0, 'gk_games_star...</td>\n",
       "      <td>{'age': 26.4, 'gk_games': 38.0, 'gk_games_star...</td>\n",
       "      <td>{'age': 28.5, 'gk_games': 38.0, 'gk_games_star...</td>\n",
       "      <td>{'age': 28.3, 'gk_games': 38.0, 'gk_games_star...</td>\n",
       "    </tr>\n",
       "  </tbody>\n",
       "</table>\n",
       "</div>"
      ],
      "text/plain": [
       "                                                              2024  \\\n",
       "Liverpool        {'age': 27.5, 'gk_games': 17.0, 'gk_games_star...   \n",
       "Chelsea          {'age': 24.0, 'gk_games': 18.0, 'gk_games_star...   \n",
       "Arsenal          {'age': 26.4, 'gk_games': 17.0, 'gk_games_star...   \n",
       "Nott'ham Forest  {'age': 26.9, 'gk_games': 18.0, 'gk_games_star...   \n",
       "Manchester City  {'age': 27.7, 'gk_games': 18.0, 'gk_games_star...   \n",
       "\n",
       "                                                              2023  \\\n",
       "Liverpool        {'age': 26.3, 'gk_games': 38.0, 'gk_games_star...   \n",
       "Chelsea          {'age': 24.2, 'gk_games': 38.0, 'gk_games_star...   \n",
       "Arsenal          {'age': 25.0, 'gk_games': 38.0, 'gk_games_star...   \n",
       "Nott'ham Forest  {'age': 25.7, 'gk_games': 38.0, 'gk_games_star...   \n",
       "Manchester City  {'age': 26.6, 'gk_games': 38.0, 'gk_games_star...   \n",
       "\n",
       "                                                              2022  \\\n",
       "Liverpool        {'age': 27.4, 'gk_games': 38.0, 'gk_games_star...   \n",
       "Chelsea          {'age': 26.3, 'gk_games': 38.0, 'gk_games_star...   \n",
       "Arsenal          {'age': 24.7, 'gk_games': 38.0, 'gk_games_star...   \n",
       "Nott'ham Forest  {'age': 26.5, 'gk_games': 38.0, 'gk_games_star...   \n",
       "Manchester City  {'age': 27.2, 'gk_games': 38.0, 'gk_games_star...   \n",
       "\n",
       "                                                              2021  \\\n",
       "Liverpool        {'age': 27.7, 'gk_games': 38.0, 'gk_games_star...   \n",
       "Chelsea          {'age': 27.4, 'gk_games': 38.0, 'gk_games_star...   \n",
       "Arsenal          {'age': 24.4, 'gk_games': 38.0, 'gk_games_star...   \n",
       "Nott'ham Forest                                                NaN   \n",
       "Manchester City  {'age': 27.0, 'gk_games': 38.0, 'gk_games_star...   \n",
       "\n",
       "                                                              2020  \\\n",
       "Liverpool        {'age': 26.8, 'gk_games': 38.0, 'gk_games_star...   \n",
       "Chelsea          {'age': 26.0, 'gk_games': 38.0, 'gk_games_star...   \n",
       "Arsenal          {'age': 25.9, 'gk_games': 38.0, 'gk_games_star...   \n",
       "Nott'ham Forest                                                NaN   \n",
       "Manchester City  {'age': 26.1, 'gk_games': 38.0, 'gk_games_star...   \n",
       "\n",
       "                                                              2019  \\\n",
       "Liverpool        {'age': 26.6, 'gk_games': 38.0, 'gk_games_star...   \n",
       "Chelsea          {'age': 25.5, 'gk_games': 38.0, 'gk_games_star...   \n",
       "Arsenal          {'age': 25.8, 'gk_games': 38.0, 'gk_games_star...   \n",
       "Nott'ham Forest                                                NaN   \n",
       "Manchester City  {'age': 26.9, 'gk_games': 38.0, 'gk_games_star...   \n",
       "\n",
       "                                                              2018  \\\n",
       "Liverpool        {'age': 26.1, 'gk_games': 38.0, 'gk_games_star...   \n",
       "Chelsea          {'age': 27.3, 'gk_games': 38.0, 'gk_games_star...   \n",
       "Arsenal          {'age': 26.7, 'gk_games': 38.0, 'gk_games_star...   \n",
       "Nott'ham Forest                                                NaN   \n",
       "Manchester City  {'age': 26.7, 'gk_games': 38.0, 'gk_games_star...   \n",
       "\n",
       "                                                              2017  \\\n",
       "Liverpool        {'age': 25.6, 'gk_games': 38.0, 'gk_games_star...   \n",
       "Chelsea          {'age': 26.7, 'gk_games': 38.0, 'gk_games_star...   \n",
       "Arsenal          {'age': 26.8, 'gk_games': 38.0, 'gk_games_star...   \n",
       "Nott'ham Forest                                                NaN   \n",
       "Manchester City  {'age': 26.4, 'gk_games': 38.0, 'gk_games_star...   \n",
       "\n",
       "                                                              2016  \\\n",
       "Liverpool        {'age': 26.1, 'gk_games': 38.0, 'gk_games_star...   \n",
       "Chelsea          {'age': 27.2, 'gk_games': 38.0, 'gk_games_star...   \n",
       "Arsenal          {'age': 26.9, 'gk_games': 38.0, 'gk_games_star...   \n",
       "Nott'ham Forest                                                NaN   \n",
       "Manchester City  {'age': 28.5, 'gk_games': 38.0, 'gk_games_star...   \n",
       "\n",
       "                                                              2015  \n",
       "Liverpool        {'age': 25.2, 'gk_games': 38.0, 'gk_games_star...  \n",
       "Chelsea          {'age': 26.8, 'gk_games': 38.0, 'gk_games_star...  \n",
       "Arsenal          {'age': 27.0, 'gk_games': 38.0, 'gk_games_star...  \n",
       "Nott'ham Forest                                                NaN  \n",
       "Manchester City  {'age': 28.3, 'gk_games': 38.0, 'gk_games_star...  "
      ]
     },
     "execution_count": 61,
     "metadata": {},
     "output_type": "execute_result"
    }
   ],
   "source": [
    "global_team_stats_fbref=pd.DataFrame(global_team_stats_fbref)\n",
    "global_team_stats_fbref=global_team_stats_fbref.transpose()\n",
    "global_team_stats_fbref.head()"
   ]
  },
  {
   "cell_type": "code",
   "execution_count": 63,
   "metadata": {},
   "outputs": [],
   "source": [
    "global_team_stats_fbref.columns=list(map(lambda s:f'{s}-{s+1}',global_team_stats_fbref.columns))"
   ]
  },
  {
   "cell_type": "code",
   "execution_count": null,
   "metadata": {},
   "outputs": [],
   "source": [
    "!mkdir fbref_data\n",
    "!mv compressed_player_stats_fbref_1.bin compressed_player_stats_fbref_2.bin Glossaire FBREF Glossaire_FBREF.csv teams_fbref.pkl fbref_data\n"
   ]
  },
  {
   "cell_type": "markdown",
   "metadata": {},
   "source": [
    "# Données Transfermarkt"
   ]
  },
  {
   "cell_type": "markdown",
   "metadata": {},
   "source": [
    "## Données sur les joueurs"
   ]
  },
  {
   "cell_type": "markdown",
   "metadata": {},
   "source": [
    "###  (On récupère évolution de la valeur marchande + postes)"
   ]
  },
  {
   "cell_type": "code",
   "execution_count": null,
   "metadata": {},
   "outputs": [],
   "source": [
    "#Si nécessaire\n",
    "!pip3 install rapidfuzz"
   ]
  },
  {
   "cell_type": "markdown",
   "metadata": {},
   "source": [
    "Pour rapidement vérifier si un joueur a ses statistiques définies pour une certaine saison"
   ]
  },
  {
   "cell_type": "code",
   "execution_count": 7,
   "metadata": {},
   "outputs": [],
   "source": [
    "na_player_stats_fbref=player_stats_fbref.isna()"
   ]
  },
  {
   "cell_type": "markdown",
   "metadata": {},
   "source": [
    "Pour accéder rapidement à la liste des équipes"
   ]
  },
  {
   "cell_type": "code",
   "execution_count": 49,
   "metadata": {},
   "outputs": [],
   "source": [
    "\n",
    "teams_fbref_list=[]\n",
    "for k,v in teams_fbref.items():\n",
    "    for kk,vv in v.items():\n",
    "        teams_fbref_list+=(list(vv.keys()))"
   ]
  },
  {
   "cell_type": "code",
   "execution_count": 50,
   "metadata": {},
   "outputs": [
    {
     "data": {
      "text/plain": [
       "['Liverpool',\n",
       " 'Chelsea',\n",
       " 'Arsenal',\n",
       " \"Nott'ham Forest\",\n",
       " 'Manchester City',\n",
       " 'Aston Villa',\n",
       " 'Bournemouth',\n",
       " 'Fulham',\n",
       " 'Brighton',\n",
       " 'Tottenham']"
      ]
     },
     "execution_count": 50,
     "metadata": {},
     "output_type": "execute_result"
    }
   ],
   "source": [
    "teams_fbref_list[:10]"
   ]
  },
  {
   "cell_type": "code",
   "execution_count": 312,
   "metadata": {},
   "outputs": [],
   "source": [
    "import time\n",
    "from rapidfuzz.distance import Levenshtein\n",
    "#Header pout ne pas se faire bloquer l'accès par le site\n",
    "heads = {'User-Agent' : 'Mozilla/5.0 (Windows NT 6.1; Win64; x64) AppleWebKit/537.36 (KHTML, like Gecko) Chrome/70.0.3538.110 Safari/537.36'}\n",
    "\n",
    "def get_player_stats_tm(player_id):\n",
    "    \"Retourne un dictionnaire avec la valeur marchande et les postes joués par le joueur d'id player_id\"\n",
    "    \n",
    "    url=f'https://www.transfermarkt.com/konstantinos-tsimikas/profil/spieler/{player_id}'\n",
    "    \n",
    "    \n",
    "    html = requests.get(url,headers=heads).text\n",
    "    time.sleep(1)\n",
    "    soup = BeautifulSoup(html, 'lxml')\n",
    "    \n",
    "    # Extraction des positions\n",
    "    position_box=soup.find('div',class_='detail-position__box')\n",
    "    try:\n",
    "        positions=position_box.find_all('dd',class_='detail-position__position')\n",
    "        positions=[position.text for position in positions]\n",
    "    except:\n",
    "        positions=[]\n",
    "    \n",
    "    \n",
    "    \n",
    "    # Extraction de l'histoirique de la valeur marchande (accessible à travers un endpoint)\n",
    "    \n",
    "    \n",
    "    value_graph=requests.get(f'https://transfermarkt.com/ceapi/marketValueDevelopment/graph/{player_id}',headers=heads)\n",
    "    time.sleep(1)\n",
    "    value_graph=value_graph.json()\n",
    "    value_graph_values=[d['mw'] for d in value_graph['list']]\n",
    "    \n",
    "    value_graph_values=[float(v[1:-1])*(1000 if v[-1]=='m' else 1) if v!='-' else 0. for v in value_graph_values ]\n",
    "    value_graph_years=[d['datum_mw'].split(' ')[-1] for d in value_graph['list']]\n",
    "    value_graph={value_graph_years[i]:value_graph_values[i] for i in range(len(value_graph_years))}\n",
    "    return {'positions':positions,'market_values':value_graph}\n",
    "    \n",
    "\n",
    "\n",
    "\n",
    "def get_team_stats_tm(url,season,team,player_dict={},display_flag=False):\n",
    "    \"Remplis player_dict avec les statisiques obtenues avec get_players_stats_tm de tous les joueurs de team lors de season\"\n",
    "    \n",
    "    html=requests.get(url,headers=heads).text\n",
    "    time.sleep(1)\n",
    "    soup=BeautifulSoup(html,'lxml')\n",
    "    \n",
    "    \n",
    "    \n",
    "    \n",
    "    table=soup.find('div',id='yw1')\n",
    "    table=table.find('tbody')\n",
    "    rows=table.select('td.hauptlink:not(.rechts)')\n",
    "    player_list=[]\n",
    "    \n",
    "    # Pour trouver l'équipe du joueur correspondante dans la bd de fbref\n",
    "    team_tm=min([(Levenshtein.distance(team,team_fbref),team_fbref) for team_fbref in teams_fbref_list])[1]\n",
    "    \n",
    "    \n",
    "    #Extraction de la bd des joueurs de l'équipe team_tm lors de season dans fbref\n",
    "    \n",
    "    # Pas forcément nécessaire mais pour considérer les cas où la saison est au format année ( en Amérique du Sud nottament) ou année - année + 1 (cas usuel en Europe)\n",
    "    team_fbref_1=[player for player in player_stats_fbref.index if not(na_player_stats_fbref.loc[player,str(season)]) and player_stats_fbref.loc[player,str(season)]['team']==team_tm]\n",
    "    team_fbref_2=[player for player in player_stats_fbref.index if not(na_player_stats_fbref.loc[player,str(season)+'-'+str(season+1)]) and player_stats_fbref.loc[player,str(season)+'-'+str(season+1)]['team']==team_tm]\n",
    "    if len(team_fbref_2)>=len(team_fbref_1):\n",
    "        season=str(season)+'-'+str(season+1)\n",
    "        team_fbref=team_fbref_2\n",
    "    else:\n",
    "        season=str(season) \n",
    "        team_fbref=team_fbref_1\n",
    "        \n",
    "    # Pour chaque joueur on trouve le joueur correspondant dans la bd fbref\n",
    "    for row in rows:\n",
    "        name_tm=row.find('a').text.strip()\n",
    "        score,name=min([(Levenshtein.distance(player,name_tm),player) for player in team_fbref])\n",
    "        player_list.append((score,name,row.find('a').get('href')))\n",
    "    \n",
    "    \n",
    "    # On priorise les joueurs qui ont probablement un match dans la bd fbref\n",
    "    # (si la distance de Levenshtein est grande pour tous les joueurs à priori ce joueur n'est pas dans la bd fbref)\n",
    "    player_list=sorted(player_list)\n",
    "    player_list=player_list[:len(team_fbref)]\n",
    "    for score,name,link in player_list:\n",
    "        \n",
    "        #Pour éviter les redondances\n",
    "        if name not in player_dict.keys():\n",
    "            if display_flag:\n",
    "                print(name)\n",
    "            player_dict[name]=get_player_stats_tm(link.split('/')[-1])\n",
    "    \n",
    "    \n",
    "        \n",
    "    \n",
    "\n",
    "\n",
    "\n",
    "def get_champ_stats_tm(season,champ,player_dict={},display_flag=False):\n",
    "    \"Remplis player_dict les statistiques obtenues lors de get_team_stats_tm pour toutes les équipes de champ lors de season\"\n",
    "    url=f'https://www.transfermarkt.com/premier-league/startseite/wettbewerb/{champ}/plus/?saison_id={season}'\n",
    "    html=requests.get(url,headers=heads).text\n",
    "    time.sleep(1)\n",
    "    soup=BeautifulSoup(html,'lxml')\n",
    "    table=soup.find('div',id='yw1')\n",
    "    \n",
    "    table=table.find('tbody')\n",
    "    rows=table.find_all('tr')\n",
    "    for row in rows:\n",
    "        team_url=row.find('a').get('href')\n",
    "        team=row.find('a').get('title')\n",
    "        if display_flag:\n",
    "            print(team)\n",
    "        get_team_stats_tm('https://www.transfermarkt.com'+team_url,season,team,player_dict,False)\n",
    "            \n",
    "\n",
    "        \n",
    "        \n",
    "        \n",
    "        \n",
    "        \n",
    "        \n",
    "        \n",
    "        \n"
   ]
  },
  {
   "cell_type": "code",
   "execution_count": null,
   "metadata": {},
   "outputs": [],
   "source": [
    "#player_stats_tm={}\n",
    "#Seen pour relancer sans devoir reparcourir toutes les équipes si erreur\n",
    "#seen=set()\n",
    "for country in championships.keys():\n",
    "    for year in years:\n",
    "            if (country,year) not in seen:\n",
    "                print(country,year)\n",
    "                #Enlever display flag si besoin\n",
    "                get_champ_stats_tm(year,country,player_stats_tm,display_flag=True)\n",
    "                seen.add((country,year))\n",
    "                \n",
    "                "
   ]
  },
  {
   "cell_type": "markdown",
   "metadata": {},
   "source": [
    "Sauvegarde des données"
   ]
  },
  {
   "cell_type": "code",
   "execution_count": 320,
   "metadata": {},
   "outputs": [],
   "source": [
    "pickle.dump(player_stats_tm,open('player_stats_tm.pkl','wb'))"
   ]
  },
  {
   "cell_type": "code",
   "execution_count": 323,
   "metadata": {},
   "outputs": [],
   "source": [
    "player_stats_tm_dict=player_stats_tm\n",
    "player_stats_tm=pd.DataFrame(player_stats_tm).transpose()\n",
    "player_stats_tm.to_csv('player_stats_tm.csv',index=False)"
   ]
  },
  {
   "cell_type": "code",
   "execution_count": 212,
   "metadata": {},
   "outputs": [],
   "source": [
    "for player in player_stats_tm_dict.keys():\n",
    "    player_stats_fbref.loc[player,'meta'].update({'positions':player_stats_tm_dict[player]['positions'],'market_values':player_stats_tm_dict[player]['market_values']})\n",
    "    \n",
    "player_stats_tm.to_csv('player_stats_tm.csv',index=False)"
   ]
  },
  {
   "cell_type": "code",
   "execution_count": 59,
   "metadata": {},
   "outputs": [
    {
     "data": {
      "text/html": [
       "<div>\n",
       "<style scoped>\n",
       "    .dataframe tbody tr th:only-of-type {\n",
       "        vertical-align: middle;\n",
       "    }\n",
       "\n",
       "    .dataframe tbody tr th {\n",
       "        vertical-align: top;\n",
       "    }\n",
       "\n",
       "    .dataframe thead th {\n",
       "        text-align: right;\n",
       "    }\n",
       "</style>\n",
       "<table border=\"1\" class=\"dataframe\">\n",
       "  <thead>\n",
       "    <tr style=\"text-align: right;\">\n",
       "      <th></th>\n",
       "      <th>positions</th>\n",
       "      <th>market_values</th>\n",
       "    </tr>\n",
       "    <tr>\n",
       "      <th>Unnamed: 0</th>\n",
       "      <th></th>\n",
       "      <th></th>\n",
       "    </tr>\n",
       "  </thead>\n",
       "  <tbody>\n",
       "    <tr>\n",
       "      <th>Bernardo Silva</th>\n",
       "      <td>['Attacking Midfield', 'Right Winger', 'Centra...</td>\n",
       "      <td>{'2013': 600.0, '2014': 2500.0, '2015': 15000....</td>\n",
       "    </tr>\n",
       "    <tr>\n",
       "      <th>Ederson</th>\n",
       "      <td>['Goalkeeper']</td>\n",
       "      <td>{'2013': 300.0, '2014': 900.0, '2015': 1200.0,...</td>\n",
       "    </tr>\n",
       "    <tr>\n",
       "      <th>Erling Haaland</th>\n",
       "      <td>['Centre-Forward']</td>\n",
       "      <td>{'2016': 200.0, '2017': 300.0, '2018': 5000.0,...</td>\n",
       "    </tr>\n",
       "    <tr>\n",
       "      <th>Jack Grealish</th>\n",
       "      <td>['Left Winger', 'Attacking Midfield', 'Left Mi...</td>\n",
       "      <td>{'2013': 250.0, '2014': 1000.0, '2015': 4500.0...</td>\n",
       "    </tr>\n",
       "    <tr>\n",
       "      <th>John Stones</th>\n",
       "      <td>['Centre-Back', 'Right-Back', 'Defensive Midfi...</td>\n",
       "      <td>{'2011': 50.0, '2012': 100.0, '2013': 3500.0, ...</td>\n",
       "    </tr>\n",
       "  </tbody>\n",
       "</table>\n",
       "</div>"
      ],
      "text/plain": [
       "                                                        positions  \\\n",
       "Unnamed: 0                                                          \n",
       "Bernardo Silva  ['Attacking Midfield', 'Right Winger', 'Centra...   \n",
       "Ederson                                            ['Goalkeeper']   \n",
       "Erling Haaland                                 ['Centre-Forward']   \n",
       "Jack Grealish   ['Left Winger', 'Attacking Midfield', 'Left Mi...   \n",
       "John Stones     ['Centre-Back', 'Right-Back', 'Defensive Midfi...   \n",
       "\n",
       "                                                    market_values  \n",
       "Unnamed: 0                                                         \n",
       "Bernardo Silva  {'2013': 600.0, '2014': 2500.0, '2015': 15000....  \n",
       "Ederson         {'2013': 300.0, '2014': 900.0, '2015': 1200.0,...  \n",
       "Erling Haaland  {'2016': 200.0, '2017': 300.0, '2018': 5000.0,...  \n",
       "Jack Grealish   {'2013': 250.0, '2014': 1000.0, '2015': 4500.0...  \n",
       "John Stones     {'2011': 50.0, '2012': 100.0, '2013': 3500.0, ...  "
      ]
     },
     "execution_count": 59,
     "metadata": {},
     "output_type": "execute_result"
    }
   ],
   "source": [
    "player_stats_tm.head()"
   ]
  },
  {
   "cell_type": "markdown",
   "metadata": {},
   "source": [
    "## Extraction des historiques de transfert pour chaque équipe"
   ]
  },
  {
   "cell_type": "code",
   "execution_count": 426,
   "metadata": {},
   "outputs": [],
   "source": [
    "def get_team_transfers(url,team,season,champ,transfer_dict={}):\n",
    "    \"Remplis transfer_dict avec tous les transferts entrants et sortants pour team lors de season\"\n",
    "    html=requests.get(url,headers=heads).text\n",
    "    time.sleep(1)\n",
    "    soup=BeautifulSoup(html,'lxml')\n",
    "    \n",
    "    \n",
    "    \n",
    "    arrivals_tab=soup.find('div',id='yw1').find('tbody').find_all('tr',{'class':['even','odd']})\n",
    "    departures_tab=soup.find('div',id='yw2').find('tbody').find_all('tr',{'class':['even','odd']})\n",
    "    arrivals,departures=[],[]\n",
    "    \n",
    "    #Utiles pour calculer le déficit/budget d'un club\n",
    "    spent,sell=0,0\n",
    "    \n",
    "    \n",
    "    for type in [arrivals_tab,departures_tab]:\n",
    "        for transfer in type:\n",
    "            links=transfer.find_all('a')\n",
    "            name,club,fee=links[0].text,links[1].get('title'),links[-1].text\n",
    "            #Différencier transfert monétaire et autres (prêts, transferts gratuits...)\n",
    "            if fee[-1] in ['k','m']:\n",
    "                fee=float(fee[fee.index('€')+1:-1])*(1000 if fee[-1]=='m' else 1)\n",
    "                if type==arrivals_tab:\n",
    "                    spent+=fee\n",
    "                else:\n",
    "                    sell+=fee\n",
    "            (arrivals if type==arrivals_tab else departures).append([name,club,fee])\n",
    "        \n",
    "    for type in [arrivals,departures]:\n",
    "        for name,club,fee in type:\n",
    "            \n",
    "            #On cherche les équivalents dans la bd fbref \n",
    "            \n",
    "            #Pour les retraités, ceux qui arrêtent le foot\n",
    "            if club== None:\n",
    "                club_fbref=None\n",
    "            else:\n",
    "                club_fbref=min([(Levenshtein.distance(club,club_f),club_f) for club_f in teams_fbref_list])[1]\n",
    "            \n",
    "            name_fbref=min([(Levenshtein.distance(name,name_f),name_f) for name_f in player_stats_fbref.index])[1]\n",
    "            type.remove([name,club,fee])\n",
    "            type.append([name_fbref,club_fbref,fee])\n",
    "    transfer_dict[champ][season][team]={'arrivals':arrivals,'departures':departures,'spent':spent,'sell':sell}\n",
    "\n",
    "    \n",
    "def get_champ_transfers(champ,season,transfer_dict={},display_flag=False):\n",
    "    \"Remplis transfer_dict avec tous les transferts entrants et sortants de champ lors de season\"\n",
    "    # On applique simplement la fonction précédente sur un championnat entier\n",
    "    url=f'https://www.transfermarkt.com/any/startseite/wettbewerb/{champ}/plus/?saison_id={season}'\n",
    "    html=requests.get(url,headers=heads).text\n",
    "    time.sleep(1)\n",
    "    soup=BeautifulSoup(html,'lxml')\n",
    "    rows=soup.find('div',id='yw1').find('tbody').find_all('tr',{'class':[\"odd\",\"even\"]})\n",
    "    for row in rows:\n",
    "        team_id=row.find('a').get('href').split('/')[4]\n",
    "        team_url=f'https://www.transfermarkt.com/any/transfers/verein/{team_id}/saison_id/{season}'\n",
    "        team_name=row.find('a').get('title')\n",
    "        if display_flag:\n",
    "            print(team_name)\n",
    "        get_team_transfers(team_url,team_name,season,champ,transfer_dict)\n",
    "        \n",
    "        \n",
    "    \n",
    "    \n",
    "        \n",
    "    "
   ]
  },
  {
   "cell_type": "code",
   "execution_count": null,
   "metadata": {},
   "outputs": [],
   "source": [
    "transfer_history={}\n",
    "seen=set()\n",
    "for c in teams_fbref.keys():\n",
    "    transfer_history[c]=transfer_history.get(c,{})\n",
    "    for y in teams_fbref[c].keys():\n",
    "        if (c,y) not in seen:\n",
    "            print(c,y)\n",
    "            transfer_history[c][y]={}\n",
    "            get_champ_transfers(c,y,transfer_history)\n",
    "            seen.add((c,y))\n",
    "        \n",
    "            \n",
    "            \n",
    "            "
   ]
  },
  {
   "cell_type": "code",
   "execution_count": 431,
   "metadata": {},
   "outputs": [],
   "source": [
    "pickle.dump(transfer_history,open('transfer_history.pkl','wb'))"
   ]
  },
  {
   "cell_type": "markdown",
   "metadata": {},
   "source": [
    "on peut vérifier sur transfermrkt que cela correspond bien"
   ]
  },
  {
   "cell_type": "code",
   "execution_count": 65,
   "metadata": {},
   "outputs": [
    {
     "data": {
      "text/plain": [
       "{'arrivals': [['Federico Chiesa', 'Juventus FC', 12000.0],\n",
       "  ['Vitezslav Jaros', 'Liverpool FC U21', '-'],\n",
       "  ['Sepp van den Berg', '1.FSV Mainz 05', 'End of loanJun 30, 2024'],\n",
       "  ['Calvin Ramsay', 'Wigan Athletic', 'End of loanMay 31, 2025'],\n",
       "  ['Rhys Williams', 'Morecambe FC', 'End of loanJan 1, 2025'],\n",
       "  ['Marcelo Pitaluga', 'Livingston FC', 'End of loanMay 31, 2025'],\n",
       "  ['Tyler Morton', 'Liverpool', '-'],\n",
       "  ['Ben Doak', 'Middlesbrough', 'End of loanMay 31, 2025'],\n",
       "  ['Marcelo Pitaluga', 'St. Pauli', 'End of loanJun 30, 2024'],\n",
       "  ['Fabio Carvalho', 'Hull City', 'End of loanJun 30, 2024'],\n",
       "  ['Giorgi Mamardashvili', 'Valencia', 30000.0],\n",
       "  ['Matt Phillips', 'Dortmund', 'End of loanMay 31, 2025']],\n",
       " 'departures': [['Fábio Carvalho', 'Brentford FC', 23400.0],\n",
       "  ['Giorgi Mamardashvili', 'Valencia CF', 'loan transfer'],\n",
       "  ['Ben Doak', 'Middlesbrough FC', 'loan transfer'],\n",
       "  ['Nat Phillips', 'Derby County', 'loan transfer'],\n",
       "  ['Marcelo Pitaluga', 'Livingston FC', 'loan transfer'],\n",
       "  ['Joel Matip', None, '-'],\n",
       "  ['Adrián', 'Real Madrid', 'free transfer'],\n",
       "  ['Calvin Ramsay', 'Heidenheim', 'loan transfer'],\n",
       "  ['Thiago Alcántara', None, '-'],\n",
       "  ['Stefan Bajcetic', 'Augsburg', 'loan transfer'],\n",
       "  ['Sepp van den Berg', 'Brentford', 23600.0],\n",
       "  ['Rhys Williams', 'Bordeaux', 'loan transfer']],\n",
       " 'spent': 42000.0,\n",
       " 'sell': 47000.0}"
      ]
     },
     "execution_count": 65,
     "metadata": {},
     "output_type": "execute_result"
    }
   ],
   "source": [
    "transfer_history['GB1'][2024]['Liverpool FC']"
   ]
  },
  {
   "cell_type": "code",
   "execution_count": null,
   "metadata": {},
   "outputs": [],
   "source": [
    "def get_global_team_stats_tm()"
   ]
  },
  {
   "cell_type": "code",
   "execution_count": 433,
   "metadata": {},
   "outputs": [],
   "source": [
    "#!mkdir tm_data\n",
    "!mv player_stats_tm.csv player_stats_tm.pkl transfer_history.pkl tm_data"
   ]
  },
  {
   "cell_type": "markdown",
   "metadata": {},
   "source": [
    "## Importation des évaluations de joueurs sur SofaScore"
   ]
  },
  {
   "cell_type": "markdown",
   "metadata": {},
   "source": [
    "#### À travers toute cette section on fait appel à l'api de sofascore accessible directement en entrant l'url avec les bonnes options dans la barre de recherche"
   ]
  },
  {
   "cell_type": "markdown",
   "metadata": {},
   "source": [
    "#### Extraction des ids utiles pour utiliser l'API"
   ]
  },
  {
   "cell_type": "code",
   "execution_count": 94,
   "metadata": {},
   "outputs": [
    {
     "data": {
      "text/plain": [
       "{'Premier League': 17,\n",
       " 'LaLiga': 8,\n",
       " 'Bundesliga': 35,\n",
       " 'Serie A': 23,\n",
       " 'Ligue 1': 34}"
      ]
     },
     "execution_count": 94,
     "metadata": {},
     "output_type": "execute_result"
    }
   ],
   "source": [
    "\n",
    "\n",
    "\n",
    "BASE_URL = \"https://api.sofascore.com/api/v1\"\n",
    "\n",
    "def get_champs_sf(language=\"en\", sport=\"football\"):\n",
    "    \"Obtenir la liste des ids des différents championnats de football sur sofascore\"\n",
    "    url = f\"{BASE_URL}/config/unique-tournaments/{language}/{sport}\"\n",
    "    response = requests.get(url)\n",
    "    response.raise_for_status()\n",
    "    return response.json()[\"uniqueTournaments\"]\n",
    "\n",
    "def get_seasons_sf(tournament_id):\n",
    "    \"Obtenir la liste des ids des différentes saisons pour les différents championnats sur sofascore\"\n",
    "    url = f\"{BASE_URL}/unique-tournament/{tournament_id}/seasons\"\n",
    "    response = requests.get(url)\n",
    "    response.raise_for_status()\n",
    "    return response.json()[\"seasons\"]\n",
    "\n",
    "\n",
    "\n",
    "championships = get_champs_sf()\n",
    "\n",
    "championships=dict([(champ['name'],champ['id']) for champ in championships if champ['name'] in ['Premier League','Ligue 1','LaLiga','Serie A','Bundesliga']])\n",
    "\n",
    "championships\n"
   ]
  },
  {
   "cell_type": "code",
   "execution_count": 79,
   "metadata": {},
   "outputs": [],
   "source": [
    "seasons_sf={}\n",
    "for c in championships.keys():\n",
    "    seasons_sf[c]={}\n",
    "    seasons_tab=get_seasons_sf(championships[c])\n",
    "    for i in range(10):\n",
    "        seasons_sf[c][2024-i]=seasons_tab[i]['id']"
   ]
  },
  {
   "cell_type": "code",
   "execution_count": 81,
   "metadata": {},
   "outputs": [
    {
     "data": {
      "text/plain": [
       "{2024: 61627,\n",
       " 2023: 52186,\n",
       " 2022: 41886,\n",
       " 2021: 37036,\n",
       " 2020: 29415,\n",
       " 2019: 23776,\n",
       " 2018: 17359,\n",
       " 2017: 13380,\n",
       " 2016: 11733,\n",
       " 2015: 10356}"
      ]
     },
     "execution_count": 81,
     "metadata": {},
     "output_type": "execute_result"
    }
   ],
   "source": [
    "seasons_sf['Premier League']"
   ]
  },
  {
   "cell_type": "code",
   "execution_count": 90,
   "metadata": {},
   "outputs": [],
   "source": [
    "\n",
    "def get_team_ids_sf(tournament_id,season_id):\n",
    "    \"Obtenir la liste des ids de toutes les équipes participant au tournoi d'id tournament_id durant la saison dont l'id est season_id\"\n",
    "    url = f\"https://api.sofascore.com/api/v1/unique-tournament/{tournament_id}/season/{season_id}/teams\"\n",
    "    response = requests.get(url)\n",
    "    response.raise_for_status()  \n",
    "    data = response.json()\n",
    "    return dict([(team['name'],team['id']) for team in data['teams']])"
   ]
  },
  {
   "cell_type": "code",
   "execution_count": null,
   "metadata": {},
   "outputs": [],
   "source": [
    "team_ids_sf={}\n",
    "for c in seasons_sf.keys():\n",
    "    team_ids_sf[c]={}\n",
    "    for y in seasons_sf[c].keys():\n",
    "        team_ids_sf[c][y]=get_team_ids_sf(championships[c],seasons_sf[c][y])\n",
    "\n"
   ]
  },
  {
   "cell_type": "code",
   "execution_count": 109,
   "metadata": {},
   "outputs": [
    {
     "data": {
      "text/plain": [
       "{'Arsenal': 42,\n",
       " 'Leicester City': 31,\n",
       " 'Brighton & Hove Albion': 30,\n",
       " 'Leeds United': 34,\n",
       " 'Brentford': 50,\n",
       " 'Aston Villa': 40,\n",
       " 'Bournemouth': 60,\n",
       " 'Nottingham Forest': 14,\n",
       " 'Wolverhampton': 3,\n",
       " 'Manchester City': 17,\n",
       " 'Fulham': 43,\n",
       " 'West Ham United': 37,\n",
       " 'Crystal Palace': 7,\n",
       " 'Tottenham Hotspur': 33,\n",
       " 'Manchester United': 35,\n",
       " 'Southampton': 45,\n",
       " 'Chelsea': 38,\n",
       " 'Everton': 48,\n",
       " 'Newcastle United': 39,\n",
       " 'Liverpool': 44}"
      ]
     },
     "execution_count": 109,
     "metadata": {},
     "output_type": "execute_result"
    }
   ],
   "source": [
    "team_ids_sf['Premier League'][2022]"
   ]
  },
  {
   "cell_type": "markdown",
   "metadata": {},
   "source": [
    "#### Extraction des évaluations de tous les joueurs"
   ]
  },
  {
   "cell_type": "code",
   "execution_count": 156,
   "metadata": {},
   "outputs": [],
   "source": [
    "def get_team_ratings(team_id,season_id,champ_id):\n",
    "    \"Renvoie un dictionnaire avec comme clés les joueurs de l'équipe associée à team_id et comme valeurs leur notes pour la saison spécifiée\"\n",
    "    url=f'https://www.sofascore.com/api/v1/team/{team_id}/unique-tournament/{champ_id}/season/{season_id}/top-players/overall'  \n",
    "    response=requests.get(url)\n",
    "    data=response.json()\n",
    "    try:\n",
    "        data=data['topPlayers']['rating']\n",
    "    except:\n",
    "        print(f'No data for {team_id}')\n",
    "        return {}\n",
    "    \n",
    "    ratings={}\n",
    "    for entry in data:\n",
    "        name=entry['player']['name']\n",
    "        name=min([(Levenshtein.distance(name,name_f),name_f) for name_f in player_stats_fbref.index])[1]\n",
    "        ratings[name]=entry['statistics']['rating']\n",
    "    return ratings\n",
    "    \n",
    "\n"
   ]
  },
  {
   "cell_type": "code",
   "execution_count": null,
   "metadata": {},
   "outputs": [],
   "source": [
    "#décommenter pour pouvoir exécuter le code\n",
    "\n",
    "#player_ratings={}\n",
    "#seen=set()\n",
    "for c,c_id in championships.items():\n",
    "    for y,y_id in seasons[c].items():\n",
    "        for team,team_id in team_ids_sf[c][y].items():\n",
    "            if (c,y,team) not in seen:\n",
    "                print(y,team)\n",
    "                for player,rating in get_team_ratings(team_id,y_id,c_id).items():\n",
    "                    if player in player_ratings.keys():\n",
    "                        player_ratings[player][y]=rating\n",
    "                    else:\n",
    "                        player_ratings[player]={y:rating}\n",
    "                seen.add((c,y,team))\n",
    "                    "
   ]
  },
  {
   "cell_type": "code",
   "execution_count": 103,
   "metadata": {},
   "outputs": [
    {
     "data": {
      "text/plain": [
       "{'Hellas Verona': 2701,\n",
       " 'Genoa': 2713,\n",
       " 'Empoli': 2705,\n",
       " 'Torino': 2696,\n",
       " 'Venezia': 2688,\n",
       " 'Milan': 2692,\n",
       " 'Juventus': 2687,\n",
       " 'Udinese': 2695,\n",
       " 'Lazio': 2699,\n",
       " 'Inter': 2697,\n",
       " 'Bologna': 2685,\n",
       " 'Fiorentina': 2693,\n",
       " 'Napoli': 2714,\n",
       " 'Monza': 2729,\n",
       " 'Parma': 2690,\n",
       " 'Atalanta': 2686,\n",
       " 'Como': 2704,\n",
       " 'Roma': 2702,\n",
       " 'Cagliari': 2719,\n",
       " 'Lecce': 2689}"
      ]
     },
     "execution_count": 103,
     "metadata": {},
     "output_type": "execute_result"
    }
   ],
   "source": [
    "team_ids_sf['Serie A'][2024]"
   ]
  },
  {
   "cell_type": "code",
   "execution_count": 595,
   "metadata": {},
   "outputs": [],
   "source": [
    "player_ratings=pd.DataFrame(player_ratings).transpose()\n",
    "player_ratings.columns=list(map(lambda n:f'{n}-{n+1}',player_ratings.columns))\n",
    "player_ratings.to_csv('player_ratings.csv')"
   ]
  },
  {
   "cell_type": "code",
   "execution_count": 594,
   "metadata": {},
   "outputs": [
    {
     "data": {
      "text/html": [
       "<div>\n",
       "<style scoped>\n",
       "    .dataframe tbody tr th:only-of-type {\n",
       "        vertical-align: middle;\n",
       "    }\n",
       "\n",
       "    .dataframe tbody tr th {\n",
       "        vertical-align: top;\n",
       "    }\n",
       "\n",
       "    .dataframe thead th {\n",
       "        text-align: right;\n",
       "    }\n",
       "</style>\n",
       "<table border=\"1\" class=\"dataframe\">\n",
       "  <thead>\n",
       "    <tr style=\"text-align: right;\">\n",
       "      <th></th>\n",
       "      <th>2024-2025</th>\n",
       "      <th>2023-2024</th>\n",
       "      <th>2022-2023</th>\n",
       "      <th>2021-2022</th>\n",
       "      <th>2020-2021</th>\n",
       "      <th>2019-2020</th>\n",
       "      <th>2018-2019</th>\n",
       "      <th>2017-2018</th>\n",
       "      <th>2016-2017</th>\n",
       "      <th>2015-2016</th>\n",
       "    </tr>\n",
       "  </thead>\n",
       "  <tbody>\n",
       "    <tr>\n",
       "      <th>Bukayo Saka</th>\n",
       "      <td>8.04</td>\n",
       "      <td>7.36</td>\n",
       "      <td>5.97</td>\n",
       "      <td>7.67</td>\n",
       "      <td>6.43</td>\n",
       "      <td>6.04</td>\n",
       "      <td>6.25</td>\n",
       "      <td>NaN</td>\n",
       "      <td>NaN</td>\n",
       "      <td>NaN</td>\n",
       "    </tr>\n",
       "    <tr>\n",
       "      <th>Neto</th>\n",
       "      <td>9.41</td>\n",
       "      <td>7.31</td>\n",
       "      <td>4.00</td>\n",
       "      <td>7.71</td>\n",
       "      <td>7.09</td>\n",
       "      <td>6.52</td>\n",
       "      <td>8.29</td>\n",
       "      <td>7.84</td>\n",
       "      <td>8.20</td>\n",
       "      <td>8.0</td>\n",
       "    </tr>\n",
       "    <tr>\n",
       "      <th>Declan Rice</th>\n",
       "      <td>8.63</td>\n",
       "      <td>7.98</td>\n",
       "      <td>5.95</td>\n",
       "      <td>8.14</td>\n",
       "      <td>6.30</td>\n",
       "      <td>7.03</td>\n",
       "      <td>7.95</td>\n",
       "      <td>7.26</td>\n",
       "      <td>NaN</td>\n",
       "      <td>NaN</td>\n",
       "    </tr>\n",
       "    <tr>\n",
       "      <th>Gabriel Magalhães</th>\n",
       "      <td>6.70</td>\n",
       "      <td>7.86</td>\n",
       "      <td>6.00</td>\n",
       "      <td>6.66</td>\n",
       "      <td>5.56</td>\n",
       "      <td>6.68</td>\n",
       "      <td>6.00</td>\n",
       "      <td>7.12</td>\n",
       "      <td>5.89</td>\n",
       "      <td>NaN</td>\n",
       "    </tr>\n",
       "    <tr>\n",
       "      <th>Martin Ødegaard</th>\n",
       "      <td>6.95</td>\n",
       "      <td>7.14</td>\n",
       "      <td>8.25</td>\n",
       "      <td>8.36</td>\n",
       "      <td>5.79</td>\n",
       "      <td>6.51</td>\n",
       "      <td>NaN</td>\n",
       "      <td>NaN</td>\n",
       "      <td>NaN</td>\n",
       "      <td>NaN</td>\n",
       "    </tr>\n",
       "  </tbody>\n",
       "</table>\n",
       "</div>"
      ],
      "text/plain": [
       "                   2024-2025  2023-2024  2022-2023  2021-2022  2020-2021  \\\n",
       "Bukayo Saka             8.04       7.36       5.97       7.67       6.43   \n",
       "Neto                    9.41       7.31       4.00       7.71       7.09   \n",
       "Declan Rice             8.63       7.98       5.95       8.14       6.30   \n",
       "Gabriel Magalhães       6.70       7.86       6.00       6.66       5.56   \n",
       "Martin Ødegaard         6.95       7.14       8.25       8.36       5.79   \n",
       "\n",
       "                   2019-2020  2018-2019  2017-2018  2016-2017  2015-2016  \n",
       "Bukayo Saka             6.04       6.25        NaN        NaN        NaN  \n",
       "Neto                    6.52       8.29       7.84       8.20        8.0  \n",
       "Declan Rice             7.03       7.95       7.26        NaN        NaN  \n",
       "Gabriel Magalhães       6.68       6.00       7.12       5.89        NaN  \n",
       "Martin Ødegaard         6.51        NaN        NaN        NaN        NaN  "
      ]
     },
     "execution_count": 594,
     "metadata": {},
     "output_type": "execute_result"
    }
   ],
   "source": [
    "player_ratings.head()"
   ]
  },
  {
   "cell_type": "code",
   "execution_count": 596,
   "metadata": {},
   "outputs": [],
   "source": [
    "!mkdir sf_data\n",
    "!mv player_ratings.csv sf_data"
   ]
  },
  {
   "cell_type": "code",
   "execution_count": 41,
   "metadata": {},
   "outputs": [
    {
     "data": {
      "text/plain": [
       "7619"
      ]
     },
     "execution_count": 41,
     "metadata": {},
     "output_type": "execute_result"
    }
   ],
   "source": [
    "len(player_ratings)"
   ]
  },
  {
   "cell_type": "markdown",
   "metadata": {},
   "source": [
    "On voit qu'on a 3000 joueurs qui n'ont aucune évaluation définie, on peut donc faire un modèle qui fait cette évaluation"
   ]
  },
  {
   "cell_type": "markdown",
   "metadata": {},
   "source": [
    "# Modèle:Outil d'évaluation de performance des joueurs selon leurs métriques"
   ]
  },
  {
   "cell_type": "markdown",
   "metadata": {},
   "source": [
    "## Input:Vectorisation des données des joueurs"
   ]
  },
  {
   "cell_type": "markdown",
   "metadata": {},
   "source": [
    "Petit réglage sur les minutes jouées qui n'ont pas pu être interprétées comme des float à cause de ','"
   ]
  },
  {
   "cell_type": "code",
   "execution_count": 5,
   "metadata": {},
   "outputs": [],
   "source": [
    "def change_minutes_type(entry):\n",
    "    \"Numérise l'entrée associée au minutes jouées\"\n",
    "    try:\n",
    "        entry['minutes']=float(entry['minutes'].replace(',',''))\n",
    "        return entry\n",
    "    except:\n",
    "        return entry\n",
    "\n",
    "\n",
    "\n",
    "player_stats_fbref=player_stats_fbref.map(change_minutes_type)"
   ]
  },
  {
   "cell_type": "markdown",
   "metadata": {},
   "source": [
    "### Encodage des variables catégoriques"
   ]
  },
  {
   "cell_type": "markdown",
   "metadata": {},
   "source": [
    "Module utile pour avoir immédiatement un encodage binaire des variables catégorique "
   ]
  },
  {
   "cell_type": "code",
   "execution_count": 4,
   "metadata": {},
   "outputs": [
    {
     "name": "stdout",
     "output_type": "stream",
     "text": [
      "Requirement already satisfied: category_encoders in /Library/Frameworks/Python.framework/Versions/3.12/lib/python3.12/site-packages (2.6.4)\n",
      "Requirement already satisfied: numpy>=1.14.0 in /Library/Frameworks/Python.framework/Versions/3.12/lib/python3.12/site-packages (from category_encoders) (1.26.4)\n",
      "Requirement already satisfied: scikit-learn>=0.20.0 in /Library/Frameworks/Python.framework/Versions/3.12/lib/python3.12/site-packages (from category_encoders) (1.4.2)\n",
      "Requirement already satisfied: scipy>=1.0.0 in /Library/Frameworks/Python.framework/Versions/3.12/lib/python3.12/site-packages (from category_encoders) (1.13.0)\n",
      "Requirement already satisfied: statsmodels>=0.9.0 in /Library/Frameworks/Python.framework/Versions/3.12/lib/python3.12/site-packages (from category_encoders) (0.14.4)\n",
      "Requirement already satisfied: pandas>=1.0.5 in /Library/Frameworks/Python.framework/Versions/3.12/lib/python3.12/site-packages (from category_encoders) (2.2.2)\n",
      "Requirement already satisfied: patsy>=0.5.1 in /Library/Frameworks/Python.framework/Versions/3.12/lib/python3.12/site-packages (from category_encoders) (1.0.1)\n",
      "Requirement already satisfied: python-dateutil>=2.8.2 in /Library/Frameworks/Python.framework/Versions/3.12/lib/python3.12/site-packages (from pandas>=1.0.5->category_encoders) (2.9.0.post0)\n",
      "Requirement already satisfied: pytz>=2020.1 in /Library/Frameworks/Python.framework/Versions/3.12/lib/python3.12/site-packages (from pandas>=1.0.5->category_encoders) (2024.1)\n",
      "Requirement already satisfied: tzdata>=2022.7 in /Library/Frameworks/Python.framework/Versions/3.12/lib/python3.12/site-packages (from pandas>=1.0.5->category_encoders) (2024.1)\n",
      "Requirement already satisfied: joblib>=1.2.0 in /Library/Frameworks/Python.framework/Versions/3.12/lib/python3.12/site-packages (from scikit-learn>=0.20.0->category_encoders) (1.4.0)\n",
      "Requirement already satisfied: threadpoolctl>=2.0.0 in /Library/Frameworks/Python.framework/Versions/3.12/lib/python3.12/site-packages (from scikit-learn>=0.20.0->category_encoders) (3.5.0)\n",
      "Requirement already satisfied: packaging>=21.3 in /Library/Frameworks/Python.framework/Versions/3.12/lib/python3.12/site-packages (from statsmodels>=0.9.0->category_encoders) (24.0)\n",
      "Requirement already satisfied: six>=1.5 in /Library/Frameworks/Python.framework/Versions/3.12/lib/python3.12/site-packages (from python-dateutil>=2.8.2->pandas>=1.0.5->category_encoders) (1.16.0)\n",
      "\n",
      "\u001b[1m[\u001b[0m\u001b[34;49mnotice\u001b[0m\u001b[1;39;49m]\u001b[0m\u001b[39;49m A new release of pip is available: \u001b[0m\u001b[31;49m24.1.2\u001b[0m\u001b[39;49m -> \u001b[0m\u001b[32;49m24.3.1\u001b[0m\n",
      "\u001b[1m[\u001b[0m\u001b[34;49mnotice\u001b[0m\u001b[1;39;49m]\u001b[0m\u001b[39;49m To update, run: \u001b[0m\u001b[32;49mpip install --upgrade pip\u001b[0m\n"
     ]
    }
   ],
   "source": [
    "!pip3 install category_encoders"
   ]
  },
  {
   "cell_type": "markdown",
   "metadata": {},
   "source": [
    "Les variables à encoder"
   ]
  },
  {
   "cell_type": "code",
   "execution_count": 5,
   "metadata": {},
   "outputs": [
    {
     "data": {
      "text/plain": [
       "[('team', 'Liverpool'),\n",
       " ('country', 'eng ENG'),\n",
       " ('comp_level', '1. Premier League'),\n",
       " ('lg_finish', '1st')]"
      ]
     },
     "execution_count": 5,
     "metadata": {},
     "output_type": "execute_result"
    }
   ],
   "source": [
    "[(k,v) for (k,v) in player_stats_fbref.loc['Mohamed Salah','2024-2025'].items() if type(v)==str and v!='']"
   ]
  },
  {
   "cell_type": "markdown",
   "metadata": {},
   "source": [
    "Encodage Binaire pour ne pas avoir de relation d'ordre mais ne pas utiliser trop de mémoire non plus"
   ]
  },
  {
   "cell_type": "code",
   "execution_count": 8,
   "metadata": {},
   "outputs": [],
   "source": [
    "import category_encoders as ce\n",
    "\n",
    "encoded_var=['team','country','comp_level','lg_finish']\n",
    "\n",
    "encoding_table={}\n",
    "\n",
    "for var in encoded_var:\n",
    "    \n",
    "    \n",
    "    encoder=ce.BinaryEncoder(return_df=False)\n",
    "    \n",
    "    \n",
    "    #extraction des valeurs que peut prendre var\n",
    "    classes=set()\n",
    "    years=[f'{2024-i}-{2024-i+1}' for i in range(10)]\n",
    "    for year in years:\n",
    "        for player in player_stats_fbref.index:\n",
    "            if not(na_player_stats_fbref.loc[player,year]):\n",
    "                classes.add(player_stats_fbref.loc[player,year][var])\n",
    "    encoder.fit(list(classes))\n",
    "    \n",
    "    encoding_table[var]=encoder"
   ]
  },
  {
   "cell_type": "code",
   "execution_count": 9,
   "metadata": {},
   "outputs": [
    {
     "data": {
      "text/plain": [
       "array([[0, 0, 1, 0, 0, 0]])"
      ]
     },
     "execution_count": 9,
     "metadata": {},
     "output_type": "execute_result"
    }
   ],
   "source": [
    "encoding_table['country'].transform(['eng ENG'])"
   ]
  },
  {
   "cell_type": "markdown",
   "metadata": {},
   "source": [
    "### Extraction de la moyenne et de l'écart type pour les variables non catégoriques afin de normaliser"
   ]
  },
  {
   "cell_type": "markdown",
   "metadata": {},
   "source": [
    "$\\textbf{C'est très important car sinon la loss diverge}$"
   ]
  },
  {
   "cell_type": "code",
   "execution_count": 12,
   "metadata": {},
   "outputs": [],
   "source": [
    "import numpy as np\n",
    "#Pour fixer la taille de l'input\n",
    "categories=player_stats_fbref.loc['Mohamed Salah','2024-2025'].keys()\n",
    "\n",
    "norm_dict={}\n",
    "\n",
    "# Calculer la moyenne et l'écart-type pour toutes les statistiques\n",
    "for category in categories:\n",
    "    if category not in encoded_var:\n",
    "        data=[player_stats_fbref.loc[player,year][category] for player in player_stats_fbref.index for year in seasons if not(na_player_stats_fbref.loc[player,year]) and category in player_stats_fbref.loc[player,year].keys()]\n",
    "        data=np.array(list(filter(lambda x: type(x)==float,data)))\n",
    "        mean,std=np.mean(data),np.std(data)\n",
    "        norm_dict[category]={'mean':mean,'std':std}\n",
    "        \n",
    "def normalise(x):\n",
    "    \"normalise les différentes entrées du dictionnaire x\"\n",
    "    for category in categories:\n",
    "        if category not in encoded_var and type(x)==dict and category in x.keys() and type(x[category])==float:\n",
    "            mean,std=norm_dict[category]['mean'],norm_dict[category]['std']\n",
    "            x[category]=(x[category]-mean)/std  \n",
    "    return x  \n",
    "\n",
    "\n",
    "        \n",
    "            "
   ]
  },
  {
   "cell_type": "code",
   "execution_count": 13,
   "metadata": {},
   "outputs": [],
   "source": [
    "#données normalisées\n",
    "player_stats_fbref_norm=player_stats_fbref.apply(lambda x:x.apply(normalise))"
   ]
  },
  {
   "cell_type": "code",
   "execution_count": 14,
   "metadata": {},
   "outputs": [
    {
     "data": {
      "text/plain": [
       "(2.9445369988223056, 2.9445369988223056)"
      ]
     },
     "execution_count": 14,
     "metadata": {},
     "output_type": "execute_result"
    }
   ],
   "source": [
    "player_stats_fbref_norm.loc['Mohamed Salah','2024-2025']['goals'],player_stats_fbref.loc['Mohamed Salah','2024-2025']['goals']"
   ]
  },
  {
   "cell_type": "markdown",
   "metadata": {},
   "source": [
    "On voit bien que l'échelle est réduite"
   ]
  },
  {
   "cell_type": "code",
   "execution_count": 15,
   "metadata": {},
   "outputs": [
    {
     "data": {
      "text/plain": [
       "[1.516432869569389, 0, 0, 1, 1, 1, 1, 1, 1, 1]"
      ]
     },
     "execution_count": 15,
     "metadata": {},
     "output_type": "execute_result"
    }
   ],
   "source": [
    "\n",
    "def vectorize(player,season):\n",
    "    \"Retourne le vecteur encodant la saison season de player\"\n",
    "    data=player_stats_fbref_norm.loc[player,season]\n",
    "    vect=[]\n",
    "    for category in categories:\n",
    "            if category in data.keys() and data[category]!='':\n",
    "                if category in encoded_var:\n",
    "                    vect+=list(encoding_table[category].transform([data[category]])[0])\n",
    "                else:\n",
    "                    vect+=[data[category]]\n",
    "            else:\n",
    "                # l'encodage binaire fait qu'on remplace une information catégorique inconnue par un vecteur de bonne taille avec que des -1\n",
    "                vect+=[-1]*(1 if category not in encoded_var else len(list(encoding_table[category].transform([player_stats_fbref_norm.loc['Mohamed Salah','2024-2025'][category]])[0])))\n",
    "            \n",
    "    return vect\n",
    "\n",
    "\n",
    "input_size=len(vectorize('Mohamed Salah','2024-2025')) \n",
    "vectorize('Mohamed Salah','2024-2025')[:10]"
   ]
  },
  {
   "cell_type": "markdown",
   "metadata": {},
   "source": [
    "## Définition du modèle"
   ]
  },
  {
   "cell_type": "code",
   "execution_count": 16,
   "metadata": {},
   "outputs": [],
   "source": [
    "import torch\n",
    "import torch.nn as nn\n",
    "import torch.optim as optim\n",
    "\n",
    "model=nn.Linear(input_size,1)\n",
    "criterion=nn.MSELoss()\n",
    "optimizer=optim.Adam(model.parameters(),lr=0.001)\n",
    "\n"
   ]
  },
  {
   "cell_type": "code",
   "execution_count": 22,
   "metadata": {},
   "outputs": [],
   "source": [
    "import numpy as np\n",
    "n=len(player_ratings)\n",
    "random_indexes=np.random.choice(np.arange(n),int(0.8*n),replace=False)\n",
    "\n",
    "#On sépare bien les données en données d'entraînement et données test\n",
    "\n",
    "training_data=player_ratings.iloc[random_indexes]\n",
    "validation_data=player_ratings.iloc[[i for i in np.arange(n) if i not in random_indexes]]"
   ]
  },
  {
   "cell_type": "code",
   "execution_count": 23,
   "metadata": {},
   "outputs": [
    {
     "data": {
      "text/html": [
       "<div>\n",
       "<style scoped>\n",
       "    .dataframe tbody tr th:only-of-type {\n",
       "        vertical-align: middle;\n",
       "    }\n",
       "\n",
       "    .dataframe tbody tr th {\n",
       "        vertical-align: top;\n",
       "    }\n",
       "\n",
       "    .dataframe thead th {\n",
       "        text-align: right;\n",
       "    }\n",
       "</style>\n",
       "<table border=\"1\" class=\"dataframe\">\n",
       "  <thead>\n",
       "    <tr style=\"text-align: right;\">\n",
       "      <th></th>\n",
       "      <th>2024-2025</th>\n",
       "      <th>2023-2024</th>\n",
       "      <th>2022-2023</th>\n",
       "      <th>2021-2022</th>\n",
       "      <th>2020-2021</th>\n",
       "      <th>2019-2020</th>\n",
       "      <th>2018-2019</th>\n",
       "      <th>2017-2018</th>\n",
       "      <th>2016-2017</th>\n",
       "      <th>2015-2016</th>\n",
       "    </tr>\n",
       "  </thead>\n",
       "  <tbody>\n",
       "    <tr>\n",
       "      <th>Nikola Milenković</th>\n",
       "      <td>6.84</td>\n",
       "      <td>5.51</td>\n",
       "      <td>5.63</td>\n",
       "      <td>7.92</td>\n",
       "      <td>7.87</td>\n",
       "      <td>6.37</td>\n",
       "      <td>7.31</td>\n",
       "      <td>5.58</td>\n",
       "      <td>NaN</td>\n",
       "      <td>NaN</td>\n",
       "    </tr>\n",
       "    <tr>\n",
       "      <th>Odisseas Vlachodimos</th>\n",
       "      <td>NaN</td>\n",
       "      <td>7.89</td>\n",
       "      <td>NaN</td>\n",
       "      <td>NaN</td>\n",
       "      <td>NaN</td>\n",
       "      <td>NaN</td>\n",
       "      <td>NaN</td>\n",
       "      <td>NaN</td>\n",
       "      <td>NaN</td>\n",
       "      <td>6.89</td>\n",
       "    </tr>\n",
       "    <tr>\n",
       "      <th>Laurent Ciman</th>\n",
       "      <td>NaN</td>\n",
       "      <td>NaN</td>\n",
       "      <td>NaN</td>\n",
       "      <td>NaN</td>\n",
       "      <td>NaN</td>\n",
       "      <td>NaN</td>\n",
       "      <td>7.37</td>\n",
       "      <td>NaN</td>\n",
       "      <td>NaN</td>\n",
       "      <td>NaN</td>\n",
       "    </tr>\n",
       "    <tr>\n",
       "      <th>Darren Randolph</th>\n",
       "      <td>NaN</td>\n",
       "      <td>NaN</td>\n",
       "      <td>NaN</td>\n",
       "      <td>NaN</td>\n",
       "      <td>6.35</td>\n",
       "      <td>7.62</td>\n",
       "      <td>NaN</td>\n",
       "      <td>NaN</td>\n",
       "      <td>7.90</td>\n",
       "      <td>5.88</td>\n",
       "    </tr>\n",
       "    <tr>\n",
       "      <th>Tom Carroll</th>\n",
       "      <td>NaN</td>\n",
       "      <td>NaN</td>\n",
       "      <td>NaN</td>\n",
       "      <td>NaN</td>\n",
       "      <td>NaN</td>\n",
       "      <td>NaN</td>\n",
       "      <td>NaN</td>\n",
       "      <td>5.96</td>\n",
       "      <td>7.94</td>\n",
       "      <td>7.80</td>\n",
       "    </tr>\n",
       "  </tbody>\n",
       "</table>\n",
       "</div>"
      ],
      "text/plain": [
       "                      2024-2025  2023-2024  2022-2023  2021-2022  2020-2021  \\\n",
       "Nikola Milenković          6.84       5.51       5.63       7.92       7.87   \n",
       "Odisseas Vlachodimos        NaN       7.89        NaN        NaN        NaN   \n",
       "Laurent Ciman               NaN        NaN        NaN        NaN        NaN   \n",
       "Darren Randolph             NaN        NaN        NaN        NaN       6.35   \n",
       "Tom Carroll                 NaN        NaN        NaN        NaN        NaN   \n",
       "\n",
       "                      2019-2020  2018-2019  2017-2018  2016-2017  2015-2016  \n",
       "Nikola Milenković          6.37       7.31       5.58        NaN        NaN  \n",
       "Odisseas Vlachodimos        NaN        NaN        NaN        NaN       6.89  \n",
       "Laurent Ciman               NaN       7.37        NaN        NaN        NaN  \n",
       "Darren Randolph            7.62        NaN        NaN       7.90       5.88  \n",
       "Tom Carroll                 NaN        NaN       5.96       7.94       7.80  "
      ]
     },
     "execution_count": 23,
     "metadata": {},
     "output_type": "execute_result"
    }
   ],
   "source": [
    "training_data.head()"
   ]
  },
  {
   "cell_type": "code",
   "execution_count": 24,
   "metadata": {},
   "outputs": [
    {
     "data": {
      "text/html": [
       "<div>\n",
       "<style scoped>\n",
       "    .dataframe tbody tr th:only-of-type {\n",
       "        vertical-align: middle;\n",
       "    }\n",
       "\n",
       "    .dataframe tbody tr th {\n",
       "        vertical-align: top;\n",
       "    }\n",
       "\n",
       "    .dataframe thead th {\n",
       "        text-align: right;\n",
       "    }\n",
       "</style>\n",
       "<table border=\"1\" class=\"dataframe\">\n",
       "  <thead>\n",
       "    <tr style=\"text-align: right;\">\n",
       "      <th></th>\n",
       "      <th>2024-2025</th>\n",
       "      <th>2023-2024</th>\n",
       "      <th>2022-2023</th>\n",
       "      <th>2021-2022</th>\n",
       "      <th>2020-2021</th>\n",
       "      <th>2019-2020</th>\n",
       "      <th>2018-2019</th>\n",
       "      <th>2017-2018</th>\n",
       "      <th>2016-2017</th>\n",
       "      <th>2015-2016</th>\n",
       "    </tr>\n",
       "  </thead>\n",
       "  <tbody>\n",
       "    <tr>\n",
       "      <th>Martin Ødegaard</th>\n",
       "      <td>6.95</td>\n",
       "      <td>7.14</td>\n",
       "      <td>8.25</td>\n",
       "      <td>8.36</td>\n",
       "      <td>5.79</td>\n",
       "      <td>6.51</td>\n",
       "      <td>NaN</td>\n",
       "      <td>NaN</td>\n",
       "      <td>NaN</td>\n",
       "      <td>NaN</td>\n",
       "    </tr>\n",
       "    <tr>\n",
       "      <th>David Raya</th>\n",
       "      <td>6.69</td>\n",
       "      <td>7.85</td>\n",
       "      <td>7.85</td>\n",
       "      <td>7.25</td>\n",
       "      <td>NaN</td>\n",
       "      <td>NaN</td>\n",
       "      <td>NaN</td>\n",
       "      <td>NaN</td>\n",
       "      <td>NaN</td>\n",
       "      <td>NaN</td>\n",
       "    </tr>\n",
       "    <tr>\n",
       "      <th>Ben White</th>\n",
       "      <td>5.72</td>\n",
       "      <td>5.82</td>\n",
       "      <td>7.56</td>\n",
       "      <td>7.07</td>\n",
       "      <td>6.15</td>\n",
       "      <td>NaN</td>\n",
       "      <td>NaN</td>\n",
       "      <td>NaN</td>\n",
       "      <td>NaN</td>\n",
       "      <td>NaN</td>\n",
       "    </tr>\n",
       "    <tr>\n",
       "      <th>Leandro Trossard</th>\n",
       "      <td>6.58</td>\n",
       "      <td>6.57</td>\n",
       "      <td>6.00</td>\n",
       "      <td>7.40</td>\n",
       "      <td>7.65</td>\n",
       "      <td>5.82</td>\n",
       "      <td>NaN</td>\n",
       "      <td>NaN</td>\n",
       "      <td>NaN</td>\n",
       "      <td>NaN</td>\n",
       "    </tr>\n",
       "    <tr>\n",
       "      <th>Mikel Merino</th>\n",
       "      <td>6.84</td>\n",
       "      <td>7.90</td>\n",
       "      <td>7.78</td>\n",
       "      <td>8.02</td>\n",
       "      <td>5.70</td>\n",
       "      <td>5.72</td>\n",
       "      <td>6.24</td>\n",
       "      <td>6.59</td>\n",
       "      <td>6.53</td>\n",
       "      <td>NaN</td>\n",
       "    </tr>\n",
       "  </tbody>\n",
       "</table>\n",
       "</div>"
      ],
      "text/plain": [
       "                  2024-2025  2023-2024  2022-2023  2021-2022  2020-2021  \\\n",
       "Martin Ødegaard        6.95       7.14       8.25       8.36       5.79   \n",
       "David Raya             6.69       7.85       7.85       7.25        NaN   \n",
       "Ben White              5.72       5.82       7.56       7.07       6.15   \n",
       "Leandro Trossard       6.58       6.57       6.00       7.40       7.65   \n",
       "Mikel Merino           6.84       7.90       7.78       8.02       5.70   \n",
       "\n",
       "                  2019-2020  2018-2019  2017-2018  2016-2017  2015-2016  \n",
       "Martin Ødegaard        6.51        NaN        NaN        NaN        NaN  \n",
       "David Raya              NaN        NaN        NaN        NaN        NaN  \n",
       "Ben White               NaN        NaN        NaN        NaN        NaN  \n",
       "Leandro Trossard       5.82        NaN        NaN        NaN        NaN  \n",
       "Mikel Merino           5.72       6.24       6.59       6.53        NaN  "
      ]
     },
     "execution_count": 24,
     "metadata": {},
     "output_type": "execute_result"
    }
   ],
   "source": [
    "validation_data.head()"
   ]
  },
  {
   "cell_type": "code",
   "execution_count": 25,
   "metadata": {},
   "outputs": [],
   "source": [
    "na_validation_data=validation_data.isna()\n",
    "na_training_data=training_data.isna()"
   ]
  },
  {
   "cell_type": "markdown",
   "metadata": {},
   "source": [
    "## Entraînement"
   ]
  },
  {
   "cell_type": "code",
   "execution_count": 26,
   "metadata": {},
   "outputs": [
    {
     "name": "stderr",
     "output_type": "stream",
     "text": [
      "100%|██████████| 10/10 [09:39<00:00, 57.94s/it]\n"
     ]
    }
   ],
   "source": [
    "loss_tab_training=[]\n",
    "\n",
    "\n",
    "\n",
    "from tqdm import tqdm\n",
    "\n",
    "# on itère 10 fois sur les données d'entrainement\n",
    "for epoch in tqdm(range(10)):\n",
    "\n",
    "    for player in training_data.index:\n",
    "        current_loss=[]\n",
    "        for season in training_data.columns:\n",
    "            if not(na_training_data.loc[player,season]) and not(na_player_stats_fbref.loc[player,season]):\n",
    "                \n",
    "\n",
    "                    input=torch.Tensor(vectorize(player,season))\n",
    "                    output=torch.Tensor([training_data.loc[player,season]])\n",
    "                    \n",
    "                    # Écart entre la note attendue (réelle) et celle prédite par le modèle\n",
    "                    prediction=model(input)\n",
    "                    loss=criterion(output,prediction)\n",
    "                    \n",
    "                    current_loss.append(loss)\n",
    "                    \n",
    "                    #Descente de gradient sur les paramètres du modèle\n",
    "                    optimizer.zero_grad()\n",
    "                    loss.backward()\n",
    "                    optimizer.step()\n",
    "        if current_loss!=[]:\n",
    "            loss_tab_training.append(np.average(list(map(lambda x:x.item(),current_loss))))\n",
    "                \n",
    "                \n",
    "                "
   ]
  },
  {
   "cell_type": "markdown",
   "metadata": {},
   "source": [
    "On découpe le tableau en 100 et on fais affiche la moyenne des 100 sous-tableaux afin d'avoir un graphique plus clair avec moins de bruit"
   ]
  },
  {
   "cell_type": "code",
   "execution_count": 39,
   "metadata": {},
   "outputs": [
    {
     "data": {
      "image/png": "[encoded data removed]",
      "text/plain": [
       "<Figure size 640x480 with 1 Axes>"
      ]
     },
     "metadata": {},
     "output_type": "display_data"
    },
    {
     "data": {
      "text/plain": [
       "Text(0.5, 1.0, 'Loss after 10th iteration')"
      ]
     },
     "execution_count": 39,
     "metadata": {},
     "output_type": "execute_result"
    },
    {
     "data": {
      "image/png": "[encoded data removed]",
      "text/plain": [
       "<Figure size 640x480 with 1 Axes>"
      ]
     },
     "metadata": {},
     "output_type": "display_data"
    }
   ],
   "source": [
    "import matplotlib.pyplot as plt\n",
    "\n",
    "plt.plot([np.average(np.array(l)) for l in np.array_split(np.array(loss_tab_training),100)])\n",
    "plt.xlabel('iterations')\n",
    "plt.ylabel('loss')\n",
    "plt.title('Loss over number of iterations')\n",
    "plt.show()\n",
    "plt.plot([np.average(np.array(l)) for l in np.array_split(np.array(loss_tab_training),100)][10:])\n",
    "plt.xlabel('iterations')\n",
    "plt.ylabel('loss')\n",
    "plt.title('Loss after 10th iteration')"
   ]
  },
  {
   "cell_type": "markdown",
   "metadata": {},
   "source": [
    "On observe que la loss du modèle converge très rapidement et se centre autour de 1"
   ]
  },
  {
   "cell_type": "markdown",
   "metadata": {},
   "source": [
    "## Test"
   ]
  },
  {
   "cell_type": "code",
   "execution_count": 29,
   "metadata": {},
   "outputs": [],
   "source": [
    "loss_tab_validation=[]\n",
    "\n",
    "for player in validation_data.index:\n",
    "        current_loss=[]\n",
    "        for season in validation_data.columns:\n",
    "            if not(na_validation_data.loc[player,season]) and not(na_player_stats_fbref.loc[player,season]):\n",
    "                # Ici on n'effectue pas la descente de gradient étant donné qu'on mesure la performance du modèle\n",
    "                    input=torch.Tensor(vectorize(player,season))\n",
    "                    output=torch.Tensor([validation_data.loc[player,season]])\n",
    "                    prediction=model(input)\n",
    "                    loss=criterion(output,prediction)\n",
    "                    current_loss.append(loss)\n",
    "        if current_loss!=[]:\n",
    "            loss_tab_validation.append(np.average(list(map(lambda x:x.item(),current_loss))))"
   ]
  },
  {
   "cell_type": "code",
   "execution_count": 30,
   "metadata": {},
   "outputs": [
    {
     "data": {
      "text/plain": [
       "0.9296804205290905"
      ]
     },
     "execution_count": 30,
     "metadata": {},
     "output_type": "execute_result"
    }
   ],
   "source": [
    "np.average(loss_tab_validation)"
   ]
  },
  {
   "cell_type": "markdown",
   "metadata": {},
   "source": [
    "Un écart quadratique moyen inférieur à 1 "
   ]
  },
  {
   "cell_type": "markdown",
   "metadata": {},
   "source": [
    "sauvegarde des paramètres du modèle pour éviter de refaire la boucle d'entraînement"
   ]
  },
  {
   "cell_type": "code",
   "execution_count": 31,
   "metadata": {},
   "outputs": [],
   "source": [
    "torch.save(model.state_dict(),'linear_model.pth')\n",
    "!mkdir models\n",
    "!mv linear_model.pth models"
   ]
  },
  {
   "cell_type": "markdown",
   "metadata": {},
   "source": [
    "# Modèle:Prédiction de la performance d'un joueur suite à un transfert"
   ]
  },
  {
   "cell_type": "markdown",
   "metadata": {},
   "source": [
    "## Input"
   ]
  },
  {
   "cell_type": "markdown",
   "metadata": {},
   "source": [
    "### On utilise la base de données des joueurs pour donner les statistiques globales des équipes qui sera une feature du modèle"
   ]
  },
  {
   "cell_type": "code",
   "execution_count": 53,
   "metadata": {},
   "outputs": [
    {
     "data": {
      "text/plain": [
       "147"
      ]
     },
     "execution_count": 53,
     "metadata": {},
     "output_type": "execute_result"
    }
   ],
   "source": []
  },
  {
   "cell_type": "code",
   "execution_count": null,
   "metadata": {},
   "outputs": [],
   "source": []
  }
 ],
 "metadata": {
  "kernelspec": {
   "display_name": "Python 3",
   "language": "python",
   "name": "python3"
  },
  "language_info": {
   "codemirror_mode": {
    "name": "ipython",
    "version": 3
   },
   "file_extension": ".py",
   "mimetype": "text/x-python",
   "name": "python",
   "nbconvert_exporter": "python",
   "pygments_lexer": "ipython3",
   "version": "3.12.3"
  }
 },
 "nbformat": 4,
 "nbformat_minor": 2
}
