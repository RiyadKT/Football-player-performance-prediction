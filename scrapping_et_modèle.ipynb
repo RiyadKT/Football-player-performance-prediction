{
 "cells": [
  {
   "cell_type": "markdown",
   "metadata": {},
   "source": [
    "# Scrapping des données"
   ]
  },
  {
   "cell_type": "markdown",
   "metadata": {},
   "source": [
    "Exécuter ce code pour importer toutes les données scrapées ci-dessous"
   ]
  },
  {
   "cell_type": "code",
   "execution_count": 21,
   "metadata": {},
   "outputs": [],
   "source": [
    "import pickle,zlib,pandas as pd\n",
    "\n",
    "player_stats_fbref=pickle.loads(zlib.decompress(open('fbref_data/compressed_player_stats_fbref_1.bin','rb').read()))\n",
    "player_stats_fbref.update(pickle.loads(zlib.decompress(open('fbref_data/compressed_player_stats_fbref_2.bin','rb').read())))\n",
    "player_stats_fbref=pd.DataFrame(player_stats_fbref).transpose()\n",
    "player_stats_fbref=player_stats_fbref.sort_index(axis=1,ascending=False)\n",
    "\n",
    "\n",
    "teams_fbref=pickle.load(open('fbref_data/teams_fbref.pkl','rb'))\n",
    "\n",
    "glossary=pd.read_csv('fbref_data/Glossaire_FBREF.csv')\n",
    "\n",
    "\n",
    "player_stats_tm=pd.DataFrame(pickle.load(open('tm_data/player_stats_tm.pkl','rb'))).transpose()\n",
    "\n",
    "\n",
    "transfer_history=pickle.load(open('tm_data/transfer_history.pkl','rb'))\n",
    "player_ratings=pd.read_csv('sf_data/player_ratings.csv',index_col=0)\n",
    "\n",
    "\n",
    "\n",
    "global_team_stats_fbref=pd.DataFrame(pickle.load(open('fbref_data/global_team_stats_fbref.pkl','rb'))).transpose()\n",
    "global_team_stats_fbref.columns=list(map(lambda s:f'{s}-{s+1}',global_team_stats_fbref.columns))\n",
    "na_global_team_stats=global_team_stats_fbref.isna()\n",
    "\n",
    "\n"
   ]
  },
  {
   "cell_type": "markdown",
   "metadata": {},
   "source": [
    "# Données FBREF"
   ]
  },
  {
   "cell_type": "markdown",
   "metadata": {},
   "source": [
    "## Dans cette partie on va extraire les données sur le site Fbref : https://fbref.com/en/ relatant de la performance des joueurs $\\textit{ie}$ leurs métriques et de la performance des équipes. Tout cela dans les 5 grands championnats et sur les 10 dernières années pour se constuire une base de données solide"
   ]
  },
  {
   "cell_type": "markdown",
   "metadata": {},
   "source": [
    "### Extraction des données joueurs: On localise d'abord leurs données en parcourant les différentes équipes "
   ]
  },
  {
   "cell_type": "code",
   "execution_count": null,
   "metadata": {},
   "outputs": [],
   "source": [
    "!pip3 install lxml"
   ]
  },
  {
   "cell_type": "code",
   "execution_count": 241,
   "metadata": {},
   "outputs": [],
   "source": [
    "from bs4 import BeautifulSoup\n",
    "import pandas as pd\n",
    "import requests\n",
    "import time\n",
    "\n",
    "def get_teams_fbref(champ,season):\n",
    "    \"renvoie les équipes sur fbref associées au championnat champ lors de season\"\n",
    "    #Code HTML de la page fbref de la saison season pour le championnat champ\n",
    "    url=f'https://fbref.com/en/comps/{champ}/{season}-{season+1}/{season}-{season+1}-any-Stats'\n",
    "    html = requests.get(url).text\n",
    "    soup = BeautifulSoup(html, 'lxml')\n",
    "    \n",
    "    # Trouver le classement et toutes les lignes du tableau\n",
    "    table=soup.find_all('table')[0]\n",
    "    rows=table.find_all('tr')[1:]\n",
    "    res={}\n",
    "    \n",
    "    #Faire un dicto avec toutes les équipes et leur id (utile pour après)\n",
    "    for row in rows:\n",
    "        link=row.find('a').get('href')\n",
    "        id=link.split('/')[3]\n",
    "        name=row.find('a').text\n",
    "        res[name]=id\n",
    "    return res\n",
    "\n",
    "    "
   ]
  },
  {
   "cell_type": "markdown",
   "metadata": {},
   "source": [
    "On Trouve toutes les équipes pour tous les championnats sur les 10 dernières années"
   ]
  },
  {
   "cell_type": "code",
   "execution_count": null,
   "metadata": {},
   "outputs": [],
   "source": [
    "championships={'GB1':9,'IT1':11,'ES1':12,'FR1':13,'L1':20}\n",
    "\n",
    "#2 formats différents qu'on va réutiliser\n",
    "years=[2024-i for i in range(10)]\n",
    "\n",
    "seasons=[f'{n}-{n+1}' for n in [2024-i for i in range(10)]]\n",
    "\n",
    "teams_fbref={}\n",
    "\n",
    "\n",
    "for c in championships.keys():\n",
    "    teams_fbref[c]={}\n",
    "    for year in years:\n",
    "        print(c,year)\n",
    "        teams_fbref[c][year]=get_teams_fbref(championships[c],year)\n",
    "        # le time sleep est très important ici car sinon on se fait bannir du site pendant une heure \n",
    "        time.sleep(4)\n"
   ]
  },
  {
   "cell_type": "markdown",
   "metadata": {},
   "source": [
    "Exemple avec les équipes anglaises de cette année, on a un dictionnaire avec tous les IDS"
   ]
  },
  {
   "cell_type": "code",
   "execution_count": 49,
   "metadata": {},
   "outputs": [
    {
     "data": {
      "text/plain": [
       "{'Liverpool': '822bd0ba',\n",
       " 'Chelsea': 'cff3d9bb',\n",
       " 'Arsenal': '18bb7c10',\n",
       " \"Nott'ham Forest\": 'e4a775cb',\n",
       " 'Manchester City': 'b8fd03ef',\n",
       " 'Aston Villa': '8602292d',\n",
       " 'Bournemouth': '4ba7cbea',\n",
       " 'Fulham': 'fd962109',\n",
       " 'Brighton': 'd07537b9',\n",
       " 'Tottenham': '361ca564',\n",
       " 'Brentford': 'cd051869',\n",
       " 'Newcastle Utd': 'b2b47a98',\n",
       " 'Manchester Utd': '19538871',\n",
       " 'West Ham': '7c21e445',\n",
       " 'Crystal Palace': '47c64c55',\n",
       " 'Everton': 'd3fd31cc',\n",
       " 'Leicester City': 'a2d435b3',\n",
       " 'Ipswich Town': 'b74092de',\n",
       " 'Wolves': '8cec06e1',\n",
       " 'Southampton': '33c895d4'}"
      ]
     },
     "execution_count": 49,
     "metadata": {},
     "output_type": "execute_result"
    }
   ],
   "source": [
    "teams_fbref['GB1'][2024]"
   ]
  },
  {
   "cell_type": "markdown",
   "metadata": {},
   "source": [
    "Sauvegarde du dictionnaire des équipes"
   ]
  },
  {
   "cell_type": "code",
   "execution_count": 425,
   "metadata": {},
   "outputs": [],
   "source": [
    "import pickle\n",
    "with open('teams_fbref.pkl','wb') as file: \n",
    "    pickle.dump(teams_fbref,file)"
   ]
  },
  {
   "cell_type": "markdown",
   "metadata": {},
   "source": [
    "Cette partie peut être ignorée, les entrées du glossaires ne correspondent pas exactement aux noms des statistiques dans le dataframe"
   ]
  },
  {
   "cell_type": "markdown",
   "metadata": {},
   "source": [
    "### Glossaire pour expliquer les acronymes des différentes stats"
   ]
  },
  {
   "cell_type": "markdown",
   "metadata": {},
   "source": [
    "Ici on doit utiliser Selenium car on doit glisser la souris sur des boutons, qui font apparaître du code html "
   ]
  },
  {
   "cell_type": "code",
   "execution_count": 1,
   "metadata": {},
   "outputs": [],
   "source": [
    "from selenium import webdriver\n",
    "from selenium.webdriver.common.by import By\n",
    "from selenium.webdriver.support.ui import WebDriverWait\n",
    "from selenium.webdriver.support import expected_conditions as EC\n",
    "import time\n",
    "\n",
    "\n",
    "\n",
    "#Sélecteurs de tous les bouttons\n",
    "\n",
    "button_paths=['#stats_shooting_dom_lg_sh','#stats_passing_dom_lg_sh', \\\n",
    "              '#stats_passing_types_dom_lg_sh','#stats_gca_dom_lg_sh', \\\n",
    "                '#stats_playing_time_dom_lg_sh','#stats_possession_dom_lg_sh', '#stats_misc_dom_lg_sh']\n",
    "\n",
    "button_paths=[button+f' > div > ul > li:nth-child({1 if button_paths.index(button)!=0 else 2}) > button' for button in button_paths]\n",
    "\n",
    "#À titre d'exemple (on aurait pu prendre un autre joueur)\n",
    "\n",
    "url=f'https://fbref.com/en/players/e06683ca/Virgil-van-Dijk'\n",
    "\n",
    "\n",
    "\n",
    "driver=webdriver.Chrome()\n",
    "driver.implicitly_wait(10)\n",
    "driver.get(url)\n",
    "\n",
    "glossaries=[]\n",
    "\n",
    "\n",
    "for button in button_paths:\n",
    "  \n",
    "  # Scroller jusqu'au boutton glossaire, le code ajustera jusqu'à trouver le boutton par lui même\n",
    "    while(True):\n",
    "      try:\n",
    "        driver.find_element(By.CSS_SELECTOR,button).click()\n",
    "        break\n",
    "      except:\n",
    "        pass\n",
    "    glossaries.append(([x.text for x in driver.find_elements(By.XPATH,'//*[@id=\"sr_glossary\"]')]))\n",
    "    "
   ]
  },
  {
   "cell_type": "code",
   "execution_count": null,
   "metadata": {},
   "outputs": [],
   "source": [
    "glossary={}\n",
    "for i in range(len(glossaries)):\n",
    "    stats=[s.split('\\n')[-1] for s in glossaries[i][0].split('--')][:-1 ]\n",
    "    explanations=[s.split('\\n')[0] for s in glossaries[i][0].split('--')][1:]\n",
    "    stats=list(map(lambda s:s.strip(),stats))\n",
    "    explanations=list(map(lambda s:s.split(':')[0].strip(),explanations))\n",
    "    glossary.update(zip(stats,explanations))\n",
    "    "
   ]
  },
  {
   "cell_type": "markdown",
   "metadata": {},
   "source": [
    "Sauvegarde du glossaire"
   ]
  },
  {
   "cell_type": "code",
   "execution_count": 40,
   "metadata": {},
   "outputs": [],
   "source": [
    "import pandas as pd \n",
    "glossary=pd.Series(glossary)\n",
    "glossary.to_csv('Glossaire_FBREF.csv')"
   ]
  },
  {
   "cell_type": "code",
   "execution_count": 389,
   "metadata": {},
   "outputs": [
    {
     "data": {
      "text/plain": [
       "Season                            Season\n",
       "Age                  Age at season start\n",
       "Country    Flag and name of the country.\n",
       "Comp                         Competition\n",
       "LgRank       Squad finish in competition\n",
       "90s                           90s Played\n",
       "Gls                                Goals\n",
       "Sh                            GCA (Shot)\n",
       "SoT                      Shots on Target\n",
       "SoT%                   Shots on Target %\n",
       "dtype: object"
      ]
     },
     "execution_count": 389,
     "metadata": {},
     "output_type": "execute_result"
    }
   ],
   "source": [
    "glossary.head(10)"
   ]
  },
  {
   "cell_type": "markdown",
   "metadata": {},
   "source": [
    "### On utilise les ids précédemment obtenus sur les équipes pour se rendre à chacune de leurs pages, puis on accède aux pages de chaque joueur de l'équipe et on extrait les statistiques du joueur"
   ]
  },
  {
   "cell_type": "code",
   "execution_count": 71,
   "metadata": {},
   "outputs": [],
   "source": [
    "def get_player_stats_fbref(player_id):\n",
    "    \"Retourne les statistiques pour le joueur d'id player_id sous format de dictionnaire\"\n",
    "    url=f'https://fbref.com/en/players/{player_id}/'\n",
    "    html = requests.get(url).text\n",
    "    time.sleep(4)\n",
    "    soup = BeautifulSoup(html, 'lxml')\n",
    "    res={}\n",
    "    #Données sur taille poids pied fort âge et pays\n",
    "    \n",
    "    \n",
    "    \n",
    "    # Plusieurs try car il est possible par exemple qu'il y ait une entrée 'physical' mais pas d'entrée 'foot'\n",
    "    metadata=soup.find('div',id='meta')\n",
    "    try:\n",
    "        physical=list(map(lambda x:x.text,metadata.find_all('span')[1:3]))\n",
    "        physical[0],physical[1]=float(physical[0].split('cm')[0]),float(physical[1].split('kg')[0])\n",
    "    except:\n",
    "        physical=['','']\n",
    "    try:\n",
    "        foot=metadata.find('strong',string='Footed:').next_sibling.strip()\n",
    "    except:\n",
    "        foot=''\n",
    "    try:\n",
    "        age=2025-int(metadata.find('span',id='necro-birth').get('data-birth').split('-')[0])\n",
    "    except:\n",
    "        age=''\n",
    "    try:\n",
    "        country=metadata.find('a').text\n",
    "    except:\n",
    "        country=''\n",
    "    meta=physical+[foot,age,country]\n",
    "    \n",
    "    \n",
    "    \n",
    "    \n",
    "    attributes=['height','weight','preferred foot','age','country']\n",
    "    \n",
    "    res['meta']=dict(zip(attributes,meta))\n",
    "    \n",
    "    \n",
    "    \n",
    "    \n",
    "    \n",
    "    std_rows=soup.find('table',id=\"stats_standard_dom_lg\")\n",
    "    \n",
    "    try:\n",
    "        std_rows=std_rows.select('tr[id=\"stats\"]')\n",
    "    except:\n",
    "        return res\n",
    "    \n",
    "    \n",
    "    # Données sur les antécédents en club, pays, championnats\n",
    "    teams,countries,champs=[],[],[]\n",
    "    for row in std_rows:\n",
    "        teams.append(row.select_one(('td[data-stat=\"team\"]')).text)\n",
    "        countries.append((row.select_one(('td[data-stat=\"country\"]'))).text.split(' ')[-1] )\n",
    "        champs.append(row.select_one(('td[data-stat=\"comp_level\"]')).text.split('1. ')[-1])\n",
    "        \n",
    "    # Extraction des stats sur tous les aspects du jeu\n",
    "    \n",
    "    \n",
    "    #On différencie les Gardiens\n",
    "    \n",
    "    try:\n",
    "        if soup.find(string='Position:').next_element[1]=='G':\n",
    "            table_ids=[\"keeper\",\"keeper\",\"passing\",\"passing_types\",\"possession\",\"playing_time\",\"misc\"]\n",
    "        else:\n",
    "            table_ids=[\"shooting\",\"passing\",\"passing_types\",\"gca\",\"defense\",\"possession\",\"playing_time\",\"misc\"]\n",
    "    except:\n",
    "        table_ids=[\"shooting\",\"passing\",\"passing_types\",\"gca\",\"defense\",\"possession\",\"playing_time\",\"misc\"]\n",
    "    table_ids=list(map(lambda s:'stats_'+s+'_dom_lg',table_ids))\n",
    "    \n",
    "    \n",
    "    \n",
    "    for id in table_ids:\n",
    "        \n",
    "        \n",
    "        #Certains joueurs n'ont pas des tableaux pour tous les aspects du jeu\n",
    "        try:\n",
    "            table=soup.find('table',id=id)\n",
    "            header=table.find_all('tr')[1]\n",
    "            cols=[x.get('data-stat') for x in header.find_all('th')][1:]\n",
    "            for row in table.find_all('tr',id=\"stats\"):\n",
    "                year=row.select_one('th[data-stat=\"year_id\"]').text\n",
    "                if year not in res.keys():\n",
    "                    res[year]={}\n",
    "                for col in cols[:-1]:\n",
    "                    res[year][col]=row.select_one(f'td[data-stat=\"{col}\"]').text\n",
    "        except:\n",
    "            pass\n",
    "        \n",
    "    # Transformation en flottants pour les nombres\n",
    "    for y in res.keys():\n",
    "        \n",
    "        for c in res[y].keys():\n",
    "            try:\n",
    "                #le replace pour les minutes qui ont une , au lieu de .\n",
    "                res[y][c]=float(res[y][c].replace('-','.'))\n",
    "            except:\n",
    "                pass\n",
    "    \n",
    "    return res\n",
    "        \n",
    "    \n",
    "def get_team_stats_fbref(team_id,season,champ,player_dict={},display_flag=False):\n",
    "    url=f'https://fbref.com/en/squads/{team_id}/{season}-{season+1}/any'\n",
    "    html = requests.get(url).text\n",
    "    time.sleep(4)\n",
    "    soup = BeautifulSoup(html, 'lxml')\n",
    "    \n",
    "    \n",
    "    table=soup.find('table',id=f\"stats_standard_{championships[champ]}\").find('tbody')\n",
    "    for row in table.find_all('tr'):\n",
    "        name=row.find('a').text\n",
    "        if name not in player_dict.keys():\n",
    "            if display_flag:\n",
    "                print(name)\n",
    "            player_dict[name]=get_player_stats_fbref(row.find('a').get('href').split('/')[3])\n",
    "    \n",
    "    \n",
    "    \n",
    "    \n",
    "    \n",
    "    \n",
    "    \n",
    "    "
   ]
  },
  {
   "cell_type": "markdown",
   "metadata": {},
   "source": [
    "Itération sur l'ensemble des championnats,saisons"
   ]
  },
  {
   "cell_type": "code",
   "execution_count": null,
   "metadata": {},
   "outputs": [],
   "source": [
    "player_stats_fbref={}\n",
    "\n",
    "#Seen pour relancer sans devoir reparcourir toutes les équipes si erreur\n",
    "seen=set()\n",
    "for country in teams_fbref.keys():\n",
    "    for year in teams_fbref[country].keys():\n",
    "        for team in teams_fbref[country][year].keys():\n",
    "            if (team,year) not in seen:\n",
    "                print(team,year)\n",
    "                get_team_stats_fbref(teams_fbref[country][year][team],year,country,player_stats_fbref)\n",
    "                seen.add((team,year))\n",
    "                \n",
    "                "
   ]
  },
  {
   "cell_type": "markdown",
   "metadata": {},
   "source": [
    "Compression pour pouvoir mettre les données sur Github car la taille des fichiers dépasse 25 MB"
   ]
  },
  {
   "cell_type": "code",
   "execution_count": 420,
   "metadata": {},
   "outputs": [],
   "source": [
    "import zlib\n",
    "n=len(player_stats_fbref)\n",
    "\n",
    "#Séparation en 2 pour respecter la limite des 25 Mb de Github\n",
    "player_stats_fbref_1=dict(list(player_stats_fbref.items())[int(n/2):])\n",
    "player_stats_fbref_2=dict(list(player_stats_fbref.items())[:int(n/2)])\n",
    "\n",
    "compressed_player_stats_fbref_1=zlib.compress(pickle.dumps(player_stats_fbref_1))\n",
    "compressed_player_stats_fbref_2=zlib.compress(pickle.dumps(player_stats_fbref_2))\n",
    "\n",
    "\n",
    "with open('compressed_player_stats_fbref_1.bin', 'wb') as f:\n",
    "    f.write(compressed_player_stats_fbref_1)\n",
    "with open('compressed_player_stats_fbref_2.bin', 'wb') as f:\n",
    "    f.write(compressed_player_stats_fbref_2)\n",
    "\n"
   ]
  },
  {
   "cell_type": "code",
   "execution_count": 27,
   "metadata": {},
   "outputs": [],
   "source": [
    "\n",
    "\n",
    "player_stats_fbref=pd.DataFrame(player_stats_fbref).transpose()\n",
    "player_stats_fbref=player_stats_fbref.sort_index(axis=1,ascending=True)"
   ]
  },
  {
   "cell_type": "code",
   "execution_count": 50,
   "metadata": {},
   "outputs": [
    {
     "data": {
      "text/html": [
       "<div>\n",
       "<style scoped>\n",
       "    .dataframe tbody tr th:only-of-type {\n",
       "        vertical-align: middle;\n",
       "    }\n",
       "\n",
       "    .dataframe tbody tr th {\n",
       "        vertical-align: top;\n",
       "    }\n",
       "\n",
       "    .dataframe thead th {\n",
       "        text-align: right;\n",
       "    }\n",
       "</style>\n",
       "<table border=\"1\" class=\"dataframe\">\n",
       "  <thead>\n",
       "    <tr style=\"text-align: right;\">\n",
       "      <th></th>\n",
       "      <th>meta</th>\n",
       "      <th>2024-2025</th>\n",
       "      <th>2024</th>\n",
       "      <th>2023-2024</th>\n",
       "      <th>2023</th>\n",
       "      <th>2022-2023</th>\n",
       "      <th>2022</th>\n",
       "      <th>2021-2022</th>\n",
       "      <th>2021</th>\n",
       "      <th>2020-2021</th>\n",
       "      <th>...</th>\n",
       "      <th>1999-2000</th>\n",
       "      <th>1999</th>\n",
       "      <th>1998-1999</th>\n",
       "      <th>1998</th>\n",
       "      <th>1997-1998</th>\n",
       "      <th>1996-1997</th>\n",
       "      <th>1995-1996</th>\n",
       "      <th>1994-1995</th>\n",
       "      <th>1993-1994</th>\n",
       "      <th>1992-1993</th>\n",
       "    </tr>\n",
       "  </thead>\n",
       "  <tbody>\n",
       "    <tr>\n",
       "      <th>César Fernández</th>\n",
       "      <td>{'height': '', 'weight': '', 'preferred foot':...</td>\n",
       "      <td>NaN</td>\n",
       "      <td>NaN</td>\n",
       "      <td>NaN</td>\n",
       "      <td>NaN</td>\n",
       "      <td>NaN</td>\n",
       "      <td>NaN</td>\n",
       "      <td>NaN</td>\n",
       "      <td>NaN</td>\n",
       "      <td>NaN</td>\n",
       "      <td>...</td>\n",
       "      <td>NaN</td>\n",
       "      <td>NaN</td>\n",
       "      <td>NaN</td>\n",
       "      <td>NaN</td>\n",
       "      <td>NaN</td>\n",
       "      <td>NaN</td>\n",
       "      <td>NaN</td>\n",
       "      <td>NaN</td>\n",
       "      <td>NaN</td>\n",
       "      <td>NaN</td>\n",
       "    </tr>\n",
       "    <tr>\n",
       "      <th>Yoel Lago</th>\n",
       "      <td>{'height': '', 'weight': '', 'preferred foot':...</td>\n",
       "      <td>{'age': 20.0, 'team': 'Celta Vigo', 'country':...</td>\n",
       "      <td>NaN</td>\n",
       "      <td>{'age': 19.0, 'team': 'Celta Vigo', 'country':...</td>\n",
       "      <td>NaN</td>\n",
       "      <td>NaN</td>\n",
       "      <td>NaN</td>\n",
       "      <td>NaN</td>\n",
       "      <td>NaN</td>\n",
       "      <td>NaN</td>\n",
       "      <td>...</td>\n",
       "      <td>NaN</td>\n",
       "      <td>NaN</td>\n",
       "      <td>NaN</td>\n",
       "      <td>NaN</td>\n",
       "      <td>NaN</td>\n",
       "      <td>NaN</td>\n",
       "      <td>NaN</td>\n",
       "      <td>NaN</td>\n",
       "      <td>NaN</td>\n",
       "      <td>NaN</td>\n",
       "    </tr>\n",
       "    <tr>\n",
       "      <th>Marc Vidal</th>\n",
       "      <td>{'height': '', 'weight': '', 'preferred foot':...</td>\n",
       "      <td>{'age': 24.0, 'team': 'Celta Vigo', 'country':...</td>\n",
       "      <td>NaN</td>\n",
       "      <td>NaN</td>\n",
       "      <td>NaN</td>\n",
       "      <td>{'age': 22.0, 'team': 'FC Andorra', 'country':...</td>\n",
       "      <td>NaN</td>\n",
       "      <td>NaN</td>\n",
       "      <td>NaN</td>\n",
       "      <td>NaN</td>\n",
       "      <td>...</td>\n",
       "      <td>NaN</td>\n",
       "      <td>NaN</td>\n",
       "      <td>NaN</td>\n",
       "      <td>NaN</td>\n",
       "      <td>NaN</td>\n",
       "      <td>NaN</td>\n",
       "      <td>NaN</td>\n",
       "      <td>NaN</td>\n",
       "      <td>NaN</td>\n",
       "      <td>NaN</td>\n",
       "    </tr>\n",
       "    <tr>\n",
       "      <th>Rui Silva</th>\n",
       "      <td>{'height': 189.0, 'weight': 84.0, 'preferred f...</td>\n",
       "      <td>{'age': 30.0, 'team': 'Betis', 'country': 'es ...</td>\n",
       "      <td>NaN</td>\n",
       "      <td>{'age': 29.0, 'team': 'Betis', 'country': 'es ...</td>\n",
       "      <td>NaN</td>\n",
       "      <td>{'age': 28.0, 'team': 'Betis', 'country': 'es ...</td>\n",
       "      <td>NaN</td>\n",
       "      <td>{'age': 27.0, 'team': 'Betis', 'country': 'es ...</td>\n",
       "      <td>NaN</td>\n",
       "      <td>{'age': 26.0, 'team': 'Granada', 'country': 'e...</td>\n",
       "      <td>...</td>\n",
       "      <td>NaN</td>\n",
       "      <td>NaN</td>\n",
       "      <td>NaN</td>\n",
       "      <td>NaN</td>\n",
       "      <td>NaN</td>\n",
       "      <td>NaN</td>\n",
       "      <td>NaN</td>\n",
       "      <td>NaN</td>\n",
       "      <td>NaN</td>\n",
       "      <td>NaN</td>\n",
       "    </tr>\n",
       "    <tr>\n",
       "      <th>Abde Ezzalzouli</th>\n",
       "      <td>{'height': 177.0, 'weight': 73.0, 'preferred f...</td>\n",
       "      <td>{'age': 22.0, 'team': 'Betis', 'country': 'es ...</td>\n",
       "      <td>NaN</td>\n",
       "      <td>{'age': 21.0, 'team': 'Betis', 'country': 'es ...</td>\n",
       "      <td>NaN</td>\n",
       "      <td>{'age': 20.0, 'team': 'Osasuna', 'country': 'e...</td>\n",
       "      <td>NaN</td>\n",
       "      <td>{'age': 19.0, 'team': 'Barcelona', 'country': ...</td>\n",
       "      <td>NaN</td>\n",
       "      <td>NaN</td>\n",
       "      <td>...</td>\n",
       "      <td>NaN</td>\n",
       "      <td>NaN</td>\n",
       "      <td>NaN</td>\n",
       "      <td>NaN</td>\n",
       "      <td>NaN</td>\n",
       "      <td>NaN</td>\n",
       "      <td>NaN</td>\n",
       "      <td>NaN</td>\n",
       "      <td>NaN</td>\n",
       "      <td>NaN</td>\n",
       "    </tr>\n",
       "  </tbody>\n",
       "</table>\n",
       "<p>5 rows × 61 columns</p>\n",
       "</div>"
      ],
      "text/plain": [
       "                                                              meta  \\\n",
       "César Fernández  {'height': '', 'weight': '', 'preferred foot':...   \n",
       "Yoel Lago        {'height': '', 'weight': '', 'preferred foot':...   \n",
       "Marc Vidal       {'height': '', 'weight': '', 'preferred foot':...   \n",
       "Rui Silva        {'height': 189.0, 'weight': 84.0, 'preferred f...   \n",
       "Abde Ezzalzouli  {'height': 177.0, 'weight': 73.0, 'preferred f...   \n",
       "\n",
       "                                                         2024-2025 2024  \\\n",
       "César Fernández                                                NaN  NaN   \n",
       "Yoel Lago        {'age': 20.0, 'team': 'Celta Vigo', 'country':...  NaN   \n",
       "Marc Vidal       {'age': 24.0, 'team': 'Celta Vigo', 'country':...  NaN   \n",
       "Rui Silva        {'age': 30.0, 'team': 'Betis', 'country': 'es ...  NaN   \n",
       "Abde Ezzalzouli  {'age': 22.0, 'team': 'Betis', 'country': 'es ...  NaN   \n",
       "\n",
       "                                                         2023-2024 2023  \\\n",
       "César Fernández                                                NaN  NaN   \n",
       "Yoel Lago        {'age': 19.0, 'team': 'Celta Vigo', 'country':...  NaN   \n",
       "Marc Vidal                                                     NaN  NaN   \n",
       "Rui Silva        {'age': 29.0, 'team': 'Betis', 'country': 'es ...  NaN   \n",
       "Abde Ezzalzouli  {'age': 21.0, 'team': 'Betis', 'country': 'es ...  NaN   \n",
       "\n",
       "                                                         2022-2023 2022  \\\n",
       "César Fernández                                                NaN  NaN   \n",
       "Yoel Lago                                                      NaN  NaN   \n",
       "Marc Vidal       {'age': 22.0, 'team': 'FC Andorra', 'country':...  NaN   \n",
       "Rui Silva        {'age': 28.0, 'team': 'Betis', 'country': 'es ...  NaN   \n",
       "Abde Ezzalzouli  {'age': 20.0, 'team': 'Osasuna', 'country': 'e...  NaN   \n",
       "\n",
       "                                                         2021-2022 2021  \\\n",
       "César Fernández                                                NaN  NaN   \n",
       "Yoel Lago                                                      NaN  NaN   \n",
       "Marc Vidal                                                     NaN  NaN   \n",
       "Rui Silva        {'age': 27.0, 'team': 'Betis', 'country': 'es ...  NaN   \n",
       "Abde Ezzalzouli  {'age': 19.0, 'team': 'Barcelona', 'country': ...  NaN   \n",
       "\n",
       "                                                         2020-2021  ...  \\\n",
       "César Fernández                                                NaN  ...   \n",
       "Yoel Lago                                                      NaN  ...   \n",
       "Marc Vidal                                                     NaN  ...   \n",
       "Rui Silva        {'age': 26.0, 'team': 'Granada', 'country': 'e...  ...   \n",
       "Abde Ezzalzouli                                                NaN  ...   \n",
       "\n",
       "                1999-2000 1999 1998-1999 1998 1997-1998 1996-1997 1995-1996  \\\n",
       "César Fernández       NaN  NaN       NaN  NaN       NaN       NaN       NaN   \n",
       "Yoel Lago             NaN  NaN       NaN  NaN       NaN       NaN       NaN   \n",
       "Marc Vidal            NaN  NaN       NaN  NaN       NaN       NaN       NaN   \n",
       "Rui Silva             NaN  NaN       NaN  NaN       NaN       NaN       NaN   \n",
       "Abde Ezzalzouli       NaN  NaN       NaN  NaN       NaN       NaN       NaN   \n",
       "\n",
       "                1994-1995 1993-1994 1992-1993  \n",
       "César Fernández       NaN       NaN       NaN  \n",
       "Yoel Lago             NaN       NaN       NaN  \n",
       "Marc Vidal            NaN       NaN       NaN  \n",
       "Rui Silva             NaN       NaN       NaN  \n",
       "Abde Ezzalzouli       NaN       NaN       NaN  \n",
       "\n",
       "[5 rows x 61 columns]"
      ]
     },
     "execution_count": 50,
     "metadata": {},
     "output_type": "execute_result"
    }
   ],
   "source": [
    "player_stats_fbref.head()"
   ]
  },
  {
   "cell_type": "markdown",
   "metadata": {},
   "source": [
    "Il est assez difficile de voir ce qui se passe mais les données sont rangées de la façon suivante: Pour chaque case du dataframe, on a un dictionnaire associé à un joueur pour une saison, et dans ce dictionnaire, on trouve les métriques du joueur pour la saison , $\\textit{ie}$ , les buts, passes décisives... Il y a également une colonne 'meta' qui donne, le bon pied, le poids..."
   ]
  },
  {
   "cell_type": "markdown",
   "metadata": {},
   "source": [
    "Exemple"
   ]
  },
  {
   "cell_type": "code",
   "execution_count": 14,
   "metadata": {},
   "outputs": [
    {
     "data": {
      "text/plain": [
       "[('age', 32.0),\n",
       " ('team', 'Liverpool'),\n",
       " ('country', 'eng ENG'),\n",
       " ('comp_level', '1. Premier League'),\n",
       " ('lg_finish', '1st'),\n",
       " ('minutes_90s', 13.6),\n",
       " ('goals', 13.0),\n",
       " ('shots', 43.0),\n",
       " ('shots_on_target', 23.0),\n",
       " ('shots_on_target_pct', 53.5)]"
      ]
     },
     "execution_count": 14,
     "metadata": {},
     "output_type": "execute_result"
    }
   ],
   "source": [
    "list(player_stats_fbref.loc['Mohamed Salah','2024-2025'].items())[:10]"
   ]
  },
  {
   "cell_type": "code",
   "execution_count": 15,
   "metadata": {},
   "outputs": [
    {
     "data": {
      "text/plain": [
       "{'height': 175.0,\n",
       " 'weight': 71.0,\n",
       " 'preferred foot': 'Left',\n",
       " 'age': 33.0,\n",
       " 'country': 'Egypt'}"
      ]
     },
     "execution_count": 15,
     "metadata": {},
     "output_type": "execute_result"
    }
   ],
   "source": [
    "player_stats_fbref.loc['Mohamed Salah','meta']"
   ]
  },
  {
   "cell_type": "markdown",
   "metadata": {},
   "source": [
    "Cette base de données va être très utile pour directement savoir si un joueur a bien une entrée pour une certaine saison"
   ]
  },
  {
   "cell_type": "code",
   "execution_count": null,
   "metadata": {},
   "outputs": [],
   "source": [
    "na_player_stats_fbref=player_stats_fbref.isna()"
   ]
  },
  {
   "cell_type": "markdown",
   "metadata": {},
   "source": [
    "## Données d'ensemble des équipes"
   ]
  },
  {
   "cell_type": "code",
   "execution_count": 20,
   "metadata": {},
   "outputs": [
    {
     "data": {
      "text/plain": [
       "[('age', 27.5),\n",
       " ('gk_games', 18.0),\n",
       " ('gk_games_starts', 18.0),\n",
       " ('gk_minutes', 1620.0),\n",
       " ('minutes_90s', 18.0),\n",
       " ('gk_goals_against', 18.0),\n",
       " ('gk_goals_against_per90', 1.0),\n",
       " ('gk_shots_on_target_against', 51.0),\n",
       " ('gk_saves', 34.0),\n",
       " ('gk_save_pct', 64.7)]"
      ]
     },
     "execution_count": 20,
     "metadata": {},
     "output_type": "execute_result"
    }
   ],
   "source": [
    "\n",
    "\n",
    "def get_global_team_stats_fbref(team_id,season):\n",
    "    \"Remplis aggregation_dict avec les différentes statistiques et la fonction d'aggrégation pour chaque\"\n",
    "    html=requests.get(f'https://fbref.com/en/squads/{team_id}/{season}/team-Stats').text\n",
    "    soup=BeautifulSoup(html,'lxml')\n",
    "    time.sleep(4)\n",
    "    \n",
    "    #Tableaux avec des statistiques détaillées\n",
    "    tables=soup.find_all('table')[2:-2]\n",
    "\n",
    "\n",
    "    res={}\n",
    "\n",
    "    for table in tables:\n",
    "        \n",
    "        \n",
    "        \n",
    "        # Ligne d'aggrégation (Squad total)\n",
    "        row=table.find('tfoot').find('tr')\n",
    "        \n",
    "        for col in row.find_all('td'):\n",
    "            stat_name=col.get('data-stat')\n",
    "            \n",
    "            # Celles qui sont disponibles\n",
    "            \n",
    "            try:\n",
    "                res[stat_name]=float(col.text.replace(',',''))\n",
    "            except:\n",
    "                continue\n",
    "            \n",
    "    \n",
    "            \n",
    "            \n",
    "    return res\n",
    "            \n",
    "            \n",
    "list(get_global_team_stats_fbref('53a2f082','2024-2025').items())[:10]    \n",
    "        \n",
    "    \n"
   ]
  },
  {
   "cell_type": "code",
   "execution_count": 51,
   "metadata": {},
   "outputs": [
    {
     "name": "stderr",
     "output_type": "stream",
     "text": [
      "100%|██████████| 976/976 [1:44:54<00:00,  6.45s/it]\n"
     ]
    }
   ],
   "source": [
    "global_team_stats_fbref={}\n",
    "\n",
    "seen=set()\n",
    "for champ,year,team in tqdm([(champ,year,team) for champ in teams_fbref.keys() for year in teams_fbref[champ].keys() for team in teams_fbref[champ][year].keys()]):\n",
    "            if (champ,year,team) not in seen:\n",
    "                if team not in global_team_stats_fbref.keys():\n",
    "                    global_team_stats_fbref[team]={}\n",
    "                    \n",
    "                d=get_global_team_stats_fbref(teams_fbref[champ][year][team],f'{year}-{year+1}')\n",
    "                if d=={}:\n",
    "                    print(f'No result for : {team} at year {year}')\n",
    "                global_team_stats_fbref[team][year]=d\n",
    "                seen.add((champ,year,team))\n",
    "                \n",
    "                "
   ]
  },
  {
   "cell_type": "markdown",
   "metadata": {},
   "source": [
    "Sauvegarde des données globales des équipes"
   ]
  },
  {
   "cell_type": "code",
   "execution_count": 57,
   "metadata": {},
   "outputs": [],
   "source": [
    "pickle.dump(global_team_stats_fbref,open('global_team_stats_fbref.pkl','wb'))"
   ]
  },
  {
   "cell_type": "code",
   "execution_count": 81,
   "metadata": {},
   "outputs": [
    {
     "data": {
      "text/html": [
       "<div>\n",
       "<style scoped>\n",
       "    .dataframe tbody tr th:only-of-type {\n",
       "        vertical-align: middle;\n",
       "    }\n",
       "\n",
       "    .dataframe tbody tr th {\n",
       "        vertical-align: top;\n",
       "    }\n",
       "\n",
       "    .dataframe thead th {\n",
       "        text-align: right;\n",
       "    }\n",
       "</style>\n",
       "<table border=\"1\" class=\"dataframe\">\n",
       "  <thead>\n",
       "    <tr style=\"text-align: right;\">\n",
       "      <th></th>\n",
       "      <th>2024-2025</th>\n",
       "      <th>2023-2024</th>\n",
       "      <th>2022-2023</th>\n",
       "      <th>2021-2022</th>\n",
       "      <th>2020-2021</th>\n",
       "      <th>2019-2020</th>\n",
       "      <th>2018-2019</th>\n",
       "      <th>2017-2018</th>\n",
       "      <th>2016-2017</th>\n",
       "      <th>2015-2016</th>\n",
       "    </tr>\n",
       "  </thead>\n",
       "  <tbody>\n",
       "    <tr>\n",
       "      <th>Liverpool</th>\n",
       "      <td>{'age': 27.5, 'gk_games': 17.0, 'gk_games_star...</td>\n",
       "      <td>{'age': 26.3, 'gk_games': 38.0, 'gk_games_star...</td>\n",
       "      <td>{'age': 27.4, 'gk_games': 38.0, 'gk_games_star...</td>\n",
       "      <td>{'age': 27.7, 'gk_games': 38.0, 'gk_games_star...</td>\n",
       "      <td>{'age': 26.8, 'gk_games': 38.0, 'gk_games_star...</td>\n",
       "      <td>{'age': 26.6, 'gk_games': 38.0, 'gk_games_star...</td>\n",
       "      <td>{'age': 26.1, 'gk_games': 38.0, 'gk_games_star...</td>\n",
       "      <td>{'age': 25.6, 'gk_games': 38.0, 'gk_games_star...</td>\n",
       "      <td>{'age': 26.1, 'gk_games': 38.0, 'gk_games_star...</td>\n",
       "      <td>{'age': 25.2, 'gk_games': 38.0, 'gk_games_star...</td>\n",
       "    </tr>\n",
       "    <tr>\n",
       "      <th>Chelsea</th>\n",
       "      <td>{'age': 24.0, 'gk_games': 18.0, 'gk_games_star...</td>\n",
       "      <td>{'age': 24.2, 'gk_games': 38.0, 'gk_games_star...</td>\n",
       "      <td>{'age': 26.3, 'gk_games': 38.0, 'gk_games_star...</td>\n",
       "      <td>{'age': 27.4, 'gk_games': 38.0, 'gk_games_star...</td>\n",
       "      <td>{'age': 26.0, 'gk_games': 38.0, 'gk_games_star...</td>\n",
       "      <td>{'age': 25.5, 'gk_games': 38.0, 'gk_games_star...</td>\n",
       "      <td>{'age': 27.3, 'gk_games': 38.0, 'gk_games_star...</td>\n",
       "      <td>{'age': 26.7, 'gk_games': 38.0, 'gk_games_star...</td>\n",
       "      <td>{'age': 27.2, 'gk_games': 38.0, 'gk_games_star...</td>\n",
       "      <td>{'age': 26.8, 'gk_games': 38.0, 'gk_games_star...</td>\n",
       "    </tr>\n",
       "    <tr>\n",
       "      <th>Arsenal</th>\n",
       "      <td>{'age': 26.4, 'gk_games': 17.0, 'gk_games_star...</td>\n",
       "      <td>{'age': 25.0, 'gk_games': 38.0, 'gk_games_star...</td>\n",
       "      <td>{'age': 24.7, 'gk_games': 38.0, 'gk_games_star...</td>\n",
       "      <td>{'age': 24.4, 'gk_games': 38.0, 'gk_games_star...</td>\n",
       "      <td>{'age': 25.9, 'gk_games': 38.0, 'gk_games_star...</td>\n",
       "      <td>{'age': 25.8, 'gk_games': 38.0, 'gk_games_star...</td>\n",
       "      <td>{'age': 26.7, 'gk_games': 38.0, 'gk_games_star...</td>\n",
       "      <td>{'age': 26.8, 'gk_games': 38.0, 'gk_games_star...</td>\n",
       "      <td>{'age': 26.9, 'gk_games': 38.0, 'gk_games_star...</td>\n",
       "      <td>{'age': 27.0, 'gk_games': 38.0, 'gk_games_star...</td>\n",
       "    </tr>\n",
       "    <tr>\n",
       "      <th>Nott'ham Forest</th>\n",
       "      <td>{'age': 26.9, 'gk_games': 18.0, 'gk_games_star...</td>\n",
       "      <td>{'age': 25.7, 'gk_games': 38.0, 'gk_games_star...</td>\n",
       "      <td>{'age': 26.5, 'gk_games': 38.0, 'gk_games_star...</td>\n",
       "      <td>NaN</td>\n",
       "      <td>NaN</td>\n",
       "      <td>NaN</td>\n",
       "      <td>NaN</td>\n",
       "      <td>NaN</td>\n",
       "      <td>NaN</td>\n",
       "      <td>NaN</td>\n",
       "    </tr>\n",
       "    <tr>\n",
       "      <th>Manchester City</th>\n",
       "      <td>{'age': 27.7, 'gk_games': 18.0, 'gk_games_star...</td>\n",
       "      <td>{'age': 26.6, 'gk_games': 38.0, 'gk_games_star...</td>\n",
       "      <td>{'age': 27.2, 'gk_games': 38.0, 'gk_games_star...</td>\n",
       "      <td>{'age': 27.0, 'gk_games': 38.0, 'gk_games_star...</td>\n",
       "      <td>{'age': 26.1, 'gk_games': 38.0, 'gk_games_star...</td>\n",
       "      <td>{'age': 26.9, 'gk_games': 38.0, 'gk_games_star...</td>\n",
       "      <td>{'age': 26.7, 'gk_games': 38.0, 'gk_games_star...</td>\n",
       "      <td>{'age': 26.4, 'gk_games': 38.0, 'gk_games_star...</td>\n",
       "      <td>{'age': 28.5, 'gk_games': 38.0, 'gk_games_star...</td>\n",
       "      <td>{'age': 28.3, 'gk_games': 38.0, 'gk_games_star...</td>\n",
       "    </tr>\n",
       "  </tbody>\n",
       "</table>\n",
       "</div>"
      ],
      "text/plain": [
       "                                                         2024-2025  \\\n",
       "Liverpool        {'age': 27.5, 'gk_games': 17.0, 'gk_games_star...   \n",
       "Chelsea          {'age': 24.0, 'gk_games': 18.0, 'gk_games_star...   \n",
       "Arsenal          {'age': 26.4, 'gk_games': 17.0, 'gk_games_star...   \n",
       "Nott'ham Forest  {'age': 26.9, 'gk_games': 18.0, 'gk_games_star...   \n",
       "Manchester City  {'age': 27.7, 'gk_games': 18.0, 'gk_games_star...   \n",
       "\n",
       "                                                         2023-2024  \\\n",
       "Liverpool        {'age': 26.3, 'gk_games': 38.0, 'gk_games_star...   \n",
       "Chelsea          {'age': 24.2, 'gk_games': 38.0, 'gk_games_star...   \n",
       "Arsenal          {'age': 25.0, 'gk_games': 38.0, 'gk_games_star...   \n",
       "Nott'ham Forest  {'age': 25.7, 'gk_games': 38.0, 'gk_games_star...   \n",
       "Manchester City  {'age': 26.6, 'gk_games': 38.0, 'gk_games_star...   \n",
       "\n",
       "                                                         2022-2023  \\\n",
       "Liverpool        {'age': 27.4, 'gk_games': 38.0, 'gk_games_star...   \n",
       "Chelsea          {'age': 26.3, 'gk_games': 38.0, 'gk_games_star...   \n",
       "Arsenal          {'age': 24.7, 'gk_games': 38.0, 'gk_games_star...   \n",
       "Nott'ham Forest  {'age': 26.5, 'gk_games': 38.0, 'gk_games_star...   \n",
       "Manchester City  {'age': 27.2, 'gk_games': 38.0, 'gk_games_star...   \n",
       "\n",
       "                                                         2021-2022  \\\n",
       "Liverpool        {'age': 27.7, 'gk_games': 38.0, 'gk_games_star...   \n",
       "Chelsea          {'age': 27.4, 'gk_games': 38.0, 'gk_games_star...   \n",
       "Arsenal          {'age': 24.4, 'gk_games': 38.0, 'gk_games_star...   \n",
       "Nott'ham Forest                                                NaN   \n",
       "Manchester City  {'age': 27.0, 'gk_games': 38.0, 'gk_games_star...   \n",
       "\n",
       "                                                         2020-2021  \\\n",
       "Liverpool        {'age': 26.8, 'gk_games': 38.0, 'gk_games_star...   \n",
       "Chelsea          {'age': 26.0, 'gk_games': 38.0, 'gk_games_star...   \n",
       "Arsenal          {'age': 25.9, 'gk_games': 38.0, 'gk_games_star...   \n",
       "Nott'ham Forest                                                NaN   \n",
       "Manchester City  {'age': 26.1, 'gk_games': 38.0, 'gk_games_star...   \n",
       "\n",
       "                                                         2019-2020  \\\n",
       "Liverpool        {'age': 26.6, 'gk_games': 38.0, 'gk_games_star...   \n",
       "Chelsea          {'age': 25.5, 'gk_games': 38.0, 'gk_games_star...   \n",
       "Arsenal          {'age': 25.8, 'gk_games': 38.0, 'gk_games_star...   \n",
       "Nott'ham Forest                                                NaN   \n",
       "Manchester City  {'age': 26.9, 'gk_games': 38.0, 'gk_games_star...   \n",
       "\n",
       "                                                         2018-2019  \\\n",
       "Liverpool        {'age': 26.1, 'gk_games': 38.0, 'gk_games_star...   \n",
       "Chelsea          {'age': 27.3, 'gk_games': 38.0, 'gk_games_star...   \n",
       "Arsenal          {'age': 26.7, 'gk_games': 38.0, 'gk_games_star...   \n",
       "Nott'ham Forest                                                NaN   \n",
       "Manchester City  {'age': 26.7, 'gk_games': 38.0, 'gk_games_star...   \n",
       "\n",
       "                                                         2017-2018  \\\n",
       "Liverpool        {'age': 25.6, 'gk_games': 38.0, 'gk_games_star...   \n",
       "Chelsea          {'age': 26.7, 'gk_games': 38.0, 'gk_games_star...   \n",
       "Arsenal          {'age': 26.8, 'gk_games': 38.0, 'gk_games_star...   \n",
       "Nott'ham Forest                                                NaN   \n",
       "Manchester City  {'age': 26.4, 'gk_games': 38.0, 'gk_games_star...   \n",
       "\n",
       "                                                         2016-2017  \\\n",
       "Liverpool        {'age': 26.1, 'gk_games': 38.0, 'gk_games_star...   \n",
       "Chelsea          {'age': 27.2, 'gk_games': 38.0, 'gk_games_star...   \n",
       "Arsenal          {'age': 26.9, 'gk_games': 38.0, 'gk_games_star...   \n",
       "Nott'ham Forest                                                NaN   \n",
       "Manchester City  {'age': 28.5, 'gk_games': 38.0, 'gk_games_star...   \n",
       "\n",
       "                                                         2015-2016  \n",
       "Liverpool        {'age': 25.2, 'gk_games': 38.0, 'gk_games_star...  \n",
       "Chelsea          {'age': 26.8, 'gk_games': 38.0, 'gk_games_star...  \n",
       "Arsenal          {'age': 27.0, 'gk_games': 38.0, 'gk_games_star...  \n",
       "Nott'ham Forest                                                NaN  \n",
       "Manchester City  {'age': 28.3, 'gk_games': 38.0, 'gk_games_star...  "
      ]
     },
     "execution_count": 81,
     "metadata": {},
     "output_type": "execute_result"
    }
   ],
   "source": [
    "global_team_stats_fbref=pd.DataFrame(global_team_stats_fbref)\n",
    "global_team_stats_fbref=global_team_stats_fbref.transpose()\n",
    "global_team_stats_fbref.columns=list(map(lambda s:f'{s}-{s+1}',global_team_stats_fbref.columns))\n",
    "global_team_stats_fbref.head()"
   ]
  },
  {
   "cell_type": "markdown",
   "metadata": {},
   "source": [
    "C'est le même principe qu'avec le df player_stats_fbref"
   ]
  },
  {
   "cell_type": "markdown",
   "metadata": {},
   "source": [
    "#### Quelques statistiques du Real Madrid lors de la saison 2017-2018"
   ]
  },
  {
   "cell_type": "code",
   "execution_count": 76,
   "metadata": {},
   "outputs": [
    {
     "data": {
      "text/plain": [
       "[('progressive_passes_received', 2370.0),\n",
       " ('tackles_won', 470.0),\n",
       " ('games_starts', 418.0),\n",
       " ('gca_passes_live', 121.0),\n",
       " ('passes_into_penalty_area', 512.0),\n",
       " ('points_per_game', 2.0),\n",
       " ('passes_dead', 1895.0),\n",
       " ('gk_passes_completed_launched', 105.0),\n",
       " ('fouls', 436.0),\n",
       " ('passes_progressive_distance', 120201.0)]"
      ]
     },
     "execution_count": 76,
     "metadata": {},
     "output_type": "execute_result"
    }
   ],
   "source": [
    "import random\n",
    "random.sample(list(global_team_stats_fbref.loc['Real Madrid','2017-2018'].items()),k=10)"
   ]
  },
  {
   "cell_type": "code",
   "execution_count": 82,
   "metadata": {},
   "outputs": [
    {
     "data": {
      "text/html": [
       "<div>\n",
       "<style scoped>\n",
       "    .dataframe tbody tr th:only-of-type {\n",
       "        vertical-align: middle;\n",
       "    }\n",
       "\n",
       "    .dataframe tbody tr th {\n",
       "        vertical-align: top;\n",
       "    }\n",
       "\n",
       "    .dataframe thead th {\n",
       "        text-align: right;\n",
       "    }\n",
       "</style>\n",
       "<table border=\"1\" class=\"dataframe\">\n",
       "  <thead>\n",
       "    <tr style=\"text-align: right;\">\n",
       "      <th></th>\n",
       "      <th>2024-2025</th>\n",
       "      <th>2023-2024</th>\n",
       "      <th>2022-2023</th>\n",
       "      <th>2021-2022</th>\n",
       "      <th>2020-2021</th>\n",
       "      <th>2019-2020</th>\n",
       "      <th>2018-2019</th>\n",
       "      <th>2017-2018</th>\n",
       "      <th>2016-2017</th>\n",
       "      <th>2015-2016</th>\n",
       "    </tr>\n",
       "  </thead>\n",
       "  <tbody>\n",
       "    <tr>\n",
       "      <th>Liverpool</th>\n",
       "      <td>False</td>\n",
       "      <td>False</td>\n",
       "      <td>False</td>\n",
       "      <td>False</td>\n",
       "      <td>False</td>\n",
       "      <td>False</td>\n",
       "      <td>False</td>\n",
       "      <td>False</td>\n",
       "      <td>False</td>\n",
       "      <td>False</td>\n",
       "    </tr>\n",
       "    <tr>\n",
       "      <th>Chelsea</th>\n",
       "      <td>False</td>\n",
       "      <td>False</td>\n",
       "      <td>False</td>\n",
       "      <td>False</td>\n",
       "      <td>False</td>\n",
       "      <td>False</td>\n",
       "      <td>False</td>\n",
       "      <td>False</td>\n",
       "      <td>False</td>\n",
       "      <td>False</td>\n",
       "    </tr>\n",
       "    <tr>\n",
       "      <th>Arsenal</th>\n",
       "      <td>False</td>\n",
       "      <td>False</td>\n",
       "      <td>False</td>\n",
       "      <td>False</td>\n",
       "      <td>False</td>\n",
       "      <td>False</td>\n",
       "      <td>False</td>\n",
       "      <td>False</td>\n",
       "      <td>False</td>\n",
       "      <td>False</td>\n",
       "    </tr>\n",
       "    <tr>\n",
       "      <th>Nott'ham Forest</th>\n",
       "      <td>False</td>\n",
       "      <td>False</td>\n",
       "      <td>False</td>\n",
       "      <td>True</td>\n",
       "      <td>True</td>\n",
       "      <td>True</td>\n",
       "      <td>True</td>\n",
       "      <td>True</td>\n",
       "      <td>True</td>\n",
       "      <td>True</td>\n",
       "    </tr>\n",
       "    <tr>\n",
       "      <th>Manchester City</th>\n",
       "      <td>False</td>\n",
       "      <td>False</td>\n",
       "      <td>False</td>\n",
       "      <td>False</td>\n",
       "      <td>False</td>\n",
       "      <td>False</td>\n",
       "      <td>False</td>\n",
       "      <td>False</td>\n",
       "      <td>False</td>\n",
       "      <td>False</td>\n",
       "    </tr>\n",
       "  </tbody>\n",
       "</table>\n",
       "</div>"
      ],
      "text/plain": [
       "                 2024-2025  2023-2024  2022-2023  2021-2022  2020-2021  \\\n",
       "Liverpool            False      False      False      False      False   \n",
       "Chelsea              False      False      False      False      False   \n",
       "Arsenal              False      False      False      False      False   \n",
       "Nott'ham Forest      False      False      False       True       True   \n",
       "Manchester City      False      False      False      False      False   \n",
       "\n",
       "                 2019-2020  2018-2019  2017-2018  2016-2017  2015-2016  \n",
       "Liverpool            False      False      False      False      False  \n",
       "Chelsea              False      False      False      False      False  \n",
       "Arsenal              False      False      False      False      False  \n",
       "Nott'ham Forest       True       True       True       True       True  \n",
       "Manchester City      False      False      False      False      False  "
      ]
     },
     "execution_count": 82,
     "metadata": {},
     "output_type": "execute_result"
    }
   ],
   "source": [
    "na_global_team_stats=global_team_stats_fbref.isna()\n",
    "na_global_team_stats.head()"
   ]
  },
  {
   "cell_type": "markdown",
   "metadata": {},
   "source": [
    "#### Quelques statistiques du Real Madrid lors de la saison 2017-2018"
   ]
  },
  {
   "cell_type": "code",
   "execution_count": 76,
   "metadata": {},
   "outputs": [
    {
     "data": {
      "text/plain": [
       "[('progressive_passes_received', 2370.0),\n",
       " ('tackles_won', 470.0),\n",
       " ('games_starts', 418.0),\n",
       " ('gca_passes_live', 121.0),\n",
       " ('passes_into_penalty_area', 512.0),\n",
       " ('points_per_game', 2.0),\n",
       " ('passes_dead', 1895.0),\n",
       " ('gk_passes_completed_launched', 105.0),\n",
       " ('fouls', 436.0),\n",
       " ('passes_progressive_distance', 120201.0)]"
      ]
     },
     "execution_count": 76,
     "metadata": {},
     "output_type": "execute_result"
    }
   ],
   "source": [
    "import random\n",
    "random.sample(list(global_team_stats_fbref.loc['Real Madrid','2017-2018'].items()),k=10)"
   ]
  },
  {
   "cell_type": "markdown",
   "metadata": {},
   "source": [
    "#### Données fbref stockées dans un dossier propre"
   ]
  },
  {
   "cell_type": "code",
   "execution_count": 37,
   "metadata": {},
   "outputs": [],
   "source": [
    "!mkdir fbref_data\n",
    "!mv compressed_player_stats_fbref_1.bin compressed_player_stats_fbref_2.bin Glossaire FBREF Glossaire_FBREF.csv teams_fbref.pkl global_team_stats_fbref.pkl fbref_data\n"
   ]
  },
  {
   "cell_type": "markdown",
   "metadata": {},
   "source": [
    "# Données Transfermarkt"
   ]
  },
  {
   "cell_type": "markdown",
   "metadata": {},
   "source": [
    "## Dans cette section on va scrapper les données sur le site https://www.transfermarkt.com relatant de la valeur marchande des joueurs, leur postes et l'historique de transfer de chaque équipe"
   ]
  },
  {
   "cell_type": "markdown",
   "metadata": {},
   "source": [
    "## Données sur les joueurs"
   ]
  },
  {
   "cell_type": "markdown",
   "metadata": {},
   "source": [
    "###  (On récupère évolution de la valeur marchande + postes)"
   ]
  },
  {
   "cell_type": "code",
   "execution_count": null,
   "metadata": {},
   "outputs": [],
   "source": [
    "!pip3 install rapidfuzz"
   ]
  },
  {
   "cell_type": "markdown",
   "metadata": {},
   "source": [
    "Pour accéder rapidement à la liste des équipes sans devoir parcourir chaque championnat, saison"
   ]
  },
  {
   "cell_type": "code",
   "execution_count": 21,
   "metadata": {},
   "outputs": [],
   "source": [
    "\n",
    "teams_fbref_list=[]\n",
    "for k,v in teams_fbref.items():\n",
    "    for kk,vv in v.items():\n",
    "        teams_fbref_list+=(list(vv.keys()))"
   ]
  },
  {
   "cell_type": "code",
   "execution_count": 50,
   "metadata": {},
   "outputs": [
    {
     "data": {
      "text/plain": [
       "['Liverpool',\n",
       " 'Chelsea',\n",
       " 'Arsenal',\n",
       " \"Nott'ham Forest\",\n",
       " 'Manchester City',\n",
       " 'Aston Villa',\n",
       " 'Bournemouth',\n",
       " 'Fulham',\n",
       " 'Brighton',\n",
       " 'Tottenham']"
      ]
     },
     "execution_count": 50,
     "metadata": {},
     "output_type": "execute_result"
    }
   ],
   "source": [
    "teams_fbref_list[:10]"
   ]
  },
  {
   "cell_type": "markdown",
   "metadata": {},
   "source": [
    "Le principe général du code suivant est similaire à ce qu'on a fait lors de la section précédente, on va parcourir les pages des différents championnats pour les différentes saisons, puis on va aller sur les pages des différentes équipes et on va extraire les données pour chaque joueur"
   ]
  },
  {
   "cell_type": "markdown",
   "metadata": {},
   "source": [
    "$\\textbf{Note par rapport à la façon dont on fait correpondre les joueurs}$"
   ]
  },
  {
   "cell_type": "markdown",
   "metadata": {},
   "source": [
    "Lorsqu'on va parcourir l'ensemble des joueurs sur le site transfermrkt, il peut arriver qu'on trouve des joueurs qui existent bien dans la base de données fbref, mais dont le nom n'est pas exactement le même sur transfermrkt. Par exemple, sur transfermrkt, il y a un joueur de Manchester City qui s'appelle Savio, mais ce même joueur s'appelle Savinho sur transfermrkt, ce qui est un peu embêtant."
   ]
  },
  {
   "cell_type": "markdown",
   "metadata": {},
   "source": [
    "![title](Images/Savinho.png) ![title](Images/Savio.png)"
   ]
  },
  {
   "cell_type": "markdown",
   "metadata": {},
   "source": [
    "Une solution naïve à ce problème est d'essayer de trouver le joueur dans la base de donnée fbref dont le nom est le plus proche au sens de la distance de Levenshtein (https://en.wikipedia.org/wiki/Levenshtein_distance) ."
   ]
  },
  {
   "cell_type": "markdown",
   "metadata": {},
   "source": [
    "Utiliser display_flage pour voir les différentes itérations dans la console"
   ]
  },
  {
   "cell_type": "code",
   "execution_count": 312,
   "metadata": {},
   "outputs": [],
   "source": [
    "import time\n",
    "from rapidfuzz.distance import Levenshtein\n",
    "#Header pout ne pas se faire bloquer l'accès par le site\n",
    "heads = {'User-Agent' : 'Mozilla/5.0 (Windows NT 6.1; Win64; x64) AppleWebKit/537.36 (KHTML, like Gecko) Chrome/70.0.3538.110 Safari/537.36'}\n",
    "\n",
    "def get_player_stats_tm(player_id):\n",
    "    \"Retourne un dictionnaire avec la valeur marchande et les postes joués par le joueur d'id player_id\"\n",
    "    \n",
    "    url=f'https://www.transfermarkt.com/konstantinos-tsimikas/profil/spieler/{player_id}'\n",
    "    \n",
    "    \n",
    "    html = requests.get(url,headers=heads).text\n",
    "    time.sleep(1)\n",
    "    soup = BeautifulSoup(html, 'lxml')\n",
    "    \n",
    "    # Extraction des positions\n",
    "    position_box=soup.find('div',class_='detail-position__box')\n",
    "    try:\n",
    "        positions=position_box.find_all('dd',class_='detail-position__position')\n",
    "        positions=[position.text for position in positions]\n",
    "    except:\n",
    "        positions=[]\n",
    "    \n",
    "    \n",
    "    \n",
    "    # Extraction de l'histoirique de la valeur marchande (accessible à travers un endpoint)\n",
    "    \n",
    "    \n",
    "    value_graph=requests.get(f'https://transfermarkt.com/ceapi/marketValueDevelopment/graph/{player_id}',headers=heads)\n",
    "    time.sleep(1)\n",
    "    value_graph=value_graph.json()\n",
    "    value_graph_values=[d['mw'] for d in value_graph['list']]\n",
    "    \n",
    "    value_graph_values=[float(v[1:-1])*(1000 if v[-1]=='m' else 1) if v!='-' else 0. for v in value_graph_values ]\n",
    "    value_graph_years=[d['datum_mw'].split(' ')[-1] for d in value_graph['list']]\n",
    "    value_graph={value_graph_years[i]:value_graph_values[i] for i in range(len(value_graph_years))}\n",
    "    return {'positions':positions,'market_values':value_graph}\n",
    "    \n",
    "\n",
    "\n",
    "\n",
    "def get_team_stats_tm(url,season,team,player_dict={},display_flag=False):\n",
    "    \"Remplis player_dict avec les statisiques obtenues avec get_players_stats_tm de tous les joueurs de team lors de season\"\n",
    "    \n",
    "    html=requests.get(url,headers=heads).text\n",
    "    time.sleep(1)\n",
    "    soup=BeautifulSoup(html,'lxml')\n",
    "    \n",
    "    \n",
    "    \n",
    "    \n",
    "    table=soup.find('div',id='yw1')\n",
    "    table=table.find('tbody')\n",
    "    rows=table.select('td.hauptlink:not(.rechts)')\n",
    "    player_list=[]\n",
    "    \n",
    "    # Pour trouver l'équipe du joueur correspondante dans la bd de fbref\n",
    "    team_tm=min([(Levenshtein.distance(team,team_fbref),team_fbref) for team_fbref in teams_fbref_list])[1]\n",
    "    \n",
    "    \n",
    "    #Extraction de la bd des joueurs de l'équipe team_tm lors de season dans fbref\n",
    "    \n",
    "    # Pas forcément nécessaire mais pour considérer les cas où la saison est au format année ( en Amérique du Sud nottament) ou année - année + 1 (cas usuel en Europe)\n",
    "    team_fbref_1=[player for player in player_stats_fbref.index if not(na_player_stats_fbref.loc[player,str(season)]) and player_stats_fbref.loc[player,str(season)]['team']==team_tm]\n",
    "    team_fbref_2=[player for player in player_stats_fbref.index if not(na_player_stats_fbref.loc[player,str(season)+'-'+str(season+1)]) and player_stats_fbref.loc[player,str(season)+'-'+str(season+1)]['team']==team_tm]\n",
    "    if len(team_fbref_2)>=len(team_fbref_1):\n",
    "        season=str(season)+'-'+str(season+1)\n",
    "        team_fbref=team_fbref_2\n",
    "    else:\n",
    "        season=str(season) \n",
    "        team_fbref=team_fbref_1\n",
    "        \n",
    "    # Pour chaque joueur on trouve le joueur correspondant dans la bd fbref\n",
    "    for row in rows:\n",
    "        name_tm=row.find('a').text.strip()\n",
    "        score,name=min([(Levenshtein.distance(player,name_tm),player) for player in team_fbref])\n",
    "        player_list.append((score,name,row.find('a').get('href')))\n",
    "    \n",
    "    \n",
    "    # On priorise les joueurs qui ont probablement un match dans la bd fbref\n",
    "    # (si la distance de Levenshtein est grande pour tous les joueurs à priori ce joueur n'est pas dans la bd fbref)\n",
    "    player_list=sorted(player_list)\n",
    "    player_list=player_list[:len(team_fbref)]\n",
    "    for score,name,link in player_list:\n",
    "        \n",
    "        #Pour éviter les redondances\n",
    "        if name not in player_dict.keys():\n",
    "            if display_flag:\n",
    "                print(name)\n",
    "            player_dict[name]=get_player_stats_tm(link.split('/')[-1])\n",
    "    \n",
    "    \n",
    "        \n",
    "    \n",
    "\n",
    "\n",
    "\n",
    "def get_champ_stats_tm(season,champ,player_dict={},display_flag=False):\n",
    "    \"Remplis player_dict les statistiques obtenues lors de get_team_stats_tm pour toutes les équipes de champ lors de season\"\n",
    "    url=f'https://www.transfermarkt.com/premier-league/startseite/wettbewerb/{champ}/plus/?saison_id={season}'\n",
    "    html=requests.get(url,headers=heads).text\n",
    "    time.sleep(1)\n",
    "    soup=BeautifulSoup(html,'lxml')\n",
    "    table=soup.find('div',id='yw1')\n",
    "    \n",
    "    table=table.find('tbody')\n",
    "    rows=table.find_all('tr')\n",
    "    for row in rows:\n",
    "        team_url=row.find('a').get('href')\n",
    "        team=row.find('a').get('title')\n",
    "        if display_flag:\n",
    "            print(team)\n",
    "        get_team_stats_tm('https://www.transfermarkt.com'+team_url,season,team,player_dict,False)\n",
    "            \n",
    "\n",
    "        \n",
    "        \n",
    "        \n",
    "        \n",
    "        \n",
    "        \n",
    "        \n",
    "        \n"
   ]
  },
  {
   "cell_type": "code",
   "execution_count": null,
   "metadata": {},
   "outputs": [],
   "source": [
    "#player_stats_tm={}\n",
    "#Seen pour relancer sans devoir reparcourir toutes les équipes si erreur\n",
    "#seen=set()\n",
    "for country in championships.keys():\n",
    "    for year in years:\n",
    "            if (country,year) not in seen:\n",
    "                print(country,year)\n",
    "                #Enlever display flag si besoin\n",
    "                get_champ_stats_tm(year,country,player_stats_tm,display_flag=True)\n",
    "                seen.add((country,year))\n",
    "                \n",
    "                "
   ]
  },
  {
   "cell_type": "markdown",
   "metadata": {},
   "source": [
    "Sauvegarde des données"
   ]
  },
  {
   "cell_type": "code",
   "execution_count": 320,
   "metadata": {},
   "outputs": [],
   "source": [
    "pickle.dump(player_stats_tm,open('player_stats_tm.pkl','wb'))"
   ]
  },
  {
   "cell_type": "code",
   "execution_count": 323,
   "metadata": {},
   "outputs": [],
   "source": [
    "player_stats_tm_dict=player_stats_tm\n",
    "player_stats_tm=pd.DataFrame(player_stats_tm).transpose()"
   ]
  },
  {
   "cell_type": "markdown",
   "metadata": {},
   "source": [
    "On rajoute les infromations obtenues dans la base de données avec tous les joueurs"
   ]
  },
  {
   "cell_type": "code",
   "execution_count": 212,
   "metadata": {},
   "outputs": [],
   "source": [
    "for player in player_stats_tm_dict.keys():\n",
    "    player_stats_fbref.loc[player,'meta'].update({'positions':player_stats_tm_dict[player]['positions'],'market_values':player_stats_tm_dict[player]['market_values']})\n",
    "    \n",
    "player_stats_tm.to_csv('player_stats_tm.csv',index=False)"
   ]
  },
  {
   "cell_type": "code",
   "execution_count": 59,
   "metadata": {},
   "outputs": [
    {
     "data": {
      "text/html": [
       "<div>\n",
       "<style scoped>\n",
       "    .dataframe tbody tr th:only-of-type {\n",
       "        vertical-align: middle;\n",
       "    }\n",
       "\n",
       "    .dataframe tbody tr th {\n",
       "        vertical-align: top;\n",
       "    }\n",
       "\n",
       "    .dataframe thead th {\n",
       "        text-align: right;\n",
       "    }\n",
       "</style>\n",
       "<table border=\"1\" class=\"dataframe\">\n",
       "  <thead>\n",
       "    <tr style=\"text-align: right;\">\n",
       "      <th></th>\n",
       "      <th>positions</th>\n",
       "      <th>market_values</th>\n",
       "    </tr>\n",
       "    <tr>\n",
       "      <th>Unnamed: 0</th>\n",
       "      <th></th>\n",
       "      <th></th>\n",
       "    </tr>\n",
       "  </thead>\n",
       "  <tbody>\n",
       "    <tr>\n",
       "      <th>Bernardo Silva</th>\n",
       "      <td>['Attacking Midfield', 'Right Winger', 'Centra...</td>\n",
       "      <td>{'2013': 600.0, '2014': 2500.0, '2015': 15000....</td>\n",
       "    </tr>\n",
       "    <tr>\n",
       "      <th>Ederson</th>\n",
       "      <td>['Goalkeeper']</td>\n",
       "      <td>{'2013': 300.0, '2014': 900.0, '2015': 1200.0,...</td>\n",
       "    </tr>\n",
       "    <tr>\n",
       "      <th>Erling Haaland</th>\n",
       "      <td>['Centre-Forward']</td>\n",
       "      <td>{'2016': 200.0, '2017': 300.0, '2018': 5000.0,...</td>\n",
       "    </tr>\n",
       "    <tr>\n",
       "      <th>Jack Grealish</th>\n",
       "      <td>['Left Winger', 'Attacking Midfield', 'Left Mi...</td>\n",
       "      <td>{'2013': 250.0, '2014': 1000.0, '2015': 4500.0...</td>\n",
       "    </tr>\n",
       "    <tr>\n",
       "      <th>John Stones</th>\n",
       "      <td>['Centre-Back', 'Right-Back', 'Defensive Midfi...</td>\n",
       "      <td>{'2011': 50.0, '2012': 100.0, '2013': 3500.0, ...</td>\n",
       "    </tr>\n",
       "  </tbody>\n",
       "</table>\n",
       "</div>"
      ],
      "text/plain": [
       "                                                        positions  \\\n",
       "Unnamed: 0                                                          \n",
       "Bernardo Silva  ['Attacking Midfield', 'Right Winger', 'Centra...   \n",
       "Ederson                                            ['Goalkeeper']   \n",
       "Erling Haaland                                 ['Centre-Forward']   \n",
       "Jack Grealish   ['Left Winger', 'Attacking Midfield', 'Left Mi...   \n",
       "John Stones     ['Centre-Back', 'Right-Back', 'Defensive Midfi...   \n",
       "\n",
       "                                                    market_values  \n",
       "Unnamed: 0                                                         \n",
       "Bernardo Silva  {'2013': 600.0, '2014': 2500.0, '2015': 15000....  \n",
       "Ederson         {'2013': 300.0, '2014': 900.0, '2015': 1200.0,...  \n",
       "Erling Haaland  {'2016': 200.0, '2017': 300.0, '2018': 5000.0,...  \n",
       "Jack Grealish   {'2013': 250.0, '2014': 1000.0, '2015': 4500.0...  \n",
       "John Stones     {'2011': 50.0, '2012': 100.0, '2013': 3500.0, ...  "
      ]
     },
     "execution_count": 59,
     "metadata": {},
     "output_type": "execute_result"
    }
   ],
   "source": [
    "player_stats_tm.head()"
   ]
  },
  {
   "cell_type": "markdown",
   "metadata": {},
   "source": [
    "## Extraction des historiques de transfert pour chaque équipe"
   ]
  },
  {
   "cell_type": "code",
   "execution_count": 426,
   "metadata": {},
   "outputs": [],
   "source": [
    "def get_team_transfers(url,team,season,champ,transfer_dict={}):\n",
    "    \"Remplis transfer_dict avec tous les transferts entrants et sortants pour team lors de season\"\n",
    "    html=requests.get(url,headers=heads).text\n",
    "    time.sleep(1)\n",
    "    soup=BeautifulSoup(html,'lxml')\n",
    "    \n",
    "    \n",
    "    \n",
    "    arrivals_tab=soup.find('div',id='yw1').find('tbody').find_all('tr',{'class':['even','odd']})\n",
    "    departures_tab=soup.find('div',id='yw2').find('tbody').find_all('tr',{'class':['even','odd']})\n",
    "    arrivals,departures=[],[]\n",
    "    \n",
    "    #Utiles pour calculer le déficit/budget d'un club\n",
    "    spent,sell=0,0\n",
    "    \n",
    "    \n",
    "    for type in [arrivals_tab,departures_tab]:\n",
    "        for transfer in type:\n",
    "            links=transfer.find_all('a')\n",
    "            name,club,fee=links[0].text,links[1].get('title'),links[-1].text\n",
    "            #Différencier transfert monétaire et autres (prêts, transferts gratuits...)\n",
    "            if fee[-1] in ['k','m']:\n",
    "                fee=float(fee[fee.index('€')+1:-1])*(1000 if fee[-1]=='m' else 1)\n",
    "                if type==arrivals_tab:\n",
    "                    spent+=fee\n",
    "                else:\n",
    "                    sell+=fee\n",
    "            (arrivals if type==arrivals_tab else departures).append([name,club,fee])\n",
    "        \n",
    "    for type in [arrivals,departures]:\n",
    "        for name,club,fee in type:\n",
    "            \n",
    "            #On cherche les équivalents dans la bd fbref \n",
    "            \n",
    "            #Pour les retraités, ceux qui arrêtent le foot\n",
    "            if club== None:\n",
    "                club_fbref=None\n",
    "            else:\n",
    "                club_fbref=min([(Levenshtein.distance(club,club_f),club_f) for club_f in teams_fbref_list])[1]\n",
    "            \n",
    "            name_fbref=min([(Levenshtein.distance(name,name_f),name_f) for name_f in player_stats_fbref.index])[1]\n",
    "            type.remove([name,club,fee])\n",
    "            type.append([name_fbref,club_fbref,fee])\n",
    "    transfer_dict[champ][season][team]={'arrivals':arrivals,'departures':departures,'spent':spent,'sell':sell}\n",
    "\n",
    "    \n",
    "def get_champ_transfers(champ,season,transfer_dict={},display_flag=False):\n",
    "    \"Remplis transfer_dict avec tous les transferts entrants et sortants de champ lors de season\"\n",
    "    # On applique simplement la fonction précédente sur un championnat entier\n",
    "    url=f'https://www.transfermarkt.com/any/startseite/wettbewerb/{champ}/plus/?saison_id={season}'\n",
    "    html=requests.get(url,headers=heads).text\n",
    "    time.sleep(1)\n",
    "    soup=BeautifulSoup(html,'lxml')\n",
    "    rows=soup.find('div',id='yw1').find('tbody').find_all('tr',{'class':[\"odd\",\"even\"]})\n",
    "    for row in rows:\n",
    "        team_id=row.find('a').get('href').split('/')[4]\n",
    "        team_url=f'https://www.transfermarkt.com/any/transfers/verein/{team_id}/saison_id/{season}'\n",
    "        team_name=row.find('a').get('title')\n",
    "        if display_flag:\n",
    "            print(team_name)\n",
    "        get_team_transfers(team_url,team_name,season,champ,transfer_dict)\n",
    "        \n",
    "        \n",
    "    \n",
    "    \n",
    "        \n",
    "    "
   ]
  },
  {
   "cell_type": "code",
   "execution_count": null,
   "metadata": {},
   "outputs": [],
   "source": [
    "transfer_history={}\n",
    "seen=set()\n",
    "for c in teams_fbref.keys():\n",
    "    transfer_history[c]=transfer_history.get(c,{})\n",
    "    for y in teams_fbref[c].keys():\n",
    "        if (c,y) not in seen:\n",
    "            print(c,y)\n",
    "            transfer_history[c][y]={}\n",
    "            get_champ_transfers(c,y,transfer_history)\n",
    "            seen.add((c,y))\n",
    "        \n",
    "            \n",
    "            \n",
    "            "
   ]
  },
  {
   "cell_type": "code",
   "execution_count": 431,
   "metadata": {},
   "outputs": [],
   "source": [
    "pickle.dump(transfer_history,open('transfer_history.pkl','wb'))"
   ]
  },
  {
   "cell_type": "markdown",
   "metadata": {},
   "source": [
    "Exemple avec Liverpool cette saison"
   ]
  },
  {
   "cell_type": "code",
   "execution_count": 65,
   "metadata": {},
   "outputs": [
    {
     "data": {
      "text/plain": [
       "{'arrivals': [['Federico Chiesa', 'Juventus FC', 12000.0],\n",
       "  ['Vitezslav Jaros', 'Liverpool FC U21', '-'],\n",
       "  ['Sepp van den Berg', '1.FSV Mainz 05', 'End of loanJun 30, 2024'],\n",
       "  ['Calvin Ramsay', 'Wigan Athletic', 'End of loanMay 31, 2025'],\n",
       "  ['Rhys Williams', 'Morecambe FC', 'End of loanJan 1, 2025'],\n",
       "  ['Marcelo Pitaluga', 'Livingston FC', 'End of loanMay 31, 2025'],\n",
       "  ['Tyler Morton', 'Liverpool', '-'],\n",
       "  ['Ben Doak', 'Middlesbrough', 'End of loanMay 31, 2025'],\n",
       "  ['Marcelo Pitaluga', 'St. Pauli', 'End of loanJun 30, 2024'],\n",
       "  ['Fabio Carvalho', 'Hull City', 'End of loanJun 30, 2024'],\n",
       "  ['Giorgi Mamardashvili', 'Valencia', 30000.0],\n",
       "  ['Matt Phillips', 'Dortmund', 'End of loanMay 31, 2025']],\n",
       " 'departures': [['Fábio Carvalho', 'Brentford FC', 23400.0],\n",
       "  ['Giorgi Mamardashvili', 'Valencia CF', 'loan transfer'],\n",
       "  ['Ben Doak', 'Middlesbrough FC', 'loan transfer'],\n",
       "  ['Nat Phillips', 'Derby County', 'loan transfer'],\n",
       "  ['Marcelo Pitaluga', 'Livingston FC', 'loan transfer'],\n",
       "  ['Joel Matip', None, '-'],\n",
       "  ['Adrián', 'Real Madrid', 'free transfer'],\n",
       "  ['Calvin Ramsay', 'Heidenheim', 'loan transfer'],\n",
       "  ['Thiago Alcántara', None, '-'],\n",
       "  ['Stefan Bajcetic', 'Augsburg', 'loan transfer'],\n",
       "  ['Sepp van den Berg', 'Brentford', 23600.0],\n",
       "  ['Rhys Williams', 'Bordeaux', 'loan transfer']],\n",
       " 'spent': 42000.0,\n",
       " 'sell': 47000.0}"
      ]
     },
     "execution_count": 65,
     "metadata": {},
     "output_type": "execute_result"
    }
   ],
   "source": [
    "transfer_history['GB1'][2024]['Liverpool FC']"
   ]
  },
  {
   "cell_type": "markdown",
   "metadata": {},
   "source": [
    "![title](Images/Liverpool_arrivals.png) ![title](Images/Liverpool_departures.png)"
   ]
  },
  {
   "cell_type": "code",
   "execution_count": 433,
   "metadata": {},
   "outputs": [],
   "source": [
    "!mkdir tm_data\n",
    "!mv player_stats_tm.csv player_stats_tm.pkl transfer_history.pkl tm_data"
   ]
  },
  {
   "cell_type": "markdown",
   "metadata": {},
   "source": [
    "## Importation des évaluations de joueurs sur SofaScore"
   ]
  },
  {
   "cell_type": "markdown",
   "metadata": {},
   "source": [
    "#### À travers toute cette section on fait appel à l'api de sofascore accessible directement en entrant l'url avec les bonnes options dans la barre de recherche, on va obtenir l'évaluation des joueurs ce qui va nous servir dans notre premier modèle"
   ]
  },
  {
   "cell_type": "markdown",
   "metadata": {},
   "source": [
    "#### Extraction des ids utiles pour utiliser l'API"
   ]
  },
  {
   "cell_type": "code",
   "execution_count": 94,
   "metadata": {},
   "outputs": [
    {
     "data": {
      "text/plain": [
       "{'Premier League': 17,\n",
       " 'LaLiga': 8,\n",
       " 'Bundesliga': 35,\n",
       " 'Serie A': 23,\n",
       " 'Ligue 1': 34}"
      ]
     },
     "execution_count": 94,
     "metadata": {},
     "output_type": "execute_result"
    }
   ],
   "source": [
    "\n",
    "\n",
    "\n",
    "BASE_URL = \"https://api.sofascore.com/api/v1\"\n",
    "\n",
    "def get_champs_sf(language=\"en\", sport=\"football\"):\n",
    "    \"Obtenir la liste des ids des différents championnats de football sur sofascore\"\n",
    "    url = f\"{BASE_URL}/config/unique-tournaments/{language}/{sport}\"\n",
    "    response = requests.get(url)\n",
    "    response.raise_for_status()\n",
    "    return response.json()[\"uniqueTournaments\"]\n",
    "\n",
    "def get_seasons_sf(tournament_id):\n",
    "    \"Obtenir la liste des ids des différentes saisons pour les différents championnats sur sofascore\"\n",
    "    url = f\"{BASE_URL}/unique-tournament/{tournament_id}/seasons\"\n",
    "    response = requests.get(url)\n",
    "    response.raise_for_status()\n",
    "    return response.json()[\"seasons\"]\n",
    "\n",
    "\n",
    "\n",
    "championships = get_champs_sf()\n",
    "\n",
    "championships=dict([(champ['name'],champ['id']) for champ in championships if champ['name'] in ['Premier League','Ligue 1','LaLiga','Serie A','Bundesliga']])\n",
    "\n",
    "championships\n"
   ]
  },
  {
   "cell_type": "code",
   "execution_count": 79,
   "metadata": {},
   "outputs": [],
   "source": [
    "seasons_sf={}\n",
    "for c in championships.keys():\n",
    "    seasons_sf[c]={}\n",
    "    seasons_tab=get_seasons_sf(championships[c])\n",
    "    for i in range(10):\n",
    "        seasons_sf[c][2024-i]=seasons_tab[i]['id']"
   ]
  },
  {
   "cell_type": "markdown",
   "metadata": {},
   "source": [
    "ID des différentes saisons pour la premier league"
   ]
  },
  {
   "cell_type": "code",
   "execution_count": 81,
   "metadata": {},
   "outputs": [
    {
     "data": {
      "text/plain": [
       "{2024: 61627,\n",
       " 2023: 52186,\n",
       " 2022: 41886,\n",
       " 2021: 37036,\n",
       " 2020: 29415,\n",
       " 2019: 23776,\n",
       " 2018: 17359,\n",
       " 2017: 13380,\n",
       " 2016: 11733,\n",
       " 2015: 10356}"
      ]
     },
     "execution_count": 81,
     "metadata": {},
     "output_type": "execute_result"
    }
   ],
   "source": [
    "seasons_sf['Premier League']"
   ]
  },
  {
   "cell_type": "code",
   "execution_count": 90,
   "metadata": {},
   "outputs": [],
   "source": [
    "\n",
    "def get_team_ids_sf(tournament_id,season_id):\n",
    "    \"Obtenir la liste des ids de toutes les équipes participant au tournoi d'id tournament_id durant la saison dont l'id est season_id\"\n",
    "    url = f\"https://api.sofascore.com/api/v1/unique-tournament/{tournament_id}/season/{season_id}/teams\"\n",
    "    response = requests.get(url)\n",
    "    response.raise_for_status()  \n",
    "    data = response.json()\n",
    "    return dict([(team['name'],team['id']) for team in data['teams']])"
   ]
  },
  {
   "cell_type": "code",
   "execution_count": null,
   "metadata": {},
   "outputs": [],
   "source": [
    "team_ids_sf={}\n",
    "for c in seasons_sf.keys():\n",
    "    team_ids_sf[c]={}\n",
    "    for y in seasons_sf[c].keys():\n",
    "        team_ids_sf[c][y]=get_team_ids_sf(championships[c],seasons_sf[c][y])\n",
    "\n"
   ]
  },
  {
   "cell_type": "markdown",
   "metadata": {},
   "source": [
    "ids des différentes équipes anglaises lors de la saison 2022-2023"
   ]
  },
  {
   "cell_type": "code",
   "execution_count": 109,
   "metadata": {},
   "outputs": [
    {
     "data": {
      "text/plain": [
       "{'Arsenal': 42,\n",
       " 'Leicester City': 31,\n",
       " 'Brighton & Hove Albion': 30,\n",
       " 'Leeds United': 34,\n",
       " 'Brentford': 50,\n",
       " 'Aston Villa': 40,\n",
       " 'Bournemouth': 60,\n",
       " 'Nottingham Forest': 14,\n",
       " 'Wolverhampton': 3,\n",
       " 'Manchester City': 17,\n",
       " 'Fulham': 43,\n",
       " 'West Ham United': 37,\n",
       " 'Crystal Palace': 7,\n",
       " 'Tottenham Hotspur': 33,\n",
       " 'Manchester United': 35,\n",
       " 'Southampton': 45,\n",
       " 'Chelsea': 38,\n",
       " 'Everton': 48,\n",
       " 'Newcastle United': 39,\n",
       " 'Liverpool': 44}"
      ]
     },
     "execution_count": 109,
     "metadata": {},
     "output_type": "execute_result"
    }
   ],
   "source": [
    "team_ids_sf['Premier League'][2022]"
   ]
  },
  {
   "cell_type": "markdown",
   "metadata": {},
   "source": [
    "#### Extraction des évaluations de tous les joueurs"
   ]
  },
  {
   "cell_type": "code",
   "execution_count": 156,
   "metadata": {},
   "outputs": [],
   "source": [
    "def get_team_ratings(team_id,season_id,champ_id):\n",
    "    \"Renvoie un dictionnaire avec comme clés les joueurs de l'équipe associée à team_id et comme valeurs leur notes pour la saison spécifiée\"\n",
    "    url=f'https://www.sofascore.com/api/v1/team/{team_id}/unique-tournament/{champ_id}/season/{season_id}/top-players/overall'  \n",
    "    response=requests.get(url)\n",
    "    data=response.json()\n",
    "    try:\n",
    "        data=data['topPlayers']['rating']\n",
    "    except:\n",
    "        print(f'No data for {team_id}')\n",
    "        return {}\n",
    "    \n",
    "    ratings={}\n",
    "    for entry in data:\n",
    "        name=entry['player']['name']\n",
    "        name=min([(Levenshtein.distance(name,name_f),name_f) for name_f in player_stats_fbref.index])[1]\n",
    "        ratings[name]=entry['statistics']['rating']\n",
    "    return ratings\n",
    "    \n",
    "\n"
   ]
  },
  {
   "cell_type": "code",
   "execution_count": null,
   "metadata": {},
   "outputs": [],
   "source": [
    "\n",
    "player_ratings={}\n",
    "seen=set()\n",
    "for c,c_id in championships.items():\n",
    "    for y,y_id in seasons[c].items():\n",
    "        for team,team_id in team_ids_sf[c][y].items():\n",
    "            if (c,y,team) not in seen:\n",
    "                print(y,team)\n",
    "                for player,rating in get_team_ratings(team_id,y_id,c_id).items():\n",
    "                    if player in player_ratings.keys():\n",
    "                        player_ratings[player][y]=rating\n",
    "                    else:\n",
    "                        player_ratings[player]={y:rating}\n",
    "                seen.add((c,y,team))\n",
    "                    "
   ]
  },
  {
   "cell_type": "markdown",
   "metadata": {},
   "source": [
    "Ici on préfère exporter au format csv car pandas ne va pas directement sérialiser l'information (ce sont des entiers et avant on utilisait des dictionnaires que pandas sérialisait avant d'enregistrer)"
   ]
  },
  {
   "cell_type": "code",
   "execution_count": 595,
   "metadata": {},
   "outputs": [],
   "source": [
    "player_ratings=pd.DataFrame(player_ratings).transpose()\n",
    "player_ratings.columns=list(map(lambda n:f'{n}-{n+1}',player_ratings.columns))\n",
    "player_ratings.to_csv('player_ratings.csv')"
   ]
  },
  {
   "cell_type": "code",
   "execution_count": 594,
   "metadata": {},
   "outputs": [
    {
     "data": {
      "text/html": [
       "<div>\n",
       "<style scoped>\n",
       "    .dataframe tbody tr th:only-of-type {\n",
       "        vertical-align: middle;\n",
       "    }\n",
       "\n",
       "    .dataframe tbody tr th {\n",
       "        vertical-align: top;\n",
       "    }\n",
       "\n",
       "    .dataframe thead th {\n",
       "        text-align: right;\n",
       "    }\n",
       "</style>\n",
       "<table border=\"1\" class=\"dataframe\">\n",
       "  <thead>\n",
       "    <tr style=\"text-align: right;\">\n",
       "      <th></th>\n",
       "      <th>2024-2025</th>\n",
       "      <th>2023-2024</th>\n",
       "      <th>2022-2023</th>\n",
       "      <th>2021-2022</th>\n",
       "      <th>2020-2021</th>\n",
       "      <th>2019-2020</th>\n",
       "      <th>2018-2019</th>\n",
       "      <th>2017-2018</th>\n",
       "      <th>2016-2017</th>\n",
       "      <th>2015-2016</th>\n",
       "    </tr>\n",
       "  </thead>\n",
       "  <tbody>\n",
       "    <tr>\n",
       "      <th>Bukayo Saka</th>\n",
       "      <td>8.04</td>\n",
       "      <td>7.36</td>\n",
       "      <td>5.97</td>\n",
       "      <td>7.67</td>\n",
       "      <td>6.43</td>\n",
       "      <td>6.04</td>\n",
       "      <td>6.25</td>\n",
       "      <td>NaN</td>\n",
       "      <td>NaN</td>\n",
       "      <td>NaN</td>\n",
       "    </tr>\n",
       "    <tr>\n",
       "      <th>Neto</th>\n",
       "      <td>9.41</td>\n",
       "      <td>7.31</td>\n",
       "      <td>4.00</td>\n",
       "      <td>7.71</td>\n",
       "      <td>7.09</td>\n",
       "      <td>6.52</td>\n",
       "      <td>8.29</td>\n",
       "      <td>7.84</td>\n",
       "      <td>8.20</td>\n",
       "      <td>8.0</td>\n",
       "    </tr>\n",
       "    <tr>\n",
       "      <th>Declan Rice</th>\n",
       "      <td>8.63</td>\n",
       "      <td>7.98</td>\n",
       "      <td>5.95</td>\n",
       "      <td>8.14</td>\n",
       "      <td>6.30</td>\n",
       "      <td>7.03</td>\n",
       "      <td>7.95</td>\n",
       "      <td>7.26</td>\n",
       "      <td>NaN</td>\n",
       "      <td>NaN</td>\n",
       "    </tr>\n",
       "    <tr>\n",
       "      <th>Gabriel Magalhães</th>\n",
       "      <td>6.70</td>\n",
       "      <td>7.86</td>\n",
       "      <td>6.00</td>\n",
       "      <td>6.66</td>\n",
       "      <td>5.56</td>\n",
       "      <td>6.68</td>\n",
       "      <td>6.00</td>\n",
       "      <td>7.12</td>\n",
       "      <td>5.89</td>\n",
       "      <td>NaN</td>\n",
       "    </tr>\n",
       "    <tr>\n",
       "      <th>Martin Ødegaard</th>\n",
       "      <td>6.95</td>\n",
       "      <td>7.14</td>\n",
       "      <td>8.25</td>\n",
       "      <td>8.36</td>\n",
       "      <td>5.79</td>\n",
       "      <td>6.51</td>\n",
       "      <td>NaN</td>\n",
       "      <td>NaN</td>\n",
       "      <td>NaN</td>\n",
       "      <td>NaN</td>\n",
       "    </tr>\n",
       "  </tbody>\n",
       "</table>\n",
       "</div>"
      ],
      "text/plain": [
       "                   2024-2025  2023-2024  2022-2023  2021-2022  2020-2021  \\\n",
       "Bukayo Saka             8.04       7.36       5.97       7.67       6.43   \n",
       "Neto                    9.41       7.31       4.00       7.71       7.09   \n",
       "Declan Rice             8.63       7.98       5.95       8.14       6.30   \n",
       "Gabriel Magalhães       6.70       7.86       6.00       6.66       5.56   \n",
       "Martin Ødegaard         6.95       7.14       8.25       8.36       5.79   \n",
       "\n",
       "                   2019-2020  2018-2019  2017-2018  2016-2017  2015-2016  \n",
       "Bukayo Saka             6.04       6.25        NaN        NaN        NaN  \n",
       "Neto                    6.52       8.29       7.84       8.20        8.0  \n",
       "Declan Rice             7.03       7.95       7.26        NaN        NaN  \n",
       "Gabriel Magalhães       6.68       6.00       7.12       5.89        NaN  \n",
       "Martin Ødegaard         6.51        NaN        NaN        NaN        NaN  "
      ]
     },
     "execution_count": 594,
     "metadata": {},
     "output_type": "execute_result"
    }
   ],
   "source": [
    "player_ratings.head()"
   ]
  },
  {
   "cell_type": "code",
   "execution_count": 596,
   "metadata": {},
   "outputs": [],
   "source": [
    "!mkdir sf_data\n",
    "!mv player_ratings.csv sf_data"
   ]
  },
  {
   "cell_type": "code",
   "execution_count": 41,
   "metadata": {},
   "outputs": [
    {
     "data": {
      "text/plain": [
       "7619"
      ]
     },
     "execution_count": 41,
     "metadata": {},
     "output_type": "execute_result"
    }
   ],
   "source": [
    "len(player_ratings)"
   ]
  },
  {
   "cell_type": "markdown",
   "metadata": {},
   "source": [
    "On voit qu'on a 3000 joueurs qui n'ont aucune évaluation définie, on peut donc faire un modèle qui fait cette évaluation"
   ]
  },
  {
   "cell_type": "markdown",
   "metadata": {},
   "source": [
    "# Modèle 1:Outil d'évaluation de performance des joueurs selon leurs métriques"
   ]
  },
  {
   "cell_type": "markdown",
   "metadata": {},
   "source": [
    "Le but de cette partie sera de construire un modèle qui prendra en entrée les métriques d'un joueur sur une saison, et renvoie en sortie une note prédite"
   ]
  },
  {
   "cell_type": "markdown",
   "metadata": {},
   "source": [
    "## Input:Vectorisation des données des joueurs"
   ]
  },
  {
   "cell_type": "markdown",
   "metadata": {},
   "source": [
    "Petit réglage sur les minutes jouées qui n'ont pas pu être interprétées comme des float à cause de ','"
   ]
  },
  {
   "cell_type": "code",
   "execution_count": 29,
   "metadata": {},
   "outputs": [],
   "source": [
    "def change_minutes_type(entry):\n",
    "    \"Numérise l'entrée associée au minutes jouées\"\n",
    "    try:\n",
    "        entry['minutes']=float(entry['minutes'].replace(',',''))\n",
    "        return entry\n",
    "    except:\n",
    "        return entry\n",
    "\n",
    "\n",
    "\n",
    "player_stats_fbref=player_stats_fbref.map(change_minutes_type)"
   ]
  },
  {
   "cell_type": "markdown",
   "metadata": {},
   "source": [
    "### Encodage des variables catégoriques"
   ]
  },
  {
   "cell_type": "markdown",
   "metadata": {},
   "source": [
    "Module utile pour avoir immédiatement un encodage binaire des variables catégorique "
   ]
  },
  {
   "cell_type": "code",
   "execution_count": 4,
   "metadata": {},
   "outputs": [
    {
     "name": "stdout",
     "output_type": "stream",
     "text": [
      "Requirement already satisfied: category_encoders in /Library/Frameworks/Python.framework/Versions/3.12/lib/python3.12/site-packages (2.6.4)\n",
      "Requirement already satisfied: numpy>=1.14.0 in /Library/Frameworks/Python.framework/Versions/3.12/lib/python3.12/site-packages (from category_encoders) (1.26.4)\n",
      "Requirement already satisfied: scikit-learn>=0.20.0 in /Library/Frameworks/Python.framework/Versions/3.12/lib/python3.12/site-packages (from category_encoders) (1.4.2)\n",
      "Requirement already satisfied: scipy>=1.0.0 in /Library/Frameworks/Python.framework/Versions/3.12/lib/python3.12/site-packages (from category_encoders) (1.13.0)\n",
      "Requirement already satisfied: statsmodels>=0.9.0 in /Library/Frameworks/Python.framework/Versions/3.12/lib/python3.12/site-packages (from category_encoders) (0.14.4)\n",
      "Requirement already satisfied: pandas>=1.0.5 in /Library/Frameworks/Python.framework/Versions/3.12/lib/python3.12/site-packages (from category_encoders) (2.2.2)\n",
      "Requirement already satisfied: patsy>=0.5.1 in /Library/Frameworks/Python.framework/Versions/3.12/lib/python3.12/site-packages (from category_encoders) (1.0.1)\n",
      "Requirement already satisfied: python-dateutil>=2.8.2 in /Library/Frameworks/Python.framework/Versions/3.12/lib/python3.12/site-packages (from pandas>=1.0.5->category_encoders) (2.9.0.post0)\n",
      "Requirement already satisfied: pytz>=2020.1 in /Library/Frameworks/Python.framework/Versions/3.12/lib/python3.12/site-packages (from pandas>=1.0.5->category_encoders) (2024.1)\n",
      "Requirement already satisfied: tzdata>=2022.7 in /Library/Frameworks/Python.framework/Versions/3.12/lib/python3.12/site-packages (from pandas>=1.0.5->category_encoders) (2024.1)\n",
      "Requirement already satisfied: joblib>=1.2.0 in /Library/Frameworks/Python.framework/Versions/3.12/lib/python3.12/site-packages (from scikit-learn>=0.20.0->category_encoders) (1.4.0)\n",
      "Requirement already satisfied: threadpoolctl>=2.0.0 in /Library/Frameworks/Python.framework/Versions/3.12/lib/python3.12/site-packages (from scikit-learn>=0.20.0->category_encoders) (3.5.0)\n",
      "Requirement already satisfied: packaging>=21.3 in /Library/Frameworks/Python.framework/Versions/3.12/lib/python3.12/site-packages (from statsmodels>=0.9.0->category_encoders) (24.0)\n",
      "Requirement already satisfied: six>=1.5 in /Library/Frameworks/Python.framework/Versions/3.12/lib/python3.12/site-packages (from python-dateutil>=2.8.2->pandas>=1.0.5->category_encoders) (1.16.0)\n",
      "\n",
      "\u001b[1m[\u001b[0m\u001b[34;49mnotice\u001b[0m\u001b[1;39;49m]\u001b[0m\u001b[39;49m A new release of pip is available: \u001b[0m\u001b[31;49m24.1.2\u001b[0m\u001b[39;49m -> \u001b[0m\u001b[32;49m24.3.1\u001b[0m\n",
      "\u001b[1m[\u001b[0m\u001b[34;49mnotice\u001b[0m\u001b[1;39;49m]\u001b[0m\u001b[39;49m To update, run: \u001b[0m\u001b[32;49mpip install --upgrade pip\u001b[0m\n"
     ]
    }
   ],
   "source": [
    "!pip3 install category_encoders"
   ]
  },
  {
   "cell_type": "markdown",
   "metadata": {},
   "source": [
    "Les variables à encoder"
   ]
  },
  {
   "cell_type": "code",
   "execution_count": 5,
   "metadata": {},
   "outputs": [
    {
     "data": {
      "text/plain": [
       "[('team', 'Liverpool'),\n",
       " ('country', 'eng ENG'),\n",
       " ('comp_level', '1. Premier League'),\n",
       " ('lg_finish', '1st')]"
      ]
     },
     "execution_count": 5,
     "metadata": {},
     "output_type": "execute_result"
    }
   ],
   "source": [
    "[(k,v) for (k,v) in player_stats_fbref.loc['Mohamed Salah','2024-2025'].items() if type(v)==str and v!='']"
   ]
  },
  {
   "cell_type": "markdown",
   "metadata": {},
   "source": [
    "Encodage Binaire pour ne pas avoir de relation d'ordre mais ne pas utiliser trop de mémoire non plus"
   ]
  },
  {
   "cell_type": "code",
   "execution_count": 30,
   "metadata": {},
   "outputs": [],
   "source": [
    "import category_encoders as ce\n",
    "\n",
    "encoded_var=['team','country','comp_level','lg_finish']\n",
    "\n",
    "encoding_table={}\n",
    "\n",
    "for var in encoded_var:\n",
    "    \n",
    "    \n",
    "    encoder=ce.BinaryEncoder(return_df=False)\n",
    "    \n",
    "    \n",
    "    #extraction des valeurs que peut prendre var\n",
    "    classes=set()\n",
    "    years=[f'{2024-i}-{2024-i+1}' for i in range(10)]\n",
    "    for year in years:\n",
    "        for player in player_stats_fbref.index:\n",
    "            if not(na_player_stats_fbref.loc[player,year]):\n",
    "                classes.add(player_stats_fbref.loc[player,year][var])\n",
    "    encoder.fit(list(classes))\n",
    "    \n",
    "    encoding_table[var]=encoder"
   ]
  },
  {
   "cell_type": "markdown",
   "metadata": {},
   "source": [
    "Exemple avec le championnat anglais"
   ]
  },
  {
   "cell_type": "code",
   "execution_count": 116,
   "metadata": {},
   "outputs": [
    {
     "data": {
      "text/plain": [
       "array([[0, 1, 0, 1, 1, 0]])"
      ]
     },
     "execution_count": 116,
     "metadata": {},
     "output_type": "execute_result"
    }
   ],
   "source": [
    "encoding_table['country'].transform(['eng ENG'])"
   ]
  },
  {
   "cell_type": "markdown",
   "metadata": {},
   "source": [
    "### Extraction de la moyenne et de l'écart type pour les variables non catégoriques afin de normaliser"
   ]
  },
  {
   "cell_type": "markdown",
   "metadata": {},
   "source": [
    "$\\textbf{C'est très important car sinon la loss diverge}$"
   ]
  },
  {
   "cell_type": "code",
   "execution_count": 10,
   "metadata": {},
   "outputs": [
    {
     "name": "stderr",
     "output_type": "stream",
     "text": [
      "100%|██████████| 147/147 [02:17<00:00,  1.07it/s]\n"
     ]
    }
   ],
   "source": [
    "import numpy as np\n",
    "from tqdm import tqdm\n",
    "#Pour fixer la taille de l'input\n",
    "categories=player_stats_fbref.loc['Mohamed Salah','2024-2025'].keys()\n",
    "\n",
    "norm_dict={}\n",
    "\n",
    "# Calculer la moyenne et l'écart-type pour toutes les statistiques\n",
    "for category in tqdm(categories):\n",
    "    if category not in encoded_var:\n",
    "        data=[player_stats_fbref.loc[player,year][category] for player in player_stats_fbref.index for year in seasons if not(na_player_stats_fbref.loc[player,year]) and category in player_stats_fbref.loc[player,year].keys()]\n",
    "        data=np.array(list(filter(lambda x: type(x)==float,data)))\n",
    "        mean,std=np.mean(data),np.std(data)\n",
    "        norm_dict[category]={'mean':mean,'std':std}\n",
    "        \n",
    "def normalise(x):\n",
    "    \"normalise les différentes entrées du dictionnaire x\"\n",
    "    for category in categories:\n",
    "        if category not in encoded_var and type(x)==dict and category in x.keys() and type(x[category])==float:\n",
    "            mean,std=norm_dict[category]['mean'],norm_dict[category]['std']\n",
    "            x[category]=(x[category]-mean)/std  \n",
    "    return x  \n",
    "\n",
    "\n",
    "        \n",
    "            "
   ]
  },
  {
   "cell_type": "markdown",
   "metadata": {},
   "source": [
    "$\\textbf{Détail Important: Après avoir appliqué cette fonction, même \\textit{player stats bref} est modifié }$"
   ]
  },
  {
   "cell_type": "code",
   "execution_count": 33,
   "metadata": {},
   "outputs": [],
   "source": [
    "#données normalisées\n",
    "player_stats_fbref_norm=player_stats_fbref.apply(lambda x:x.apply(normalise))"
   ]
  },
  {
   "cell_type": "code",
   "execution_count": 159,
   "metadata": {},
   "outputs": [
    {
     "data": {
      "text/plain": [
       "2.9445369988223056"
      ]
     },
     "execution_count": 159,
     "metadata": {},
     "output_type": "execute_result"
    }
   ],
   "source": [
    "player_stats_fbref_norm.loc['Mohamed Salah','2024-2025']['goals']"
   ]
  },
  {
   "cell_type": "markdown",
   "metadata": {},
   "source": [
    "On voit bien que l'échelle est réduite"
   ]
  },
  {
   "cell_type": "code",
   "execution_count": 34,
   "metadata": {},
   "outputs": [
    {
     "data": {
      "text/plain": [
       "[1.516432869569389, 0, 0, 1, 1, 1, 1, 0, 1, 1]"
      ]
     },
     "execution_count": 34,
     "metadata": {},
     "output_type": "execute_result"
    }
   ],
   "source": [
    "\n",
    "def vectorize(player,season):\n",
    "    \"Retourne le vecteur encodant la saison season de player\"\n",
    "    data=player_stats_fbref_norm.loc[player,season]\n",
    "    vect=[]\n",
    "    for category in categories:\n",
    "            if category in data.keys() and data[category]!='':\n",
    "                if category in encoded_var:\n",
    "                    vect+=list(encoding_table[category].transform([data[category]])[0])\n",
    "                else:\n",
    "                    vect+=[data[category]]\n",
    "            else:\n",
    "                # l'encodage binaire fait qu'on remplace une information catégorique inconnue par un vecteur de bonne taille avec que des -3 (que le modèle pourra identifier comme inconnue avec proba 99.7 (les statistiques suivent))\n",
    "                #Une loi N(0,1)\n",
    "                vect+=[-3]*(1 if category not in encoded_var else len(list(encoding_table[category].transform([player_stats_fbref_norm.loc['Mohamed Salah','2024-2025'][category]])[0])))\n",
    "            \n",
    "    return vect\n",
    "\n",
    "\n",
    "input_size=len(vectorize('Mohamed Salah','2024-2025')) \n",
    "vectorize('Mohamed Salah','2024-2025')[:10]"
   ]
  },
  {
   "cell_type": "markdown",
   "metadata": {},
   "source": [
    "## Définition du modèle"
   ]
  },
  {
   "cell_type": "markdown",
   "metadata": {},
   "source": [
    "#### Pour l'architechture du modèle on prend quelque chose de très simple : Un réseau de neurones linéaire , c'est-à-dire un opérateur de la forme $A^T.X + b$ , et on va chercher les coordonées de A et b qui minimisent l'écart moyen quadratique MSE loss de la forme $\\frac{\\sum{}^{N}{(y_{pred}-y_{réel})^2}}{N}$ par la méthode de descente de gradient"
   ]
  },
  {
   "cell_type": "code",
   "execution_count": 66,
   "metadata": {},
   "outputs": [],
   "source": [
    "import torch\n",
    "import torch.nn as nn\n",
    "import torch.optim as optim\n",
    "\n",
    "model=nn.Linear(input_size,1)\n",
    "criterion=nn.MSELoss()\n",
    "optimizer=optim.Adam(model.parameters(),lr=0.00001)\n",
    "\n"
   ]
  },
  {
   "cell_type": "code",
   "execution_count": 36,
   "metadata": {},
   "outputs": [],
   "source": [
    "import numpy as np\n",
    "n=len(player_ratings)\n",
    "random_indexes=np.random.choice(np.arange(n),int(0.8*n),replace=False)\n",
    "\n",
    "#On sépare bien les données en données d'entraînement et données test\n",
    "\n",
    "training_data=player_ratings.iloc[random_indexes]\n",
    "validation_data=player_ratings.iloc[[i for i in np.arange(n) if i not in random_indexes]]"
   ]
  },
  {
   "cell_type": "code",
   "execution_count": 37,
   "metadata": {},
   "outputs": [
    {
     "data": {
      "text/html": [
       "<div>\n",
       "<style scoped>\n",
       "    .dataframe tbody tr th:only-of-type {\n",
       "        vertical-align: middle;\n",
       "    }\n",
       "\n",
       "    .dataframe tbody tr th {\n",
       "        vertical-align: top;\n",
       "    }\n",
       "\n",
       "    .dataframe thead th {\n",
       "        text-align: right;\n",
       "    }\n",
       "</style>\n",
       "<table border=\"1\" class=\"dataframe\">\n",
       "  <thead>\n",
       "    <tr style=\"text-align: right;\">\n",
       "      <th></th>\n",
       "      <th>2024-2025</th>\n",
       "      <th>2023-2024</th>\n",
       "      <th>2022-2023</th>\n",
       "      <th>2021-2022</th>\n",
       "      <th>2020-2021</th>\n",
       "      <th>2019-2020</th>\n",
       "      <th>2018-2019</th>\n",
       "      <th>2017-2018</th>\n",
       "      <th>2016-2017</th>\n",
       "      <th>2015-2016</th>\n",
       "    </tr>\n",
       "  </thead>\n",
       "  <tbody>\n",
       "    <tr>\n",
       "      <th>Thijs Dallinga</th>\n",
       "      <td>6.35</td>\n",
       "      <td>7.01</td>\n",
       "      <td>7.11</td>\n",
       "      <td>NaN</td>\n",
       "      <td>NaN</td>\n",
       "      <td>NaN</td>\n",
       "      <td>NaN</td>\n",
       "      <td>NaN</td>\n",
       "      <td>NaN</td>\n",
       "      <td>NaN</td>\n",
       "    </tr>\n",
       "    <tr>\n",
       "      <th>Nolito</th>\n",
       "      <td>NaN</td>\n",
       "      <td>NaN</td>\n",
       "      <td>NaN</td>\n",
       "      <td>7.63</td>\n",
       "      <td>5.81</td>\n",
       "      <td>7.32</td>\n",
       "      <td>6.58</td>\n",
       "      <td>5.89</td>\n",
       "      <td>7.16</td>\n",
       "      <td>6.97</td>\n",
       "    </tr>\n",
       "    <tr>\n",
       "      <th>Theocharis Tsingaras</th>\n",
       "      <td>NaN</td>\n",
       "      <td>NaN</td>\n",
       "      <td>6.27</td>\n",
       "      <td>NaN</td>\n",
       "      <td>NaN</td>\n",
       "      <td>NaN</td>\n",
       "      <td>NaN</td>\n",
       "      <td>NaN</td>\n",
       "      <td>NaN</td>\n",
       "      <td>NaN</td>\n",
       "    </tr>\n",
       "    <tr>\n",
       "      <th>Maximiliano Caufriez</th>\n",
       "      <td>7.46</td>\n",
       "      <td>6.11</td>\n",
       "      <td>6.46</td>\n",
       "      <td>NaN</td>\n",
       "      <td>NaN</td>\n",
       "      <td>NaN</td>\n",
       "      <td>NaN</td>\n",
       "      <td>NaN</td>\n",
       "      <td>NaN</td>\n",
       "      <td>NaN</td>\n",
       "    </tr>\n",
       "    <tr>\n",
       "      <th>Paul Wanner</th>\n",
       "      <td>7.56</td>\n",
       "      <td>NaN</td>\n",
       "      <td>7.12</td>\n",
       "      <td>6.41</td>\n",
       "      <td>NaN</td>\n",
       "      <td>NaN</td>\n",
       "      <td>NaN</td>\n",
       "      <td>NaN</td>\n",
       "      <td>NaN</td>\n",
       "      <td>NaN</td>\n",
       "    </tr>\n",
       "  </tbody>\n",
       "</table>\n",
       "</div>"
      ],
      "text/plain": [
       "                      2024-2025  2023-2024  2022-2023  2021-2022  2020-2021  \\\n",
       "Thijs Dallinga             6.35       7.01       7.11        NaN        NaN   \n",
       "Nolito                      NaN        NaN        NaN       7.63       5.81   \n",
       "Theocharis Tsingaras        NaN        NaN       6.27        NaN        NaN   \n",
       "Maximiliano Caufriez       7.46       6.11       6.46        NaN        NaN   \n",
       "Paul Wanner                7.56        NaN       7.12       6.41        NaN   \n",
       "\n",
       "                      2019-2020  2018-2019  2017-2018  2016-2017  2015-2016  \n",
       "Thijs Dallinga              NaN        NaN        NaN        NaN        NaN  \n",
       "Nolito                     7.32       6.58       5.89       7.16       6.97  \n",
       "Theocharis Tsingaras        NaN        NaN        NaN        NaN        NaN  \n",
       "Maximiliano Caufriez        NaN        NaN        NaN        NaN        NaN  \n",
       "Paul Wanner                 NaN        NaN        NaN        NaN        NaN  "
      ]
     },
     "execution_count": 37,
     "metadata": {},
     "output_type": "execute_result"
    }
   ],
   "source": [
    "training_data.head()"
   ]
  },
  {
   "cell_type": "code",
   "execution_count": 38,
   "metadata": {},
   "outputs": [
    {
     "data": {
      "text/html": [
       "<div>\n",
       "<style scoped>\n",
       "    .dataframe tbody tr th:only-of-type {\n",
       "        vertical-align: middle;\n",
       "    }\n",
       "\n",
       "    .dataframe tbody tr th {\n",
       "        vertical-align: top;\n",
       "    }\n",
       "\n",
       "    .dataframe thead th {\n",
       "        text-align: right;\n",
       "    }\n",
       "</style>\n",
       "<table border=\"1\" class=\"dataframe\">\n",
       "  <thead>\n",
       "    <tr style=\"text-align: right;\">\n",
       "      <th></th>\n",
       "      <th>2024-2025</th>\n",
       "      <th>2023-2024</th>\n",
       "      <th>2022-2023</th>\n",
       "      <th>2021-2022</th>\n",
       "      <th>2020-2021</th>\n",
       "      <th>2019-2020</th>\n",
       "      <th>2018-2019</th>\n",
       "      <th>2017-2018</th>\n",
       "      <th>2016-2017</th>\n",
       "      <th>2015-2016</th>\n",
       "    </tr>\n",
       "  </thead>\n",
       "  <tbody>\n",
       "    <tr>\n",
       "      <th>Riccardo Calafiori</th>\n",
       "      <td>8.45</td>\n",
       "      <td>8.02</td>\n",
       "      <td>NaN</td>\n",
       "      <td>6.04</td>\n",
       "      <td>6.02</td>\n",
       "      <td>5.67</td>\n",
       "      <td>NaN</td>\n",
       "      <td>NaN</td>\n",
       "      <td>NaN</td>\n",
       "      <td>NaN</td>\n",
       "    </tr>\n",
       "    <tr>\n",
       "      <th>Leandro Trossard</th>\n",
       "      <td>6.58</td>\n",
       "      <td>6.57</td>\n",
       "      <td>6.00</td>\n",
       "      <td>7.40</td>\n",
       "      <td>7.65</td>\n",
       "      <td>5.82</td>\n",
       "      <td>NaN</td>\n",
       "      <td>NaN</td>\n",
       "      <td>NaN</td>\n",
       "      <td>NaN</td>\n",
       "    </tr>\n",
       "    <tr>\n",
       "      <th>Myles Lewis-Skelly</th>\n",
       "      <td>7.64</td>\n",
       "      <td>NaN</td>\n",
       "      <td>NaN</td>\n",
       "      <td>NaN</td>\n",
       "      <td>NaN</td>\n",
       "      <td>NaN</td>\n",
       "      <td>NaN</td>\n",
       "      <td>NaN</td>\n",
       "      <td>NaN</td>\n",
       "      <td>NaN</td>\n",
       "    </tr>\n",
       "    <tr>\n",
       "      <th>Jordan Ayew</th>\n",
       "      <td>6.65</td>\n",
       "      <td>6.46</td>\n",
       "      <td>5.60</td>\n",
       "      <td>8.12</td>\n",
       "      <td>6.67</td>\n",
       "      <td>7.36</td>\n",
       "      <td>5.53</td>\n",
       "      <td>8.02</td>\n",
       "      <td>7.60</td>\n",
       "      <td>6.36</td>\n",
       "    </tr>\n",
       "    <tr>\n",
       "      <th>Odsonne Édouard</th>\n",
       "      <td>5.83</td>\n",
       "      <td>5.55</td>\n",
       "      <td>5.72</td>\n",
       "      <td>5.95</td>\n",
       "      <td>NaN</td>\n",
       "      <td>NaN</td>\n",
       "      <td>NaN</td>\n",
       "      <td>NaN</td>\n",
       "      <td>7.79</td>\n",
       "      <td>NaN</td>\n",
       "    </tr>\n",
       "  </tbody>\n",
       "</table>\n",
       "</div>"
      ],
      "text/plain": [
       "                    2024-2025  2023-2024  2022-2023  2021-2022  2020-2021  \\\n",
       "Riccardo Calafiori       8.45       8.02        NaN       6.04       6.02   \n",
       "Leandro Trossard         6.58       6.57       6.00       7.40       7.65   \n",
       "Myles Lewis-Skelly       7.64        NaN        NaN        NaN        NaN   \n",
       "Jordan Ayew              6.65       6.46       5.60       8.12       6.67   \n",
       "Odsonne Édouard          5.83       5.55       5.72       5.95        NaN   \n",
       "\n",
       "                    2019-2020  2018-2019  2017-2018  2016-2017  2015-2016  \n",
       "Riccardo Calafiori       5.67        NaN        NaN        NaN        NaN  \n",
       "Leandro Trossard         5.82        NaN        NaN        NaN        NaN  \n",
       "Myles Lewis-Skelly        NaN        NaN        NaN        NaN        NaN  \n",
       "Jordan Ayew              7.36       5.53       8.02       7.60       6.36  \n",
       "Odsonne Édouard           NaN        NaN        NaN       7.79        NaN  "
      ]
     },
     "execution_count": 38,
     "metadata": {},
     "output_type": "execute_result"
    }
   ],
   "source": [
    "validation_data.head()"
   ]
  },
  {
   "cell_type": "code",
   "execution_count": 39,
   "metadata": {},
   "outputs": [],
   "source": [
    "na_validation_data=validation_data.isna()\n",
    "na_training_data=training_data.isna()"
   ]
  },
  {
   "cell_type": "markdown",
   "metadata": {},
   "source": [
    "## Entraînement"
   ]
  },
  {
   "cell_type": "code",
   "execution_count": 49,
   "metadata": {},
   "outputs": [
    {
     "data": {
      "text/html": [
       "<div>\n",
       "<style scoped>\n",
       "    .dataframe tbody tr th:only-of-type {\n",
       "        vertical-align: middle;\n",
       "    }\n",
       "\n",
       "    .dataframe tbody tr th {\n",
       "        vertical-align: top;\n",
       "    }\n",
       "\n",
       "    .dataframe thead th {\n",
       "        text-align: right;\n",
       "    }\n",
       "</style>\n",
       "<table border=\"1\" class=\"dataframe\">\n",
       "  <thead>\n",
       "    <tr style=\"text-align: right;\">\n",
       "      <th></th>\n",
       "      <th>2024-2025</th>\n",
       "      <th>2023-2024</th>\n",
       "      <th>2022-2023</th>\n",
       "      <th>2021-2022</th>\n",
       "      <th>2020-2021</th>\n",
       "      <th>2019-2020</th>\n",
       "      <th>2018-2019</th>\n",
       "      <th>2017-2018</th>\n",
       "      <th>2016-2017</th>\n",
       "      <th>2015-2016</th>\n",
       "    </tr>\n",
       "  </thead>\n",
       "  <tbody>\n",
       "    <tr>\n",
       "      <th>Thijs Dallinga</th>\n",
       "      <td>6.35</td>\n",
       "      <td>7.01</td>\n",
       "      <td>7.11</td>\n",
       "      <td>NaN</td>\n",
       "      <td>NaN</td>\n",
       "      <td>NaN</td>\n",
       "      <td>NaN</td>\n",
       "      <td>NaN</td>\n",
       "      <td>NaN</td>\n",
       "      <td>NaN</td>\n",
       "    </tr>\n",
       "    <tr>\n",
       "      <th>Nolito</th>\n",
       "      <td>NaN</td>\n",
       "      <td>NaN</td>\n",
       "      <td>NaN</td>\n",
       "      <td>7.63</td>\n",
       "      <td>5.81</td>\n",
       "      <td>7.32</td>\n",
       "      <td>6.58</td>\n",
       "      <td>5.89</td>\n",
       "      <td>7.16</td>\n",
       "      <td>6.97</td>\n",
       "    </tr>\n",
       "    <tr>\n",
       "      <th>Theocharis Tsingaras</th>\n",
       "      <td>NaN</td>\n",
       "      <td>NaN</td>\n",
       "      <td>6.27</td>\n",
       "      <td>NaN</td>\n",
       "      <td>NaN</td>\n",
       "      <td>NaN</td>\n",
       "      <td>NaN</td>\n",
       "      <td>NaN</td>\n",
       "      <td>NaN</td>\n",
       "      <td>NaN</td>\n",
       "    </tr>\n",
       "    <tr>\n",
       "      <th>Maximiliano Caufriez</th>\n",
       "      <td>7.46</td>\n",
       "      <td>6.11</td>\n",
       "      <td>6.46</td>\n",
       "      <td>NaN</td>\n",
       "      <td>NaN</td>\n",
       "      <td>NaN</td>\n",
       "      <td>NaN</td>\n",
       "      <td>NaN</td>\n",
       "      <td>NaN</td>\n",
       "      <td>NaN</td>\n",
       "    </tr>\n",
       "    <tr>\n",
       "      <th>Paul Wanner</th>\n",
       "      <td>7.56</td>\n",
       "      <td>NaN</td>\n",
       "      <td>7.12</td>\n",
       "      <td>6.41</td>\n",
       "      <td>NaN</td>\n",
       "      <td>NaN</td>\n",
       "      <td>NaN</td>\n",
       "      <td>NaN</td>\n",
       "      <td>NaN</td>\n",
       "      <td>NaN</td>\n",
       "    </tr>\n",
       "    <tr>\n",
       "      <th>...</th>\n",
       "      <td>...</td>\n",
       "      <td>...</td>\n",
       "      <td>...</td>\n",
       "      <td>...</td>\n",
       "      <td>...</td>\n",
       "      <td>...</td>\n",
       "      <td>...</td>\n",
       "      <td>...</td>\n",
       "      <td>...</td>\n",
       "      <td>...</td>\n",
       "    </tr>\n",
       "    <tr>\n",
       "      <th>Cristian Gamboa</th>\n",
       "      <td>5.34</td>\n",
       "      <td>6.21</td>\n",
       "      <td>7.84</td>\n",
       "      <td>6.65</td>\n",
       "      <td>NaN</td>\n",
       "      <td>NaN</td>\n",
       "      <td>NaN</td>\n",
       "      <td>NaN</td>\n",
       "      <td>NaN</td>\n",
       "      <td>7.67</td>\n",
       "    </tr>\n",
       "    <tr>\n",
       "      <th>Wilfried Singo</th>\n",
       "      <td>5.66</td>\n",
       "      <td>8.23</td>\n",
       "      <td>7.64</td>\n",
       "      <td>6.07</td>\n",
       "      <td>7.78</td>\n",
       "      <td>12.00</td>\n",
       "      <td>NaN</td>\n",
       "      <td>NaN</td>\n",
       "      <td>NaN</td>\n",
       "      <td>NaN</td>\n",
       "    </tr>\n",
       "    <tr>\n",
       "      <th>Samuel Essende</th>\n",
       "      <td>7.22</td>\n",
       "      <td>NaN</td>\n",
       "      <td>NaN</td>\n",
       "      <td>NaN</td>\n",
       "      <td>NaN</td>\n",
       "      <td>NaN</td>\n",
       "      <td>NaN</td>\n",
       "      <td>NaN</td>\n",
       "      <td>NaN</td>\n",
       "      <td>NaN</td>\n",
       "    </tr>\n",
       "    <tr>\n",
       "      <th>Bryan Oviedo</th>\n",
       "      <td>NaN</td>\n",
       "      <td>NaN</td>\n",
       "      <td>NaN</td>\n",
       "      <td>NaN</td>\n",
       "      <td>NaN</td>\n",
       "      <td>NaN</td>\n",
       "      <td>NaN</td>\n",
       "      <td>NaN</td>\n",
       "      <td>7.84</td>\n",
       "      <td>6.36</td>\n",
       "    </tr>\n",
       "    <tr>\n",
       "      <th>Alberto Dossena</th>\n",
       "      <td>6.37</td>\n",
       "      <td>7.19</td>\n",
       "      <td>NaN</td>\n",
       "      <td>NaN</td>\n",
       "      <td>NaN</td>\n",
       "      <td>NaN</td>\n",
       "      <td>NaN</td>\n",
       "      <td>NaN</td>\n",
       "      <td>NaN</td>\n",
       "      <td>NaN</td>\n",
       "    </tr>\n",
       "  </tbody>\n",
       "</table>\n",
       "<p>6095 rows × 10 columns</p>\n",
       "</div>"
      ],
      "text/plain": [
       "                      2024-2025  2023-2024  2022-2023  2021-2022  2020-2021  \\\n",
       "Thijs Dallinga             6.35       7.01       7.11        NaN        NaN   \n",
       "Nolito                      NaN        NaN        NaN       7.63       5.81   \n",
       "Theocharis Tsingaras        NaN        NaN       6.27        NaN        NaN   \n",
       "Maximiliano Caufriez       7.46       6.11       6.46        NaN        NaN   \n",
       "Paul Wanner                7.56        NaN       7.12       6.41        NaN   \n",
       "...                         ...        ...        ...        ...        ...   \n",
       "Cristian Gamboa            5.34       6.21       7.84       6.65        NaN   \n",
       "Wilfried Singo             5.66       8.23       7.64       6.07       7.78   \n",
       "Samuel Essende             7.22        NaN        NaN        NaN        NaN   \n",
       "Bryan Oviedo                NaN        NaN        NaN        NaN        NaN   \n",
       "Alberto Dossena            6.37       7.19        NaN        NaN        NaN   \n",
       "\n",
       "                      2019-2020  2018-2019  2017-2018  2016-2017  2015-2016  \n",
       "Thijs Dallinga              NaN        NaN        NaN        NaN        NaN  \n",
       "Nolito                     7.32       6.58       5.89       7.16       6.97  \n",
       "Theocharis Tsingaras        NaN        NaN        NaN        NaN        NaN  \n",
       "Maximiliano Caufriez        NaN        NaN        NaN        NaN        NaN  \n",
       "Paul Wanner                 NaN        NaN        NaN        NaN        NaN  \n",
       "...                         ...        ...        ...        ...        ...  \n",
       "Cristian Gamboa             NaN        NaN        NaN        NaN       7.67  \n",
       "Wilfried Singo            12.00        NaN        NaN        NaN        NaN  \n",
       "Samuel Essende              NaN        NaN        NaN        NaN        NaN  \n",
       "Bryan Oviedo                NaN        NaN        NaN       7.84       6.36  \n",
       "Alberto Dossena             NaN        NaN        NaN        NaN        NaN  \n",
       "\n",
       "[6095 rows x 10 columns]"
      ]
     },
     "execution_count": 49,
     "metadata": {},
     "output_type": "execute_result"
    }
   ],
   "source": [
    "training_data"
   ]
  },
  {
   "cell_type": "code",
   "execution_count": 67,
   "metadata": {},
   "outputs": [
    {
     "name": "stderr",
     "output_type": "stream",
     "text": [
      "100%|██████████| 10/10 [09:52<00:00, 59.28s/it]\n"
     ]
    }
   ],
   "source": [
    "loss_tab_training=[]\n",
    "\n",
    "\n",
    "import random\n",
    "from tqdm import tqdm\n",
    "\n",
    "# on itère 10 fois sur les données d'entrainement\n",
    "for epoch in tqdm(range(10)):\n",
    "    training_data=training_data.sample(len(training_data))\n",
    "    for player in training_data.index:\n",
    "        for season in training_data.columns:\n",
    "            if not(na_training_data.loc[player,season]) and not(na_player_stats_fbref.loc[player,season]):\n",
    "                \n",
    "\n",
    "                    input=torch.Tensor(vectorize(player,season))\n",
    "                    output=torch.Tensor([training_data.loc[player,season]])\n",
    "                    \n",
    "                    # Écart entre la note attendue (réelle) et celle prédite par le modèle\n",
    "                    prediction=model(input)\n",
    "                    loss=criterion(output,prediction)\n",
    "                    \n",
    "                    loss_tab_training.append(loss)\n",
    "                    \n",
    "                    #Descente de gradient sur les paramètres du modèle\n",
    "                    optimizer.zero_grad()\n",
    "                    loss.backward()\n",
    "                    optimizer.step()\n",
    "        \n",
    "                \n",
    "                \n",
    "                "
   ]
  },
  {
   "cell_type": "code",
   "execution_count": 64,
   "metadata": {},
   "outputs": [],
   "source": [
    "loss_tab_training=list(map(lambda x:x.item(),loss_tab_training))"
   ]
  },
  {
   "cell_type": "markdown",
   "metadata": {},
   "source": [
    "On découpe le tableau en 100 et on fais affiche la moyenne des 100 sous-tableaux afin d'avoir un graphique plus clair avec moins de bruit"
   ]
  },
  {
   "cell_type": "code",
   "execution_count": 65,
   "metadata": {},
   "outputs": [
    {
     "data": {
      "image/png": "[encoded data removed]",
      "text/plain": [
       "<Figure size 640x480 with 1 Axes>"
      ]
     },
     "metadata": {},
     "output_type": "display_data"
    },
    {
     "data": {
      "text/plain": [
       "Text(0.5, 1.0, 'Loss after 10th iteration')"
      ]
     },
     "execution_count": 65,
     "metadata": {},
     "output_type": "execute_result"
    },
    {
     "data": {
      "image/png": "[encoded data removed]",
      "text/plain": [
       "<Figure size 640x480 with 1 Axes>"
      ]
     },
     "metadata": {},
     "output_type": "display_data"
    }
   ],
   "source": [
    "import matplotlib.pyplot as plt\n",
    "\n",
    "plt.plot([np.average(np.array(l)) for l in np.array_split(np.array(loss_tab_training),100)])\n",
    "plt.xlabel('iterations')\n",
    "plt.ylabel('loss')\n",
    "plt.title('Loss over number of iterations')\n",
    "plt.show()\n",
    "plt.plot([np.average(np.array(l)) for l in np.array_split(np.array(loss_tab_training),100)][10:])\n",
    "plt.xlabel('iterations')\n",
    "plt.ylabel('loss')\n",
    "plt.title('Loss after 10th iteration')"
   ]
  },
  {
   "cell_type": "markdown",
   "metadata": {},
   "source": [
    "On observe que la loss du modèle converge très rapidement et se centre autour de 1"
   ]
  },
  {
   "cell_type": "markdown",
   "metadata": {},
   "source": [
    "## Test"
   ]
  },
  {
   "cell_type": "code",
   "execution_count": 47,
   "metadata": {},
   "outputs": [],
   "source": [
    "loss_tab_validation=[]\n",
    "\n",
    "for player in validation_data.index:\n",
    "        current_loss=[]\n",
    "        for season in validation_data.columns:\n",
    "            if not(na_validation_data.loc[player,season]) and not(na_player_stats_fbref.loc[player,season]):\n",
    "                # Ici on n'effectue pas la descente de gradient étant donné qu'on mesure la performance du modèle\n",
    "                    input=torch.Tensor(vectorize(player,season))\n",
    "                    output=torch.Tensor([validation_data.loc[player,season]])\n",
    "                    prediction=model(input)\n",
    "                    loss=criterion(output,prediction)\n",
    "                    loss_tab_validation.append(loss)\n"
   ]
  },
  {
   "cell_type": "code",
   "execution_count": 48,
   "metadata": {},
   "outputs": [
    {
     "data": {
      "text/plain": [
       "1.160120579690505"
      ]
     },
     "execution_count": 48,
     "metadata": {},
     "output_type": "execute_result"
    }
   ],
   "source": [
    "np.average(loss_tab_validation)"
   ]
  },
  {
   "cell_type": "markdown",
   "metadata": {},
   "source": [
    "Un écart quadratique moyen inférieur à 1 "
   ]
  },
  {
   "cell_type": "markdown",
   "metadata": {},
   "source": [
    "sauvegarde des paramètres du modèle pour éviter de refaire la boucle d'entraînement"
   ]
  },
  {
   "cell_type": "code",
   "execution_count": 31,
   "metadata": {},
   "outputs": [],
   "source": [
    "torch.save(model.state_dict(),'linear_model.pth')\n",
    "!mkdir models\n",
    "!mv linear_model.pth models"
   ]
  },
  {
   "cell_type": "markdown",
   "metadata": {},
   "source": [
    "# Modèle:Prédiction de la performance d'un joueur suite à un transfert"
   ]
  },
  {
   "cell_type": "markdown",
   "metadata": {},
   "source": [
    "## Input"
   ]
  },
  {
   "cell_type": "markdown",
   "metadata": {},
   "source": [
    "### On crée un vecteur avec comme informations : Les statisitiques du joueur sur ses dernières saisons, les données de l'équipe qu'il va rejoindre et les données des éventuels concurrents à son poste"
   ]
  },
  {
   "cell_type": "markdown",
   "metadata": {},
   "source": [
    "#### Encodage de l'équipe"
   ]
  },
  {
   "cell_type": "markdown",
   "metadata": {},
   "source": [
    "#####  Mapping rapide pour savoir à quel championnat appartient chaque équipe"
   ]
  },
  {
   "cell_type": "code",
   "execution_count": 82,
   "metadata": {},
   "outputs": [
    {
     "data": {
      "text/plain": [
       "[('Nürnberg', 'L1'),\n",
       " ('Levante', 'ES1'),\n",
       " ('Girona', 'ES1'),\n",
       " ('Crystal Palace', 'GB1'),\n",
       " ('Saint-Étienne', 'FR1'),\n",
       " ('Granada', 'ES1'),\n",
       " ('Napoli', 'IT1'),\n",
       " ('Cádiz', 'ES1'),\n",
       " ('Toulouse', 'FR1'),\n",
       " ('Bordeaux', 'FR1')]"
      ]
     },
     "execution_count": 82,
     "metadata": {},
     "output_type": "execute_result"
    }
   ],
   "source": [
    "champ_mapping={}\n",
    "\n",
    "for champ,year,team in [(champ,year,team) for champ in championships for year in teams_fbref[champ].keys() for team in teams_fbref[champ][year].keys()]:\n",
    "    if team not in champ_mapping:\n",
    "        champ_mapping[team]=champ\n",
    "        \n",
    "random.sample(list(champ_mapping.items()),k=10)\n",
    "        "
   ]
  },
  {
   "cell_type": "markdown",
   "metadata": {},
   "source": [
    "#### Normalisation des données équipes"
   ]
  },
  {
   "cell_type": "markdown",
   "metadata": {},
   "source": [
    "#### On cherche une équipe qui a toutes ses features remplies pour pour fixer la taille de l'entrée"
   ]
  },
  {
   "cell_type": "code",
   "execution_count": 83,
   "metadata": {},
   "outputs": [
    {
     "data": {
      "text/plain": [
       "(182, 'Wolves', '2020-2021')"
      ]
     },
     "execution_count": 83,
     "metadata": {},
     "output_type": "execute_result"
    }
   ],
   "source": [
    "max([(len(global_team_stats_fbref.loc[team,year]),team,year) for team in teams_fbref_list for year in global_team_stats_fbref.columns if not(na_global_team_stats.loc[team,year])])"
   ]
  },
  {
   "cell_type": "code",
   "execution_count": 84,
   "metadata": {},
   "outputs": [],
   "source": [
    "features=global_team_stats_fbref.loc['Wolves','2020-2021'].keys()"
   ]
  },
  {
   "cell_type": "code",
   "execution_count": 49,
   "metadata": {},
   "outputs": [],
   "source": [
    "norm_dict_teams={}\n",
    "\n",
    "for feature in features:\n",
    "        feature_list=[global_team_stats_fbref.loc[team,year][feature] for team in teams_fbref_list for year in global_team_stats_fbref.columns if not(na_global_team_stats.loc[team,year]) and feature in global_team_stats_fbref.loc[team,year].keys()]\n",
    "        mean,std=np.average(feature_list),np.std(feature_list)\n",
    "        norm_dict_teams[feature]={'mean':mean,'std':std}"
   ]
  },
  {
   "cell_type": "code",
   "execution_count": 65,
   "metadata": {},
   "outputs": [
    {
     "data": {
      "text/html": [
       "<div>\n",
       "<style scoped>\n",
       "    .dataframe tbody tr th:only-of-type {\n",
       "        vertical-align: middle;\n",
       "    }\n",
       "\n",
       "    .dataframe tbody tr th {\n",
       "        vertical-align: top;\n",
       "    }\n",
       "\n",
       "    .dataframe thead th {\n",
       "        text-align: right;\n",
       "    }\n",
       "</style>\n",
       "<table border=\"1\" class=\"dataframe\">\n",
       "  <thead>\n",
       "    <tr style=\"text-align: right;\">\n",
       "      <th></th>\n",
       "      <th>2024-2025</th>\n",
       "      <th>2023-2024</th>\n",
       "      <th>2022-2023</th>\n",
       "      <th>2021-2022</th>\n",
       "      <th>2020-2021</th>\n",
       "      <th>2019-2020</th>\n",
       "      <th>2018-2019</th>\n",
       "      <th>2017-2018</th>\n",
       "      <th>2016-2017</th>\n",
       "      <th>2015-2016</th>\n",
       "    </tr>\n",
       "  </thead>\n",
       "  <tbody>\n",
       "    <tr>\n",
       "      <th>Liverpool</th>\n",
       "      <td>{'age': 0.7929841916730952, 'gk_games': -2.809...</td>\n",
       "      <td>{'age': -0.21286089099984537, 'gk_games': 0.48...</td>\n",
       "      <td>{'age': 0.7091637681170156, 'gk_games': 0.4803...</td>\n",
       "      <td>{'age': 0.9606250387852515, 'gk_games': 0.4803...</td>\n",
       "      <td>{'age': 0.2062412267805468, 'gk_games': 0.4803...</td>\n",
       "      <td>{'age': 0.03860037966839053, 'gk_games': 0.480...</td>\n",
       "      <td>{'age': -0.3805017381120016, 'gk_games': 0.480...</td>\n",
       "      <td>{'age': -0.7996038558923938, 'gk_games': 0.480...</td>\n",
       "      <td>{'age': -0.3805017381120016, 'gk_games': 0.480...</td>\n",
       "      <td>{'age': -1.1348855501167092, 'gk_games': 0.480...</td>\n",
       "    </tr>\n",
       "    <tr>\n",
       "      <th>Chelsea</th>\n",
       "      <td>{'age': -2.14073063278965, 'gk_games': -2.6532...</td>\n",
       "      <td>{'age': -1.9730897856774936, 'gk_games': 0.480...</td>\n",
       "      <td>{'age': -0.21286089099984537, 'gk_games': 0.48...</td>\n",
       "      <td>{'age': 0.7091637681170156, 'gk_games': 0.4803...</td>\n",
       "      <td>{'age': -0.46432216166808127, 'gk_games': 0.48...</td>\n",
       "      <td>{'age': -0.8834242794484735, 'gk_games': 0.480...</td>\n",
       "      <td>{'age': 0.625343344560939, 'gk_games': 0.48039...</td>\n",
       "      <td>{'age': 0.12242080322446718, 'gk_games': 0.480...</td>\n",
       "      <td>{'age': 0.5415229210048593, 'gk_games': 0.4803...</td>\n",
       "      <td>{'age': 0.2062412267805468, 'gk_games': 0.4803...</td>\n",
       "    </tr>\n",
       "    <tr>\n",
       "      <th>Arsenal</th>\n",
       "      <td>{'age': -0.1290404674437687, 'gk_games': -2.80...</td>\n",
       "      <td>{'age': -1.3025263972288657, 'gk_games': 0.480...</td>\n",
       "      <td>{'age': -1.5539876678971014, 'gk_games': 0.480...</td>\n",
       "      <td>{'age': -1.8054489385653374, 'gk_games': 0.480...</td>\n",
       "      <td>{'age': -0.5481425852241609, 'gk_games': 0.480...</td>\n",
       "      <td>{'age': -0.6319630087802375, 'gk_games': 0.480...</td>\n",
       "      <td>{'age': 0.12242080322446718, 'gk_games': 0.480...</td>\n",
       "      <td>{'age': 0.2062412267805468, 'gk_games': 0.4803...</td>\n",
       "      <td>{'age': 0.29006165033662346, 'gk_games': 0.480...</td>\n",
       "      <td>{'age': 0.37388207389270306, 'gk_games': 0.480...</td>\n",
       "    </tr>\n",
       "    <tr>\n",
       "      <th>Nott'ham Forest</th>\n",
       "      <td>{'age': 0.29006165033662346, 'gk_games': -2.65...</td>\n",
       "      <td>{'age': -0.7157834323363171, 'gk_games': 0.480...</td>\n",
       "      <td>{'age': -0.0452200438876891, 'gk_games': 0.480...</td>\n",
       "      <td>NaN</td>\n",
       "      <td>NaN</td>\n",
       "      <td>NaN</td>\n",
       "      <td>NaN</td>\n",
       "      <td>NaN</td>\n",
       "      <td>NaN</td>\n",
       "      <td>NaN</td>\n",
       "    </tr>\n",
       "    <tr>\n",
       "      <th>Manchester City</th>\n",
       "      <td>{'age': 0.9606250387852515, 'gk_games': -2.653...</td>\n",
       "      <td>{'age': 0.03860037966839053, 'gk_games': 0.480...</td>\n",
       "      <td>{'age': 0.5415229210048593, 'gk_games': 0.4803...</td>\n",
       "      <td>{'age': 0.37388207389270306, 'gk_games': 0.480...</td>\n",
       "      <td>{'age': -0.3805017381120016, 'gk_games': 0.480...</td>\n",
       "      <td>{'age': 0.29006165033662346, 'gk_games': 0.480...</td>\n",
       "      <td>{'age': 0.12242080322446718, 'gk_games': 0.480...</td>\n",
       "      <td>{'age': -0.1290404674437687, 'gk_games': 0.480...</td>\n",
       "      <td>{'age': 1.6311884272338795, 'gk_games': 0.4803...</td>\n",
       "      <td>{'age': 1.4635475801217233, 'gk_games': 0.4803...</td>\n",
       "    </tr>\n",
       "    <tr>\n",
       "      <th>...</th>\n",
       "      <td>...</td>\n",
       "      <td>...</td>\n",
       "      <td>...</td>\n",
       "      <td>...</td>\n",
       "      <td>...</td>\n",
       "      <td>...</td>\n",
       "      <td>...</td>\n",
       "      <td>...</td>\n",
       "      <td>...</td>\n",
       "      <td>...</td>\n",
       "    </tr>\n",
       "    <tr>\n",
       "      <th>Paderborn 07</th>\n",
       "      <td>NaN</td>\n",
       "      <td>NaN</td>\n",
       "      <td>NaN</td>\n",
       "      <td>NaN</td>\n",
       "      <td>NaN</td>\n",
       "      <td>{'age': -0.7157834323363171, 'gk_games': -0.14...</td>\n",
       "      <td>NaN</td>\n",
       "      <td>NaN</td>\n",
       "      <td>NaN</td>\n",
       "      <td>NaN</td>\n",
       "    </tr>\n",
       "    <tr>\n",
       "      <th>Hannover 96</th>\n",
       "      <td>NaN</td>\n",
       "      <td>NaN</td>\n",
       "      <td>NaN</td>\n",
       "      <td>NaN</td>\n",
       "      <td>NaN</td>\n",
       "      <td>NaN</td>\n",
       "      <td>{'age': -0.21286089099984537, 'gk_games': -0.1...</td>\n",
       "      <td>{'age': -0.1290404674437687, 'gk_games': -0.14...</td>\n",
       "      <td>NaN</td>\n",
       "      <td>{'age': -0.7996038558923938, 'gk_games': -0.14...</td>\n",
       "    </tr>\n",
       "    <tr>\n",
       "      <th>Nürnberg</th>\n",
       "      <td>NaN</td>\n",
       "      <td>NaN</td>\n",
       "      <td>NaN</td>\n",
       "      <td>NaN</td>\n",
       "      <td>NaN</td>\n",
       "      <td>NaN</td>\n",
       "      <td>{'age': -1.3863468207849452, 'gk_games': -0.14...</td>\n",
       "      <td>NaN</td>\n",
       "      <td>NaN</td>\n",
       "      <td>NaN</td>\n",
       "    </tr>\n",
       "    <tr>\n",
       "      <th>Hamburger SV</th>\n",
       "      <td>NaN</td>\n",
       "      <td>NaN</td>\n",
       "      <td>NaN</td>\n",
       "      <td>NaN</td>\n",
       "      <td>NaN</td>\n",
       "      <td>NaN</td>\n",
       "      <td>NaN</td>\n",
       "      <td>{'age': -1.3025263972288657, 'gk_games': -0.14...</td>\n",
       "      <td>{'age': -0.6319630087802375, 'gk_games': -0.14...</td>\n",
       "      <td>{'age': 0.4577024974487827, 'gk_games': -0.146...</td>\n",
       "    </tr>\n",
       "    <tr>\n",
       "      <th>Ingolstadt 04</th>\n",
       "      <td>NaN</td>\n",
       "      <td>NaN</td>\n",
       "      <td>NaN</td>\n",
       "      <td>NaN</td>\n",
       "      <td>NaN</td>\n",
       "      <td>NaN</td>\n",
       "      <td>NaN</td>\n",
       "      <td>NaN</td>\n",
       "      <td>{'age': 0.29006165033662346, 'gk_games': -0.14...</td>\n",
       "      <td>{'age': -0.21286089099984537, 'gk_games': -0.1...</td>\n",
       "    </tr>\n",
       "  </tbody>\n",
       "</table>\n",
       "<p>160 rows × 10 columns</p>\n",
       "</div>"
      ],
      "text/plain": [
       "                                                         2024-2025  \\\n",
       "Liverpool        {'age': 0.7929841916730952, 'gk_games': -2.809...   \n",
       "Chelsea          {'age': -2.14073063278965, 'gk_games': -2.6532...   \n",
       "Arsenal          {'age': -0.1290404674437687, 'gk_games': -2.80...   \n",
       "Nott'ham Forest  {'age': 0.29006165033662346, 'gk_games': -2.65...   \n",
       "Manchester City  {'age': 0.9606250387852515, 'gk_games': -2.653...   \n",
       "...                                                            ...   \n",
       "Paderborn 07                                                   NaN   \n",
       "Hannover 96                                                    NaN   \n",
       "Nürnberg                                                       NaN   \n",
       "Hamburger SV                                                   NaN   \n",
       "Ingolstadt 04                                                  NaN   \n",
       "\n",
       "                                                         2023-2024  \\\n",
       "Liverpool        {'age': -0.21286089099984537, 'gk_games': 0.48...   \n",
       "Chelsea          {'age': -1.9730897856774936, 'gk_games': 0.480...   \n",
       "Arsenal          {'age': -1.3025263972288657, 'gk_games': 0.480...   \n",
       "Nott'ham Forest  {'age': -0.7157834323363171, 'gk_games': 0.480...   \n",
       "Manchester City  {'age': 0.03860037966839053, 'gk_games': 0.480...   \n",
       "...                                                            ...   \n",
       "Paderborn 07                                                   NaN   \n",
       "Hannover 96                                                    NaN   \n",
       "Nürnberg                                                       NaN   \n",
       "Hamburger SV                                                   NaN   \n",
       "Ingolstadt 04                                                  NaN   \n",
       "\n",
       "                                                         2022-2023  \\\n",
       "Liverpool        {'age': 0.7091637681170156, 'gk_games': 0.4803...   \n",
       "Chelsea          {'age': -0.21286089099984537, 'gk_games': 0.48...   \n",
       "Arsenal          {'age': -1.5539876678971014, 'gk_games': 0.480...   \n",
       "Nott'ham Forest  {'age': -0.0452200438876891, 'gk_games': 0.480...   \n",
       "Manchester City  {'age': 0.5415229210048593, 'gk_games': 0.4803...   \n",
       "...                                                            ...   \n",
       "Paderborn 07                                                   NaN   \n",
       "Hannover 96                                                    NaN   \n",
       "Nürnberg                                                       NaN   \n",
       "Hamburger SV                                                   NaN   \n",
       "Ingolstadt 04                                                  NaN   \n",
       "\n",
       "                                                         2021-2022  \\\n",
       "Liverpool        {'age': 0.9606250387852515, 'gk_games': 0.4803...   \n",
       "Chelsea          {'age': 0.7091637681170156, 'gk_games': 0.4803...   \n",
       "Arsenal          {'age': -1.8054489385653374, 'gk_games': 0.480...   \n",
       "Nott'ham Forest                                                NaN   \n",
       "Manchester City  {'age': 0.37388207389270306, 'gk_games': 0.480...   \n",
       "...                                                            ...   \n",
       "Paderborn 07                                                   NaN   \n",
       "Hannover 96                                                    NaN   \n",
       "Nürnberg                                                       NaN   \n",
       "Hamburger SV                                                   NaN   \n",
       "Ingolstadt 04                                                  NaN   \n",
       "\n",
       "                                                         2020-2021  \\\n",
       "Liverpool        {'age': 0.2062412267805468, 'gk_games': 0.4803...   \n",
       "Chelsea          {'age': -0.46432216166808127, 'gk_games': 0.48...   \n",
       "Arsenal          {'age': -0.5481425852241609, 'gk_games': 0.480...   \n",
       "Nott'ham Forest                                                NaN   \n",
       "Manchester City  {'age': -0.3805017381120016, 'gk_games': 0.480...   \n",
       "...                                                            ...   \n",
       "Paderborn 07                                                   NaN   \n",
       "Hannover 96                                                    NaN   \n",
       "Nürnberg                                                       NaN   \n",
       "Hamburger SV                                                   NaN   \n",
       "Ingolstadt 04                                                  NaN   \n",
       "\n",
       "                                                         2019-2020  \\\n",
       "Liverpool        {'age': 0.03860037966839053, 'gk_games': 0.480...   \n",
       "Chelsea          {'age': -0.8834242794484735, 'gk_games': 0.480...   \n",
       "Arsenal          {'age': -0.6319630087802375, 'gk_games': 0.480...   \n",
       "Nott'ham Forest                                                NaN   \n",
       "Manchester City  {'age': 0.29006165033662346, 'gk_games': 0.480...   \n",
       "...                                                            ...   \n",
       "Paderborn 07     {'age': -0.7157834323363171, 'gk_games': -0.14...   \n",
       "Hannover 96                                                    NaN   \n",
       "Nürnberg                                                       NaN   \n",
       "Hamburger SV                                                   NaN   \n",
       "Ingolstadt 04                                                  NaN   \n",
       "\n",
       "                                                         2018-2019  \\\n",
       "Liverpool        {'age': -0.3805017381120016, 'gk_games': 0.480...   \n",
       "Chelsea          {'age': 0.625343344560939, 'gk_games': 0.48039...   \n",
       "Arsenal          {'age': 0.12242080322446718, 'gk_games': 0.480...   \n",
       "Nott'ham Forest                                                NaN   \n",
       "Manchester City  {'age': 0.12242080322446718, 'gk_games': 0.480...   \n",
       "...                                                            ...   \n",
       "Paderborn 07                                                   NaN   \n",
       "Hannover 96      {'age': -0.21286089099984537, 'gk_games': -0.1...   \n",
       "Nürnberg         {'age': -1.3863468207849452, 'gk_games': -0.14...   \n",
       "Hamburger SV                                                   NaN   \n",
       "Ingolstadt 04                                                  NaN   \n",
       "\n",
       "                                                         2017-2018  \\\n",
       "Liverpool        {'age': -0.7996038558923938, 'gk_games': 0.480...   \n",
       "Chelsea          {'age': 0.12242080322446718, 'gk_games': 0.480...   \n",
       "Arsenal          {'age': 0.2062412267805468, 'gk_games': 0.4803...   \n",
       "Nott'ham Forest                                                NaN   \n",
       "Manchester City  {'age': -0.1290404674437687, 'gk_games': 0.480...   \n",
       "...                                                            ...   \n",
       "Paderborn 07                                                   NaN   \n",
       "Hannover 96      {'age': -0.1290404674437687, 'gk_games': -0.14...   \n",
       "Nürnberg                                                       NaN   \n",
       "Hamburger SV     {'age': -1.3025263972288657, 'gk_games': -0.14...   \n",
       "Ingolstadt 04                                                  NaN   \n",
       "\n",
       "                                                         2016-2017  \\\n",
       "Liverpool        {'age': -0.3805017381120016, 'gk_games': 0.480...   \n",
       "Chelsea          {'age': 0.5415229210048593, 'gk_games': 0.4803...   \n",
       "Arsenal          {'age': 0.29006165033662346, 'gk_games': 0.480...   \n",
       "Nott'ham Forest                                                NaN   \n",
       "Manchester City  {'age': 1.6311884272338795, 'gk_games': 0.4803...   \n",
       "...                                                            ...   \n",
       "Paderborn 07                                                   NaN   \n",
       "Hannover 96                                                    NaN   \n",
       "Nürnberg                                                       NaN   \n",
       "Hamburger SV     {'age': -0.6319630087802375, 'gk_games': -0.14...   \n",
       "Ingolstadt 04    {'age': 0.29006165033662346, 'gk_games': -0.14...   \n",
       "\n",
       "                                                         2015-2016  \n",
       "Liverpool        {'age': -1.1348855501167092, 'gk_games': 0.480...  \n",
       "Chelsea          {'age': 0.2062412267805468, 'gk_games': 0.4803...  \n",
       "Arsenal          {'age': 0.37388207389270306, 'gk_games': 0.480...  \n",
       "Nott'ham Forest                                                NaN  \n",
       "Manchester City  {'age': 1.4635475801217233, 'gk_games': 0.4803...  \n",
       "...                                                            ...  \n",
       "Paderborn 07                                                   NaN  \n",
       "Hannover 96      {'age': -0.7996038558923938, 'gk_games': -0.14...  \n",
       "Nürnberg                                                       NaN  \n",
       "Hamburger SV     {'age': 0.4577024974487827, 'gk_games': -0.146...  \n",
       "Ingolstadt 04    {'age': -0.21286089099984537, 'gk_games': -0.1...  \n",
       "\n",
       "[160 rows x 10 columns]"
      ]
     },
     "execution_count": 65,
     "metadata": {},
     "output_type": "execute_result"
    }
   ],
   "source": [
    "def normalise_team(x):\n",
    "    try:\n",
    "        for k,v in x.items():\n",
    "            x[k]=(x[k]- norm_dict_teams[k]['mean'])/(1 if norm_dict_teams[k]['std']==0 else norm_dict_teams[k]['std'])\n",
    "        return x\n",
    "    except:\n",
    "        return x\n",
    "norm_global_team_stats_fbref=global_team_stats_fbref.copy(deep=True)\n",
    "norm_global_team_stats_fbref.apply(lambda x:x.apply(normalise_team))"
   ]
  },
  {
   "cell_type": "code",
   "execution_count": 86,
   "metadata": {},
   "outputs": [
    {
     "data": {
      "text/plain": [
       "[('gk_passes_launched', -0.9281409868509342),\n",
       " ('passes_long', 0.9421702520755141),\n",
       " ('touches_att_3rd', 1.4025703299155428),\n",
       " ('gk_psxg', 0.8226793271663385),\n",
       " ('gk_psnpxg_per_shot_on_target_against', 1.6680755962419083),\n",
       " ('tackles_interceptions', 0.05839476827184158),\n",
       " ('passes_short', 1.3049094751992054),\n",
       " ('passes_completed_short', 1.262762256242355),\n",
       " ('take_ons_won_pct', -0.8591570856007751),\n",
       " ('gk_pens_allowed', -0.9127348074953809)]"
      ]
     },
     "execution_count": 86,
     "metadata": {},
     "output_type": "execute_result"
    }
   ],
   "source": [
    "\n",
    "random.sample(list(norm_global_team_stats_fbref.loc['Liverpool','2022-2023'].items()),k=10)"
   ]
  },
  {
   "cell_type": "code",
   "execution_count": 287,
   "metadata": {},
   "outputs": [
    {
     "data": {
      "text/plain": [
       "('Liverpool',\n",
       " [0,\n",
       "  0,\n",
       "  1,\n",
       "  0.03860037966839053,\n",
       "  0.4803937979418115,\n",
       "  0.4803937979418115,\n",
       "  0.4773370954907682,\n",
       "  0.4803937979418115,\n",
       "  -0.94014064542114,\n",
       "  -1.3397143579813688])"
      ]
     },
     "execution_count": 287,
     "metadata": {},
     "output_type": "execute_result"
    }
   ],
   "source": [
    "#encodage rapide du championnat\n",
    "\n",
    "champ_encoder=ce.BinaryEncoder(return_df=False)\n",
    "\n",
    "champ_encoder.fit(list(championships.keys()))\n",
    "\n",
    "\n",
    "\n",
    "\n",
    "\n",
    "def vectorize_team(team,season):\n",
    "    \"Encode les données de team lors de season\"\n",
    "    #Car cette équipe a bien toutes les statistiques remplies\n",
    "\n",
    "    try:\n",
    "        vect=list(champ_encoder.transform([champ_mapping[team]])[0])\n",
    "    except:\n",
    "        vect=[-3,-3,-3]\n",
    "    \n",
    "    \n",
    "    \n",
    "    \n",
    "    #Si jamais l'équipe n'a pas d'entrée pour la saison\n",
    "    try:\n",
    "        \n",
    "        data=norm_global_team_stats_fbref.loc[team,f'{season}-{season+1}']\n",
    "        #Pour déclencher une erreur si ce n'est pas un dictionnaire (ie pas d'entrée)\n",
    "        len(data)\n",
    "    except:\n",
    "        return vect+[-3]*len(features)\n",
    "    \n",
    "    for feature in features:\n",
    "        \n",
    "        if feature in data.keys():\n",
    "            vect.append(data[feature])\n",
    "        else:\n",
    "            vect.append(-3)\n",
    "    return vect\n",
    "\n",
    "\n",
    "rand_team=random.sample(teams_fbref_list,k=1)[0]\n",
    "\n",
    "rand_team,vectorize_team(rand_team,2019)[:10]\n",
    "\n",
    "    \n",
    "    "
   ]
  },
  {
   "cell_type": "code",
   "execution_count": 288,
   "metadata": {},
   "outputs": [],
   "source": [
    "def big_vectorize(player,season,team):\n",
    "    \"Construit l'input du modèle de prédiction de la performance de player lors de season si il joue dans team\"\n",
    "    \n",
    "    #On prédit la performance lors de season donc on se base sur l'information jusqu'à la saison  season-1\n",
    "    season=season-1\n",
    "    \n",
    "    \n",
    "    # Encodage de l'historique du joueur\n",
    "    vect=[]\n",
    "    player_vector=[]\n",
    "    for past_season in range(2015,season+1):\n",
    "        if not(na_player_stats_fbref.loc[player,f'{past_season}-{past_season+1}']):\n",
    "            player_vector+=vectorize(player,f'{past_season}-{past_season+1}')\n",
    "        else:\n",
    "            player_vector+=[-3]*input_size\n",
    "    vect=player_vector+[-3]*(input_size)*(2024-season-1)\n",
    "    \n",
    "    vect+=vectorize_team(team,season)\n",
    "    \n",
    "    \n",
    "    try:\n",
    "        player_positions=player_stats_tm.loc[player,'positions']\n",
    "    except:\n",
    "        player_positions=[]\n",
    "    \n",
    "    \n",
    "    #on cherche les potentiels concurrents au poste en triant par ceux qui ont la plus haute valeur marchande et on les encode\n",
    "    \n",
    "    season_format=f'{season}-{season+1}'\n",
    "    competitors=sorted([player for player in player_stats_fbref.index if \n",
    "                        not(na_player_stats_fbref.loc[player,season_format]) and \n",
    "                        player_stats_fbref.loc[player,season_format]['team']==team and player in player_stats_tm.index  and \n",
    "                        set(player_positions) & set(player_stats_tm.loc[player,'positions'])]\n",
    "                       ,key=lambda x:player_stats_tm.loc[x,'market_values'].get(str(season),0),reverse=True)[:2]\n",
    "    \n",
    "\n",
    "\n",
    "    \n",
    "\n",
    "    for competitor in competitors:\n",
    "        vect+=vectorize(competitor,season_format)\n",
    "        \n",
    "    \n",
    "    #Si jamais il n'y a qu'un ou 0 competiteurs\n",
    "    if len(competitors)<2:\n",
    "        vect+=[-3]*input_size*(2-len(competitors))\n",
    "    \n",
    "    \n",
    "    return vect\n",
    "    \n",
    "    \n",
    "    \n",
    "    \n",
    "\n",
    "    \n",
    "\n",
    "    \n",
    "    \n",
    "    "
   ]
  },
  {
   "cell_type": "code",
   "execution_count": 246,
   "metadata": {},
   "outputs": [
    {
     "data": {
      "text/plain": [
       "[0.4947370198955811, 0, 1, 1, 0, 1, 1, 0, 0, 0]"
      ]
     },
     "execution_count": 246,
     "metadata": {},
     "output_type": "execute_result"
    }
   ],
   "source": [
    "big_vectorize('Iago Aspas',2020,'Real Madrid') [:10]"
   ]
  },
  {
   "cell_type": "markdown",
   "metadata": {},
   "source": [
    "#### On peut retirer ces colonnes car elles correspondent à des saisons jouées en dehors de l'Europe comme les États-Unis ou l'Amérique du Sud, ce qui ne nous intéresse pas"
   ]
  },
  {
   "cell_type": "code",
   "execution_count": 196,
   "metadata": {},
   "outputs": [],
   "source": [
    "player_stats_fbref.drop([col for col in player_stats_fbref.columns if col!='meta' and '-' not in col],axis=1,inplace=True)\n"
   ]
  },
  {
   "cell_type": "code",
   "execution_count": 208,
   "metadata": {},
   "outputs": [
    {
     "data": {
      "text/plain": [
       "([2024, 2023, 2022, 2021, 2020, 2019, 2018, 2017, 2016, 2015],\n",
       " ['2024-2025',\n",
       "  '2023-2024',\n",
       "  '2022-2023',\n",
       "  '2021-2022',\n",
       "  '2020-2021',\n",
       "  '2019-2020',\n",
       "  '2018-2019',\n",
       "  '2017-2018',\n",
       "  '2016-2017',\n",
       "  '2015-2016'])"
      ]
     },
     "execution_count": 208,
     "metadata": {},
     "output_type": "execute_result"
    }
   ],
   "source": [
    "years,seasons"
   ]
  },
  {
   "cell_type": "code",
   "execution_count": 210,
   "metadata": {},
   "outputs": [
    {
     "data": {
      "text/plain": [
       "[2024, 2023, 2022, 2021, 2020, 2019, 2018, 2017, 2016, 2015]"
      ]
     },
     "execution_count": 210,
     "metadata": {},
     "output_type": "execute_result"
    }
   ],
   "source": [
    "years"
   ]
  },
  {
   "cell_type": "code",
   "execution_count": 290,
   "metadata": {},
   "outputs": [
    {
     "name": "stderr",
     "output_type": "stream",
     "text": [
      "100%|██████████| 20000/20000 [17:35<00:00, 18.95it/s]\n"
     ]
    }
   ],
   "source": [
    "data=[]\n",
    "# On exclut la dernière saison car on ne peut pas prédire le futur\n",
    "#On prend un échantillon de taille 20 000 car on a environ 2 000 features (une bonne règle est d'avoir au moins 10x le nombre de features en jeu de données)\n",
    "for player,year in tqdm(random.sample([(player,year) for player in player_stats_fbref.index for year  in years[1:]],k=20000)):\n",
    "    season=seasons[years.index(year)]\n",
    "    next_season=seasons[seasons.index(season) - 1]\n",
    "    if not(na_player_stats_fbref.loc[player,season]) and not(na_player_stats_fbref.loc[player,next_season]):\n",
    "        team=player_stats_fbref.loc[player,next_season]['team']\n",
    "        data.append((np.array(big_vectorize(player,year+1,team)),np.array(vectorize(player,next_season))))\n",
    "        "
   ]
  },
  {
   "cell_type": "code",
   "execution_count": 306,
   "metadata": {},
   "outputs": [],
   "source": [
    "inp,out=np.array([x[0] for x in data]),np.array([x[1] for x in data])"
   ]
  },
  {
   "cell_type": "code",
   "execution_count": null,
   "metadata": {},
   "outputs": [],
   "source": [
    "!pip3 install xgboost\n",
    "!brew install libomp"
   ]
  },
  {
   "cell_type": "code",
   "execution_count": 386,
   "metadata": {},
   "outputs": [
    {
     "name": "stdout",
     "output_type": "stream",
     "text": [
      "[0]\ttrain-rmse:1.01300\tvalidation-rmse:1.08579\n",
      "[1]\ttrain-rmse:0.98237\tvalidation-rmse:1.06562\n",
      "[2]\ttrain-rmse:0.95463\tvalidation-rmse:1.04833\n",
      "[3]\ttrain-rmse:0.92999\tvalidation-rmse:1.03380\n",
      "[4]\ttrain-rmse:0.90746\tvalidation-rmse:1.02127\n",
      "[5]\ttrain-rmse:0.88713\tvalidation-rmse:1.01077\n",
      "[6]\ttrain-rmse:0.86868\tvalidation-rmse:1.00164\n",
      "[7]\ttrain-rmse:0.85175\tvalidation-rmse:0.99377\n",
      "[8]\ttrain-rmse:0.83643\tvalidation-rmse:0.98729\n",
      "[9]\ttrain-rmse:0.82233\tvalidation-rmse:0.98181\n",
      "[10]\ttrain-rmse:0.80927\tvalidation-rmse:0.97698\n",
      "[11]\ttrain-rmse:0.79728\tvalidation-rmse:0.97271\n",
      "[12]\ttrain-rmse:0.78622\tvalidation-rmse:0.96913\n",
      "[13]\ttrain-rmse:0.77595\tvalidation-rmse:0.96595\n",
      "[14]\ttrain-rmse:0.76627\tvalidation-rmse:0.96315\n"
     ]
    }
   ],
   "source": [
    "import xgboost as xgb\n",
    "import pandas as pd\n",
    "from sklearn.model_selection import train_test_split\n",
    "from sklearn.metrics import mean_squared_error\n",
    "\n",
    "params = {\n",
    "    'objective': 'reg:squarederror',\n",
    "    'max_depth': 7,\n",
    "    'learning_rate': 0.1,\n",
    "    'eval_metric': 'rmse'\n",
    "}\n",
    "\n",
    "inp_train, inp_val, out_train, out_val = train_test_split(inp, out, test_size=0.2, random_state=42)\n",
    "\n",
    "train=xgb.DMatrix(inp_train,label=out_train)\n",
    "val=xgb.DMatrix(inp_val,label=out_val)\n",
    "\n",
    "\n",
    "evals_result={}\n",
    "\n",
    "model = xgb.train(\n",
    "    params=params,\n",
    "    dtrain=xgb.DMatrix(inp_train,label=out_train),\n",
    "    num_boost_round=15,\n",
    "    evals=[(train, 'train'), (val, 'validation')],\n",
    "    evals_result=evals_result,\n",
    "    early_stopping_rounds=3,  # Arrêt si pas d'amélioration après 3 itérations\n",
    "    verbose_eval=1,\n",
    "    xgb_model=model #si il y a déja un cycle d'entraînement qui a été fait\n",
    ")"
   ]
  },
  {
   "cell_type": "code",
   "execution_count": 388,
   "metadata": {},
   "outputs": [
    {
     "data": {
      "image/png": "[encoded data removed]",
      "text/plain": [
       "<Figure size 1000x600 with 1 Axes>"
      ]
     },
     "metadata": {},
     "output_type": "display_data"
    }
   ],
   "source": [
    "import matplotlib.pyplot as plt\n",
    "\n",
    "\n",
    "train_rmse = evals_result['train']['rmse']\n",
    "val_rmse = evals_result['validation']['rmse']\n",
    "\n",
    "\n",
    "plt.figure(figsize=(10, 6))\n",
    "plt.plot(train_rmse, label='Train RMSE')\n",
    "plt.plot(val_rmse, label='Validation RMSE')\n",
    "plt.xlabel('Boosting Rounds')\n",
    "plt.ylabel('RMSE')\n",
    "plt.title('Training vs Validation RMSE')\n",
    "plt.legend()\n",
    "plt.show()"
   ]
  },
  {
   "cell_type": "code",
   "execution_count": null,
   "metadata": {},
   "outputs": [],
   "source": []
  }
 ],
 "metadata": {
  "kernelspec": {
   "display_name": "Python 3",
   "language": "python",
   "name": "python3"
  },
  "language_info": {
   "codemirror_mode": {
    "name": "ipython",
    "version": 3
   },
   "file_extension": ".py",
   "mimetype": "text/x-python",
   "name": "python",
   "nbconvert_exporter": "python",
   "pygments_lexer": "ipython3",
   "version": "3.12.3"
  }
 },
 "nbformat": 4,
 "nbformat_minor": 2
}
